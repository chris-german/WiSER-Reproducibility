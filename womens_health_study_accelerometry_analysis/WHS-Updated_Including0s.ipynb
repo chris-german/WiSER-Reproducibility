{
 "cells": [
  {
   "cell_type": "markdown",
   "metadata": {},
   "source": [
    "# Women's Health Study Accelerometry Data"
   ]
  },
  {
   "cell_type": "markdown",
   "metadata": {},
   "source": [
    "This notebook goes over the code needed to reproduce the results from Table 3, using WiSER with the Women's Health Study (WHS) accelerometry data. We also compare its use to fitting a linear mixed effects model via MixedModels.jl."
   ]
  },
  {
   "cell_type": "markdown",
   "metadata": {},
   "source": [
    "#### Packages and Reproducibility\n",
    "\n",
    "Julia allows for easy reproducibility, by including a `Manifest.toml` and `Project.toml` pair, the user can simply run `] activate .` and the correct environment with dependencies used will run.  "
   ]
  },
  {
   "cell_type": "code",
   "execution_count": 1,
   "metadata": {},
   "outputs": [
    {
     "name": "stderr",
     "output_type": "stream",
     "text": [
      "\u001b[32m\u001b[1m Activating\u001b[22m\u001b[39m environment at `~/WiSER_Reproduce/womens_health_study_accelerometry_analysis/Project.toml`\n"
     ]
    }
   ],
   "source": [
    "]activate ."
   ]
  },
  {
   "cell_type": "markdown",
   "metadata": {},
   "source": [
    "Note: We use the KNITRO solver in our analysis, which requires a KNITRO license. If you wish to run the analysis without it, you can use another solver, but the results will be slightly different. Commented code is given to do this."
   ]
  },
  {
   "cell_type": "markdown",
   "metadata": {},
   "source": [
    "## Availability & Description\n",
    "\n",
    "Due to confidentiality concerns, access to the WHS Accelerometry dataset is only available through the National Institutes of Health (NIH) database of Genotypes and Phenotypes (dbGaP). Researchers can apply for acceess to download this dataset through dbGaP. \n",
    "\n",
    "The URL for the webpage is https://www.ncbi.nlm.nih.gov/projects/gap/cgi-bin/study.cgi?study_id=phs001964.v1.p1 and the dbGaP Study Accession identifier is phs001964.v1.p1. This page includes a description of the dataset, study, and details on how to request access to the data. We cannot give more details on the data due to dbGaP's data use agreement. \n",
    "\n",
    "Due to data confidentiality concerns, we supress output of the dataframes that show subject-level data. "
   ]
  },
  {
   "cell_type": "markdown",
   "metadata": {},
   "source": [
    "This notebook goes over code, that when used with the dbGAP's WHS Accelerometry data, can reproduce results in the paper (Table 3)."
   ]
  },
  {
   "cell_type": "code",
   "execution_count": 2,
   "metadata": {},
   "outputs": [
    {
     "name": "stdout",
     "output_type": "stream",
     "text": [
      "Julia Version 1.4.0\n",
      "Commit b8e9a9ecc6 (2020-03-21 16:36 UTC)\n",
      "Platform Info:\n",
      "  OS: Linux (x86_64-pc-linux-gnu)\n",
      "  CPU: Intel(R) Core(TM) i9-9920X CPU @ 3.50GHz\n",
      "  WORD_SIZE: 64\n",
      "  LIBM: libopenlibm\n",
      "  LLVM: libLLVM-8.0.1 (ORCJIT, skylake)\n",
      "Environment:\n",
      "  JULIA_NUM_THREADS = 8\n"
     ]
    }
   ],
   "source": [
    "versioninfo()"
   ]
  },
  {
   "cell_type": "markdown",
   "metadata": {},
   "source": [
    "## Data Cleaning"
   ]
  },
  {
   "cell_type": "markdown",
   "metadata": {},
   "source": [
    "The following goes through the steps to clean the data once it is downloaded from dbGaP."
   ]
  },
  {
   "cell_type": "code",
   "execution_count": 3,
   "metadata": {},
   "outputs": [
    {
     "data": {
      "text/plain": [
       "1000"
      ]
     },
     "execution_count": 3,
     "metadata": {},
     "output_type": "execute_result"
    }
   ],
   "source": [
    "using DataFrames, CSV, StatsBase, Statistics, CodecZlib, Dates\n",
    "ENV[\"COLUMNS\"]=1000"
   ]
  },
  {
   "cell_type": "markdown",
   "metadata": {},
   "source": [
    "Import the data and add some variables. \n",
    "\n",
    "The following assumes you have downloaded the data from dbGaP and are in the downloaded data folder:"
   ]
  },
  {
   "cell_type": "code",
   "execution_count": 4,
   "metadata": {},
   "outputs": [
    {
     "name": "stderr",
     "output_type": "stream",
     "text": [
      "┌ Warning: `CSV.File` or `CSV.Rows` with `TranscodingStreams.TranscodingStream{GzipDecompressor,IOStream}` object is deprecated; pass a filename, `IOBuffer`, or byte buffer directly (via `read(x)`)\n",
      "│   caller = Header at header.jl:123 [inlined]\n",
      "└ @ Core /home/cgerman/.julia/packages/CSV/MKemC/src/header.jl:123\n"
     ]
    }
   ],
   "source": [
    "pathofdata = \"WHS_Accelerometer_phs001964/PhenoGenotypeFiles/RootStudyConsentSet_phs001964.WHS_Accelerometer.v1.p1.c1.GRU/PhenotypeFiles/\"\n",
    "\n",
    "accelerometer_subject = open(pathofdata * \"phs001964.v1.pht009959.v1.p1.WHS_Accelerometer_Subject.MULTI.txt.gz\") do io\n",
    "    DataFrame!(CSV.File(GzipDecompressorStream(io), delim=\"\\t\", comment = \"#\", ignoreemptylines=true))\n",
    "    end\n",
    "\n",
    "accelerometer_mins = open(pathofdata * \"phs001964.v1.pht009963.v1.p1.c1.WHS_Accelerometer_60sec.GRU.txt.gz\") do io\n",
    "#     CSV.read(GzipDecompressorStream(io), delim=\"\\t\", comment = \"#\", ignoreemptylines=true)\n",
    "    DataFrame!(CSV.File(GzipDecompressorStream(io), delim=\"\\t\", comment = \"#\", ignoreemptylines=true))\n",
    "end\n",
    "\n",
    "sum_data = open(pathofdata * \"phs001964.v1.pht009960.v1.p1.c1.WHS_Accelerometer_d20180514_Pub.GRU.txt.gz\") do io\n",
    "#      CSV.read(GzipDecompressorStream(io), delim=\"\\t\", comment = \"#\", ignoreemptylines=true)\n",
    "    DataFrame!(CSV.File(GzipDecompressorStream(io), delim=\"\\t\", comment = \"#\", ignoreemptylines=true))\n",
    "end\n",
    "\n",
    "\n",
    "smoking_pub = open(pathofdata * \"phs001964.v1.pht009961.v1.p1.c1.WHS_Accelerometer_Smoking_Pub.GRU.txt.gz\") do io\n",
    "     DataFrame!(CSV.File(GzipDecompressorStream(io), delim=\"\\t\", comment = \"#\", ignoreemptylines=true))\n",
    "end\n",
    "\n",
    "# get hour of day \n",
    "accelerometer_mins[!, :hour] = Dates.hour.(accelerometer_mins[!, :timeHMS]) ;\n",
    "# get minute of the day\n",
    "accelerometer_mins[!, :mins] = Dates.minute.(accelerometer_mins[!, :timeHMS]);\n",
    "# group every 5 minutes for each hour\n",
    "accelerometer_mins[!, :mingroup] = floor.(accelerometer_mins[!, :mins] / 5) #every 5 minutes\n",
    "# create smoking variable\n",
    "smoking_pub[!, :smoker] = map(x -> ismissing(x) ? missing : x == 1 ? \"never\" : x == 2 ? \"past\" : \"current\",\n",
    "    smoking_pub[!, :smoke])\n",
    "# create race variable from numeric definitions \n",
    "sum_data[!, :RACE] = map(x -> ismissing(x) ? missing : x == 1 ? \"white\" : x == 2 ? \"hispanic\" : \n",
    "    x == 3 ? \"african american\" : x == 4 ? \"asian\" : x == 5 ? \"native american\" : \"other\",\n",
    "    sum_data[!, :RACE]);\n",
    "\n",
    "\n",
    "# subset to just these variables\n",
    "\n",
    "keepvars = [:dbGaP_Subject_ID\n",
    " :Subject_ID\n",
    " :wday\n",
    " :ep60_maxsteps\n",
    " :m_total\n",
    " :sum_valid\n",
    ":EP60_total_steps\n",
    " :compliant\n",
    ":RACE\n",
    ":stairs\n",
    " :genhealth\n",
    " :bmi\n",
    " :ageaccel\n",
    " :day_worn\n",
    " :season]\n",
    "\n",
    "# get data we need from the daily summary data\n",
    "sum_data = sum_data[!, keepvars];"
   ]
  },
  {
   "cell_type": "code",
   "execution_count": 5,
   "metadata": {},
   "outputs": [],
   "source": [
    "# summarize data by hour, to get steps and vector magnitude \n",
    "summarized_hour = combine(DataFrames.groupby(accelerometer_mins, \n",
    "        [:Subject_ID, :wday, :hour]), :steps => sum, :count_vm => sum);"
   ]
  },
  {
   "cell_type": "code",
   "execution_count": 6,
   "metadata": {},
   "outputs": [],
   "source": [
    "#Get best top p hours \n",
    "function findtop_p(x, p)\n",
    "    sortedx = sort(x, rev=true)\n",
    "    return ind1 = findfirst(x .== sortedx[p]) - 1 #hours start at 1, subtract 1 to get true hour \n",
    "end\n",
    "\n",
    "# get max hour for each person, each day \n",
    "maxhours = combine(DataFrames.groupby(summarized_hour, \n",
    "        [:Subject_ID, :wday]),\n",
    "        :count_vm_sum => (x -> findtop_p(x, 1)) => :maxvm_hour1,\n",
    "        :count_vm_sum => (x -> findtop_p(x, 2)) => :maxvm_hour2);"
   ]
  },
  {
   "cell_type": "code",
   "execution_count": 7,
   "metadata": {},
   "outputs": [],
   "source": [
    "# get the minute data for the top hour found above for each person, each day\n",
    "tophour_data = DataFrames.innerjoin(accelerometer_mins, maxhours[!, 1:3];\n",
    "    on = [:Subject_ID, :wday, :hour] .=> [:Subject_ID, :wday, :maxvm_hour1],\n",
    "    makeunique = false,\n",
    "    validate = (false, false));"
   ]
  },
  {
   "cell_type": "code",
   "execution_count": 8,
   "metadata": {},
   "outputs": [],
   "source": [
    "# get the minute data for the second highest hour found above for each person, each day\n",
    "top2hour_data = DataFrames.innerjoin(accelerometer_mins, maxhours[!, [1;2;4]];\n",
    "    on = [:Subject_ID, :wday, :hour] .=> [:Subject_ID, :wday, :maxvm_hour2],\n",
    "    makeunique = false,\n",
    "    validate = (false, false));"
   ]
  },
  {
   "cell_type": "code",
   "execution_count": 9,
   "metadata": {},
   "outputs": [],
   "source": [
    "# combine top 1 hour and top 2 hour data together\n",
    "top2hour_data = vcat(tophour_data, top2hour_data);"
   ]
  },
  {
   "cell_type": "code",
   "execution_count": 10,
   "metadata": {},
   "outputs": [],
   "source": [
    "# sum steps over each 5 minutes to use as outcome variable\n",
    "summarized_5min = combine(DataFrames.groupby(top2hour_data, \n",
    "        [:Subject_ID, :wday, :hour, :mingroup]),\n",
    "    :day_worn => first => :day_worn, :season => first => :season, :steps => sum => :steps);"
   ]
  },
  {
   "cell_type": "code",
   "execution_count": 11,
   "metadata": {},
   "outputs": [],
   "source": [
    "# add the daily summary data\n",
    "top2hour_sumdatacomb = DataFrames.leftjoin(summarized_5min, sum_data; on = [:Subject_ID, :wday, :day_worn, :season], makeunique = false,\n",
    "         indicator = nothing, validate = (false, false));"
   ]
  },
  {
   "cell_type": "code",
   "execution_count": 12,
   "metadata": {},
   "outputs": [],
   "source": [
    "# add the smoking data\n",
    "top2hourdata = DataFrames.leftjoin(top2hour_sumdatacomb, smoking_pub; on = [:Subject_ID, :dbGaP_Subject_ID], makeunique = false,\n",
    "         indicator = nothing, validate = (false, false));"
   ]
  },
  {
   "cell_type": "code",
   "execution_count": 13,
   "metadata": {},
   "outputs": [],
   "source": [
    "# Don't run twice \n",
    "\n",
    "top2hourdata[!, :steps] = Float64.(top2hourdata[!, :steps]);\n",
    "top2hourdata[!, :smoker] = map(x -> ismissing(x) ? missing : x == 1 ? \"Never\" : x == 2 ? \"Past\" : \"Current\",\n",
    "    top2hourdata[!, :smoke])\n",
    "top2hourdata[!, :smoker] = levels!(CategoricalArray(top2hourdata[!, :smoker]),\n",
    "    [\"Never\"; \"Past\"; \"Current\"]);\n",
    "\n",
    "top2hourdata[!, :RACE] = map(x -> ismissing.(x) ? missing : titlecase(String(x)),\n",
    "    top2hourdata[!, :RACE])\n",
    "top2hourdata[!, :RACE] = levels!(CategoricalArray(top2hourdata[!, :RACE]),\n",
    "    [\"White\"; \"African American\"; \"Asian\"; \"Hispanic\"; \"Native American\"; \"Other\"])\n",
    "\n",
    "top2hourdata[!, :wday] = levels!(CategoricalArray(top2hourdata[!, :wday]),\n",
    "    [\"Sun\"; \"Mon\"; \"Tues\"; \"Wed\"; \"Thurs\"; \"Fri\"; \"Sat\"])\n",
    "\n",
    "top2hourdata[!, :season] = map(x -> ismissing(x) ? missing : x == 1 ? \"Winter\" :\n",
    "    x == 2 ? \"Spring\" : x== 3 ?  \"Summer\" : \"Autumn\", top2hourdata[!, :season]);\n",
    "\n",
    "top2hourdata[!, :Weekend] = map(x -> ismissing(x) ? missing :\n",
    "    x in [\"Mon\"; \"Tues\"; \"Wed\"; \"Thurs\"; \"Fri\"] ? \"Weekday\" :\n",
    "    \"Weekend\", top2hourdata[!, :wday]);\n",
    "\n",
    "# make names more presentable to final names \n",
    "renamenames = [\"Subject_ID\"\n",
    " \"Wday\"\n",
    " \"Hour\"\n",
    " \"mingroup\"\n",
    " \"Day_worn\"\n",
    " \"Season\"\n",
    " \"Steps\"\n",
    " \"dbGaP_Subject_ID\"\n",
    " \"ep60_maxsteps\"\n",
    " \"m_total\"\n",
    " \"sum_valid\"\n",
    " \"EP60_total_steps\"\n",
    " \"Compliant\"\n",
    " \"Race\"\n",
    " \"Stairs\"\n",
    " \"Genhealth\"\n",
    " \"BMI\"\n",
    " \"Age\"\n",
    " \"Smoke\"\n",
    " \"Smoker\"\n",
    " \"Weekend\"] \n",
    "rename!(top2hourdata, renamenames);"
   ]
  },
  {
   "cell_type": "code",
   "execution_count": 14,
   "metadata": {},
   "outputs": [],
   "source": [
    "# log10 transform (steps + 0.5)\n",
    "# keepinds = findall(top2hourdata[!, :Steps] .> 0.0)\n",
    "top2hour_restricted = top2hourdata #[keepinds, :]\n",
    "top2hour_restricted[!, :Transformed_steps] = log10.(0.5 .+ top2hour_restricted[!, :Steps]);\n",
    "# optionally save this dataset \n",
    "# CSV.write(\"WHS_final_cleaned.csv\", top2hour_restricted);"
   ]
  },
  {
   "cell_type": "markdown",
   "metadata": {},
   "source": [
    "## Analysis"
   ]
  },
  {
   "cell_type": "markdown",
   "metadata": {},
   "source": [
    "As stated in the paper, we use the Knitro solver. If you do not have access to the knitro solver, you can remove solver and KNITRO and it will run, with slightly different but very similar results.\n",
    "\n",
    "The following produce the results found in Table 3 of the paper. "
   ]
  },
  {
   "cell_type": "code",
   "execution_count": 15,
   "metadata": {},
   "outputs": [],
   "source": [
    "using DataFrames, CSV, WiSER, MixedModels, KNITRO\n",
    "ENV[\"COLUMNS\"]=1000 #extends the number of columns printed when displaying a dataframe. \n",
    "\n",
    "#load in data\n",
    "# WHSdata = DataFrame!(CSV.File(\"WHS_final_cleaned.csv\"));\n",
    "WHSdata = top2hour_restricted\n",
    "\n",
    "# set reference levels\n",
    "WHSdata[!, :Smoker] = levels!(CategoricalArray(WHSdata[!, :Smoker]),\n",
    "    [\"Never\"; \"Past\"; \"Current\"]);\n",
    "\n",
    "WHSdata[!, :Race] = levels!(CategoricalArray(WHSdata[!, :Race]),\n",
    "    [\"White\"; \"African American\"; \"Asian\"; \"Hispanic\"; \"Native American\"; \"Other\"])\n",
    "\n",
    "WHSdata[!, :Wday] = levels!(CategoricalArray(WHSdata[!, :Wday]),\n",
    "    [\"Sun\"; \"Mon\"; \"Tues\"; \"Wed\"; \"Thurs\"; \"Fri\"; \"Sat\"]);"
   ]
  },
  {
   "cell_type": "code",
   "execution_count": 16,
   "metadata": {},
   "outputs": [
    {
     "data": {
      "text/plain": [
       "comparemixedmodel (generic function with 1 method)"
      ]
     },
     "execution_count": 16,
     "metadata": {},
     "output_type": "execute_result"
    }
   ],
   "source": [
    "# Write a function to compare mixed models with WiSER\n",
    "function comparemixedmodel(mixedmodel, wsvarmodel)\n",
    "    coefnames = MixedModels.coefnames(mixedmodel)\n",
    "    mixedbeta = mixedmodel.β\n",
    "    mixedbetapval = MixedModels.coeftable(mixedmodel).cols[4]\n",
    "    wsvarbeta = wsvarmodel.β\n",
    "    wsvarbetapval = WiSER.coeftable(wsvarmodel).cols[4][1:wsvarmodel.p] \n",
    "    return DataFrame(coefnames = coefnames, mixedbeta = mixedbeta,\n",
    "        mixedbetapval = mixedbetapval, wsvarbeta = wsvarbeta,\n",
    "        wsvarbetapval = wsvarbetapval)\n",
    "end"
   ]
  },
  {
   "cell_type": "markdown",
   "metadata": {},
   "source": [
    "The following constructs and fits the model. The `Optimization unsuccessful` warnings can be ignored because KNITRO by default uses a very stringent convergence criterion. FeasibleApproximate indicates the solution is adequate. Other nonlinear optimization solvers such as IPOPT will return `Optimal` status."
   ]
  },
  {
   "cell_type": "code",
   "execution_count": 19,
   "metadata": {},
   "outputs": [
    {
     "name": "stdout",
     "output_type": "stream",
     "text": [
      "run = 1, ‖Δβ‖ = 0.051856, ‖Δτ‖ = 0.334485, ‖ΔL‖ = 0.004859, status = Optimal, time(s) = 7.545928\n",
      "run = 2, ‖Δβ‖ = 0.046496, ‖Δτ‖ = 0.041847, ‖ΔL‖ = 0.002825, status = FeasibleApproximate, time(s) = 7.390264\n"
     ]
    },
    {
     "name": "stderr",
     "output_type": "stream",
     "text": [
      "┌ Warning: Optimization unsuccesful; got FeasibleApproximate; run = 2\n",
      "└ @ WiSER /home/cgerman/.julia/packages/WiSER/tXr2S/src/fit.jl:63\n"
     ]
    },
    {
     "name": "stdout",
     "output_type": "stream",
     "text": [
      "run = 3, ‖Δβ‖ = 0.001574, ‖Δτ‖ = 0.007442, ‖ΔL‖ = 0.000047, status = FeasibleApproximate, time(s) = 7.376520\n"
     ]
    },
    {
     "name": "stderr",
     "output_type": "stream",
     "text": [
      "┌ Warning: Optimization unsuccesful; got FeasibleApproximate; run = 3\n",
      "└ @ WiSER /home/cgerman/.julia/packages/WiSER/tXr2S/src/fit.jl:63\n"
     ]
    },
    {
     "name": "stdout",
     "output_type": "stream",
     "text": [
      "run = 4, ‖Δβ‖ = 0.000475, ‖Δτ‖ = 0.001376, ‖ΔL‖ = 0.000026, status = FeasibleApproximate, time(s) = 7.617126\n"
     ]
    },
    {
     "name": "stderr",
     "output_type": "stream",
     "text": [
      "┌ Warning: Optimization unsuccesful; got FeasibleApproximate; run = 4\n",
      "└ @ WiSER /home/cgerman/.julia/packages/WiSER/tXr2S/src/fit.jl:63\n"
     ]
    },
    {
     "name": "stdout",
     "output_type": "stream",
     "text": [
      " 32.247652 seconds (13.61 k allocations: 833.172 KiB)\n"
     ]
    },
    {
     "data": {
      "text/plain": [
       "\n",
       "Within-subject variance estimation by robust regression (WiSER)\n",
       "Number of individuals/clusters: 15390\n",
       "Total observations: 2534015\n",
       "\n",
       "Fixed-effects parameters:\n",
       "────────────────────────────────────────────────────────────────────────\n",
       "                                 Estimate   Std. Error       Z  Pr(>|Z|)\n",
       "────────────────────────────────────────────────────────────────────────\n",
       "β1: (Intercept)               2.5266       0.0352249     71.73    <1e-99\n",
       "β2: BMI                      -0.0169322    0.000413179  -40.98    <1e-99\n",
       "β3: Wday: Mon                 0.0844072    0.00342547    24.64    <1e-99\n",
       "β4: Wday: Tues                0.0678324    0.00352431    19.25    <1e-81\n",
       "β5: Wday: Wed                 0.0653401    0.00361662    18.07    <1e-72\n",
       "β6: Wday: Thurs               0.0573685    0.00361629    15.86    <1e-55\n",
       "β7: Wday: Fri                 0.0724162    0.00358578    20.20    <1e-89\n",
       "β8: Wday: Sat                 0.0729713    0.00344209    21.20    <1e-99\n",
       "β9: Hour                     -0.00369984   0.000257853  -14.35    <1e-45\n",
       "β10: Race: African American  -0.0165826    0.0161296     -1.03    0.3039\n",
       "β11: Race: Asian             -0.0826832    0.0187035     -4.42    <1e-5\n",
       "β12: Race: Hispanic           0.0479812    0.0194324      2.47    0.0135\n",
       "β13: Race: Native American   -0.0089155    0.0469104     -0.19    0.8493\n",
       "β14: Race: Other              0.00854522   0.0613652      0.14    0.8893\n",
       "β15: Stairs                   0.0134374    0.00132739    10.12    <1e-23\n",
       "β16: Age                     -0.0173977    0.000373215  -46.62    <1e-99\n",
       "β17: Smoker: Past             0.00276816   0.00394838     0.70    0.4832\n",
       "β18: Smoker: Current         -0.149694     0.0117092    -12.78    <1e-36\n",
       "β19: Season: Spring          -0.00375206   0.00559572    -0.67    0.5025\n",
       "β20: Season: Summer           0.00484738   0.00519534     0.93    0.3508\n",
       "β21: Season: Winter          -0.0360059    0.00579753    -6.21    <1e-9\n",
       "β22: m_total                  0.000665802  1.49091e-5    44.66    <1e-99\n",
       "τ1: (Intercept)              -0.155145     0.0474285     -3.27    0.0011\n",
       "τ2: BMI                       0.000965679  0.000571701    1.69    0.0912\n",
       "τ3: Wday: Mon                -0.0647013    0.00607637   -10.65    <1e-25\n",
       "τ4: Wday: Tues               -0.0573851    0.00612899    -9.36    <1e-20\n",
       "τ5: Wday: Wed                -0.0620198    0.00618069   -10.03    <1e-22\n",
       "τ6: Wday: Thurs              -0.0633418    0.00618239   -10.25    <1e-23\n",
       "τ7: Wday: Fri                -0.0818268    0.00605875   -13.51    <1e-40\n",
       "τ8: Wday: Sat                -0.0813397    0.00604063   -13.47    <1e-40\n",
       "τ9: Hour                     -0.00992518   0.000632272  -15.70    <1e-54\n",
       "τ10: Race: African American  -0.107807     0.0235072     -4.59    <1e-5\n",
       "τ11: Race: Asian              0.0413063    0.0287586      1.44    0.1509\n",
       "τ12: Race: Hispanic          -0.0250642    0.0326031     -0.77    0.4420\n",
       "τ13: Race: Native American    0.0596697    0.0662196      0.90    0.3675\n",
       "τ14: Race: Other              0.0276373    0.109702       0.25    0.8011\n",
       "τ15: Age                     -0.00144371   0.000523514   -2.76    0.0058\n",
       "τ16: Smoker: Past             0.0063463    0.00613134     1.04    0.3006\n",
       "τ17: Smoker: Current         -0.0449277    0.0154512     -2.91    0.0036\n",
       "τ18: m_total                 -0.000265109  1.72368e-5   -15.38    <1e-52\n",
       "────────────────────────────────────────────────────────────────────────\n",
       "Random effects covariance matrix Σγ:\n",
       " \"γ1: (Intercept)\"   0.0956493  -0.0103166\n",
       " \"γ2: Day_worn\"     -0.0103166   0.00259079\n",
       "\n"
      ]
     },
     "execution_count": 19,
     "metadata": {},
     "output_type": "execute_result"
    }
   ],
   "source": [
    "wisermodel_transformed = WSVarLmmModel(\n",
    "    @formula(Transformed_steps ~ 1 + BMI + Wday + Hour + \n",
    "                Race + Stairs + Age + Smoker + Season + m_total),\n",
    "    @formula(Transformed_steps ~ 1 + Day_worn), \n",
    "    @formula(Transformed_steps ~ 1 + BMI + Wday + Hour + \n",
    "                Race + Age + Smoker + m_total), \n",
    "                :Subject_ID, WHSdata);\n",
    "@time WiSER.fit!(wisermodel_transformed, KNITRO.KnitroSolver(outlev=0, ftol = 1e-7), parallel = false, runs = 4)\n",
    "\n",
    "### IF NO KNITRO LICENSE, comment out last line above and run:\n",
    "# solver = Ipopt.IpoptSolver(print_level=0, watchdog_shortened_iter_trigger=3, max_iter=100)\n",
    "# @time WiSER.fit!(wisermodel_transformed, solver, parallel = false, runs = 4)"
   ]
  },
  {
   "cell_type": "code",
   "execution_count": 18,
   "metadata": {},
   "outputs": [
    {
     "name": "stdout",
     "output_type": "stream",
     "text": [
      " 24.091412 seconds (55.56 M allocations: 9.680 GiB, 24.77% gc time)\n"
     ]
    },
    {
     "data": {
      "text/plain": [
       "Linear mixed model fit by maximum likelihood\n",
       " Transformed_steps ~ 1 + BMI + Wday + Hour + Race + Stairs + Age + Smoker + Season + m_total + (1 + Day_worn | Subject_ID)\n",
       "     logLik        -2 logLik          AIC             BIC       \n",
       " -2.80056306×10⁶  5.60112612×10⁶  5.60117812×10⁶   5.6015095×10⁶\n",
       "\n",
       "Variance components:\n",
       "              Column     Variance     Std.Dev.    Corr.\n",
       "Subject_ID (Intercept)  0.0977251933 0.312610290\n",
       "           Day_worn     0.0026893161 0.051858616 -0.66\n",
       "Residual                0.5199583695 0.721081389\n",
       " Number of obs: 2534015; levels of grouping factors: 15390\n",
       "\n",
       "  Fixed-effects parameters:\n",
       "──────────────────────────────────────────────────────────────────────\n",
       "                            Estimate    Std.Error     z value  P(>|z|)\n",
       "──────────────────────────────────────────────────────────────────────\n",
       "(Intercept)              2.47888      0.0307041     80.7346     <1e-99\n",
       "BMI                     -0.0169206    0.000402285  -42.0612     <1e-99\n",
       "Wday: Mon                0.0841649    0.00175563    47.9399     <1e-99\n",
       "Wday: Tues               0.0675625    0.00186261    36.2729     <1e-99\n",
       "Wday: Wed                0.06496      0.00189011    34.3684     <1e-99\n",
       "Wday: Thurs              0.0570493    0.00188821    30.2135     <1e-99\n",
       "Wday: Fri                0.0722413    0.00185231    39.0006     <1e-99\n",
       "Wday: Sat                0.0735222    0.00177915    41.3243     <1e-99\n",
       "Hour                    -0.0029124    0.000129223  -22.5378     <1e-99\n",
       "Race: African American  -0.0160396    0.0161831     -0.991131   0.3216\n",
       "Race: Asian             -0.0848692    0.0183493     -4.6252     <1e-5\n",
       "Race: Hispanic           0.0480831    0.0208934      2.30136    0.0214\n",
       "Race: Native American   -0.0108856    0.0465131     -0.234033   0.8150\n",
       "Race: Other              0.00692767   0.0585681      0.118284   0.9058\n",
       "Stairs                   0.0133523    0.00135026     9.88867    <1e-22\n",
       "Age                     -0.0173771    0.000352446  -49.3044     <1e-99\n",
       "Smoker: Past             0.00335033   0.0039804      0.841706   0.4000\n",
       "Smoker: Current         -0.149153     0.0107022    -13.9367     <1e-43\n",
       "Season: Spring          -0.00469555   0.00565558    -0.830252   0.4064\n",
       "Season: Summer           0.00495197   0.0052507      0.943105   0.3456\n",
       "Season: Winter          -0.0366682    0.00589773    -6.21733    <1e-9\n",
       "m_total                  0.000706597  4.82371e-6   146.484      <1e-99\n",
       "──────────────────────────────────────────────────────────────────────"
      ]
     },
     "execution_count": 18,
     "metadata": {},
     "output_type": "execute_result"
    }
   ],
   "source": [
    "@time mixedmodel_transformed = fit(LinearMixedModel, \n",
    "        @formula(Transformed_steps ~ 1 + BMI + Wday + Hour + \n",
    "            Race + Stairs + Age + Smoker + Season + m_total + (1 + Day_worn|Subject_ID)),\n",
    "        WHSdata)"
   ]
  },
  {
   "cell_type": "code",
   "execution_count": 20,
   "metadata": {},
   "outputs": [
    {
     "data": {
      "text/html": [
       "<table class=\"data-frame\"><thead><tr><th></th><th>coefnames</th><th>mixedbeta</th><th>mixedbetapval</th><th>wsvarbeta</th><th>wsvarbetapval</th></tr><tr><th></th><th>String</th><th>Float64</th><th>Float64</th><th>Float64</th><th>Float64</th></tr></thead><tbody><p>22 rows × 5 columns</p><tr><th>1</th><td>(Intercept)</td><td>2.47888</td><td>0.0</td><td>2.5266</td><td>0.0</td></tr><tr><th>2</th><td>BMI</td><td>-0.0169206</td><td>0.0</td><td>-0.0169322</td><td>0.0</td></tr><tr><th>3</th><td>Wday: Mon</td><td>0.0841649</td><td>0.0</td><td>0.0844072</td><td>4.58862e-134</td></tr><tr><th>4</th><td>Wday: Tues</td><td>0.0675625</td><td>4.32151e-288</td><td>0.0678324</td><td>1.49543e-82</td></tr><tr><th>5</th><td>Wday: Wed</td><td>0.06496</td><td>7.49177e-259</td><td>0.0653401</td><td>5.83866e-73</td></tr><tr><th>6</th><td>Wday: Thurs</td><td>0.0570493</td><td>1.57524e-200</td><td>0.0573685</td><td>1.1264e-56</td></tr><tr><th>7</th><td>Wday: Fri</td><td>0.0722413</td><td>0.0</td><td>0.0724162</td><td>1.07502e-90</td></tr><tr><th>8</th><td>Wday: Sat</td><td>0.0735222</td><td>0.0</td><td>0.0729713</td><td>9.61188e-100</td></tr><tr><th>9</th><td>Hour</td><td>-0.0029124</td><td>1.76941e-112</td><td>-0.00369984</td><td>1.08614e-46</td></tr><tr><th>10</th><td>Race: African American</td><td>-0.0160396</td><td>0.321622</td><td>-0.0165826</td><td>0.303911</td></tr><tr><th>11</th><td>Race: Asian</td><td>-0.0848692</td><td>3.7424e-6</td><td>-0.0826832</td><td>9.83635e-6</td></tr><tr><th>12</th><td>Race: Hispanic</td><td>0.0480831</td><td>0.0213714</td><td>0.0479812</td><td>0.0135441</td></tr><tr><th>13</th><td>Race: Native American</td><td>-0.0108856</td><td>0.814959</td><td>-0.0089155</td><td>0.849267</td></tr><tr><th>14</th><td>Race: Other</td><td>0.00692767</td><td>0.905843</td><td>0.00854522</td><td>0.889251</td></tr><tr><th>15</th><td>Stairs</td><td>0.0133523</td><td>4.6618e-23</td><td>0.0134374</td><td>4.36327e-24</td></tr><tr><th>16</th><td>Age</td><td>-0.0173771</td><td>0.0</td><td>-0.0173977</td><td>0.0</td></tr><tr><th>17</th><td>Smoker: Past</td><td>0.00335033</td><td>0.399952</td><td>0.00276816</td><td>0.483248</td></tr><tr><th>18</th><td>Smoker: Current</td><td>-0.149153</td><td>3.79312e-44</td><td>-0.149694</td><td>2.008e-37</td></tr><tr><th>19</th><td>Season: Spring</td><td>-0.00469555</td><td>0.406396</td><td>-0.00375206</td><td>0.502525</td></tr><tr><th>20</th><td>Season: Summer</td><td>0.00495197</td><td>0.345627</td><td>0.00484738</td><td>0.350808</td></tr><tr><th>21</th><td>Season: Winter</td><td>-0.0366682</td><td>5.05682e-10</td><td>-0.0360059</td><td>5.27979e-10</td></tr><tr><th>22</th><td>m_total</td><td>0.000706597</td><td>0.0</td><td>0.000665802</td><td>0.0</td></tr></tbody></table>"
      ],
      "text/latex": [
       "\\begin{tabular}{r|ccccc}\n",
       "\t& coefnames & mixedbeta & mixedbetapval & wsvarbeta & wsvarbetapval\\\\\n",
       "\t\\hline\n",
       "\t& String & Float64 & Float64 & Float64 & Float64\\\\\n",
       "\t\\hline\n",
       "\t1 & (Intercept) & 2.47888 & 0.0 & 2.5266 & 0.0 \\\\\n",
       "\t2 & BMI & -0.0169206 & 0.0 & -0.0169322 & 0.0 \\\\\n",
       "\t3 & Wday: Mon & 0.0841649 & 0.0 & 0.0844072 & 4.58862e-134 \\\\\n",
       "\t4 & Wday: Tues & 0.0675625 & 4.32151e-288 & 0.0678324 & 1.49543e-82 \\\\\n",
       "\t5 & Wday: Wed & 0.06496 & 7.49177e-259 & 0.0653401 & 5.83866e-73 \\\\\n",
       "\t6 & Wday: Thurs & 0.0570493 & 1.57524e-200 & 0.0573685 & 1.1264e-56 \\\\\n",
       "\t7 & Wday: Fri & 0.0722413 & 0.0 & 0.0724162 & 1.07502e-90 \\\\\n",
       "\t8 & Wday: Sat & 0.0735222 & 0.0 & 0.0729713 & 9.61188e-100 \\\\\n",
       "\t9 & Hour & -0.0029124 & 1.76941e-112 & -0.00369984 & 1.08614e-46 \\\\\n",
       "\t10 & Race: African American & -0.0160396 & 0.321622 & -0.0165826 & 0.303911 \\\\\n",
       "\t11 & Race: Asian & -0.0848692 & 3.7424e-6 & -0.0826832 & 9.83635e-6 \\\\\n",
       "\t12 & Race: Hispanic & 0.0480831 & 0.0213714 & 0.0479812 & 0.0135441 \\\\\n",
       "\t13 & Race: Native American & -0.0108856 & 0.814959 & -0.0089155 & 0.849267 \\\\\n",
       "\t14 & Race: Other & 0.00692767 & 0.905843 & 0.00854522 & 0.889251 \\\\\n",
       "\t15 & Stairs & 0.0133523 & 4.6618e-23 & 0.0134374 & 4.36327e-24 \\\\\n",
       "\t16 & Age & -0.0173771 & 0.0 & -0.0173977 & 0.0 \\\\\n",
       "\t17 & Smoker: Past & 0.00335033 & 0.399952 & 0.00276816 & 0.483248 \\\\\n",
       "\t18 & Smoker: Current & -0.149153 & 3.79312e-44 & -0.149694 & 2.008e-37 \\\\\n",
       "\t19 & Season: Spring & -0.00469555 & 0.406396 & -0.00375206 & 0.502525 \\\\\n",
       "\t20 & Season: Summer & 0.00495197 & 0.345627 & 0.00484738 & 0.350808 \\\\\n",
       "\t21 & Season: Winter & -0.0366682 & 5.05682e-10 & -0.0360059 & 5.27979e-10 \\\\\n",
       "\t22 & m\\_total & 0.000706597 & 0.0 & 0.000665802 & 0.0 \\\\\n",
       "\\end{tabular}\n"
      ],
      "text/plain": [
       "22×5 DataFrame\n",
       "│ Row │ coefnames              │ mixedbeta   │ mixedbetapval │ wsvarbeta   │ wsvarbetapval │\n",
       "│     │ \u001b[90mString\u001b[39m                 │ \u001b[90mFloat64\u001b[39m     │ \u001b[90mFloat64\u001b[39m       │ \u001b[90mFloat64\u001b[39m     │ \u001b[90mFloat64\u001b[39m       │\n",
       "├─────┼────────────────────────┼─────────────┼───────────────┼─────────────┼───────────────┤\n",
       "│ 1   │ (Intercept)            │ 2.47888     │ 0.0           │ 2.5266      │ 0.0           │\n",
       "│ 2   │ BMI                    │ -0.0169206  │ 0.0           │ -0.0169322  │ 0.0           │\n",
       "│ 3   │ Wday: Mon              │ 0.0841649   │ 0.0           │ 0.0844072   │ 4.58862e-134  │\n",
       "│ 4   │ Wday: Tues             │ 0.0675625   │ 4.32151e-288  │ 0.0678324   │ 1.49543e-82   │\n",
       "│ 5   │ Wday: Wed              │ 0.06496     │ 7.49177e-259  │ 0.0653401   │ 5.83866e-73   │\n",
       "│ 6   │ Wday: Thurs            │ 0.0570493   │ 1.57524e-200  │ 0.0573685   │ 1.1264e-56    │\n",
       "│ 7   │ Wday: Fri              │ 0.0722413   │ 0.0           │ 0.0724162   │ 1.07502e-90   │\n",
       "│ 8   │ Wday: Sat              │ 0.0735222   │ 0.0           │ 0.0729713   │ 9.61188e-100  │\n",
       "│ 9   │ Hour                   │ -0.0029124  │ 1.76941e-112  │ -0.00369984 │ 1.08614e-46   │\n",
       "│ 10  │ Race: African American │ -0.0160396  │ 0.321622      │ -0.0165826  │ 0.303911      │\n",
       "│ 11  │ Race: Asian            │ -0.0848692  │ 3.7424e-6     │ -0.0826832  │ 9.83635e-6    │\n",
       "│ 12  │ Race: Hispanic         │ 0.0480831   │ 0.0213714     │ 0.0479812   │ 0.0135441     │\n",
       "│ 13  │ Race: Native American  │ -0.0108856  │ 0.814959      │ -0.0089155  │ 0.849267      │\n",
       "│ 14  │ Race: Other            │ 0.00692767  │ 0.905843      │ 0.00854522  │ 0.889251      │\n",
       "│ 15  │ Stairs                 │ 0.0133523   │ 4.6618e-23    │ 0.0134374   │ 4.36327e-24   │\n",
       "│ 16  │ Age                    │ -0.0173771  │ 0.0           │ -0.0173977  │ 0.0           │\n",
       "│ 17  │ Smoker: Past           │ 0.00335033  │ 0.399952      │ 0.00276816  │ 0.483248      │\n",
       "│ 18  │ Smoker: Current        │ -0.149153   │ 3.79312e-44   │ -0.149694   │ 2.008e-37     │\n",
       "│ 19  │ Season: Spring         │ -0.00469555 │ 0.406396      │ -0.00375206 │ 0.502525      │\n",
       "│ 20  │ Season: Summer         │ 0.00495197  │ 0.345627      │ 0.00484738  │ 0.350808      │\n",
       "│ 21  │ Season: Winter         │ -0.0366682  │ 5.05682e-10   │ -0.0360059  │ 5.27979e-10   │\n",
       "│ 22  │ m_total                │ 0.000706597 │ 0.0           │ 0.000665802 │ 0.0           │"
      ]
     },
     "execution_count": 20,
     "metadata": {},
     "output_type": "execute_result"
    }
   ],
   "source": [
    "dfcompare_transformed = comparemixedmodel(mixedmodel_transformed, wisermodel_transformed) "
   ]
  },
  {
   "cell_type": "markdown",
   "metadata": {},
   "source": [
    "#### Supplementary Table S.3\n",
    "\n",
    "The following obtains the results of summary statistics found in Supplementary Table S.3."
   ]
  },
  {
   "cell_type": "code",
   "execution_count": 21,
   "metadata": {},
   "outputs": [
    {
     "data": {
      "text/html": [
       "<table class=\"data-frame\"><thead><tr><th></th><th>variable</th><th>mean</th><th>std</th><th>min</th><th>q25</th><th>median</th><th>q75</th><th>max</th></tr><tr><th></th><th>Symbol</th><th>Union…</th><th>Union…</th><th>Any</th><th>Union…</th><th>Union…</th><th>Union…</th><th>Any</th></tr></thead><tbody><p>8 rows × 8 columns</p><tr><th>1</th><td>Steps</td><td>85.5004</td><td>131.629</td><td>0.0</td><td>13.0</td><td>42.0</td><td>89.0</td><td>1173.0</td></tr><tr><th>2</th><td>m_total</td><td>879.132</td><td>134.594</td><td>1</td><td>826.0</td><td>895.0</td><td>953.0</td><td>1440</td></tr><tr><th>3</th><td>BMI</td><td>26.1614</td><td>4.97878</td><td>13.7318</td><td>22.5964</td><td>25.3402</td><td>28.8983</td><td>58.4195</td></tr><tr><th>4</th><td>Genhealth</td><td>2.0305</td><td>0.757723</td><td>1</td><td>2.0</td><td>2.0</td><td>3.0</td><td>4</td></tr><tr><th>5</th><td>Age</td><td>71.4786</td><td>5.65208</td><td>62</td><td>67.0</td><td>70.0</td><td>75.0</td><td>89</td></tr><tr><th>6</th><td>Day_worn</td><td>3.95728</td><td>1.98653</td><td>1</td><td>2.0</td><td>4.0</td><td>6.0</td><td>8</td></tr><tr><th>7</th><td>Season</td><td></td><td></td><td>Autumn</td><td></td><td></td><td></td><td>Winter</td></tr><tr><th>8</th><td>Stairs</td><td>2.60383</td><td>1.48124</td><td>1</td><td>1.0</td><td>2.0</td><td>4.0</td><td>6</td></tr></tbody></table>"
      ],
      "text/latex": [
       "\\begin{tabular}{r|cccccccc}\n",
       "\t& variable & mean & std & min & q25 & median & q75 & max\\\\\n",
       "\t\\hline\n",
       "\t& Symbol & Union… & Union… & Any & Union… & Union… & Union… & Any\\\\\n",
       "\t\\hline\n",
       "\t1 & Steps & 85.5004 & 131.629 & 0.0 & 13.0 & 42.0 & 89.0 & 1173.0 \\\\\n",
       "\t2 & m\\_total & 879.132 & 134.594 & 1 & 826.0 & 895.0 & 953.0 & 1440 \\\\\n",
       "\t3 & BMI & 26.1614 & 4.97878 & 13.7318 & 22.5964 & 25.3402 & 28.8983 & 58.4195 \\\\\n",
       "\t4 & Genhealth & 2.0305 & 0.757723 & 1 & 2.0 & 2.0 & 3.0 & 4 \\\\\n",
       "\t5 & Age & 71.4786 & 5.65208 & 62 & 67.0 & 70.0 & 75.0 & 89 \\\\\n",
       "\t6 & Day\\_worn & 3.95728 & 1.98653 & 1 & 2.0 & 4.0 & 6.0 & 8 \\\\\n",
       "\t7 & Season &  &  & Autumn &  &  &  & Winter \\\\\n",
       "\t8 & Stairs & 2.60383 & 1.48124 & 1 & 1.0 & 2.0 & 4.0 & 6 \\\\\n",
       "\\end{tabular}\n"
      ],
      "text/plain": [
       "8×8 DataFrame\n",
       "│ Row │ variable  │ mean    │ std      │ min     │ q25     │ median  │ q75     │ max     │\n",
       "│     │ \u001b[90mSymbol\u001b[39m    │ \u001b[90mUnion…\u001b[39m  │ \u001b[90mUnion…\u001b[39m   │ \u001b[90mAny\u001b[39m     │ \u001b[90mUnion…\u001b[39m  │ \u001b[90mUnion…\u001b[39m  │ \u001b[90mUnion…\u001b[39m  │ \u001b[90mAny\u001b[39m     │\n",
       "├─────┼───────────┼─────────┼──────────┼─────────┼─────────┼─────────┼─────────┼─────────┤\n",
       "│ 1   │ Steps     │ 85.5004 │ 131.629  │ 0.0     │ 13.0    │ 42.0    │ 89.0    │ 1173.0  │\n",
       "│ 2   │ m_total   │ 879.132 │ 134.594  │ 1       │ 826.0   │ 895.0   │ 953.0   │ 1440    │\n",
       "│ 3   │ BMI       │ 26.1614 │ 4.97878  │ 13.7318 │ 22.5964 │ 25.3402 │ 28.8983 │ 58.4195 │\n",
       "│ 4   │ Genhealth │ 2.0305  │ 0.757723 │ 1       │ 2.0     │ 2.0     │ 3.0     │ 4       │\n",
       "│ 5   │ Age       │ 71.4786 │ 5.65208  │ 62      │ 67.0    │ 70.0    │ 75.0    │ 89      │\n",
       "│ 6   │ Day_worn  │ 3.95728 │ 1.98653  │ 1       │ 2.0     │ 4.0     │ 6.0     │ 8       │\n",
       "│ 7   │ Season    │         │          │ Autumn  │         │         │         │ Winter  │\n",
       "│ 8   │ Stairs    │ 2.60383 │ 1.48124  │ 1       │ 1.0     │ 2.0     │ 4.0     │ 6       │"
      ]
     },
     "execution_count": 21,
     "metadata": {},
     "output_type": "execute_result"
    }
   ],
   "source": [
    "using DataFrames, CSV, StatsBase, Statistics\n",
    "\n",
    "keepvars = [:BMI; :Steps; :Wday; :Hour; :Race; :Age; :Smoker; :Season; :Day_worn; :m_total; :Stairs]\n",
    "# WHSdata = DataFrame!(CSV.File(\"WHS_final_cleaned.csv\"));\n",
    "descrstats = dropmissing(WHSdata, keepvars)\n",
    "describe(descrstats[!, [:Steps; :m_total; :BMI; :Genhealth; :Age; :Day_worn; :Season;\n",
    "                :Stairs]], :mean, :std, :min, :q25, :median, :q75, :max)"
   ]
  },
  {
   "cell_type": "code",
   "execution_count": 22,
   "metadata": {},
   "outputs": [
    {
     "data": {
      "text/plain": [
       "(Dict{CategoricalValue{String,UInt32},Int64}(\"African American\" => 228,\"Asian\" => 177,\"Other\" => 17,\"Native American\" => 27,\"White\" => 14806,\"Hispanic\" => 135), Dict{CategoricalValue{String,UInt32},Float64}(\"African American\" => 0.014814814814814815,\"Asian\" => 0.011500974658869395,\"Other\" => 0.0011046133853151398,\"Native American\" => 0.0017543859649122807,\"White\" => 0.962053281351527,\"Hispanic\" => 0.008771929824561403))"
      ]
     },
     "execution_count": 22,
     "metadata": {},
     "output_type": "execute_result"
    }
   ],
   "source": [
    "# Race\n",
    "countmap(combine(DataFrames.groupby(descrstats, :Subject_ID), :Race => first)[!, 2]),\n",
    "proportionmap(combine(DataFrames.groupby(descrstats, :Subject_ID), :Race => first)[!, 2])"
   ]
  },
  {
   "cell_type": "code",
   "execution_count": 23,
   "metadata": {},
   "outputs": [
    {
     "data": {
      "text/plain": [
       "(6.867511371020143, 0.5465441309440071)"
      ]
     },
     "execution_count": 23,
     "metadata": {},
     "output_type": "execute_result"
    }
   ],
   "source": [
    "# Days worn\n",
    "mean(combine(DataFrames.groupby(descrstats, :Subject_ID), :Day_worn => maximum)[!, 2]), \n",
    "std(combine(DataFrames.groupby(descrstats, :Subject_ID), :Day_worn => maximum)[!, 2])"
   ]
  },
  {
   "cell_type": "code",
   "execution_count": 24,
   "metadata": {},
   "outputs": [
    {
     "data": {
      "text/plain": [
       "(Dict{CategoricalValue{String,UInt32},Int64}(\"Thurs\" => 362912,\"Wed\" => 363936,\"Tues\" => 360287,\"Sun\" => 360881,\"Mon\" => 361726,\"Fri\" => 362798,\"Sat\" => 361475), Dict{CategoricalValue{String,UInt32},Float64}(\"Thurs\" => 0.14321620037766153,\"Wed\" => 0.14362030216869276,\"Tues\" => 0.1421802949074887,\"Sun\" => 0.14241470551673924,\"Mon\" => 0.14274816842047108,\"Fri\" => 0.1431712124829569,\"Sat\" => 0.1426491161259898))"
      ]
     },
     "execution_count": 24,
     "metadata": {},
     "output_type": "execute_result"
    }
   ],
   "source": [
    "# Day of week\n",
    "countmap(descrstats[!, :Wday]), proportionmap(descrstats[!, :Wday])"
   ]
  },
  {
   "cell_type": "code",
   "execution_count": 25,
   "metadata": {},
   "outputs": [
    {
     "data": {
      "text/plain": [
       "(Dict(\"Summer\" => 817730,\"Autumn\" => 611001,\"Spring\" => 597968,\"Winter\" => 507316), Dict(\"Summer\" => 0.3227013257616865,\"Autumn\" => 0.2411197250213594,\"Spring\" => 0.2359765036907832,\"Winter\" => 0.20020244552617092))"
      ]
     },
     "execution_count": 25,
     "metadata": {},
     "output_type": "execute_result"
    }
   ],
   "source": [
    "# Season\n",
    "countmap(descrstats[!, :Season]), proportionmap(descrstats[!, :Season])"
   ]
  },
  {
   "cell_type": "code",
   "execution_count": 26,
   "metadata": {},
   "outputs": [
    {
     "data": {
      "text/plain": [
       "(Dict{CategoricalValue{String,UInt32},Int64}(\"Past\" => 7082,\"Current\" => 548,\"Never\" => 7760), Dict{CategoricalValue{String,UInt32},Float64}(\"Past\" => 0.46016894087069526,\"Current\" => 0.035607537361923326,\"Never\" => 0.5042235217673814))"
      ]
     },
     "execution_count": 26,
     "metadata": {},
     "output_type": "execute_result"
    }
   ],
   "source": [
    "# Smoking Status\n",
    "countmap(combine(DataFrames.groupby(descrstats, :Subject_ID), :Smoker => first)[!, 2]),\n",
    "    proportionmap(combine(DataFrames.groupby(descrstats, :Subject_ID), :Smoker => first)[!, 2])"
   ]
  },
  {
   "cell_type": "code",
   "execution_count": null,
   "metadata": {},
   "outputs": [],
   "source": []
  }
 ],
 "metadata": {
  "kernelspec": {
   "display_name": "Julia 1.4.0",
   "language": "julia",
   "name": "julia-1.4"
  },
  "language_info": {
   "file_extension": ".jl",
   "mimetype": "application/julia",
   "name": "julia",
   "version": "1.4.0"
  }
 },
 "nbformat": 4,
 "nbformat_minor": 2
}
