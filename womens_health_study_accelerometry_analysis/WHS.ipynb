{
 "cells": [
  {
   "cell_type": "markdown",
   "metadata": {},
   "source": [
    "# Women's Health Study Accelerometry Data"
   ]
  },
  {
   "cell_type": "markdown",
   "metadata": {},
   "source": [
    "This notebook goes over the code needed to reproduce the results from Table 3, using WiSER with the Women's Health Study (WHS) accelerometry data. We also compare its use to fitting a linear mixed effects model via MixedModels.jl."
   ]
  },
  {
   "cell_type": "markdown",
   "metadata": {},
   "source": [
    "#### Packages and Reproducibility\n",
    "\n",
    "Julia allows for easy reproducibility, by including a `Manifest.toml` and `Project.toml` pair, the user can simply run `] activate .` and the correct environment with dependencies used will run.  "
   ]
  },
  {
   "cell_type": "code",
   "execution_count": 1,
   "metadata": {},
   "outputs": [
    {
     "name": "stderr",
     "output_type": "stream",
     "text": [
      "\u001b[32m\u001b[1m Activating\u001b[22m\u001b[39m environment at `~/WiSER_Reproduce/womens_health_study_accelerometry_analysis/Project.toml`\n"
     ]
    }
   ],
   "source": [
    "]activate ."
   ]
  },
  {
   "cell_type": "markdown",
   "metadata": {},
   "source": [
    "Note: We use the KNITRO solver in our analysis, which requires a KNITRO license. If you wish to run the analysis without it, you can use another solver, but the results will be slightly different. Commented code is given to do this."
   ]
  },
  {
   "cell_type": "markdown",
   "metadata": {},
   "source": [
    "## Availability & Description\n",
    "\n",
    "Due to confidentiality concerns, access to the WHS Accelerometry dataset is only available through the National Institutes of Health (NIH) database of Genotypes and Phenotypes (dbGaP). Researchers can apply for acceess to download this dataset through dbGaP. \n",
    "\n",
    "The URL for the webpage is https://www.ncbi.nlm.nih.gov/projects/gap/cgi-bin/study.cgi?study_id=phs001964.v1.p1 and the dbGaP Study Accession identifier is phs001964.v1.p1. This page includes a description of the dataset, study, and details on how to request access to the data. We cannot give more details on the data due to dbGaP's data use agreement. \n",
    "\n",
    "Due to data confidentiality concerns, we supress output of the dataframes that show subject-level data. "
   ]
  },
  {
   "cell_type": "markdown",
   "metadata": {},
   "source": [
    "This notebook goes over code, that when used with the dbGAP's WHS Accelerometry data, can reproduce results in the paper (Table 3)."
   ]
  },
  {
   "cell_type": "code",
   "execution_count": 2,
   "metadata": {},
   "outputs": [
    {
     "name": "stdout",
     "output_type": "stream",
     "text": [
      "Julia Version 1.4.0\n",
      "Commit b8e9a9ecc6 (2020-03-21 16:36 UTC)\n",
      "Platform Info:\n",
      "  OS: Linux (x86_64-pc-linux-gnu)\n",
      "  CPU: Intel(R) Core(TM) i9-9920X CPU @ 3.50GHz\n",
      "  WORD_SIZE: 64\n",
      "  LIBM: libopenlibm\n",
      "  LLVM: libLLVM-8.0.1 (ORCJIT, skylake)\n",
      "Environment:\n",
      "  JULIA_NUM_THREADS = 8\n"
     ]
    }
   ],
   "source": [
    "versioninfo()"
   ]
  },
  {
   "cell_type": "markdown",
   "metadata": {},
   "source": [
    "## Data Cleaning"
   ]
  },
  {
   "cell_type": "markdown",
   "metadata": {},
   "source": [
    "The following goes through the steps to clean the data once it is downloaded from dbGaP."
   ]
  },
  {
   "cell_type": "code",
   "execution_count": 3,
   "metadata": {},
   "outputs": [
    {
     "data": {
      "text/plain": [
       "1000"
      ]
     },
     "execution_count": 3,
     "metadata": {},
     "output_type": "execute_result"
    }
   ],
   "source": [
    "using DataFrames, CSV, StatsBase, Statistics, CodecZlib, Dates\n",
    "ENV[\"COLUMNS\"]=1000"
   ]
  },
  {
   "cell_type": "markdown",
   "metadata": {},
   "source": [
    "Import the data and add some variables. \n",
    "\n",
    "The following assumes you have downloaded the data from dbGaP and are in the downloaded data folder:"
   ]
  },
  {
   "cell_type": "code",
   "execution_count": 4,
   "metadata": {},
   "outputs": [
    {
     "name": "stderr",
     "output_type": "stream",
     "text": [
      "┌ Warning: `CSV.File` or `CSV.Rows` with `TranscodingStreams.TranscodingStream{GzipDecompressor,IOStream}` object is deprecated; pass a filename, `IOBuffer`, or byte buffer directly (via `read(x)`)\n",
      "│   caller = Header at header.jl:123 [inlined]\n",
      "└ @ Core /home/cgerman/.julia/packages/CSV/MKemC/src/header.jl:123\n"
     ]
    }
   ],
   "source": [
    "pathofdata = \"WHS_Accelerometer_phs001964/PhenoGenotypeFiles/RootStudyConsentSet_phs001964.WHS_Accelerometer.v1.p1.c1.GRU/PhenotypeFiles/\"\n",
    "\n",
    "accelerometer_subject = open(pathofdata * \"phs001964.v1.pht009959.v1.p1.WHS_Accelerometer_Subject.MULTI.txt.gz\") do io\n",
    "    DataFrame!(CSV.File(GzipDecompressorStream(io), delim=\"\\t\", comment = \"#\", ignoreemptylines=true))\n",
    "    end\n",
    "\n",
    "accelerometer_mins = open(pathofdata * \"phs001964.v1.pht009963.v1.p1.c1.WHS_Accelerometer_60sec.GRU.txt.gz\") do io\n",
    "#     CSV.read(GzipDecompressorStream(io), delim=\"\\t\", comment = \"#\", ignoreemptylines=true)\n",
    "    DataFrame!(CSV.File(GzipDecompressorStream(io), delim=\"\\t\", comment = \"#\", ignoreemptylines=true))\n",
    "end\n",
    "\n",
    "sum_data = open(pathofdata * \"phs001964.v1.pht009960.v1.p1.c1.WHS_Accelerometer_d20180514_Pub.GRU.txt.gz\") do io\n",
    "#      CSV.read(GzipDecompressorStream(io), delim=\"\\t\", comment = \"#\", ignoreemptylines=true)\n",
    "    DataFrame!(CSV.File(GzipDecompressorStream(io), delim=\"\\t\", comment = \"#\", ignoreemptylines=true))\n",
    "end\n",
    "\n",
    "\n",
    "smoking_pub = open(pathofdata * \"phs001964.v1.pht009961.v1.p1.c1.WHS_Accelerometer_Smoking_Pub.GRU.txt.gz\") do io\n",
    "     DataFrame!(CSV.File(GzipDecompressorStream(io), delim=\"\\t\", comment = \"#\", ignoreemptylines=true))\n",
    "end\n",
    "\n",
    "# get hour of day \n",
    "accelerometer_mins[!, :hour] = Dates.hour.(accelerometer_mins[!, :timeHMS]) ;\n",
    "# get minute of the day\n",
    "accelerometer_mins[!, :mins] = Dates.minute.(accelerometer_mins[!, :timeHMS]);\n",
    "# group every 5 minutes for each hour\n",
    "accelerometer_mins[!, :mingroup] = floor.(accelerometer_mins[!, :mins] / 5) #every 5 minutes\n",
    "# create smoking variable\n",
    "smoking_pub[!, :smoker] = map(x -> ismissing(x) ? missing : x == 1 ? \"never\" : x == 2 ? \"past\" : \"current\",\n",
    "    smoking_pub[!, :smoke])\n",
    "# create race variable from numeric definitions \n",
    "sum_data[!, :RACE] = map(x -> ismissing(x) ? missing : x == 1 ? \"white\" : x == 2 ? \"hispanic\" : \n",
    "    x == 3 ? \"african american\" : x == 4 ? \"asian\" : x == 5 ? \"native american\" : \"other\",\n",
    "    sum_data[!, :RACE]);\n",
    "\n",
    "\n",
    "# subset to just these variables\n",
    "\n",
    "keepvars = [:dbGaP_Subject_ID\n",
    " :Subject_ID\n",
    " :wday\n",
    " :ep60_maxsteps\n",
    " :m_total\n",
    " :sum_valid\n",
    ":EP60_total_steps\n",
    " :compliant\n",
    ":RACE\n",
    ":stairs\n",
    " :genhealth\n",
    " :bmi\n",
    " :ageaccel\n",
    " :day_worn\n",
    " :season]\n",
    "\n",
    "# get data we need from the daily summary data\n",
    "sum_data = sum_data[!, keepvars];"
   ]
  },
  {
   "cell_type": "code",
   "execution_count": 5,
   "metadata": {},
   "outputs": [],
   "source": [
    "# summarize data by hour, to get steps and vector magnitude \n",
    "summarized_hour = combine(DataFrames.groupby(accelerometer_mins, \n",
    "        [:Subject_ID, :wday, :hour]), :steps => sum, :count_vm => sum);"
   ]
  },
  {
   "cell_type": "code",
   "execution_count": 6,
   "metadata": {},
   "outputs": [],
   "source": [
    "#Get best top p hours \n",
    "function findtop_p(x, p)\n",
    "    sortedx = sort(x, rev=true)\n",
    "    return ind1 = findfirst(x .== sortedx[p]) - 1 #hours start at 1, subtract 1 to get true hour \n",
    "end\n",
    "\n",
    "# get max hour for each person, each day \n",
    "maxhours = combine(DataFrames.groupby(summarized_hour, \n",
    "        [:Subject_ID, :wday]),\n",
    "        :count_vm_sum => (x -> findtop_p(x, 1)) => :maxvm_hour1,\n",
    "        :count_vm_sum => (x -> findtop_p(x, 2)) => :maxvm_hour2);"
   ]
  },
  {
   "cell_type": "code",
   "execution_count": 7,
   "metadata": {},
   "outputs": [],
   "source": [
    "# get the minute data for the top hour found above for each person, each day\n",
    "tophour_data = DataFrames.innerjoin(accelerometer_mins, maxhours[!, 1:3];\n",
    "    on = [:Subject_ID, :wday, :hour] .=> [:Subject_ID, :wday, :maxvm_hour1],\n",
    "    makeunique = false,\n",
    "    validate = (false, false));"
   ]
  },
  {
   "cell_type": "code",
   "execution_count": 8,
   "metadata": {},
   "outputs": [],
   "source": [
    "# get the minute data for the second highest hour found above for each person, each day\n",
    "top2hour_data = DataFrames.innerjoin(accelerometer_mins, maxhours[!, [1;2;4]];\n",
    "    on = [:Subject_ID, :wday, :hour] .=> [:Subject_ID, :wday, :maxvm_hour2],\n",
    "    makeunique = false,\n",
    "    validate = (false, false));"
   ]
  },
  {
   "cell_type": "code",
   "execution_count": 9,
   "metadata": {},
   "outputs": [],
   "source": [
    "# combine top 1 hour and top 2 hour data together\n",
    "top2hour_data = vcat(tophour_data, top2hour_data);"
   ]
  },
  {
   "cell_type": "code",
   "execution_count": 10,
   "metadata": {},
   "outputs": [],
   "source": [
    "# sum steps over each 5 minutes to use as outcome variable\n",
    "summarized_5min = combine(DataFrames.groupby(top2hour_data, \n",
    "        [:Subject_ID, :wday, :hour, :mingroup]),\n",
    "    :day_worn => first => :day_worn, :season => first => :season, :steps => sum => :steps);"
   ]
  },
  {
   "cell_type": "code",
   "execution_count": 11,
   "metadata": {},
   "outputs": [],
   "source": [
    "# add the daily summary data\n",
    "top2hour_sumdatacomb = DataFrames.leftjoin(summarized_5min, sum_data; on = [:Subject_ID, :wday, :day_worn, :season], makeunique = false,\n",
    "         indicator = nothing, validate = (false, false));"
   ]
  },
  {
   "cell_type": "code",
   "execution_count": 12,
   "metadata": {},
   "outputs": [],
   "source": [
    "# add the smoking data\n",
    "top2hourdata = DataFrames.leftjoin(top2hour_sumdatacomb, smoking_pub; on = [:Subject_ID, :dbGaP_Subject_ID], makeunique = false,\n",
    "         indicator = nothing, validate = (false, false));"
   ]
  },
  {
   "cell_type": "code",
   "execution_count": null,
   "metadata": {},
   "outputs": [],
   "source": [
    "# Don't run twice \n",
    "\n",
    "top2hourdata[!, :steps] = Float64.(top2hourdata[!, :steps]);\n",
    "top2hourdata[!, :smoker] = map(x -> ismissing(x) ? missing : x == 1 ? \"Never\" : x == 2 ? \"Past\" : \"Current\",\n",
    "    top2hourdata[!, :smoke])\n",
    "top2hourdata[!, :smoker] = levels!(CategoricalArray(top2hourdata[!, :smoker]),\n",
    "    [\"Never\"; \"Past\"; \"Current\"]);\n",
    "\n",
    "top2hourdata[!, :RACE] = map(x -> ismissing.(x) ? missing : titlecase(String(x)),\n",
    "    top2hourdata[!, :RACE])\n",
    "top2hourdata[!, :RACE] = levels!(CategoricalArray(top2hourdata[!, :RACE]),\n",
    "    [\"White\"; \"African American\"; \"Asian\"; \"Hispanic\"; \"Native American\"; \"Other\"])\n",
    "\n",
    "top2hourdata[!, :wday] = levels!(CategoricalArray(top2hourdata[!, :wday]),\n",
    "    [\"Sun\"; \"Mon\"; \"Tues\"; \"Wed\"; \"Thurs\"; \"Fri\"; \"Sat\"])\n",
    "\n",
    "top2hourdata[!, :season] = map(x -> ismissing(x) ? missing : x == 1 ? \"Winter\" :\n",
    "    x == 2 ? \"Spring\" : x== 3 ?  \"Summer\" : \"Autumn\", top2hourdata[!, :season]);\n",
    "\n",
    "top2hourdata[!, :Weekend] = map(x -> ismissing(x) ? missing :\n",
    "    x in [\"Mon\"; \"Tues\"; \"Wed\"; \"Thurs\"; \"Fri\"] ? \"Weekday\" :\n",
    "    \"Weekend\", top2hourdata[!, :wday]);\n",
    "\n",
    "# make names more presentable to final names \n",
    "renamenames = [\"Subject_ID\"\n",
    " \"Wday\"\n",
    " \"Hour\"\n",
    " \"mingroup\"\n",
    " \"Day_worn\"\n",
    " \"Season\"\n",
    " \"Steps\"\n",
    " \"dbGaP_Subject_ID\"\n",
    " \"ep60_maxsteps\"\n",
    " \"m_total\"\n",
    " \"sum_valid\"\n",
    " \"EP60_total_steps\"\n",
    " \"Compliant\"\n",
    " \"Race\"\n",
    " \"Stairs\"\n",
    " \"Genhealth\"\n",
    " \"BMI\"\n",
    " \"Age\"\n",
    " \"Smoke\"\n",
    " \"Smoker\"\n",
    " \"Weekend\"] \n",
    "rename!(top2hourdata, renamenames);"
   ]
  },
  {
   "cell_type": "code",
   "execution_count": 14,
   "metadata": {},
   "outputs": [],
   "source": [
    "# Drop 0s and log10 transform steps \n",
    "keepinds = findall(top2hourdata[!, :Steps] .> 0.0)\n",
    "top2hour_restricted = top2hourdata[keepinds, :]\n",
    "top2hour_restricted[!, :Transformed_steps] = log10.(top2hour_restricted[!, :Steps]);\n",
    "# optionally save this dataset \n",
    "CSV.write(\"WHS_final_cleaned.csv\", top2hour_restricted);"
   ]
  },
  {
   "cell_type": "markdown",
   "metadata": {},
   "source": [
    "## Analysis"
   ]
  },
  {
   "cell_type": "markdown",
   "metadata": {},
   "source": [
    "As stated in the paper, we use the Knitro solver. If you do not have access to the knitro solver, you can remove solver and KNITRO and it will run, with slightly different but very similar results.\n",
    "\n",
    "The following produce the results found in Table 3 of the paper. "
   ]
  },
  {
   "cell_type": "code",
   "execution_count": 17,
   "metadata": {},
   "outputs": [
    {
     "name": "stderr",
     "output_type": "stream",
     "text": [
      "┌ Info: Precompiling WiSER [2ff19380-1883-49fc-9d10-450face6b90c]\n",
      "└ @ Base loading.jl:1260\n",
      "┌ Info: Precompiling MixedModels [ff71e718-51f3-5ec2-a782-8ffcbfa3c316]\n",
      "└ @ Base loading.jl:1260\n",
      "┌ Info: Precompiling KNITRO [67920dd8-b58e-52a8-8622-53c4cffbe346]\n",
      "└ @ Base loading.jl:1260\n"
     ]
    }
   ],
   "source": [
    "using DataFrames, CSV, WiSER, MixedModels, KNITRO\n",
    "ENV[\"COLUMNS\"]=1000 #extends the number of columns printed when displaying a dataframe. \n",
    "\n",
    "#load in data\n",
    "WHSdata = DataFrame!(CSV.File(\"WHS_final_cleaned.csv\"));\n",
    "\n",
    "# set reference levels\n",
    "WHSdata[!, :Smoker] = levels!(CategoricalArray(WHSdata[!, :Smoker]),\n",
    "    [\"Never\"; \"Past\"; \"Current\"]);\n",
    "\n",
    "WHSdata[!, :Race] = levels!(CategoricalArray(WHSdata[!, :Race]),\n",
    "    [\"White\"; \"African American\"; \"Asian\"; \"Hispanic\"; \"Native American\"; \"Other\"])\n",
    "\n",
    "WHSdata[!, :Wday] = levels!(CategoricalArray(WHSdata[!, :Wday]),\n",
    "    [\"Sun\"; \"Mon\"; \"Tues\"; \"Wed\"; \"Thurs\"; \"Fri\"; \"Sat\"]);"
   ]
  },
  {
   "cell_type": "code",
   "execution_count": 18,
   "metadata": {},
   "outputs": [
    {
     "data": {
      "text/plain": [
       "comparemixedmodel (generic function with 1 method)"
      ]
     },
     "execution_count": 18,
     "metadata": {},
     "output_type": "execute_result"
    }
   ],
   "source": [
    "# Write a function to compare mixed models with WiSER\n",
    "function comparemixedmodel(mixedmodel, wsvarmodel)\n",
    "    coefnames = MixedModels.coefnames(mixedmodel)\n",
    "    mixedbeta = mixedmodel.β\n",
    "    mixedbetapval = MixedModels.coeftable(mixedmodel).cols[4]\n",
    "    wsvarbeta = wsvarmodel.β\n",
    "    wsvarbetapval = WiSER.coeftable(wsvarmodel).cols[4][1:wsvarmodel.p] \n",
    "    return DataFrame(coefnames = coefnames, mixedbeta = mixedbeta,\n",
    "        mixedbetapval = mixedbetapval, wsvarbeta = wsvarbeta,\n",
    "        wsvarbetapval = wsvarbetapval)\n",
    "end"
   ]
  },
  {
   "cell_type": "markdown",
   "metadata": {},
   "source": [
    "The following constructs and fits the model. The `Optimization unsuccessful` warnings can be ignored because KNITRO by default uses a very stringent convergence criterion. FeasibleApproximate indicates the solution is adequate. Other nonlinear optimization solvers such as IPOPT will return `Optimal` status."
   ]
  },
  {
   "cell_type": "code",
   "execution_count": 19,
   "metadata": {},
   "outputs": [
    {
     "name": "stdout",
     "output_type": "stream",
     "text": [
      "run = 1, ‖Δβ‖ = 0.031092, ‖Δτ‖ = 0.103484, ‖ΔL‖ = 0.003194, status = Optimal, time(s) = 7.289397\n",
      "run = 2, ‖Δβ‖ = 0.003093, ‖Δτ‖ = 0.025854, ‖ΔL‖ = 0.000621, status = FeasibleApproximate, time(s) = 7.664289\n"
     ]
    },
    {
     "name": "stderr",
     "output_type": "stream",
     "text": [
      "┌ Warning: Optimization unsuccesful; got FeasibleApproximate; run = 2\n",
      "└ @ WiSER /home/cgerman/.julia/packages/WiSER/tXr2S/src/fit.jl:63\n"
     ]
    },
    {
     "name": "stdout",
     "output_type": "stream",
     "text": [
      "run = 3, ‖Δβ‖ = 0.000335, ‖Δτ‖ = 0.002050, ‖ΔL‖ = 0.000057, status = FeasibleApproximate, time(s) = 7.005404\n"
     ]
    },
    {
     "name": "stderr",
     "output_type": "stream",
     "text": [
      "┌ Warning: Optimization unsuccesful; got FeasibleApproximate; run = 3\n",
      "└ @ WiSER /home/cgerman/.julia/packages/WiSER/tXr2S/src/fit.jl:63\n"
     ]
    },
    {
     "name": "stdout",
     "output_type": "stream",
     "text": [
      "run = 4, ‖Δβ‖ = 0.000030, ‖Δτ‖ = 0.000203, ‖ΔL‖ = 0.000005, status = FeasibleApproximate, time(s) = 14.505302\n"
     ]
    },
    {
     "name": "stderr",
     "output_type": "stream",
     "text": [
      "┌ Warning: Optimization unsuccesful; got FeasibleApproximate; run = 4\n",
      "└ @ WiSER /home/cgerman/.julia/packages/WiSER/tXr2S/src/fit.jl:63\n"
     ]
    },
    {
     "name": "stdout",
     "output_type": "stream",
     "text": [
      " 41.520894 seconds (8.05 M allocations: 388.029 MiB)\n"
     ]
    },
    {
     "data": {
      "text/plain": [
       "\n",
       "Within-subject variance estimation by robust regression (WiSER)\n",
       "Number of individuals/clusters: 15390\n",
       "Total observations: 2314611\n",
       "\n",
       "Fixed-effects parameters:\n",
       "────────────────────────────────────────────────────────────────────────\n",
       "                                 Estimate   Std. Error       Z  Pr(>|Z|)\n",
       "────────────────────────────────────────────────────────────────────────\n",
       "β1: (Intercept)               2.86951      0.0281224    102.04    <1e-99\n",
       "β2: BMI                      -0.0136865    0.000337856  -40.51    <1e-99\n",
       "β3: Wday: Mon                 0.063499     0.00263896    24.06    <1e-99\n",
       "β4: Wday: Tues                0.0516142    0.00272096    18.97    <1e-79\n",
       "β5: Wday: Wed                 0.0474884    0.00276237    17.19    <1e-65\n",
       "β6: Wday: Thurs               0.0421016    0.00274567    15.33    <1e-52\n",
       "β7: Wday: Fri                 0.053267     0.00272439    19.55    <1e-84\n",
       "β8: Wday: Sat                 0.0516685    0.00259806    19.89    <1e-87\n",
       "β9: Hour                     -0.00586103   0.000221854  -26.42    <1e-99\n",
       "β10: Race: African American  -0.0541461    0.0143043     -3.79    0.0002\n",
       "β11: Race: Asian             -0.0606558    0.0161897     -3.75    0.0002\n",
       "β12: Race: Hispanic           0.0321919    0.0179533      1.79    0.0730\n",
       "β13: Race: Native American    0.0164709    0.0359061      0.46    0.6464\n",
       "β14: Race: Other              0.0306965    0.05156        0.60    0.5516\n",
       "β15: Stairs                   0.0104808    0.00114813     9.13    <1e-19\n",
       "β16: Age                     -0.0153334    0.000318287  -48.17    <1e-99\n",
       "β17: Smoker: Past             0.00236192   0.00338861     0.70    0.4858\n",
       "β18: Smoker: Current         -0.135006     0.00959601   -14.07    <1e-44\n",
       "β19: Season: Spring           0.00357472   0.00479204     0.75    0.4557\n",
       "β20: Season: Summer           0.0099343    0.00447034     2.22    0.0263\n",
       "β21: Season: Winter          -0.0241402    0.00498718    -4.84    <1e-5\n",
       "β22: m_total                  0.000225996  8.61705e-6    26.23    <1e-99\n",
       "τ1: (Intercept)              -0.549748     0.0421482    -13.04    <1e-38\n",
       "τ2: BMI                      -0.0065477    0.000558016  -11.73    <1e-31\n",
       "τ3: Wday: Mon                -0.029023     0.00599036    -4.84    <1e-5\n",
       "τ4: Wday: Tues               -0.0185717    0.00607659    -3.06    0.0022\n",
       "τ5: Wday: Wed                -0.0121434    0.00598526    -2.03    0.0425\n",
       "τ6: Wday: Thurs              -0.0214543    0.00609926    -3.52    0.0004\n",
       "τ7: Wday: Fri                -0.0416952    0.0059793     -6.97    <1e-11\n",
       "τ8: Wday: Sat                -0.0647921    0.00597396   -10.85    <1e-26\n",
       "τ9: Hour                     -0.00203348   0.000576899   -3.52    0.0004\n",
       "τ10: Race: African American  -0.0205512    0.0231372     -0.89    0.3744\n",
       "τ11: Race: Asian              0.054942     0.0257073      2.14    0.0326\n",
       "τ12: Race: Hispanic          -0.0145903    0.0315999     -0.46    0.6443\n",
       "τ13: Race: Native American    0.00662316   0.0601255      0.11    0.9123\n",
       "τ14: Race: Other             -0.0390588    0.0793594     -0.49    0.6226\n",
       "τ15: Age                     -0.00511137   0.000514251   -9.94    <1e-22\n",
       "τ16: Smoker: Past             0.00193892   0.00587775     0.33    0.7415\n",
       "τ17: Smoker: Current         -0.0792457    0.0148479     -5.34    <1e-7\n",
       "────────────────────────────────────────────────────────────────────────\n",
       "Random effects covariance matrix Σγ:\n",
       " \"γ1: (Intercept)\"   0.0612579   -0.00533221\n",
       " \"γ2: Day_worn\"     -0.00533221   0.00135318\n",
       "\n"
      ]
     },
     "execution_count": 19,
     "metadata": {},
     "output_type": "execute_result"
    }
   ],
   "source": [
    "wisermodel_transformed = WSVarLmmModel(\n",
    "    @formula(Transformed_steps ~ 1 + BMI + Wday + Hour + \n",
    "                Race + Stairs + Age + Smoker + Season + m_total),\n",
    "    @formula(Transformed_steps ~ 1 + Day_worn), \n",
    "    @formula(Transformed_steps ~ 1 + BMI + Wday + Hour + \n",
    "                Race + Age + Smoker), \n",
    "                :Subject_ID, WHSdata);\n",
    "@time WiSER.fit!(wisermodel_transformed, KNITRO.KnitroSolver(outlev=0, ftol = 2), parallel = false, runs = 4)\n",
    "\n",
    "### IF NO KNITRO LICENSE, comment out last line above and run:\n",
    "# solver = Ipopt.IpoptSolver(print_level=0, watchdog_shortened_iter_trigger=3, max_iter=100)\n",
    "# @time WiSER.fit!(wisermodel_transformed, solver, parallel = false, runs = 4)"
   ]
  },
  {
   "cell_type": "code",
   "execution_count": 20,
   "metadata": {},
   "outputs": [
    {
     "name": "stdout",
     "output_type": "stream",
     "text": [
      " 24.194260 seconds (53.44 M allocations: 9.293 GiB, 22.26% gc time)\n"
     ]
    },
    {
     "data": {
      "text/plain": [
       "Linear mixed model fit by maximum likelihood\n",
       " Transformed_steps ~ 1 + BMI + Wday + Hour + Race + Stairs + Age + Smoker + Season + m_total + (1 + Day_worn | Subject_ID)\n",
       "     logLik       -2 logLik         AIC            BIC      \n",
       " -1.9976733×10⁶ 3.99534661×10⁶ 3.99539861×10⁶ 3.99572763×10⁶\n",
       "\n",
       "Variance components:\n",
       "              Column     Variance    Std.Dev.    Corr.\n",
       "Subject_ID (Intercept)  0.0614063036 0.24780295\n",
       "           Day_worn     0.0013593018 0.03686871 -0.59\n",
       "Residual                0.3198837226 0.56558264\n",
       " Number of obs: 2314611; levels of grouping factors: 15390\n",
       "\n",
       "  Fixed-effects parameters:\n",
       "──────────────────────────────────────────────────────────────────────\n",
       "                            Estimate    Std.Error     z value  P(>|z|)\n",
       "──────────────────────────────────────────────────────────────────────\n",
       "(Intercept)              2.8692       0.0262518    109.295      <1e-99\n",
       "BMI                     -0.0136871    0.0003436    -39.8344     <1e-99\n",
       "Wday: Mon                0.0632695    0.00144361    43.8271     <1e-99\n",
       "Wday: Tues               0.0512991    0.00152498    33.6392     <1e-99\n",
       "Wday: Wed                0.047101     0.00154438    30.4983     <1e-99\n",
       "Wday: Thurs              0.04182      0.00154413    27.0833     <1e-99\n",
       "Wday: Fri                0.0529619    0.00151693    34.9138     <1e-99\n",
       "Wday: Sat                0.0518392    0.00146376    35.415      <1e-99\n",
       "Hour                    -0.00583023   0.000107889  -54.039      <1e-99\n",
       "Race: African American  -0.0541292    0.0138096     -3.91968    <1e-4\n",
       "Race: Asian             -0.0607702    0.015664      -3.8796     0.0001\n",
       "Race: Hispanic           0.0323229    0.017835       1.81233    0.0699\n",
       "Race: Native American    0.0165301    0.0397546      0.415804   0.6776\n",
       "Race: Other              0.0307086    0.0500443      0.613629   0.5395\n",
       "Stairs                   0.0104927    0.0011525      9.10428    <1e-19\n",
       "Age                     -0.0153283    0.000301001  -50.9244     <1e-99\n",
       "Smoker: Past             0.00242164   0.00339817     0.712631   0.4761\n",
       "Smoker: Current         -0.134925     0.00914004   -14.7619     <1e-48\n",
       "Season: Spring           0.00336322   0.00482801     0.696607   0.4860\n",
       "Season: Summer           0.00993472   0.00448205     2.21656    0.0267\n",
       "Season: Winter          -0.0240562    0.00503529    -4.77753    <1e-5\n",
       "m_total                  0.000225684  4.35455e-6    51.8272     <1e-99\n",
       "──────────────────────────────────────────────────────────────────────"
      ]
     },
     "execution_count": 20,
     "metadata": {},
     "output_type": "execute_result"
    }
   ],
   "source": [
    "@time mixedmodel_transformed = fit(LinearMixedModel, \n",
    "        @formula(Transformed_steps ~ 1 + BMI + Wday + Hour + \n",
    "            Race + Stairs + Age + Smoker + Season + m_total + (1 + Day_worn|Subject_ID)),\n",
    "        WHSdata)"
   ]
  },
  {
   "cell_type": "code",
   "execution_count": 21,
   "metadata": {},
   "outputs": [
    {
     "data": {
      "text/html": [
       "<table class=\"data-frame\"><thead><tr><th></th><th>coefnames</th><th>mixedbeta</th><th>mixedbetapval</th><th>wsvarbeta</th><th>wsvarbetapval</th></tr><tr><th></th><th>String</th><th>Float64</th><th>Float64</th><th>Float64</th><th>Float64</th></tr></thead><tbody><p>22 rows × 5 columns</p><tr><th>1</th><td>(Intercept)</td><td>2.8692</td><td>0.0</td><td>2.86951</td><td>0.0</td></tr><tr><th>2</th><td>BMI</td><td>-0.0136871</td><td>0.0</td><td>-0.0136865</td><td>0.0</td></tr><tr><th>3</th><td>Wday: Mon</td><td>0.0632695</td><td>0.0</td><td>0.063499</td><td>6.23574e-128</td></tr><tr><th>4</th><td>Wday: Tues</td><td>0.0512991</td><td>4.48154e-248</td><td>0.0516142</td><td>3.06983e-80</td></tr><tr><th>5</th><td>Wday: Wed</td><td>0.047101</td><td>2.74106e-204</td><td>0.0474884</td><td>3.08931e-66</td></tr><tr><th>6</th><td>Wday: Thurs</td><td>0.04182</td><td>1.54973e-161</td><td>0.0421016</td><td>4.54255e-53</td></tr><tr><th>7</th><td>Wday: Fri</td><td>0.0529619</td><td>4.58897e-267</td><td>0.053267</td><td>3.97417e-85</td></tr><tr><th>8</th><td>Wday: Sat</td><td>0.0518392</td><td>1.0021e-274</td><td>0.0516685</td><td>5.2364e-88</td></tr><tr><th>9</th><td>Hour</td><td>-0.00583023</td><td>0.0</td><td>-0.00586103</td><td>8.42222e-154</td></tr><tr><th>10</th><td>Race: African American</td><td>-0.0541292</td><td>8.86671e-5</td><td>-0.0541461</td><td>0.000153524</td></tr><tr><th>11</th><td>Race: Asian</td><td>-0.0607702</td><td>0.000104629</td><td>-0.0606558</td><td>0.000179267</td></tr><tr><th>12</th><td>Race: Hispanic</td><td>0.0323229</td><td>0.0699358</td><td>0.0321919</td><td>0.0729582</td></tr><tr><th>13</th><td>Race: Native American</td><td>0.0165301</td><td>0.677553</td><td>0.0164709</td><td>0.646435</td></tr><tr><th>14</th><td>Race: Other</td><td>0.0307086</td><td>0.539461</td><td>0.0306965</td><td>0.551607</td></tr><tr><th>15</th><td>Stairs</td><td>0.0104927</td><td>8.68431e-20</td><td>0.0104808</td><td>6.94221e-20</td></tr><tr><th>16</th><td>Age</td><td>-0.0153283</td><td>0.0</td><td>-0.0153334</td><td>0.0</td></tr><tr><th>17</th><td>Smoker: Past</td><td>0.00242164</td><td>0.476074</td><td>0.00236192</td><td>0.485792</td></tr><tr><th>18</th><td>Smoker: Current</td><td>-0.134925</td><td>2.57786e-49</td><td>-0.135006</td><td>5.89223e-45</td></tr><tr><th>19</th><td>Season: Spring</td><td>0.00336322</td><td>0.486049</td><td>0.00357472</td><td>0.455686</td></tr><tr><th>20</th><td>Season: Summer</td><td>0.00993472</td><td>0.0266535</td><td>0.0099343</td><td>0.0262652</td></tr><tr><th>21</th><td>Season: Winter</td><td>-0.0240562</td><td>1.77464e-6</td><td>-0.0241402</td><td>1.29546e-6</td></tr><tr><th>22</th><td>m_total</td><td>0.000225684</td><td>0.0</td><td>0.000225996</td><td>1.32314e-151</td></tr></tbody></table>"
      ],
      "text/latex": [
       "\\begin{tabular}{r|ccccc}\n",
       "\t& coefnames & mixedbeta & mixedbetapval & wsvarbeta & wsvarbetapval\\\\\n",
       "\t\\hline\n",
       "\t& String & Float64 & Float64 & Float64 & Float64\\\\\n",
       "\t\\hline\n",
       "\t1 & (Intercept) & 2.8692 & 0.0 & 2.86951 & 0.0 \\\\\n",
       "\t2 & BMI & -0.0136871 & 0.0 & -0.0136865 & 0.0 \\\\\n",
       "\t3 & Wday: Mon & 0.0632695 & 0.0 & 0.063499 & 6.23574e-128 \\\\\n",
       "\t4 & Wday: Tues & 0.0512991 & 4.48154e-248 & 0.0516142 & 3.06983e-80 \\\\\n",
       "\t5 & Wday: Wed & 0.047101 & 2.74106e-204 & 0.0474884 & 3.08931e-66 \\\\\n",
       "\t6 & Wday: Thurs & 0.04182 & 1.54973e-161 & 0.0421016 & 4.54255e-53 \\\\\n",
       "\t7 & Wday: Fri & 0.0529619 & 4.58897e-267 & 0.053267 & 3.97417e-85 \\\\\n",
       "\t8 & Wday: Sat & 0.0518392 & 1.0021e-274 & 0.0516685 & 5.2364e-88 \\\\\n",
       "\t9 & Hour & -0.00583023 & 0.0 & -0.00586103 & 8.42222e-154 \\\\\n",
       "\t10 & Race: African American & -0.0541292 & 8.86671e-5 & -0.0541461 & 0.000153524 \\\\\n",
       "\t11 & Race: Asian & -0.0607702 & 0.000104629 & -0.0606558 & 0.000179267 \\\\\n",
       "\t12 & Race: Hispanic & 0.0323229 & 0.0699358 & 0.0321919 & 0.0729582 \\\\\n",
       "\t13 & Race: Native American & 0.0165301 & 0.677553 & 0.0164709 & 0.646435 \\\\\n",
       "\t14 & Race: Other & 0.0307086 & 0.539461 & 0.0306965 & 0.551607 \\\\\n",
       "\t15 & Stairs & 0.0104927 & 8.68431e-20 & 0.0104808 & 6.94221e-20 \\\\\n",
       "\t16 & Age & -0.0153283 & 0.0 & -0.0153334 & 0.0 \\\\\n",
       "\t17 & Smoker: Past & 0.00242164 & 0.476074 & 0.00236192 & 0.485792 \\\\\n",
       "\t18 & Smoker: Current & -0.134925 & 2.57786e-49 & -0.135006 & 5.89223e-45 \\\\\n",
       "\t19 & Season: Spring & 0.00336322 & 0.486049 & 0.00357472 & 0.455686 \\\\\n",
       "\t20 & Season: Summer & 0.00993472 & 0.0266535 & 0.0099343 & 0.0262652 \\\\\n",
       "\t21 & Season: Winter & -0.0240562 & 1.77464e-6 & -0.0241402 & 1.29546e-6 \\\\\n",
       "\t22 & m\\_total & 0.000225684 & 0.0 & 0.000225996 & 1.32314e-151 \\\\\n",
       "\\end{tabular}\n"
      ],
      "text/plain": [
       "22×5 DataFrame\n",
       "│ Row │ coefnames              │ mixedbeta   │ mixedbetapval │ wsvarbeta   │ wsvarbetapval │\n",
       "│     │ \u001b[90mString\u001b[39m                 │ \u001b[90mFloat64\u001b[39m     │ \u001b[90mFloat64\u001b[39m       │ \u001b[90mFloat64\u001b[39m     │ \u001b[90mFloat64\u001b[39m       │\n",
       "├─────┼────────────────────────┼─────────────┼───────────────┼─────────────┼───────────────┤\n",
       "│ 1   │ (Intercept)            │ 2.8692      │ 0.0           │ 2.86951     │ 0.0           │\n",
       "│ 2   │ BMI                    │ -0.0136871  │ 0.0           │ -0.0136865  │ 0.0           │\n",
       "│ 3   │ Wday: Mon              │ 0.0632695   │ 0.0           │ 0.063499    │ 6.23574e-128  │\n",
       "│ 4   │ Wday: Tues             │ 0.0512991   │ 4.48154e-248  │ 0.0516142   │ 3.06983e-80   │\n",
       "│ 5   │ Wday: Wed              │ 0.047101    │ 2.74106e-204  │ 0.0474884   │ 3.08931e-66   │\n",
       "│ 6   │ Wday: Thurs            │ 0.04182     │ 1.54973e-161  │ 0.0421016   │ 4.54255e-53   │\n",
       "│ 7   │ Wday: Fri              │ 0.0529619   │ 4.58897e-267  │ 0.053267    │ 3.97417e-85   │\n",
       "│ 8   │ Wday: Sat              │ 0.0518392   │ 1.0021e-274   │ 0.0516685   │ 5.2364e-88    │\n",
       "│ 9   │ Hour                   │ -0.00583023 │ 0.0           │ -0.00586103 │ 8.42222e-154  │\n",
       "│ 10  │ Race: African American │ -0.0541292  │ 8.86671e-5    │ -0.0541461  │ 0.000153524   │\n",
       "│ 11  │ Race: Asian            │ -0.0607702  │ 0.000104629   │ -0.0606558  │ 0.000179267   │\n",
       "│ 12  │ Race: Hispanic         │ 0.0323229   │ 0.0699358     │ 0.0321919   │ 0.0729582     │\n",
       "│ 13  │ Race: Native American  │ 0.0165301   │ 0.677553      │ 0.0164709   │ 0.646435      │\n",
       "│ 14  │ Race: Other            │ 0.0307086   │ 0.539461      │ 0.0306965   │ 0.551607      │\n",
       "│ 15  │ Stairs                 │ 0.0104927   │ 8.68431e-20   │ 0.0104808   │ 6.94221e-20   │\n",
       "│ 16  │ Age                    │ -0.0153283  │ 0.0           │ -0.0153334  │ 0.0           │\n",
       "│ 17  │ Smoker: Past           │ 0.00242164  │ 0.476074      │ 0.00236192  │ 0.485792      │\n",
       "│ 18  │ Smoker: Current        │ -0.134925   │ 2.57786e-49   │ -0.135006   │ 5.89223e-45   │\n",
       "│ 19  │ Season: Spring         │ 0.00336322  │ 0.486049      │ 0.00357472  │ 0.455686      │\n",
       "│ 20  │ Season: Summer         │ 0.00993472  │ 0.0266535     │ 0.0099343   │ 0.0262652     │\n",
       "│ 21  │ Season: Winter         │ -0.0240562  │ 1.77464e-6    │ -0.0241402  │ 1.29546e-6    │\n",
       "│ 22  │ m_total                │ 0.000225684 │ 0.0           │ 0.000225996 │ 1.32314e-151  │"
      ]
     },
     "execution_count": 21,
     "metadata": {},
     "output_type": "execute_result"
    }
   ],
   "source": [
    "dfcompare_transformed = comparemixedmodel(mixedmodel_transformed, wisermodel_transformed) "
   ]
  },
  {
   "cell_type": "markdown",
   "metadata": {},
   "source": [
    "#### Supplementary Table S.3\n",
    "\n",
    "The following obtains the results of summary statistics found in Supplementary Table S.3."
   ]
  },
  {
   "cell_type": "code",
   "execution_count": 22,
   "metadata": {},
   "outputs": [
    {
     "data": {
      "text/html": [
       "<table class=\"data-frame\"><thead><tr><th></th><th>variable</th><th>mean</th><th>std</th><th>min</th><th>q25</th><th>median</th><th>q75</th><th>max</th></tr><tr><th></th><th>Symbol</th><th>Union…</th><th>Union…</th><th>Any</th><th>Union…</th><th>Union…</th><th>Union…</th><th>Any</th></tr></thead><tbody><p>8 rows × 8 columns</p><tr><th>1</th><td>Steps</td><td>93.6051</td><td>134.945</td><td>1.0</td><td>19.0</td><td>48.0</td><td>96.0</td><td>1173.0</td></tr><tr><th>2</th><td>m_total</td><td>884.457</td><td>123.118</td><td>1</td><td>829.0</td><td>896.0</td><td>954.0</td><td>1440</td></tr><tr><th>3</th><td>BMI</td><td>26.0846</td><td>4.92855</td><td>13.7318</td><td>22.5964</td><td>25.2939</td><td>28.7962</td><td>58.4195</td></tr><tr><th>4</th><td>Genhealth</td><td>2.02188</td><td>0.755191</td><td>1</td><td>1.0</td><td>2.0</td><td>2.0</td><td>4</td></tr><tr><th>5</th><td>Age</td><td>71.4021</td><td>5.61028</td><td>62</td><td>67.0</td><td>70.0</td><td>75.0</td><td>89</td></tr><tr><th>6</th><td>Day_worn</td><td>3.96429</td><td>1.98116</td><td>1</td><td>2.0</td><td>4.0</td><td>6.0</td><td>8</td></tr><tr><th>7</th><td>Season</td><td></td><td></td><td>Autumn</td><td></td><td></td><td></td><td>Winter</td></tr><tr><th>8</th><td>Stairs</td><td>2.61839</td><td>1.48501</td><td>1</td><td>1.0</td><td>2.0</td><td>4.0</td><td>6</td></tr></tbody></table>"
      ],
      "text/latex": [
       "\\begin{tabular}{r|cccccccc}\n",
       "\t& variable & mean & std & min & q25 & median & q75 & max\\\\\n",
       "\t\\hline\n",
       "\t& Symbol & Union… & Union… & Any & Union… & Union… & Union… & Any\\\\\n",
       "\t\\hline\n",
       "\t1 & Steps & 93.6051 & 134.945 & 1.0 & 19.0 & 48.0 & 96.0 & 1173.0 \\\\\n",
       "\t2 & m\\_total & 884.457 & 123.118 & 1 & 829.0 & 896.0 & 954.0 & 1440 \\\\\n",
       "\t3 & BMI & 26.0846 & 4.92855 & 13.7318 & 22.5964 & 25.2939 & 28.7962 & 58.4195 \\\\\n",
       "\t4 & Genhealth & 2.02188 & 0.755191 & 1 & 1.0 & 2.0 & 2.0 & 4 \\\\\n",
       "\t5 & Age & 71.4021 & 5.61028 & 62 & 67.0 & 70.0 & 75.0 & 89 \\\\\n",
       "\t6 & Day\\_worn & 3.96429 & 1.98116 & 1 & 2.0 & 4.0 & 6.0 & 8 \\\\\n",
       "\t7 & Season &  &  & Autumn &  &  &  & Winter \\\\\n",
       "\t8 & Stairs & 2.61839 & 1.48501 & 1 & 1.0 & 2.0 & 4.0 & 6 \\\\\n",
       "\\end{tabular}\n"
      ],
      "text/plain": [
       "8×8 DataFrame\n",
       "│ Row │ variable  │ mean    │ std      │ min     │ q25     │ median  │ q75     │ max     │\n",
       "│     │ \u001b[90mSymbol\u001b[39m    │ \u001b[90mUnion…\u001b[39m  │ \u001b[90mUnion…\u001b[39m   │ \u001b[90mAny\u001b[39m     │ \u001b[90mUnion…\u001b[39m  │ \u001b[90mUnion…\u001b[39m  │ \u001b[90mUnion…\u001b[39m  │ \u001b[90mAny\u001b[39m     │\n",
       "├─────┼───────────┼─────────┼──────────┼─────────┼─────────┼─────────┼─────────┼─────────┤\n",
       "│ 1   │ Steps     │ 93.6051 │ 134.945  │ 1.0     │ 19.0    │ 48.0    │ 96.0    │ 1173.0  │\n",
       "│ 2   │ m_total   │ 884.457 │ 123.118  │ 1       │ 829.0   │ 896.0   │ 954.0   │ 1440    │\n",
       "│ 3   │ BMI       │ 26.0846 │ 4.92855  │ 13.7318 │ 22.5964 │ 25.2939 │ 28.7962 │ 58.4195 │\n",
       "│ 4   │ Genhealth │ 2.02188 │ 0.755191 │ 1       │ 1.0     │ 2.0     │ 2.0     │ 4       │\n",
       "│ 5   │ Age       │ 71.4021 │ 5.61028  │ 62      │ 67.0    │ 70.0    │ 75.0    │ 89      │\n",
       "│ 6   │ Day_worn  │ 3.96429 │ 1.98116  │ 1       │ 2.0     │ 4.0     │ 6.0     │ 8       │\n",
       "│ 7   │ Season    │         │          │ Autumn  │         │         │         │ Winter  │\n",
       "│ 8   │ Stairs    │ 2.61839 │ 1.48501  │ 1       │ 1.0     │ 2.0     │ 4.0     │ 6       │"
      ]
     },
     "execution_count": 22,
     "metadata": {},
     "output_type": "execute_result"
    }
   ],
   "source": [
    "using DataFrames, CSV, StatsBase, Statistics\n",
    "\n",
    "keepvars = [:BMI; :Steps; :Wday; :Hour; :Race; :Age; :Smoker; :Season; :Day_worn; :m_total; :Stairs]\n",
    "WHSdata = DataFrame!(CSV.File(\"WHS_final_cleaned.csv\"));\n",
    "descrstats = dropmissing(WHSdata, keepvars)\n",
    "describe(descrstats[!, [:Steps; :m_total; :BMI; :Genhealth; :Age; :Day_worn; :Season;\n",
    "                :Stairs]], :mean, :std, :min, :q25, :median, :q75, :max)"
   ]
  },
  {
   "cell_type": "code",
   "execution_count": 23,
   "metadata": {},
   "outputs": [
    {
     "data": {
      "text/plain": [
       "(Dict{CategoricalValue{String,UInt32},Int64}(\"African American\" => 228,\"Asian\" => 177,\"Other\" => 17,\"Native American\" => 27,\"White\" => 14806,\"Hispanic\" => 135), Dict{CategoricalValue{String,UInt32},Float64}(\"African American\" => 0.014814814814814815,\"Asian\" => 0.011500974658869395,\"Other\" => 0.0011046133853151398,\"Native American\" => 0.0017543859649122807,\"White\" => 0.962053281351527,\"Hispanic\" => 0.008771929824561403))"
      ]
     },
     "execution_count": 23,
     "metadata": {},
     "output_type": "execute_result"
    }
   ],
   "source": [
    "# Race\n",
    "countmap(combine(DataFrames.groupby(descrstats, :Subject_ID), :Race => first)[!, 2]),\n",
    "proportionmap(combine(DataFrames.groupby(descrstats, :Subject_ID), :Race => first)[!, 2])"
   ]
  },
  {
   "cell_type": "code",
   "execution_count": 24,
   "metadata": {},
   "outputs": [
    {
     "data": {
      "text/plain": [
       "(6.867316439246264, 0.5467940202914422)"
      ]
     },
     "execution_count": 24,
     "metadata": {},
     "output_type": "execute_result"
    }
   ],
   "source": [
    "# Days worn\n",
    "mean(combine(DataFrames.groupby(descrstats, :Subject_ID), :Day_worn => maximum)[!, 2]), \n",
    "std(combine(DataFrames.groupby(descrstats, :Subject_ID), :Day_worn => maximum)[!, 2])"
   ]
  },
  {
   "cell_type": "code",
   "execution_count": 25,
   "metadata": {},
   "outputs": [
    {
     "data": {
      "text/plain": [
       "(Dict{CategoricalValue{String,UInt32},Int64}(\"Thurs\" => 332057,\"Wed\" => 334061,\"Tues\" => 329882,\"Sun\" => 324040,\"Mon\" => 331770,\"Fri\" => 333073,\"Sat\" => 329728), Dict{CategoricalValue{String,UInt32},Float64}(\"Thurs\" => 0.1434612554766222,\"Wed\" => 0.14432705970895326,\"Tues\" => 0.14252157273943655,\"Sun\" => 0.13999760650925794,\"Mon\" => 0.14333726055911772,\"Fri\" => 0.14390020612534893,\"Sat\" => 0.14245503888126343))"
      ]
     },
     "execution_count": 25,
     "metadata": {},
     "output_type": "execute_result"
    }
   ],
   "source": [
    "# Day of week\n",
    "countmap(descrstats[!, :Wday]), proportionmap(descrstats[!, :Wday])"
   ]
  },
  {
   "cell_type": "code",
   "execution_count": 26,
   "metadata": {},
   "outputs": [
    {
     "data": {
      "text/plain": [
       "(Dict(\"Summer\" => 749037,\"Autumn\" => 560744,\"Spring\" => 545729,\"Winter\" => 459101), Dict(\"Summer\" => 0.32361247743141286,\"Autumn\" => 0.24226273874962143,\"Spring\" => 0.23577568757773984,\"Winter\" => 0.19834909624122585))"
      ]
     },
     "execution_count": 26,
     "metadata": {},
     "output_type": "execute_result"
    }
   ],
   "source": [
    "# Season\n",
    "countmap(descrstats[!, :Season]), proportionmap(descrstats[!, :Season])"
   ]
  },
  {
   "cell_type": "code",
   "execution_count": 27,
   "metadata": {},
   "outputs": [
    {
     "data": {
      "text/plain": [
       "(Dict{CategoricalValue{String,UInt32},Int64}(\"Past\" => 7082,\"Current\" => 548,\"Never\" => 7760), Dict{CategoricalValue{String,UInt32},Float64}(\"Past\" => 0.46016894087069526,\"Current\" => 0.035607537361923326,\"Never\" => 0.5042235217673814))"
      ]
     },
     "execution_count": 27,
     "metadata": {},
     "output_type": "execute_result"
    }
   ],
   "source": [
    "# Smoking Status\n",
    "countmap(combine(DataFrames.groupby(descrstats, :Subject_ID), :Smoker => first)[!, 2]),\n",
    "    proportionmap(combine(DataFrames.groupby(descrstats, :Subject_ID), :Smoker => first)[!, 2])"
   ]
  }
 ],
 "metadata": {
  "kernelspec": {
   "display_name": "Julia 1.4.0",
   "language": "julia",
   "name": "julia-1.4"
  },
  "language_info": {
   "file_extension": ".jl",
   "mimetype": "application/julia",
   "name": "julia",
   "version": "1.4.0"
  }
 },
 "nbformat": 4,
 "nbformat_minor": 2
}
