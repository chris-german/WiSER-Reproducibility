{
 "cells": [
  {
   "cell_type": "markdown",
   "metadata": {},
   "source": [
    "This notebook goes over the code needed to reproduce the results from Table 3, using WiSER with the Women's Health Study (WHS) accelerometry data. We also compare its use to fitting a linear mixed effects model via MixedModels.jl."
   ]
  },
  {
   "cell_type": "markdown",
   "metadata": {},
   "source": [
    "## Availability & Description\n",
    "\n",
    "Due to confidentiality concerns, access to the WHS Accelerometry dataset is only available through the National Institutes of Health (NIH) database of Genotypes and Phenotypes (dbGaP). Researchers can apply for acceess to download this dataset through dbGaP. \n",
    "\n",
    "The URL for the webpage is https://www.ncbi.nlm.nih.gov/projects/gap/cgi-bin/study.cgi?study_id=phs001964.v1.p1dbGaP and the dbGaP Study Accession identifier is phs001964.v1.p1. This page includes a description of the dataset, study, and details on how to request access to the data. We cannot give more details on the data due to dbGaP's data use agreement. \n"
   ]
  },
  {
   "cell_type": "markdown",
   "metadata": {},
   "source": [
    "This notebook goes over code, that when used with the dbGAP's WHS Accelerometry data, can reproduce results in the paper (Table 3)."
   ]
  },
  {
   "cell_type": "code",
   "execution_count": null,
   "metadata": {},
   "outputs": [
    {
     "name": "stdout",
     "output_type": "stream",
     "text": [
      "Julia Version 1.5.0\n",
      "Commit 96786e22cc (2020-08-01 23:44 UTC)\n",
      "Platform Info:\n",
      "  OS: Linux (x86_64-pc-linux-gnu)\n",
      "  CPU: Intel(R) Core(TM) i9-9920X CPU @ 3.50GHz\n",
      "  WORD_SIZE: 64\n",
      "  LIBM: libopenlibm\n",
      "  LLVM: libLLVM-9.0.1 (ORCJIT, skylake)\n"
     ]
    }
   ],
   "source": [
    "versioninfo()"
   ]
  },
  {
   "cell_type": "markdown",
   "metadata": {},
   "source": [
    "## Data Cleaning"
   ]
  },
  {
   "cell_type": "code",
   "execution_count": null,
   "metadata": {},
   "outputs": [],
   "source": [
    "using DataFrames, CSV, StatsBase, Statistics, CodecZlib, Dates\n",
    "ENV[\"COLUMNS\"]=1000"
   ]
  },
  {
   "cell_type": "markdown",
   "metadata": {},
   "source": [
    "Import the data and add some variables."
   ]
  },
  {
   "cell_type": "code",
   "execution_count": null,
   "metadata": {},
   "outputs": [],
   "source": [
    "pathofdata = \"WHS_Accelerometer_phs001964/PhenoGenotypeFiles/RootStudyConsentSet_phs001964.WHS_Accelerometer.v1.p1.c1.GRU/PhenotypeFiles/\"\n",
    "\n",
    "accelerometer_subject = open(pathofdata * \"phs001964.v1.pht009959.v1.p1.WHS_Accelerometer_Subject.MULTI.txt.gz\") do io\n",
    "    DataFrame!(CSV.File(GzipDecompressorStream(io), delim=\"\\t\", comment = \"#\", ignoreemptylines=true))\n",
    "    end\n",
    "\n",
    "accelerometer_mins = open(pathofdata * \"phs001964.v1.pht009963.v1.p1.c1.WHS_Accelerometer_60sec.GRU.txt.gz\") do io\n",
    "#     CSV.read(GzipDecompressorStream(io), delim=\"\\t\", comment = \"#\", ignoreemptylines=true)\n",
    "    DataFrame!(CSV.File(GzipDecompressorStream(io), delim=\"\\t\", comment = \"#\", ignoreemptylines=true))\n",
    "end\n",
    "\n",
    "sum_data = open(pathofdata * \"phs001964.v1.pht009960.v1.p1.c1.WHS_Accelerometer_d20180514_Pub.GRU.txt.gz\") do io\n",
    "#      CSV.read(GzipDecompressorStream(io), delim=\"\\t\", comment = \"#\", ignoreemptylines=true)\n",
    "    DataFrame!(CSV.File(GzipDecompressorStream(io), delim=\"\\t\", comment = \"#\", ignoreemptylines=true))\n",
    "end\n",
    "\n",
    "\n",
    "smoking_pub = open(pathofdata * \"phs001964.v1.pht009961.v1.p1.c1.WHS_Accelerometer_Smoking_Pub.GRU.txt.gz\") do io\n",
    "     DataFrame!(CSV.File(GzipDecompressorStream(io), delim=\"\\t\", comment = \"#\", ignoreemptylines=true))\n",
    "end\n",
    "\n",
    "# get hour of day \n",
    "accelerometer_mins[!, :hour] = Dates.hour.(accelerometer_mins[!, :timeHMS]) ;\n",
    "# get minute of the day\n",
    "accelerometer_mins[!, :mins] = Dates.minute.(accelerometer_mins[!, :timeHMS]);\n",
    "# group every 5 minutes for each hour\n",
    "accelerometer_mins[!, :mingroup] = floor.(accelerometer_mins[!, :mins] / 5) #every 5 minutes\n",
    "accelerometer_mins[!, :season] = map(x -> ismissing(x) ? missing : x == 1 ? \"winter\" :\n",
    "    x == 2 ? \"spring\" : x== 3 ?  \"summer\" : \"autumn\", accelerometer_mins[!, :season])\n",
    "# create smoking variable\n",
    "smoking_pub[!, :smoker] = map(x -> ismissing(x) ? missing : x == 1 ? \"never\" : x == 2 ? \"past\" : \"current\",\n",
    "    smoking_pub[!, :smoke])\n",
    "# create race variable from numeric definitions \n",
    "sum_data[!, :RACE] = map(x -> ismissing(x) ? missing : x == 1 ? \"white\" : x == 2 ? \"hispanic\" : \n",
    "    x == 3 ? \"african american\" : x == 4 ? \"asian\" : x == 5 ? \"native american\" : \"other\",\n",
    "    sum_data[!, :RACE]);\n",
    "\n",
    "# subset to just these variables\n",
    "\n",
    "keepvars = [:dbGaP_Subject_ID\n",
    " :Subject_ID\n",
    " :wday\n",
    " :ep60_maxsteps\n",
    " :m_total\n",
    " :sum_valid\n",
    ":EP60_total_steps\n",
    " :compliant\n",
    ":RACE\n",
    ":stairs\n",
    " :genhealth\n",
    " :bmi\n",
    " :ageaccel\n",
    " :day_worn\n",
    " :season]\n",
    "\n",
    "# get data we need from the daily summary data\n",
    "sum_data = sum_data[!, keepvars]"
   ]
  },
  {
   "cell_type": "code",
   "execution_count": null,
   "metadata": {},
   "outputs": [],
   "source": [
    "# summarize data by hour, to get steps and vector magnitude \n",
    "summarized_hour = combine(DataFrames.groupby(accelerometer_mins, \n",
    "        [:Subject_ID, :wday, :hour]), :steps => sum, :count_vm => sum)"
   ]
  },
  {
   "cell_type": "code",
   "execution_count": null,
   "metadata": {},
   "outputs": [],
   "source": [
    "#Get best top p hours \n",
    "function findtop_p(x, p)\n",
    "    sortedx = sort(x, rev=true)\n",
    "    return ind1 = findfirst(x .== sortedx[p]) - 1 #hours start at 1, subtract 1 to get true hour \n",
    "end\n",
    "\n",
    "# get max hour for each person, each day \n",
    "maxhours = combine(DataFrames.groupby(summarized_hour, \n",
    "        [:Subject_ID, :wday]),\n",
    "        :count_vm_sum => (x -> findtop_p(x, 1)) => :maxvm_hour1,\n",
    "        :count_vm_sum => (x -> findtop_p(x, 2)) => :maxvm_hour2)"
   ]
  },
  {
   "cell_type": "code",
   "execution_count": null,
   "metadata": {},
   "outputs": [],
   "source": [
    "# get the minute data for the top hour found above for each person, each day\n",
    "tophour_data = DataFrames.innerjoin(accelerometer_mins, maxhours[!, 1:3];\n",
    "    on = [:Subject_ID, :wday, :hour] .=> [:Subject_ID, :wday, :maxvm_hour1],\n",
    "    makeunique = false,\n",
    "    validate = (false, false))"
   ]
  },
  {
   "cell_type": "code",
   "execution_count": null,
   "metadata": {},
   "outputs": [],
   "source": [
    "# get the minute data for the second highest hour found above for each person, each day\n",
    "top2hour_data = DataFrames.innerjoin(accelerometer_mins, maxhours[!, [1;2;4]];\n",
    "    on = [:Subject_ID, :wday, :hour] .=> [:Subject_ID, :wday, :maxvm_hour2],\n",
    "    makeunique = false,\n",
    "    validate = (false, false))"
   ]
  },
  {
   "cell_type": "code",
   "execution_count": null,
   "metadata": {},
   "outputs": [],
   "source": [
    "# combine top 1 hour and top 2 hour data together\n",
    "top2hour_data = vcat(tophour_data, top2hour_data)"
   ]
  },
  {
   "cell_type": "code",
   "execution_count": null,
   "metadata": {},
   "outputs": [],
   "source": [
    "# sum steps over each 5 minutes to use as outcome variable\n",
    "summarized_5min = combine(DataFrames.groupby(top2hour_data, \n",
    "        [:Subject_ID, :wday, :hour, :mingroup]),\n",
    "    :day_worn => first => :day_worn, :season => first => :season, :steps => sum => :steps)"
   ]
  },
  {
   "cell_type": "code",
   "execution_count": null,
   "metadata": {},
   "outputs": [],
   "source": [
    "# add the daily summary data\n",
    "top2hour_sumdatacomb = DataFrames.leftjoin(summarized_5min, sum_data; on = [:Subject_ID, :wday, :day_worn, :season], makeunique = false,\n",
    "         indicator = nothing, validate = (false, false))"
   ]
  },
  {
   "cell_type": "code",
   "execution_count": null,
   "metadata": {},
   "outputs": [],
   "source": [
    "# add the smoking data\n",
    "top2hourdata = DataFrames.leftjoin(top2hour_sumdatacomb, smoking_pub; on = [:Subject_ID, :dbGaP_Subject_ID], makeunique = false,\n",
    "         indicator = nothing, validate = (false, false))"
   ]
  },
  {
   "cell_type": "code",
   "execution_count": null,
   "metadata": {},
   "outputs": [],
   "source": [
    "# Don't run twice \n",
    "\n",
    "top2hourdata[!, :steps] = Float64.(top2hourdata[!, :steps]);\n",
    "top2hourdata[!, :smoker] = map(x -> ismissing(x) ? missing : x == 1 ? \"Never\" : x == 2 ? \"Past\" : \"Current\",\n",
    "    top2hourdata[!, :smoke])\n",
    "top2hourdata[!, :smoker] = levels!(CategoricalArray(top2hourdata[!, :smoker]),\n",
    "    [\"Never\"; \"Past\"; \"Current\"]);\n",
    "\n",
    "top2hourdata[!, :RACE] = map(x -> ismissing.(x) ? missing : titlecase(String(x)),\n",
    "    top2hourdata[!, :RACE])\n",
    "top2hourdata[!, :RACE] = levels!(CategoricalArray(top2hourdata[!, :RACE]),\n",
    "    [\"White\"; \"African American\"; \"Asian\"; \"Hispanic\"; \"Native American\"; \"Other\"])\n",
    "\n",
    "top2hourdata[!, :wday] = levels!(CategoricalArray(top2hourdata[!, :wday]),\n",
    "    [\"Sun\"; \"Mon\"; \"Tues\"; \"Wed\"; \"Thurs\"; \"Fri\"; \"Sat\"])\n",
    "\n",
    "top2hourdata[!, :season] = map(x -> ismissing(x) ? missing : x == 1 ? \"Winter\" :\n",
    "    x == 2 ? \"Spring\" : x== 3 ?  \"Summer\" : \"Autumn\", top2hourdata[!, :season]);\n",
    "\n",
    "top2hourdata[!, :Weekend] = map(x -> ismissing(x) ? missing :\n",
    "    x in [\"Mon\"; \"Tues\"; \"Wed\"; \"Thurs\"; \"Fri\"] ? \"Weekday\" :\n",
    "    \"Weekend\", top2hourdata[!, :wday]);\n",
    "\n",
    "# make names more presentable to final names \n",
    "renamenames = [\"Subject_ID\"\n",
    " \"Wday\"\n",
    " \"Hour\"\n",
    " \"mingroup\"\n",
    " \"Day_worn\"\n",
    " \"Season\"\n",
    " \"Steps\"\n",
    " \"dbGaP_Subject_ID\"\n",
    " \"ep60_maxsteps\"\n",
    " \"m_total\"\n",
    " \"sum_valid\"\n",
    " \"EP60_total_steps\"\n",
    " \"Compliant\"\n",
    " \"Race\"\n",
    " \"Stairs\"\n",
    " \"Genhealth\"\n",
    " \"BMI\"\n",
    " \"Age\"\n",
    " \"Smoke\"\n",
    " \"Smoker\"\n",
    " \"Weekend\"] \n",
    "rename!(top2hourdata, renamenames)\n",
    "\n",
    "keepvars = [:BMI; :Steps; :Wday; :Hour; :Race; :Age; :Smoker; :Season; :Day_worn; :m_total; :Stairs]\n",
    "\n",
    "descrstats = dropmissing(top2hour_restricted, keepvars)"
   ]
  },
  {
   "cell_type": "code",
   "execution_count": null,
   "metadata": {},
   "outputs": [],
   "source": [
    "# Drop 0s and log10 transform steps \n",
    "keepinds = findall(top2hourdata[!, :Steps] .> 0.0)\n",
    "top2hour_restricted = top2hourdata[keepinds, :]\n",
    "top2hour_restricted[!, :Transformed_steps] = log10.(top2hour_restricted[!, :Steps]);\n",
    "# optionally save this dataset \n",
    "CSV.write(\"WHS_final_cleaned.csv\", top2hour_restricted)"
   ]
  },
  {
   "cell_type": "markdown",
   "metadata": {},
   "source": [
    "## Analysis"
   ]
  },
  {
   "cell_type": "markdown",
   "metadata": {},
   "source": [
    "As stated in the paper, we use the Knitro solver. If you do not have access to the knitro solver, you can remove solver and KNITRO and it will run, with slightly different but very similar results.\n",
    "\n",
    "The following produce the results found in Table 3 of the paper. "
   ]
  },
  {
   "cell_type": "code",
   "execution_count": null,
   "metadata": {},
   "outputs": [],
   "source": [
    "using DataFrames, CSV, WiSER, MixedModels, KNITRO\n",
    "ENV[\"COLUMNS\"]=1000 #extends the number of columns printed when displaying a dataframe. \n",
    "\n",
    "#load in data\n",
    "WHSdata = DataFrame!(CSV.File(\"WHS_final_cleaned.csv\"));\n",
    "\n",
    "# set reference levels\n",
    "WHSdata[!, :Smoker] = levels!(CategoricalArray(WHSdata[!, :Smoker]),\n",
    "    [\"Never\"; \"Past\"; \"Current\"]);\n",
    "\n",
    "WHSdata[!, :Race] = levels!(CategoricalArray(WHSdata[!, :Race]),\n",
    "    [\"White\"; \"African American\"; \"Asian\"; \"Hispanic\"; \"Native American\"; \"Other\"])\n",
    "\n",
    "WHSdata[!, :Wday] = levels!(CategoricalArray(WHSdata[!, :Wday]),\n",
    "    [\"Sun\"; \"Mon\"; \"Tues\"; \"Wed\"; \"Thurs\"; \"Fri\"; \"Sat\"]);"
   ]
  },
  {
   "cell_type": "code",
   "execution_count": null,
   "metadata": {},
   "outputs": [],
   "source": [
    "# Write a function to compare mixed models with WiSER\n",
    "function comparemixedmodel(mixedmodel, wsvarmodel)\n",
    "    coefnames = MixedModels.coefnames(mixedmodel)\n",
    "    mixedbeta = mixedmodel.β\n",
    "    mixedbetapval = MixedModels.coeftable(mixedmodel).cols[4]\n",
    "    wsvarbeta = wsvarmodel.β\n",
    "    wsvarbetapval = WiSER.coeftable(wsvarmodel).cols[4][1:wsvarmodel.p] \n",
    "    return DataFrame(coefnames = coefnames, mixedbeta = mixedbeta,\n",
    "        mixedbetapval = mixedbetapval, wsvarbeta = wsvarbeta,\n",
    "        wsvarbetapval = wsvarbetapval)\n",
    "end"
   ]
  },
  {
   "cell_type": "code",
   "execution_count": null,
   "metadata": {},
   "outputs": [],
   "source": [
    "wisermodel_transformed = WSVarLmmModel(\n",
    "    @formula(Transformed_steps ~ 1 + BMI + Wday + Hour + \n",
    "                Race + Stairs + Age + Smoker + Season + m_total),\n",
    "    @formula(Transformed_steps ~ 1 + Day_worn), \n",
    "    @formula(Transformed_steps ~ 1 + BMI + Wday + Hour + \n",
    "                Race + Age + Smoker), \n",
    "                :Subject_ID, WHSdata);\n",
    "@time WiSER.fit!(wisermodel_transformed, KNITRO.KnitroSolver(outlev=0, ftol = 2), parallel = false, runs = 4)"
   ]
  },
  {
   "cell_type": "code",
   "execution_count": null,
   "metadata": {},
   "outputs": [],
   "source": [
    "@time mixedmodel_transformed = fit(LinearMixedModel, \n",
    "        @formula(Transformed_steps ~ 1 + BMI + Wday + Hour + \n",
    "            Race + Stairs + Age + Smoker + Season + m_total + (1 + Day_worn|Subject_ID)),\n",
    "        WHSdata)"
   ]
  },
  {
   "cell_type": "code",
   "execution_count": null,
   "metadata": {},
   "outputs": [],
   "source": [
    "dfcompare_transformed = comparemixedmodel(mixedmodel_transformed, wisermodel_transformed) "
   ]
  },
  {
   "cell_type": "markdown",
   "metadata": {},
   "source": [
    "#### Supplementary Table S.3\n",
    "\n",
    "The following obtains the results of summary statistics found in Supplementary Table S.3."
   ]
  },
  {
   "cell_type": "code",
   "execution_count": null,
   "metadata": {},
   "outputs": [],
   "source": [
    "using DataFrames, CSV, StatsBase, Statistics\n",
    "\n",
    "keepvars = [:BMI; :Steps; :Wday; :Hour; :Race; :Age; :Smoker; :Season; :Day_worn; :m_total; :Stairs]\n",
    "WHSdata = DataFrame!(CSV.File(\"WHS_final_cleaned.csv\"));\n",
    "descrstats = dropmissing(WHSdata, keepvars)\n",
    "describe(descrstats[!, [:Steps; :m_total; :BMI; :Genhealth; :Age; :Day_worn; :Season;\n",
    "                :Stairs]], :mean, :std, :min, :q25, :median, :q75, :max)"
   ]
  },
  {
   "cell_type": "code",
   "execution_count": null,
   "metadata": {},
   "outputs": [],
   "source": [
    "# Race\n",
    "countmap(combine(DataFrames.groupby(descrstats, :Subject_ID), :Race => first)[!, 2]),\n",
    "proportionmap(combine(DataFrames.groupby(descrstats, :Subject_ID), :Race => first)[!, 2])"
   ]
  },
  {
   "cell_type": "code",
   "execution_count": null,
   "metadata": {},
   "outputs": [],
   "source": [
    "# Days worn\n",
    "mean(combine(DataFrames.groupby(descrstats, :Subject_ID), :Day_worn => maximum)[!, 2]), \n",
    "std(combine(DataFrames.groupby(descrstats, :Subject_ID), :Day_worn => maximum)[!, 2])"
   ]
  },
  {
   "cell_type": "code",
   "execution_count": null,
   "metadata": {},
   "outputs": [],
   "source": [
    "# Day of week\n",
    "countmap(descrstats[!, :Wday]), proportionmap(descrstats[!, :Wday])"
   ]
  },
  {
   "cell_type": "code",
   "execution_count": null,
   "metadata": {},
   "outputs": [],
   "source": [
    "# Season\n",
    "countmap(descrstats[!, :Season]), proportionmap(descrstats[!, :Season])"
   ]
  },
  {
   "cell_type": "code",
   "execution_count": null,
   "metadata": {},
   "outputs": [],
   "source": [
    "# Smoking Status\n",
    "countmap(combine(DataFrames.groupby(descrstats, :Subject_ID), :Smoker => first)[!, 2]),\n",
    "    proportionmap(combine(DataFrames.groupby(descrstats, :Subject_ID), :Smoker => first)[!, 2])"
   ]
  }
 ],
 "metadata": {
  "kernelspec": {
   "display_name": "Julia 1.4.0",
   "language": "julia",
   "name": "julia-1.4"
  },
  "language_info": {
   "file_extension": ".jl",
   "mimetype": "application/julia",
   "name": "julia",
   "version": "1.4.0"
  }
 },
 "nbformat": 4,
 "nbformat_minor": 2
}
