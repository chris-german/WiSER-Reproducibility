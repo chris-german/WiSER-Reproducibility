{
 "cells": [
  {
   "cell_type": "markdown",
   "metadata": {},
   "source": [
    "This notebook goes over the code needed to reproduce the results from Table 4, using WiSER with the Action to Control Cardiovascular Disease data, investigating factors related to glycemic levels and glycemic variability with fasting plasma glucose levels as the outcome."
   ]
  },
  {
   "cell_type": "markdown",
   "metadata": {},
   "source": [
    "## Availability & Description\n",
    "\n",
    "Due to confidentiality concerns, access to the ACCORD dataset is only available through the National Institutes of Health's (NIH) Biologic Specimen and Data Repository Information Coordinating Center (BioLINCC). Researchers can apply for acceess to download this dataset through BioLINCC. \n",
    "\n",
    "The URL for the webpage is https://biolincc.nhlbi.nih.gov/studies/accord/ and the Study Accession identifier is HLB01041317a. This page includes a description of the dataset, study, and details on how to request access to the data. We cannot give more details on the data due to BioLINCC's data use agreement. \n"
   ]
  },
  {
   "cell_type": "markdown",
   "metadata": {},
   "source": [
    "This notebook goes over code, that when used with BioLINCC's ACCORD data, can reproduce results in the paper (Table 3)."
   ]
  },
  {
   "cell_type": "code",
   "execution_count": 3,
   "metadata": {},
   "outputs": [
    {
     "name": "stdout",
     "output_type": "stream",
     "text": [
      "Julia Version 1.4.0\n",
      "Commit b8e9a9ecc6 (2020-03-21 16:36 UTC)\n",
      "Platform Info:\n",
      "  OS: Linux (x86_64-pc-linux-gnu)\n",
      "  CPU: Intel(R) Core(TM) i9-9920X CPU @ 3.50GHz\n",
      "  WORD_SIZE: 64\n",
      "  LIBM: libopenlibm\n",
      "  LLVM: libLLVM-8.0.1 (ORCJIT, skylake)\n",
      "Environment:\n",
      "  JULIA_NUM_THREADS = 8\n"
     ]
    }
   ],
   "source": [
    "versioninfo()"
   ]
  },
  {
   "cell_type": "markdown",
   "metadata": {},
   "source": [
    "## Data Cleaning"
   ]
  },
  {
   "cell_type": "markdown",
   "metadata": {},
   "source": [
    "The majority of data cleaning was done in R using the provided `accordScript.Rmd` R markdown file. Below is the remaining done, mostly for quality control, done in Julia."
   ]
  },
  {
   "cell_type": "code",
   "execution_count": null,
   "metadata": {},
   "outputs": [],
   "source": [
    "# load packages & data\n",
    "using DataFrames, CSV, WiSER, KNITRO, StatsBase\n",
    "ENV[\"COLUMNS\"]=1200\n",
    "\n",
    "df = DataFrame!(CSV.File(\"AccordWiSER_oralmeds.csv\", missingstring=\"NA\"))"
   ]
  },
  {
   "cell_type": "markdown",
   "metadata": {},
   "source": [
    "We want to look at g2avetid (total insulin), but some values are missing. To decide if we can fill them with 0, we look at where the prescribed insulin is 0 or missing and see what those values are. If they are 0 or missing, then correct g2avetid should be 0. If it's higher then let's throw them out just in case it is error prone. "
   ]
  },
  {
   "cell_type": "code",
   "execution_count": null,
   "metadata": {},
   "outputs": [],
   "source": [
    "missing_g2avetid = findall(ismissing.(df.g2avetid))\n",
    "deleteids = map(x -> ismissing(x) ? false : x .== 0 ? false : true, df[missing_g2avetid, :g2prscbin])\n",
    "deleterows = missing_g2avetid[deleteids] #31 possible errors, so we delete them.\n",
    "delete!(df, deleterows)"
   ]
  },
  {
   "cell_type": "code",
   "execution_count": null,
   "metadata": {},
   "outputs": [],
   "source": [
    "#change to months and remove exit visits \n",
    "visitnumber = Dict(\"BLR\" => 0,\n",
    "                \"F01\" => 1,\n",
    "                 \"F04\" => 4,\n",
    "                 \"F08\" => 8,\n",
    "                 \"F12\" => 12,\n",
    "                 \"F16\" => 16,\n",
    "                 \"F20\" => 20,\n",
    "                 \"F24\" => 24,\n",
    "                 \"F28\" => 28,\n",
    "                 \"F32\" => 32,\n",
    "                 \"F36\" => 36,\n",
    "                 \"F40\" => 40,\n",
    "                 \"F44\" => 44,\n",
    "                 \"F48\" => 48,\n",
    "                 \"F52\" => 52,\n",
    "                 \"F56\" => 56,\n",
    "                 \"F60\" => 60,\n",
    "                 \"F64\" => 64,\n",
    "                 \"F68\" => 68,\n",
    "                 \"F72\" => 72,\n",
    "                 \"F76\" => 76,\n",
    "                 \"F80\" => 80,\n",
    "                 \"F84\" => 84,\n",
    "                 \"EXIT\" => missing\n",
    ")\n",
    "\n",
    "\n",
    "fpg_analysisvars = [:MaskID, :Visit, :VisitNumber, :fpg, :female, :baseline_age,\n",
    "    :raceclass, :bmi, :std_bmi, :cvd_hx_baseline, :std_age,\n",
    "    :std_visit, :g2avetid, :std_g2avetid, :g2aveba, :g2avebol, :g2avepba,\n",
    "     :sulphonylureas, :alpha_glucosidase_inhibitors, :incretin_mimetics,\n",
    "    :metformin, :meglitinides, :thiazolidinediones, :antihyperglycemics,\n",
    "    :DPP4_inhibitors, :Insulin_BMI, :insulin_wtkg]\n",
    "\n",
    "\n",
    "df[!, :raceclass] = levels!(CategoricalArray(df[!, :raceclass]),\n",
    "    [\"White\"; \"Black\"; \"Hispanic\"; \"Other\"])\n",
    "\n",
    "df.VisitNumber = map(x -> get(visitnumber, x, 0), df.Visit)\n",
    "df.bmi = df.wt_kg ./ (df.ht_cm ./ 100).^2\n",
    "standardizes(x) = (x .- mean(skipmissing(x))) ./ std(skipmissing(x))\n",
    "df[!, :std_bmi] = standardizes(df[!, :bmi])\n",
    "df[!, :std_age] = standardizes(df[!, :baseline_age])\n",
    "df[!, :std_visit] = standardizes(df[!, :VisitNumber])\n",
    "\n",
    "#set to 0 if missing since it should be 0. \n",
    "df.g2avetid = map(x -> ismissing(x) ? 0 : x, df.g2avetid)\n",
    "df.g2aveba = map(x -> ismissing(x) ? 0 : x, df.g2aveba)\n",
    "df.g2avebol = map(x -> ismissing(x) ? 0 : x, df.g2avebol)\n",
    "df.g2avepba = map(x -> ismissing(x) ? 0 : x, df.g2avepba)\n",
    "\n",
    "df[!, :std_g2avetid] = standardizes(df[!, :g2avetid])\n",
    "df[!, :insulin_wtkg] = df[!, :g2avetid] ./ df.wt_kg\n",
    "df[!, :Insulin_BMI] = df[!, :g2avetid] ./ df[!, :bmi]\n",
    "\n",
    "\n",
    "\n",
    "fpg_df = select(df, fpg_analysisvars)\n",
    "fpg_df = dropmissing(fpg_df, fpg_analysisvars)\n",
    "CSV.write(\"accord_fpg_final_withmeds.csv\", fpg_df) # optionally save this cleaned dataset"
   ]
  },
  {
   "cell_type": "markdown",
   "metadata": {},
   "source": [
    "## Analysis\n",
    "\n",
    "The following produces the results reported in Table 4, the analysis of ACCORD data using WiSER."
   ]
  },
  {
   "cell_type": "code",
   "execution_count": null,
   "metadata": {},
   "outputs": [],
   "source": [
    "fpg_df = DataFrame!(CSV.File(\"accord_fpg_final_withmeds.csv\"));\n",
    "\n",
    "\n",
    "solver = KNITRO.KnitroSolver(outlev=0)\n",
    "fpg_withmeds_insulinkg = WSVarLmmModel(@formula(fpg ~ 1 + VisitNumber + bmi + female + baseline_age + \n",
    "        raceclass + cvd_hx_baseline + insulin_wtkg +\n",
    "        sulphonylureas +\n",
    "        metformin + meglitinides + thiazolidinediones),\n",
    "    @formula(fpg ~ 1 + VisitNumber), @formula(fpg ~ 1 + VisitNumber + bmi + female + baseline_age + \n",
    "         raceclass + cvd_hx_baseline + insulin_wtkg +\n",
    "        sulphonylureas +\n",
    "        metformin + meglitinides + thiazolidinediones), \n",
    "    :MaskID, fpg_df);\n",
    "@time WiSER.fit!(fpg_withmeds_insulinkg, solver, parallel = false, runs = 8)"
   ]
  },
  {
   "cell_type": "code",
   "execution_count": null,
   "metadata": {},
   "outputs": [],
   "source": [
    "#replace names with more descriptive names\n",
    "\n",
    "mean_names = [\"β$i: \" for i in 1:14] .* [\n",
    "    \"Intercept\"\n",
    "    \"Visit Number\"\n",
    "    \"BMI\"\n",
    "    \"Female\"\n",
    "    \"Baseline Age\"\n",
    "    \"Race: Black\"\n",
    "    \"Race: Hispanic\"\n",
    "    \"Race: Other\"\n",
    "    \"CVD History\"\n",
    "    \"Total Injected Insulin (units/kg body weight)\"\n",
    "    \"Sulphonylureas\"\n",
    " \"Metformin\"\n",
    " \"Meglitinides\"\n",
    " \"Thiazolidinediones\"]\n",
    "wsvar_names =  [\"τ$i: \" for i in 1:14] .* [\n",
    "    \"Intercept\"\n",
    "    \"Visit Number\"\n",
    "    \"BMI\"\n",
    "    \"Female\"\n",
    "    \"Baseline Age\"\n",
    "    \"Race: Black\"\n",
    "    \"Race: Hispanic\"\n",
    "    \"Race: Other\"\n",
    "    \"CVD History\"\n",
    "    \"Total Injected Insulin (units/kg body weight)\"\n",
    "    \"Sulphonylureas\"\n",
    " \"Metformin\"\n",
    " \"Meglitinides\"\n",
    " \"Thiazolidinediones\"]\n",
    "\n",
    "fpg_withmeds_insulinkg.meannames .= mean_names\n",
    "fpg_withmeds_insulinkg.wsvarnames .= wsvar_names\n",
    "fpg_withmeds_insulinkg"
   ]
  },
  {
   "cell_type": "markdown",
   "metadata": {},
   "source": [
    "#### Supplementary Table S.4\n",
    "\n",
    "The following obtains the results of summary statistics found in Supplementary Table S.4."
   ]
  },
  {
   "cell_type": "code",
   "execution_count": null,
   "metadata": {},
   "outputs": [],
   "source": [
    "fpg_df = DataFrame!(CSV.File(\"accord_fpg_final_withmeds.csv\"));\n",
    "# descriptive summary statistics\n",
    "describe(fpg_df, :mean, :std, :median, :min, :max, :nunique)"
   ]
  },
  {
   "cell_type": "code",
   "execution_count": null,
   "metadata": {},
   "outputs": [],
   "source": [
    "# age \n",
    "mean(combine(DataFrames.groupby(fpg_df, :MaskID), :baseline_age => first)[!, 2]), \n",
    "std(combine(DataFrames.groupby(fpg_df, :MaskID), :baseline_age => first)[!, 2])"
   ]
  },
  {
   "cell_type": "code",
   "execution_count": null,
   "metadata": {},
   "outputs": [],
   "source": [
    "# bmi\n",
    "mean(combine(DataFrames.groupby(fpg_df, :MaskID), :bmi => mean)[!, 2]), \n",
    "std(combine(DataFrames.groupby(fpg_df, :MaskID), :bmi => mean)[!, 2])"
   ]
  },
  {
   "cell_type": "code",
   "execution_count": null,
   "metadata": {},
   "outputs": [],
   "source": [
    "# fasting plasma glucose \n",
    "mean(combine(DataFrames.groupby(fpg_df, :MaskID), :fpg => mean)[!, 2]), \n",
    "std(combine(DataFrames.groupby(fpg_df, :MaskID), :fpg => mean)[!, 2]) #people w higher plasma came more often? "
   ]
  },
  {
   "cell_type": "code",
   "execution_count": null,
   "metadata": {},
   "outputs": [],
   "source": [
    "# oral meds\n",
    "countmap(fpg_df[!, :sulphonylureas]), proportionmap(fpg_df[!, :sulphonylureas])"
   ]
  },
  {
   "cell_type": "code",
   "execution_count": null,
   "metadata": {},
   "outputs": [],
   "source": [
    "countmap(fpg_df[!, :metformin]), proportionmap(fpg_df[!, :metformin])"
   ]
  },
  {
   "cell_type": "code",
   "execution_count": null,
   "metadata": {},
   "outputs": [],
   "source": [
    "countmap(fpg_df[!, :thiazolidinediones]), proportionmap(fpg_df[!, :thiazolidinediones])"
   ]
  },
  {
   "cell_type": "code",
   "execution_count": null,
   "metadata": {},
   "outputs": [],
   "source": [
    "countmap(fpg_df[!, :meglitinides]), proportionmap(fpg_df[!, :meglitinides])"
   ]
  },
  {
   "cell_type": "code",
   "execution_count": null,
   "metadata": {},
   "outputs": [],
   "source": [
    "# number of visits\n",
    "mean(combine(DataFrames.groupby(fpg_df, :MaskID), :VisitNumber => length)[!, 2]), std\n",
    "(combine(DataFrames.groupby(fpg_df, :MaskID), :VisitNumber => length)[!, 2])"
   ]
  },
  {
   "cell_type": "code",
   "execution_count": null,
   "metadata": {},
   "outputs": [],
   "source": [
    "# summary stats for maximum number of months of treatment for each person\n",
    "mean(combine(DataFrames.groupby(fpg_df, :MaskID), :VisitNumber => maximum)[!, 2]),\n",
    "std(combine(DataFrames.groupby(fpg_df, :MaskID), :VisitNumber => maximum)[!, 2])"
   ]
  },
  {
   "cell_type": "code",
   "execution_count": null,
   "metadata": {},
   "outputs": [],
   "source": [
    "# Base CVD history\n",
    "@show proportionmap(combine(DataFrames.groupby(fpg_df, :MaskID), :cvd_hx_baseline => first)[!, 2])\n",
    "countmap(combine(DataFrames.groupby(fpg_df, :MaskID), :cvd_hx_baseline => first)[!, 2])"
   ]
  },
  {
   "cell_type": "code",
   "execution_count": null,
   "metadata": {},
   "outputs": [],
   "source": [
    "# Sex\n",
    "@show proportionmap(combine(DataFrames.groupby(fpg_df, :MaskID), :female => first)[!, 2])\n",
    "countmap(combine(DataFrames.groupby(fpg_df, :MaskID), :female => first)[!, 2])"
   ]
  },
  {
   "cell_type": "code",
   "execution_count": null,
   "metadata": {},
   "outputs": [],
   "source": [
    "# Race\n",
    "countmap(combine(DataFrames.groupby(fpg_df, :MaskID), :raceclass => first)[!, 2]), \n",
    "proportionmap(combine(DataFrames.groupby(fpg_df, :MaskID), :raceclass => first)[!, 2])"
   ]
  }
 ],
 "metadata": {
  "kernelspec": {
   "display_name": "Julia 1.4.0",
   "language": "julia",
   "name": "julia-1.4"
  },
  "language_info": {
   "file_extension": ".jl",
   "mimetype": "application/julia",
   "name": "julia",
   "version": "1.4.0"
  }
 },
 "nbformat": 4,
 "nbformat_minor": 2
}
