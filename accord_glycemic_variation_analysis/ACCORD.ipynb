{
 "cells": [
  {
   "cell_type": "markdown",
   "metadata": {},
   "source": [
    "# The Action to Control Cardiovascular Disease (ACCORD)"
   ]
  },
  {
   "cell_type": "markdown",
   "metadata": {},
   "source": [
    "This notebook goes over the code needed to reproduce the results from Table 4, using WiSER with the Action to Control Cardiovascular Disease data, investigating factors related to glycemic levels and glycemic variability with fasting plasma glucose levels as the outcome."
   ]
  },
  {
   "cell_type": "markdown",
   "metadata": {},
   "source": [
    "#### Packages and Reproducibility\n",
    "\n",
    "Julia allows for easy reproducibility, by including a `Manifest.toml` and `Project.toml` pair, the user can simply run `] activate .` and the correct environment with dependencies used will run.  "
   ]
  },
  {
   "cell_type": "code",
   "execution_count": 1,
   "metadata": {},
   "outputs": [
    {
     "name": "stderr",
     "output_type": "stream",
     "text": [
      "\u001b[32m\u001b[1m Activating\u001b[22m\u001b[39m environment at `~/WiSER_Reproduce/accord_glycemic_variation_analysis/Project.toml`\n"
     ]
    }
   ],
   "source": [
    "]activate ."
   ]
  },
  {
   "cell_type": "markdown",
   "metadata": {},
   "source": [
    "Note: We use the KNITRO solver in our analysis, which requires a KNITRO license. If you wish to run the analysis without it, you can use another solver, but the results will be slightly different. Commented code is given to do this."
   ]
  },
  {
   "cell_type": "markdown",
   "metadata": {},
   "source": [
    "## Availability & Description\n",
    "\n",
    "Due to confidentiality concerns, access to the ACCORD dataset is only available through the National Institutes of Health's (NIH) Biologic Specimen and Data Repository Information Coordinating Center (BioLINCC). Researchers can apply for acceess to download this dataset through BioLINCC. \n",
    "\n",
    "The URL for the webpage is https://biolincc.nhlbi.nih.gov/studies/accord/ and the Study Accession identifier is HLB01041317a. This page includes a description of the dataset, study, and details on how to request access to the data. We cannot give more details on the data due to BioLINCC's data use agreement. \n",
    "\n",
    "Due to data confidentiality concerns, we supress output of the dataframes that show subject-level data. "
   ]
  },
  {
   "cell_type": "markdown",
   "metadata": {},
   "source": [
    "This notebook goes over code, that when used with BioLINCC's ACCORD data, can reproduce results in the paper (Table 3)."
   ]
  },
  {
   "cell_type": "code",
   "execution_count": 2,
   "metadata": {},
   "outputs": [
    {
     "name": "stdout",
     "output_type": "stream",
     "text": [
      "Julia Version 1.5.0\n",
      "Commit 96786e22cc (2020-08-01 23:44 UTC)\n",
      "Platform Info:\n",
      "  OS: Linux (x86_64-pc-linux-gnu)\n",
      "  CPU: Intel(R) Core(TM) i9-9920X CPU @ 3.50GHz\n",
      "  WORD_SIZE: 64\n",
      "  LIBM: libopenlibm\n",
      "  LLVM: libLLVM-9.0.1 (ORCJIT, skylake)\n"
     ]
    }
   ],
   "source": [
    "versioninfo()"
   ]
  },
  {
   "cell_type": "markdown",
   "metadata": {},
   "source": [
    "## Data Cleaning"
   ]
  },
  {
   "cell_type": "markdown",
   "metadata": {},
   "source": [
    "The majority of data cleaning was done in R using the provided `accordScript.Rmd` R markdown file. Below is the remaining done, mostly for quality control, done in Julia."
   ]
  },
  {
   "cell_type": "code",
   "execution_count": 3,
   "metadata": {},
   "outputs": [],
   "source": [
    "# load packages & data\n",
    "using DataFrames, CSV, WiSER, KNITRO, StatsBase\n",
    "ENV[\"COLUMNS\"]=1200\n",
    "\n",
    "df = DataFrame!(CSV.File(\"AccordWiSER_oralmeds.csv\", missingstring=\"NA\"));"
   ]
  },
  {
   "cell_type": "markdown",
   "metadata": {},
   "source": [
    "We want to look at g2avetid (total insulin), but some values are missing. To decide if we can fill them with 0, we look at where the prescribed insulin is 0 or missing and see what those values are. If they are 0 or missing, then correct g2avetid should be 0. If it's higher then let's throw them out just in case it is error prone. "
   ]
  },
  {
   "cell_type": "code",
   "execution_count": 4,
   "metadata": {},
   "outputs": [],
   "source": [
    "missing_g2avetid = findall(ismissing.(df.g2avetid))\n",
    "deleteids = map(x -> ismissing(x) ? false : x .== 0 ? false : true, df[missing_g2avetid, :g2prscbin])\n",
    "deleterows = missing_g2avetid[deleteids] #31 possible errors, so we delete them.\n",
    "delete!(df, deleterows);"
   ]
  },
  {
   "cell_type": "code",
   "execution_count": 5,
   "metadata": {},
   "outputs": [],
   "source": [
    "#change to months and remove exit visits \n",
    "visitnumber = Dict(\"BLR\" => 0,\n",
    "                \"F01\" => 1,\n",
    "                 \"F04\" => 4,\n",
    "                 \"F08\" => 8,\n",
    "                 \"F12\" => 12,\n",
    "                 \"F16\" => 16,\n",
    "                 \"F20\" => 20,\n",
    "                 \"F24\" => 24,\n",
    "                 \"F28\" => 28,\n",
    "                 \"F32\" => 32,\n",
    "                 \"F36\" => 36,\n",
    "                 \"F40\" => 40,\n",
    "                 \"F44\" => 44,\n",
    "                 \"F48\" => 48,\n",
    "                 \"F52\" => 52,\n",
    "                 \"F56\" => 56,\n",
    "                 \"F60\" => 60,\n",
    "                 \"F64\" => 64,\n",
    "                 \"F68\" => 68,\n",
    "                 \"F72\" => 72,\n",
    "                 \"F76\" => 76,\n",
    "                 \"F80\" => 80,\n",
    "                 \"F84\" => 84,\n",
    "                 \"EXIT\" => missing\n",
    ")\n",
    "\n",
    "\n",
    "fpg_analysisvars = [:MaskID, :Visit, :VisitNumber, :fpg, :female, :baseline_age,\n",
    "    :raceclass, :bmi, :std_bmi, :cvd_hx_baseline, :std_age,\n",
    "    :std_visit, :g2avetid, :std_g2avetid, :g2aveba, :g2avebol, :g2avepba,\n",
    "     :sulphonylureas, :alpha_glucosidase_inhibitors, :incretin_mimetics,\n",
    "    :metformin, :meglitinides, :thiazolidinediones, :antihyperglycemics,\n",
    "    :DPP4_inhibitors, :Insulin_BMI, :insulin_wtkg]\n",
    "\n",
    "\n",
    "df[!, :raceclass] = levels!(CategoricalArray(df[!, :raceclass]),\n",
    "    [\"White\"; \"Black\"; \"Hispanic\"; \"Other\"])\n",
    "\n",
    "df.VisitNumber = map(x -> get(visitnumber, x, 0), df.Visit)\n",
    "df.bmi = df.wt_kg ./ (df.ht_cm ./ 100).^2\n",
    "standardizes(x) = (x .- mean(skipmissing(x))) ./ std(skipmissing(x))\n",
    "df[!, :std_bmi] = standardizes(df[!, :bmi])\n",
    "df[!, :std_age] = standardizes(df[!, :baseline_age])\n",
    "df[!, :std_visit] = standardizes(df[!, :VisitNumber])\n",
    "\n",
    "#set to 0 if missing since it should be 0. \n",
    "df.g2avetid = map(x -> ismissing(x) ? 0 : x, df.g2avetid)\n",
    "df.g2aveba = map(x -> ismissing(x) ? 0 : x, df.g2aveba)\n",
    "df.g2avebol = map(x -> ismissing(x) ? 0 : x, df.g2avebol)\n",
    "df.g2avepba = map(x -> ismissing(x) ? 0 : x, df.g2avepba)\n",
    "\n",
    "df[!, :std_g2avetid] = standardizes(df[!, :g2avetid])\n",
    "df[!, :insulin_wtkg] = df[!, :g2avetid] ./ df.wt_kg\n",
    "df[!, :Insulin_BMI] = df[!, :g2avetid] ./ df[!, :bmi]\n",
    "\n",
    "\n",
    "\n",
    "fpg_df = select(df, fpg_analysisvars)\n",
    "fpg_df = dropmissing(fpg_df, fpg_analysisvars)\n",
    "CSV.write(\"accord_fpg_final_withmeds.csv\", fpg_df) # optionally save this cleaned dataset"
   ]
  },
  {
   "cell_type": "markdown",
   "metadata": {},
   "source": [
    "## Analysis\n",
    "\n",
    "The following produces the results reported in Table 4, the analysis of ACCORD data using WiSER."
   ]
  },
  {
   "cell_type": "markdown",
   "metadata": {},
   "source": [
    "The following constructs and fits the model. The `Optimization unsuccessful` warnings can be ignored because KNITRO by default uses a very stringent convergence criterion. FeasibleApproximate indicates the solution is adequate. Other nonlinear optimization solvers such as IPOPT will return `Optimal` status."
   ]
  },
  {
   "cell_type": "code",
   "execution_count": 23,
   "metadata": {},
   "outputs": [
    {
     "name": "stdout",
     "output_type": "stream",
     "text": [
      "run = 1, ‖Δβ‖ = 16.146207, ‖Δτ‖ = 0.703541, ‖ΔL‖ = 1.039015, status = Optimal, time(s) = 2.506867\n",
      "run = 2, ‖Δβ‖ = 1.686140, ‖Δτ‖ = 0.054100, ‖ΔL‖ = 0.316476, status = Optimal, time(s) = 2.437670\n",
      "run = 3, ‖Δβ‖ = 0.582325, ‖Δτ‖ = 0.024910, ‖ΔL‖ = 0.018916, status = FeasibleApproximate, time(s) = 6.045182\n"
     ]
    },
    {
     "name": "stderr",
     "output_type": "stream",
     "text": [
      "┌ Warning: Optimization unsuccesful; got FeasibleApproximate; run = 3\n",
      "└ @ WiSER /home/cgerman/.julia/packages/WiSER/tXr2S/src/fit.jl:63\n"
     ]
    },
    {
     "name": "stdout",
     "output_type": "stream",
     "text": [
      "run = 4, ‖Δβ‖ = 0.095528, ‖Δτ‖ = 0.008882, ‖ΔL‖ = 0.018769, status = FeasibleApproximate, time(s) = 3.577827\n"
     ]
    },
    {
     "name": "stderr",
     "output_type": "stream",
     "text": [
      "┌ Warning: Optimization unsuccesful; got FeasibleApproximate; run = 4\n",
      "└ @ WiSER /home/cgerman/.julia/packages/WiSER/tXr2S/src/fit.jl:63\n"
     ]
    },
    {
     "name": "stdout",
     "output_type": "stream",
     "text": [
      "run = 5, ‖Δβ‖ = 0.060079, ‖Δτ‖ = 0.001524, ‖ΔL‖ = 0.003220, status = FeasibleApproximate, time(s) = 4.123524\n"
     ]
    },
    {
     "name": "stderr",
     "output_type": "stream",
     "text": [
      "┌ Warning: Optimization unsuccesful; got FeasibleApproximate; run = 5\n",
      "└ @ WiSER /home/cgerman/.julia/packages/WiSER/tXr2S/src/fit.jl:63\n"
     ]
    },
    {
     "name": "stdout",
     "output_type": "stream",
     "text": [
      "run = 6, ‖Δβ‖ = 0.025578, ‖Δτ‖ = 0.001776, ‖ΔL‖ = 0.002901, status = FeasibleApproximate, time(s) = 5.161650\n"
     ]
    },
    {
     "name": "stderr",
     "output_type": "stream",
     "text": [
      "┌ Warning: Optimization unsuccesful; got FeasibleApproximate; run = 6\n",
      "└ @ WiSER /home/cgerman/.julia/packages/WiSER/tXr2S/src/fit.jl:63\n"
     ]
    },
    {
     "name": "stdout",
     "output_type": "stream",
     "text": [
      "run = 7, ‖Δβ‖ = 0.012787, ‖Δτ‖ = 0.000557, ‖ΔL‖ = 0.001256, status = FeasibleApproximate, time(s) = 4.274475\n"
     ]
    },
    {
     "name": "stderr",
     "output_type": "stream",
     "text": [
      "┌ Warning: Optimization unsuccesful; got FeasibleApproximate; run = 7\n",
      "└ @ WiSER /home/cgerman/.julia/packages/WiSER/tXr2S/src/fit.jl:63\n"
     ]
    },
    {
     "name": "stdout",
     "output_type": "stream",
     "text": [
      "run = 8, ‖Δβ‖ = 0.006982, ‖Δτ‖ = 0.000413, ‖ΔL‖ = 0.000709, status = FeasibleApproximate, time(s) = 5.806255\n",
      " "
     ]
    },
    {
     "name": "stderr",
     "output_type": "stream",
     "text": [
      "┌ Warning: Optimization unsuccesful; got FeasibleApproximate; run = 8\n",
      "└ @ WiSER /home/cgerman/.julia/packages/WiSER/tXr2S/src/fit.jl:63\n"
     ]
    },
    {
     "name": "stdout",
     "output_type": "stream",
     "text": [
      "34.222602 seconds (20.95 k allocations: 1.615 MiB)\n"
     ]
    },
    {
     "data": {
      "text/plain": [
       "\n",
       "Within-subject variance estimation by robust regression (WiSER)\n",
       "Number of individuals/clusters: 10195\n",
       "Total observations: 67063\n",
       "\n",
       "Fixed-effects parameters:\n",
       "────────────────────────────────────────────────────────────────────\n",
       "                             Estimate   Std. Error       Z  Pr(>|Z|)\n",
       "────────────────────────────────────────────────────────────────────\n",
       "β1: (Intercept)          219.009       4.21204       52.00    <1e-99\n",
       "β2: VisitNumber           -0.214364    0.0103507    -20.71    <1e-94\n",
       "β3: bmi                   -0.0367907   0.0576003     -0.64    0.5230\n",
       "β4: female                -1.39081     0.674363      -2.06    0.0392\n",
       "β5: baseline_age          -0.747074    0.0505662    -14.77    <1e-48\n",
       "β6: raceclass: Black      -8.54919     0.85301      -10.02    <1e-22\n",
       "β7: raceclass: Hispanic   -2.26932     1.29648       -1.75    0.0801\n",
       "β8: raceclass: Other      -1.26865     1.12104       -1.13    0.2578\n",
       "β9: cvd_hx_baseline        0.963786    0.684931       1.41    0.1594\n",
       "β10: insulin_wtkg        -14.8855      0.896685     -16.60    <1e-61\n",
       "β11: sulphonylureas       -0.521113    0.546906      -0.95    0.3407\n",
       "β12: metformin            -5.58218     0.67537       -8.27    <1e-15\n",
       "β13: meglitinides        -13.4449      0.602768     -22.31    <1e-99\n",
       "β14: thiazolidinediones  -20.234       0.492613     -41.07    <1e-99\n",
       "τ1: (Intercept)            8.47998     0.167445      50.64    <1e-99\n",
       "τ2: VisitNumber           -0.00777053  0.000699938  -11.10    <1e-27\n",
       "τ3: bmi                   -0.0137784   0.00242123    -5.69    <1e-7\n",
       "τ4: female                 0.0229433   0.0261275      0.88    0.3799\n",
       "τ5: baseline_age          -0.0121478   0.0021519     -5.65    <1e-7\n",
       "τ6: raceclass: Black       0.249291    0.0338258      7.37    <1e-12\n",
       "τ7: raceclass: Hispanic    0.206605    0.0507222      4.07    <1e-4\n",
       "τ8: raceclass: Other       0.0835884   0.0393173      2.13    0.0335\n",
       "τ9: cvd_hx_baseline        0.0594908   0.0262763      2.26    0.0236\n",
       "τ10: insulin_wtkg          0.80749     0.0306546     26.34    <1e-99\n",
       "τ11: sulphonylureas        0.303563    0.0268038     11.33    <1e-29\n",
       "τ12: metformin            -0.13557     0.0315169     -4.30    <1e-4\n",
       "τ13: meglitinides         -0.302112    0.0354917     -8.51    <1e-16\n",
       "τ14: thiazolidinediones   -0.0193702   0.0241365     -0.80    0.4222\n",
       "────────────────────────────────────────────────────────────────────\n",
       "Random effects covariance matrix Σγ:\n",
       " \"γ1: (Intercept)\"  786.275    -4.30126\n",
       " \"γ2: VisitNumber\"   -4.30126   0.241657\n",
       "\n"
      ]
     },
     "execution_count": 23,
     "metadata": {},
     "output_type": "execute_result"
    }
   ],
   "source": [
    "fpg_df = DataFrame!(CSV.File(\"accord_fpg_final_withmeds.csv\"));\n",
    "\n",
    "fpg_df[!, :raceclass] = levels!(CategoricalArray(fpg_df[!, :raceclass]),\n",
    "    [\"White\"; \"Black\"; \"Hispanic\"; \"Other\"])\n",
    "\n",
    "solver = KNITRO.KnitroSolver(outlev=0)\n",
    "fpg_withmeds_insulinkg = WSVarLmmModel(@formula(fpg ~ 1 + VisitNumber + bmi + female + baseline_age + \n",
    "        raceclass + cvd_hx_baseline + insulin_wtkg +\n",
    "        sulphonylureas +\n",
    "        metformin + meglitinides + thiazolidinediones),\n",
    "    @formula(fpg ~ 1 + VisitNumber), @formula(fpg ~ 1 + VisitNumber + bmi + female + baseline_age + \n",
    "         raceclass + cvd_hx_baseline + insulin_wtkg +\n",
    "        sulphonylureas +\n",
    "        metformin + meglitinides + thiazolidinediones), \n",
    "    :MaskID, fpg_df);\n",
    "@time WiSER.fit!(fpg_withmeds_insulinkg, solver, parallel = false, runs = 8)\n",
    "\n",
    "### IF NO KNITRO LICENSE, comment out line 4 above (solver = ...) and run:\n",
    "# solver = Ipopt.IpoptSolver(print_level=0, watchdog_shortened_iter_trigger=3, max_iter=100)\n",
    "# @time WiSER.fit!(fpg_withmeds_insulinkg, solver, parallel = false, runs = 8)"
   ]
  },
  {
   "cell_type": "code",
   "execution_count": 24,
   "metadata": {},
   "outputs": [
    {
     "data": {
      "text/plain": [
       "\n",
       "Within-subject variance estimation by robust regression (WiSER)\n",
       "Number of individuals/clusters: 10195\n",
       "Total observations: 67063\n",
       "\n",
       "Fixed-effects parameters:\n",
       "───────────────────────────────────────────────────────────────────────────────────────────────\n",
       "                                                        Estimate   Std. Error       Z  Pr(>|Z|)\n",
       "───────────────────────────────────────────────────────────────────────────────────────────────\n",
       "β1: Intercept                                       219.009       4.21204       52.00    <1e-99\n",
       "β2: Visit Number                                     -0.214364    0.0103507    -20.71    <1e-94\n",
       "β3: BMI                                              -0.0367907   0.0576003     -0.64    0.5230\n",
       "β4: Female                                           -1.39081     0.674363      -2.06    0.0392\n",
       "β5: Baseline Age                                     -0.747074    0.0505662    -14.77    <1e-48\n",
       "β6: Race: Black                                      -8.54919     0.85301      -10.02    <1e-22\n",
       "β7: Race: Hispanic                                   -2.26932     1.29648       -1.75    0.0801\n",
       "β8: Race: Other                                      -1.26865     1.12104       -1.13    0.2578\n",
       "β9: CVD History                                       0.963786    0.684931       1.41    0.1594\n",
       "β10: Total Injected Insulin (units/kg body weight)  -14.8855      0.896685     -16.60    <1e-61\n",
       "β11: Sulphonylureas                                  -0.521113    0.546906      -0.95    0.3407\n",
       "β12: Metformin                                       -5.58218     0.67537       -8.27    <1e-15\n",
       "β13: Meglitinides                                   -13.4449      0.602768     -22.31    <1e-99\n",
       "β14: Thiazolidinediones                             -20.234       0.492613     -41.07    <1e-99\n",
       "τ1: Intercept                                         8.47998     0.167445      50.64    <1e-99\n",
       "τ2: Visit Number                                     -0.00777053  0.000699938  -11.10    <1e-27\n",
       "τ3: BMI                                              -0.0137784   0.00242123    -5.69    <1e-7\n",
       "τ4: Female                                            0.0229433   0.0261275      0.88    0.3799\n",
       "τ5: Baseline Age                                     -0.0121478   0.0021519     -5.65    <1e-7\n",
       "τ6: Race: Black                                       0.249291    0.0338258      7.37    <1e-12\n",
       "τ7: Race: Hispanic                                    0.206605    0.0507222      4.07    <1e-4\n",
       "τ8: Race: Other                                       0.0835884   0.0393173      2.13    0.0335\n",
       "τ9: CVD History                                       0.0594908   0.0262763      2.26    0.0236\n",
       "τ10: Total Injected Insulin (units/kg body weight)    0.80749     0.0306546     26.34    <1e-99\n",
       "τ11: Sulphonylureas                                   0.303563    0.0268038     11.33    <1e-29\n",
       "τ12: Metformin                                       -0.13557     0.0315169     -4.30    <1e-4\n",
       "τ13: Meglitinides                                    -0.302112    0.0354917     -8.51    <1e-16\n",
       "τ14: Thiazolidinediones                              -0.0193702   0.0241365     -0.80    0.4222\n",
       "───────────────────────────────────────────────────────────────────────────────────────────────\n",
       "Random effects covariance matrix Σγ:\n",
       " \"γ1: (Intercept)\"  786.275    -4.30126\n",
       " \"γ2: VisitNumber\"   -4.30126   0.241657\n",
       "\n"
      ]
     },
     "execution_count": 24,
     "metadata": {},
     "output_type": "execute_result"
    }
   ],
   "source": [
    "#replace names with more descriptive names\n",
    "\n",
    "mean_names = [\"β$i: \" for i in 1:14] .* [\n",
    "    \"Intercept\"\n",
    "    \"Visit Number\"\n",
    "    \"BMI\"\n",
    "    \"Female\"\n",
    "    \"Baseline Age\"\n",
    "    \"Race: Black\"\n",
    "    \"Race: Hispanic\"\n",
    "    \"Race: Other\"\n",
    "    \"CVD History\"\n",
    "    \"Total Injected Insulin (units/kg body weight)\"\n",
    "    \"Sulphonylureas\"\n",
    " \"Metformin\"\n",
    " \"Meglitinides\"\n",
    " \"Thiazolidinediones\"]\n",
    "wsvar_names =  [\"τ$i: \" for i in 1:14] .* [\n",
    "    \"Intercept\"\n",
    "    \"Visit Number\"\n",
    "    \"BMI\"\n",
    "    \"Female\"\n",
    "    \"Baseline Age\"\n",
    "    \"Race: Black\"\n",
    "    \"Race: Hispanic\"\n",
    "    \"Race: Other\"\n",
    "    \"CVD History\"\n",
    "    \"Total Injected Insulin (units/kg body weight)\"\n",
    "    \"Sulphonylureas\"\n",
    " \"Metformin\"\n",
    " \"Meglitinides\"\n",
    " \"Thiazolidinediones\"]\n",
    "\n",
    "fpg_withmeds_insulinkg.meannames .= mean_names\n",
    "fpg_withmeds_insulinkg.wsvarnames .= wsvar_names\n",
    "fpg_withmeds_insulinkg"
   ]
  },
  {
   "cell_type": "markdown",
   "metadata": {},
   "source": [
    "#### Supplementary Table S.4\n",
    "\n",
    "The following obtains the results of summary statistics found in Supplementary Table S.4."
   ]
  },
  {
   "cell_type": "code",
   "execution_count": 9,
   "metadata": {},
   "outputs": [
    {
     "data": {
      "text/html": [
       "<table class=\"data-frame\"><thead><tr><th></th><th>variable</th><th>mean</th><th>std</th><th>median</th><th>min</th><th>max</th><th>nunique</th></tr><tr><th></th><th>Symbol</th><th>Union…</th><th>Union…</th><th>Union…</th><th>Any</th><th>Any</th><th>Union…</th></tr></thead><tbody><p>27 rows × 7 columns</p><tr><th>1</th><td>MaskID</td><td>105058.0</td><td>2951.15</td><td>105032.0</td><td>100001</td><td>110251</td><td></td></tr><tr><th>2</th><td>Visit</td><td></td><td></td><td></td><td>BLR</td><td>F84</td><td>22</td></tr><tr><th>3</th><td>VisitNumber</td><td>21.1016</td><td>20.2368</td><td>12.0</td><td>0</td><td>84</td><td></td></tr><tr><th>4</th><td>fpg</td><td>142.153</td><td>53.2534</td><td>134.0</td><td>17.0</td><td>620.0</td><td></td></tr><tr><th>5</th><td>female</td><td>0.38182</td><td>0.485836</td><td>0.0</td><td>0</td><td>1</td><td></td></tr><tr><th>6</th><td>baseline_age</td><td>62.7023</td><td>6.55255</td><td>61.9</td><td>44.4</td><td>79.3</td><td></td></tr><tr><th>7</th><td>raceclass</td><td></td><td></td><td></td><td>Black</td><td>White</td><td>4</td></tr><tr><th>8</th><td>bmi</td><td>32.679</td><td>5.75145</td><td>32.1693</td><td>16.7308</td><td>59.7833</td><td></td></tr><tr><th>9</th><td>std_bmi</td><td>-0.0158996</td><td>0.985565</td><td>-0.103242</td><td>-2.74878</td><td>4.62868</td><td></td></tr><tr><th>10</th><td>cvd_hx_baseline</td><td>0.341858</td><td>0.474336</td><td>0.0</td><td>0</td><td>1</td><td></td></tr><tr><th>11</th><td>std_age</td><td>-0.0065739</td><td>0.998049</td><td>-0.128769</td><td>-2.79427</td><td>2.52151</td><td></td></tr><tr><th>12</th><td>std_visit</td><td>-0.338919</td><td>0.997362</td><td>-0.787488</td><td>-1.3789</td><td>2.76101</td><td></td></tr><tr><th>13</th><td>g2avetid</td><td>30.0582</td><td>42.3918</td><td>8.0</td><td>0</td><td>252</td><td></td></tr><tr><th>14</th><td>std_g2avetid</td><td>-0.0841979</td><td>0.928953</td><td>-0.567571</td><td>-0.742879</td><td>4.77933</td><td></td></tr><tr><th>15</th><td>g2aveba</td><td>19.6282</td><td>28.9387</td><td>0.0</td><td>0</td><td>170</td><td></td></tr><tr><th>16</th><td>g2avebol</td><td>6.83266</td><td>16.7982</td><td>0.0</td><td>0</td><td>138</td><td></td></tr><tr><th>17</th><td>g2avepba</td><td>3.56539</td><td>16.4544</td><td>0.0</td><td>0</td><td>150</td><td></td></tr><tr><th>18</th><td>sulphonylureas</td><td>0.574311</td><td>0.494451</td><td>1.0</td><td>0</td><td>1</td><td></td></tr><tr><th>19</th><td>alpha_glucosidase_inhibitors</td><td>0.0327602</td><td>0.17801</td><td>0.0</td><td>0</td><td>1</td><td></td></tr><tr><th>20</th><td>incretin_mimetics</td><td>0.017491</td><td>0.131093</td><td>0.0</td><td>0</td><td>1</td><td></td></tr><tr><th>21</th><td>metformin</td><td>0.808508</td><td>0.393478</td><td>1.0</td><td>0</td><td>1</td><td></td></tr><tr><th>22</th><td>meglitinides</td><td>0.151857</td><td>0.358885</td><td>0.0</td><td>0</td><td>1</td><td></td></tr><tr><th>23</th><td>thiazolidinediones</td><td>0.531784</td><td>0.498993</td><td>1.0</td><td>0</td><td>1</td><td></td></tr><tr><th>24</th><td>antihyperglycemics</td><td>0.00207268</td><td>0.0454798</td><td>0.0</td><td>0</td><td>1</td><td></td></tr><tr><th>25</th><td>DPP4_inhibitors</td><td>0.00975202</td><td>0.0982704</td><td>0.0</td><td>0</td><td>1</td><td></td></tr><tr><th>26</th><td>Insulin_BMI</td><td>0.879459</td><td>1.19244</td><td>0.256138</td><td>0.0</td><td>9.40533</td><td></td></tr><tr><th>27</th><td>insulin_wtkg</td><td>0.304464</td><td>0.411813</td><td>0.087108</td><td>0.0</td><td>3.71058</td><td></td></tr></tbody></table>"
      ],
      "text/latex": [
       "\\begin{tabular}{r|ccccccc}\n",
       "\t& variable & mean & std & median & min & max & nunique\\\\\n",
       "\t\\hline\n",
       "\t& Symbol & Union… & Union… & Union… & Any & Any & Union…\\\\\n",
       "\t\\hline\n",
       "\t1 & MaskID & 105058.0 & 2951.15 & 105032.0 & 100001 & 110251 &  \\\\\n",
       "\t2 & Visit &  &  &  & BLR & F84 & 22 \\\\\n",
       "\t3 & VisitNumber & 21.1016 & 20.2368 & 12.0 & 0 & 84 &  \\\\\n",
       "\t4 & fpg & 142.153 & 53.2534 & 134.0 & 17.0 & 620.0 &  \\\\\n",
       "\t5 & female & 0.38182 & 0.485836 & 0.0 & 0 & 1 &  \\\\\n",
       "\t6 & baseline\\_age & 62.7023 & 6.55255 & 61.9 & 44.4 & 79.3 &  \\\\\n",
       "\t7 & raceclass &  &  &  & Black & White & 4 \\\\\n",
       "\t8 & bmi & 32.679 & 5.75145 & 32.1693 & 16.7308 & 59.7833 &  \\\\\n",
       "\t9 & std\\_bmi & -0.0158996 & 0.985565 & -0.103242 & -2.74878 & 4.62868 &  \\\\\n",
       "\t10 & cvd\\_hx\\_baseline & 0.341858 & 0.474336 & 0.0 & 0 & 1 &  \\\\\n",
       "\t11 & std\\_age & -0.0065739 & 0.998049 & -0.128769 & -2.79427 & 2.52151 &  \\\\\n",
       "\t12 & std\\_visit & -0.338919 & 0.997362 & -0.787488 & -1.3789 & 2.76101 &  \\\\\n",
       "\t13 & g2avetid & 30.0582 & 42.3918 & 8.0 & 0 & 252 &  \\\\\n",
       "\t14 & std\\_g2avetid & -0.0841979 & 0.928953 & -0.567571 & -0.742879 & 4.77933 &  \\\\\n",
       "\t15 & g2aveba & 19.6282 & 28.9387 & 0.0 & 0 & 170 &  \\\\\n",
       "\t16 & g2avebol & 6.83266 & 16.7982 & 0.0 & 0 & 138 &  \\\\\n",
       "\t17 & g2avepba & 3.56539 & 16.4544 & 0.0 & 0 & 150 &  \\\\\n",
       "\t18 & sulphonylureas & 0.574311 & 0.494451 & 1.0 & 0 & 1 &  \\\\\n",
       "\t19 & alpha\\_glucosidase\\_inhibitors & 0.0327602 & 0.17801 & 0.0 & 0 & 1 &  \\\\\n",
       "\t20 & incretin\\_mimetics & 0.017491 & 0.131093 & 0.0 & 0 & 1 &  \\\\\n",
       "\t21 & metformin & 0.808508 & 0.393478 & 1.0 & 0 & 1 &  \\\\\n",
       "\t22 & meglitinides & 0.151857 & 0.358885 & 0.0 & 0 & 1 &  \\\\\n",
       "\t23 & thiazolidinediones & 0.531784 & 0.498993 & 1.0 & 0 & 1 &  \\\\\n",
       "\t24 & antihyperglycemics & 0.00207268 & 0.0454798 & 0.0 & 0 & 1 &  \\\\\n",
       "\t25 & DPP4\\_inhibitors & 0.00975202 & 0.0982704 & 0.0 & 0 & 1 &  \\\\\n",
       "\t26 & Insulin\\_BMI & 0.879459 & 1.19244 & 0.256138 & 0.0 & 9.40533 &  \\\\\n",
       "\t27 & insulin\\_wtkg & 0.304464 & 0.411813 & 0.087108 & 0.0 & 3.71058 &  \\\\\n",
       "\\end{tabular}\n"
      ],
      "text/plain": [
       "27×7 DataFrame\n",
       "│ Row │ variable                     │ mean       │ std       │ median    │ min      │ max     │ nunique │\n",
       "│     │ \u001b[90mSymbol\u001b[39m                       │ \u001b[90mUnion…\u001b[39m     │ \u001b[90mUnion…\u001b[39m    │ \u001b[90mUnion…\u001b[39m    │ \u001b[90mAny\u001b[39m      │ \u001b[90mAny\u001b[39m     │ \u001b[90mUnion…\u001b[39m  │\n",
       "├─────┼──────────────────────────────┼────────────┼───────────┼───────────┼──────────┼─────────┼─────────┤\n",
       "│ 1   │ MaskID                       │ 105058.0   │ 2951.15   │ 105032.0  │ 100001   │ 110251  │         │\n",
       "│ 2   │ Visit                        │            │           │           │ BLR      │ F84     │ 22      │\n",
       "│ 3   │ VisitNumber                  │ 21.1016    │ 20.2368   │ 12.0      │ 0        │ 84      │         │\n",
       "│ 4   │ fpg                          │ 142.153    │ 53.2534   │ 134.0     │ 17.0     │ 620.0   │         │\n",
       "│ 5   │ female                       │ 0.38182    │ 0.485836  │ 0.0       │ 0        │ 1       │         │\n",
       "│ 6   │ baseline_age                 │ 62.7023    │ 6.55255   │ 61.9      │ 44.4     │ 79.3    │         │\n",
       "│ 7   │ raceclass                    │            │           │           │ Black    │ White   │ 4       │\n",
       "│ 8   │ bmi                          │ 32.679     │ 5.75145   │ 32.1693   │ 16.7308  │ 59.7833 │         │\n",
       "│ 9   │ std_bmi                      │ -0.0158996 │ 0.985565  │ -0.103242 │ -2.74878 │ 4.62868 │         │\n",
       "│ 10  │ cvd_hx_baseline              │ 0.341858   │ 0.474336  │ 0.0       │ 0        │ 1       │         │\n",
       "⋮\n",
       "│ 17  │ g2avepba                     │ 3.56539    │ 16.4544   │ 0.0       │ 0        │ 150     │         │\n",
       "│ 18  │ sulphonylureas               │ 0.574311   │ 0.494451  │ 1.0       │ 0        │ 1       │         │\n",
       "│ 19  │ alpha_glucosidase_inhibitors │ 0.0327602  │ 0.17801   │ 0.0       │ 0        │ 1       │         │\n",
       "│ 20  │ incretin_mimetics            │ 0.017491   │ 0.131093  │ 0.0       │ 0        │ 1       │         │\n",
       "│ 21  │ metformin                    │ 0.808508   │ 0.393478  │ 1.0       │ 0        │ 1       │         │\n",
       "│ 22  │ meglitinides                 │ 0.151857   │ 0.358885  │ 0.0       │ 0        │ 1       │         │\n",
       "│ 23  │ thiazolidinediones           │ 0.531784   │ 0.498993  │ 1.0       │ 0        │ 1       │         │\n",
       "│ 24  │ antihyperglycemics           │ 0.00207268 │ 0.0454798 │ 0.0       │ 0        │ 1       │         │\n",
       "│ 25  │ DPP4_inhibitors              │ 0.00975202 │ 0.0982704 │ 0.0       │ 0        │ 1       │         │\n",
       "│ 26  │ Insulin_BMI                  │ 0.879459   │ 1.19244   │ 0.256138  │ 0.0      │ 9.40533 │         │\n",
       "│ 27  │ insulin_wtkg                 │ 0.304464   │ 0.411813  │ 0.087108  │ 0.0      │ 3.71058 │         │"
      ]
     },
     "execution_count": 9,
     "metadata": {},
     "output_type": "execute_result"
    }
   ],
   "source": [
    "fpg_df = DataFrame!(CSV.File(\"accord_fpg_final_withmeds.csv\"));\n",
    "# descriptive summary statistics\n",
    "describe(fpg_df, :mean, :std, :median, :min, :max, :nunique)"
   ]
  },
  {
   "cell_type": "code",
   "execution_count": 10,
   "metadata": {},
   "outputs": [
    {
     "data": {
      "text/plain": [
       "(62.75461500735655, 6.636880021061068)"
      ]
     },
     "execution_count": 10,
     "metadata": {},
     "output_type": "execute_result"
    }
   ],
   "source": [
    "# age \n",
    "mean(combine(DataFrames.groupby(fpg_df, :MaskID), :baseline_age => first)[!, 2]), \n",
    "std(combine(DataFrames.groupby(fpg_df, :MaskID), :baseline_age => first)[!, 2])"
   ]
  },
  {
   "cell_type": "code",
   "execution_count": 11,
   "metadata": {},
   "outputs": [
    {
     "data": {
      "text/plain": [
       "(32.66151849598058, 5.585395294277677)"
      ]
     },
     "execution_count": 11,
     "metadata": {},
     "output_type": "execute_result"
    }
   ],
   "source": [
    "# bmi\n",
    "mean(combine(DataFrames.groupby(fpg_df, :MaskID), :bmi => mean)[!, 2]), \n",
    "std(combine(DataFrames.groupby(fpg_df, :MaskID), :bmi => mean)[!, 2])"
   ]
  },
  {
   "cell_type": "code",
   "execution_count": 12,
   "metadata": {},
   "outputs": [
    {
     "data": {
      "text/plain": [
       "(143.75401007907138, 34.865447717327825)"
      ]
     },
     "execution_count": 12,
     "metadata": {},
     "output_type": "execute_result"
    }
   ],
   "source": [
    "# fasting plasma glucose \n",
    "mean(combine(DataFrames.groupby(fpg_df, :MaskID), :fpg => mean)[!, 2]), \n",
    "std(combine(DataFrames.groupby(fpg_df, :MaskID), :fpg => mean)[!, 2]) #people w higher plasma came more often? "
   ]
  },
  {
   "cell_type": "code",
   "execution_count": 13,
   "metadata": {},
   "outputs": [
    {
     "data": {
      "text/plain": [
       "(Dict(0 => 28548,1 => 38515), Dict(0 => 0.42568927724676797,1 => 0.574310722753232))"
      ]
     },
     "execution_count": 13,
     "metadata": {},
     "output_type": "execute_result"
    }
   ],
   "source": [
    "# oral meds\n",
    "countmap(fpg_df[!, :sulphonylureas]), proportionmap(fpg_df[!, :sulphonylureas])"
   ]
  },
  {
   "cell_type": "code",
   "execution_count": 14,
   "metadata": {},
   "outputs": [
    {
     "data": {
      "text/plain": [
       "(Dict(0 => 12842,1 => 54221), Dict(0 => 0.19149158254178905,1 => 0.8085084174582109))"
      ]
     },
     "execution_count": 14,
     "metadata": {},
     "output_type": "execute_result"
    }
   ],
   "source": [
    "countmap(fpg_df[!, :metformin]), proportionmap(fpg_df[!, :metformin])"
   ]
  },
  {
   "cell_type": "code",
   "execution_count": 15,
   "metadata": {},
   "outputs": [
    {
     "data": {
      "text/plain": [
       "(Dict(0 => 31400,1 => 35663), Dict(0 => 0.46821645318581034,1 => 0.5317835468141896))"
      ]
     },
     "execution_count": 15,
     "metadata": {},
     "output_type": "execute_result"
    }
   ],
   "source": [
    "countmap(fpg_df[!, :thiazolidinediones]), proportionmap(fpg_df[!, :thiazolidinediones])"
   ]
  },
  {
   "cell_type": "code",
   "execution_count": 16,
   "metadata": {},
   "outputs": [
    {
     "data": {
      "text/plain": [
       "(Dict(0 => 56879,1 => 10184), Dict(0 => 0.8481427911068696,1 => 0.15185720889313034))"
      ]
     },
     "execution_count": 16,
     "metadata": {},
     "output_type": "execute_result"
    }
   ],
   "source": [
    "countmap(fpg_df[!, :meglitinides]), proportionmap(fpg_df[!, :meglitinides])"
   ]
  },
  {
   "cell_type": "code",
   "execution_count": 17,
   "metadata": {},
   "outputs": [
    {
     "data": {
      "text/plain": [
       "10195-element Array{Int64,1}:\n",
       "  5\n",
       " 10\n",
       "  5\n",
       "  4\n",
       "  7\n",
       "  7\n",
       "  8\n",
       "  7\n",
       " 10\n",
       "  2\n",
       "  6\n",
       "  7\n",
       "  7\n",
       "  ⋮\n",
       "  7\n",
       "  6\n",
       "  4\n",
       "  7\n",
       "  8\n",
       "  9\n",
       "  7\n",
       "  7\n",
       "  7\n",
       "  5\n",
       "  1\n",
       "  7"
      ]
     },
     "execution_count": 17,
     "metadata": {},
     "output_type": "execute_result"
    }
   ],
   "source": [
    "# number of visits\n",
    "mean(combine(DataFrames.groupby(fpg_df, :MaskID), :VisitNumber => length)[!, 2]), std\n",
    "(combine(DataFrames.groupby(fpg_df, :MaskID), :VisitNumber => length)[!, 2])"
   ]
  },
  {
   "cell_type": "code",
   "execution_count": 18,
   "metadata": {},
   "outputs": [
    {
     "data": {
      "text/plain": [
       "(47.452280529671405, 18.779508947137924)"
      ]
     },
     "execution_count": 18,
     "metadata": {},
     "output_type": "execute_result"
    }
   ],
   "source": [
    "# summary stats for maximum number of months of treatment for each person\n",
    "mean(combine(DataFrames.groupby(fpg_df, :MaskID), :VisitNumber => maximum)[!, 2]),\n",
    "std(combine(DataFrames.groupby(fpg_df, :MaskID), :VisitNumber => maximum)[!, 2])"
   ]
  },
  {
   "cell_type": "code",
   "execution_count": 19,
   "metadata": {},
   "outputs": [
    {
     "name": "stdout",
     "output_type": "stream",
     "text": [
      "proportionmap((combine(DataFrames.groupby(fpg_df, :MaskID), :cvd_hx_baseline => first))[!, 2]) = Dict(0 => 0.6485532123589995,1 => 0.3514467876410005)\n"
     ]
    },
    {
     "data": {
      "text/plain": [
       "Dict{Int64,Int64} with 2 entries:\n",
       "  0 => 6612\n",
       "  1 => 3583"
      ]
     },
     "execution_count": 19,
     "metadata": {},
     "output_type": "execute_result"
    }
   ],
   "source": [
    "# Base CVD history\n",
    "@show proportionmap(combine(DataFrames.groupby(fpg_df, :MaskID), :cvd_hx_baseline => first)[!, 2])\n",
    "countmap(combine(DataFrames.groupby(fpg_df, :MaskID), :cvd_hx_baseline => first)[!, 2])"
   ]
  },
  {
   "cell_type": "code",
   "execution_count": 20,
   "metadata": {},
   "outputs": [
    {
     "name": "stdout",
     "output_type": "stream",
     "text": [
      "proportionmap((combine(DataFrames.groupby(fpg_df, :MaskID), :female => first))[!, 2]) = Dict(0 => 0.6142226581657675,1 => 0.38577734183423246)\n"
     ]
    },
    {
     "data": {
      "text/plain": [
       "Dict{Int64,Int64} with 2 entries:\n",
       "  0 => 6262\n",
       "  1 => 3933"
      ]
     },
     "execution_count": 20,
     "metadata": {},
     "output_type": "execute_result"
    }
   ],
   "source": [
    "# Sex\n",
    "@show proportionmap(combine(DataFrames.groupby(fpg_df, :MaskID), :female => first)[!, 2])\n",
    "countmap(combine(DataFrames.groupby(fpg_df, :MaskID), :female => first)[!, 2])"
   ]
  },
  {
   "cell_type": "code",
   "execution_count": 21,
   "metadata": {},
   "outputs": [
    {
     "data": {
      "text/plain": [
       "(Dict(\"Black\" => 1946,\"Other\" => 1165,\"White\" => 6351,\"Hispanic\" => 733), Dict(\"Black\" => 0.19087788131436978,\"Other\" => 0.114271701814615,\"White\" => 0.622952427660618,\"Hispanic\" => 0.07189798921039725))"
      ]
     },
     "execution_count": 21,
     "metadata": {},
     "output_type": "execute_result"
    }
   ],
   "source": [
    "# Race\n",
    "countmap(combine(DataFrames.groupby(fpg_df, :MaskID), :raceclass => first)[!, 2]), \n",
    "proportionmap(combine(DataFrames.groupby(fpg_df, :MaskID), :raceclass => first)[!, 2])"
   ]
  },
  {
   "cell_type": "code",
   "execution_count": null,
   "metadata": {},
   "outputs": [],
   "source": []
  }
 ],
 "metadata": {
  "kernelspec": {
   "display_name": "Julia 1.5.0",
   "language": "julia",
   "name": "julia-1.5"
  },
  "language_info": {
   "file_extension": ".jl",
   "mimetype": "application/julia",
   "name": "julia",
   "version": "1.5.0"
  }
 },
 "nbformat": 4,
 "nbformat_minor": 2
}
