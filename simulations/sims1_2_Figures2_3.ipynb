{
 "cells": [
  {
   "cell_type": "markdown",
   "metadata": {},
   "source": [
    "# Normal Normal Log-Normal and Multivariate T, Multivariate Gamma, Inverse Gamma Simulations: MSE & Coverage"
   ]
  },
  {
   "cell_type": "markdown",
   "metadata": {},
   "source": [
    "This notebook goes over the code needed to reproduce the results from the MSE and time figures in the first two simulations in the paper: the Normal Normal Log-Normal simulation and the Multivariate T, Multivariate Gamma, Inverse-Gamma simulation. \n",
    "\n",
    "The provided code produces results given in Figures 2 and 3, in addition to Supplementary Tables S.1 and S.2.\n",
    "\n",
    "The simulations were run in Julia version 1.4.0. The `randn!()` function changed in v1.5.0, and will produce different random numbers for the simulation. "
   ]
  },
  {
   "cell_type": "markdown",
   "metadata": {},
   "source": [
    "### Packages and Reproducibility\n",
    "\n",
    "Julia allows for easy reproducibility, by including a `Manifest.toml` and `Project.toml` pair, the user can simply run `] activate .` and the correct environment with dependencies used will run.  "
   ]
  },
  {
   "cell_type": "code",
   "execution_count": 94,
   "metadata": {},
   "outputs": [
    {
     "name": "stderr",
     "output_type": "stream",
     "text": [
      "\u001b[32m\u001b[1m Activating\u001b[22m\u001b[39m environment at `~/WiSER_Reproduce/simulations/Project.toml`\n"
     ]
    }
   ],
   "source": [
    "]activate ."
   ]
  },
  {
   "cell_type": "markdown",
   "metadata": {},
   "source": [
    "Note: We use the KNITRO solver in our analysis, which requires a KNITRO license. If you wish to run the analysis without it, you can use another solver, but the results will be slightly different. To do this, comment out the code each time it says `solver = KNITRO...` and replace it with `solver = Ipopt.IpoptSolver(print_level=0, watchdog_shortened_iter_trigger=3, max_iter=100)`."
   ]
  },
  {
   "cell_type": "code",
   "execution_count": 2,
   "metadata": {},
   "outputs": [
    {
     "name": "stdout",
     "output_type": "stream",
     "text": [
      "Julia Version 1.4.0\n",
      "Commit b8e9a9ecc6 (2020-03-21 16:36 UTC)\n",
      "Platform Info:\n",
      "  OS: Linux (x86_64-pc-linux-gnu)\n",
      "  CPU: Intel(R) Core(TM) i9-9920X CPU @ 3.50GHz\n",
      "  WORD_SIZE: 64\n",
      "  LIBM: libopenlibm\n",
      "  LLVM: libLLVM-8.0.1 (ORCJIT, skylake)\n",
      "Environment:\n",
      "  JULIA_NUM_THREADS = 8\n"
     ]
    }
   ],
   "source": [
    "versioninfo()"
   ]
  },
  {
   "cell_type": "markdown",
   "metadata": {},
   "source": [
    "**Note**: The simulation blocks take a long time to run on a standard PC. We have provided the output files, so please feel free to skip the simulation blocks."
   ]
  },
  {
   "cell_type": "markdown",
   "metadata": {},
   "source": [
    "## Normal-Normal Log-Normal Simulation"
   ]
  },
  {
   "cell_type": "markdown",
   "metadata": {},
   "source": [
    "The following code runs the simulation and saves the results."
   ]
  },
  {
   "cell_type": "code",
   "execution_count": null,
   "metadata": {},
   "outputs": [],
   "source": [
    "using WiSER, DelimitedFiles, LinearAlgebra, Random, KNITRO\n",
    "using Random, Roots, SpecialFunctions\n",
    "\n",
    "function MSE(m::WSVarLmmModel, β::Vector, τ::Vector, Σγ::Matrix)\n",
    "    mseβ = sum(abs2, m.β - β) / m.p\n",
    "    mseτ = sum(abs2, m.τ[2:end] - τ[2:end]) / (m.l - 1)\n",
    "    msevechLγ = sum(abs2, m.Σγ - Σγ) / abs2(m.q)\n",
    "    return mseβ, mseτ, msevechLγ\n",
    "end\n",
    "\n",
    "function coverage!(m::WSVarLmmModel, trueparams::Vector, \n",
    "    intervals::Matrix, curcoverage::Vector)\n",
    "\n",
    "    copyto!(intervals, confint(m))\n",
    "    lbs = @views intervals[:, 1]\n",
    "    ubs = @views intervals[:, 2]\n",
    "    map!((val, lb, ub) -> val >= lb && \n",
    "        val <= ub, curcoverage, trueparams, lbs, ubs)\n",
    "    return curcoverage\n",
    "end\n",
    "\n",
    "# dimensions\n",
    "@show Threads.nthreads()\n",
    "p  = 5    # number of fixed effects, including intercept\n",
    "q  = 3    # number of random effects, including intercept\n",
    "l  = 5    # number of WS variance covariates, including intercept\n",
    "# true parameter values\n",
    "βtrue = [ 0.1; 6.5; -3.5; 1.0; 5  ]\n",
    "τtrue = [0.0; 0.5; -0.2; 0.5; 0.0]\n",
    "Σγ    = [1.5 0.5 0.3;\n",
    "         0.5 1.0 0.2;\n",
    "         0.3 0.2 0.5];\n",
    "δγω   = [0.2; 0.1; 0.05]\n",
    "σω    = [0.5]\n",
    "Σγω   = [Σγ δγω; δγω' σω]\n",
    "Lγω   = cholesky(Symmetric(Σγω), check = false).L\n",
    "Lγ    = Lγω[1:q, 1:q]\n",
    "lγω   = Lγω[q + 1, 1:q]\n",
    "lω    = Lγω[q + 1, q + 1]\n",
    "# generate data\n",
    "γω = Vector{Float64}(undef, q + 1)\n",
    "z  = similar(γω) # hold vector of iid std normal\n",
    "\n",
    "intervals = zeros(p + l, 2) #hold intervals\n",
    "curcoverage = zeros(p + l) #hold current coverage resutls\n",
    "trueparams = [βtrue; τtrue] #hold true parameters\n",
    "\n",
    "#simulation parameters\n",
    "samplesizes = collect(1000:1000:6000)\n",
    "ns = [10; 25; 50; 100; 1000]\n",
    "nsims = 1000\n",
    "\n",
    "#storage for results\n",
    "βMseResults = ones(nsims * length(ns) * length(samplesizes))\n",
    "τMseResults = ones(nsims * length(ns) * length(samplesizes))\n",
    "ΣγMseResults = ones(nsims * length(ns) *  length(samplesizes))\n",
    "βτcoverage = Matrix{Float64}(undef, p + l, nsims * length(ns) * length(samplesizes))\n",
    "fittimes = zeros(nsims * length(ns) * length(samplesizes))\n",
    "solver = KNITRO.KnitroSolver(outlev=0)\n",
    "\n",
    "st = time()\n",
    "currentind = 1\n",
    "for t in 1:length(samplesizes)\n",
    "    m = samplesizes[t]\n",
    "    obsvec = Vector{WSVarLmmObs{Float64}}(undef, m)\n",
    "    for k in 1:length(ns)\n",
    "        ni = ns[k] # number of observations per individual\n",
    "        y = Vector{Float64}(undef, ni)\n",
    "        for j in 1:nsims\n",
    "            println(\"rep $j obs per person $ni samplesize $m\")\n",
    "            Random.seed!(j + 100000k + 1000t)\n",
    "            for i in 1:m\n",
    "                # first column intercept, remaining entries iid std normal\n",
    "                X = Matrix{Float64}(undef, ni, p)\n",
    "                X[:, 1] .= 1\n",
    "                @views randn!(X[:, 2:p])\n",
    "                # first column intercept, remaining entries iid std normal\n",
    "                Z = Matrix{Float64}(undef, ni, q)\n",
    "                Z[:, 1] .= 1\n",
    "                @views randn!(Z[:, 2:q])\n",
    "                # first column intercept, remaining entries iid std normal\n",
    "                W = Matrix{Float64}(undef, ni, l)\n",
    "                W[:, 1] .= 1\n",
    "                @views randn!(W[:, 2:l])\n",
    "                # generate random effects: γω = Lγω * z\n",
    "                mul!(γω, Lγω, randn!(z))\n",
    "                # generate y\n",
    "                μy = X * βtrue + Z * γω[1:q]\n",
    "                @views ysd = exp.(0.5 .* (W * τtrue .+ dot(γω[1:q], lγω) .+ γω[end]))\n",
    "                y = ysd .* randn(ni) .+ μy\n",
    "                # form a VarLmmObs instance\n",
    "                obsvec[i] = WSVarLmmObs(y, X, Z, W)\n",
    "            end\n",
    "            # form VarLmmModel\n",
    "            vlmm = WSVarLmmModel(obsvec);\n",
    "            fittime = NaN\n",
    "            try \n",
    "                fittime = @elapsed WiSER.fit!(vlmm, solver, parallel=false)\n",
    "                confint(vlmm)\n",
    "            catch\n",
    "                println(\"rep $j ni obs = $ni , samplesize = $m had an error\")\n",
    "                try \n",
    "                    fittime = @elapsed WiSER.fit!(vlmm, Ipopt.IpoptSolver(print_level=1, \n",
    "                        watchdog_shortened_iter_trigger=3, max_iter=100), parallel=false)\n",
    "                        confint(vlmm)\n",
    "                catch\n",
    "                    println(\"rep $j ni obs = $ni , samplesize = $m had a second error\")\n",
    "                    try\n",
    "                        fittime = @elapsed WiSER.fit!(vlmm, init = init_mom!(vlmm), parallel=false)\n",
    "                        confint(vlmm)\n",
    "                    catch\n",
    "                        println(\"rep $j ni obs = $ni , samplesize = $m had a third error\")\n",
    "                        βMseResults[currentind] = NaN\n",
    "                        τMseResults[currentind] = NaN\n",
    "                        ΣγMseResults[currentind] = NaN\n",
    "                        βτcoverage[:, currentind] .= NaN\n",
    "                        fittimes[currentind] = NaN\n",
    "                        currentind += 1\n",
    "                        continue\n",
    "                    end\n",
    "                end\n",
    "            end\n",
    "            coverage!(vlmm, trueparams, intervals, curcoverage)\n",
    "            mseβ, mseτ, mseΣγ = MSE(vlmm, βtrue, τtrue, Σγ)\n",
    "\n",
    "            #index = Int(nsims * length(ns) * (t - 1) + nsims * (k - 1) + j)\n",
    "            global currentind\n",
    "            @views copyto!(βτcoverage[:, currentind], curcoverage)\n",
    "            βMseResults[currentind] = mseβ\n",
    "            τMseResults[currentind] = mseτ\n",
    "            ΣγMseResults[currentind] = mseΣγ\n",
    "            fittimes[currentind] = fittime\n",
    "            currentind += 1\n",
    "        end\n",
    "    end\n",
    "end \n",
    "en = time()\n",
    "\n",
    "@show en - st #seconds \n",
    "\n",
    "ftail = \"normal_normal_lognormal_$(nsims)reps_sim.csv\"\n",
    "writedlm(\"result_files/mse_beta_\" * ftail, βMseResults, ',')\n",
    "writedlm(\"result_files/mse_tau_\" * ftail, τMseResults, ',')\n",
    "writedlm(\"result_files/mse_Sigma_\" * ftail, ΣγMseResults, ',')\n",
    "writedlm(\"result_files/beta_tau_coverage_5betas_\" * ftail, βτcoverage, ',')\n",
    "writedlm(\"result_files/fittimes\" * ftail, fittimes, ',')"
   ]
  },
  {
   "cell_type": "markdown",
   "metadata": {},
   "source": [
    "### Timing figure (Figure 2)"
   ]
  },
  {
   "cell_type": "markdown",
   "metadata": {},
   "source": [
    "The following code will create the Time figure (Figure 2)."
   ]
  },
  {
   "cell_type": "code",
   "execution_count": 3,
   "metadata": {},
   "outputs": [
    {
     "data": {
      "text/html": [
       "<table class=\"data-frame\"><thead><tr><th></th><th>samplesize</th><th>obssize</th><th>fittime</th><th>se</th><th>nobs</th><th>fitmin</th><th>fitmax</th><th>perobsratio</th></tr><tr><th></th><th>String</th><th>String</th><th>Float64</th><th>Float64</th><th>Int64</th><th>Float64</th><th>Float64</th><th>Float64</th></tr></thead><tbody><p>30 rows × 8 columns</p><tr><th>1</th><td>1000</td><td>10</td><td>1.04326</td><td>0.0143101</td><td>10000</td><td>1.02895</td><td>1.05758</td><td>0.000104326</td></tr><tr><th>2</th><td>1000</td><td>25</td><td>1.235</td><td>0.0159857</td><td>25000</td><td>1.21901</td><td>1.25098</td><td>4.93999e-5</td></tr><tr><th>3</th><td>1000</td><td>50</td><td>1.49699</td><td>0.0194673</td><td>50000</td><td>1.47753</td><td>1.51646</td><td>2.99399e-5</td></tr><tr><th>4</th><td>1000</td><td>100</td><td>2.17399</td><td>0.0290041</td><td>100000</td><td>2.14498</td><td>2.20299</td><td>2.17399e-5</td></tr><tr><th>5</th><td>1000</td><td>1000</td><td>11.6524</td><td>0.135742</td><td>1000000</td><td>11.5167</td><td>11.7881</td><td>1.16524e-5</td></tr><tr><th>6</th><td>2000</td><td>10</td><td>1.5317</td><td>0.028151</td><td>20000</td><td>1.50355</td><td>1.55985</td><td>7.65851e-5</td></tr><tr><th>7</th><td>2000</td><td>25</td><td>1.69683</td><td>0.0329478</td><td>50000</td><td>1.66388</td><td>1.72978</td><td>3.39366e-5</td></tr><tr><th>8</th><td>2000</td><td>50</td><td>2.20178</td><td>0.0442731</td><td>100000</td><td>2.15751</td><td>2.24606</td><td>2.20178e-5</td></tr><tr><th>9</th><td>2000</td><td>100</td><td>3.18849</td><td>0.0505378</td><td>200000</td><td>3.13795</td><td>3.23903</td><td>1.59424e-5</td></tr><tr><th>10</th><td>2000</td><td>1000</td><td>17.0389</td><td>0.209589</td><td>2000000</td><td>16.8293</td><td>17.2485</td><td>8.51946e-6</td></tr><tr><th>11</th><td>3000</td><td>10</td><td>1.78211</td><td>0.0255028</td><td>30000</td><td>1.7566</td><td>1.80761</td><td>5.94035e-5</td></tr><tr><th>12</th><td>3000</td><td>25</td><td>2.23671</td><td>0.0323419</td><td>75000</td><td>2.20436</td><td>2.26905</td><td>2.98227e-5</td></tr><tr><th>13</th><td>3000</td><td>50</td><td>3.19775</td><td>0.0459659</td><td>150000</td><td>3.15178</td><td>3.24371</td><td>2.13183e-5</td></tr><tr><th>14</th><td>3000</td><td>100</td><td>4.07618</td><td>0.0577103</td><td>300000</td><td>4.01847</td><td>4.13389</td><td>1.35873e-5</td></tr><tr><th>15</th><td>3000</td><td>1000</td><td>23.6732</td><td>0.333225</td><td>3000000</td><td>23.34</td><td>24.0064</td><td>7.89106e-6</td></tr><tr><th>16</th><td>4000</td><td>10</td><td>2.0718</td><td>0.0312479</td><td>40000</td><td>2.04055</td><td>2.10305</td><td>5.1795e-5</td></tr><tr><th>17</th><td>4000</td><td>25</td><td>2.87086</td><td>0.0562359</td><td>100000</td><td>2.81462</td><td>2.92709</td><td>2.87086e-5</td></tr><tr><th>18</th><td>4000</td><td>50</td><td>3.61304</td><td>0.0525518</td><td>200000</td><td>3.56049</td><td>3.66559</td><td>1.80652e-5</td></tr><tr><th>19</th><td>4000</td><td>100</td><td>4.48079</td><td>0.0703668</td><td>400000</td><td>4.41042</td><td>4.55116</td><td>1.1202e-5</td></tr><tr><th>20</th><td>4000</td><td>1000</td><td>29.1951</td><td>0.341312</td><td>4000000</td><td>28.8538</td><td>29.5364</td><td>7.29877e-6</td></tr><tr><th>21</th><td>5000</td><td>10</td><td>2.76463</td><td>0.0429537</td><td>50000</td><td>2.72167</td><td>2.80758</td><td>5.52925e-5</td></tr><tr><th>22</th><td>5000</td><td>25</td><td>3.58523</td><td>0.0559274</td><td>125000</td><td>3.5293</td><td>3.64116</td><td>2.86818e-5</td></tr><tr><th>23</th><td>5000</td><td>50</td><td>4.71844</td><td>0.0681594</td><td>250000</td><td>4.65028</td><td>4.7866</td><td>1.88738e-5</td></tr><tr><th>24</th><td>5000</td><td>100</td><td>5.72809</td><td>0.0898746</td><td>500000</td><td>5.63821</td><td>5.81796</td><td>1.14562e-5</td></tr><tr><th>25</th><td>5000</td><td>1000</td><td>36.1733</td><td>0.437823</td><td>5000000</td><td>35.7354</td><td>36.6111</td><td>7.23465e-6</td></tr><tr><th>26</th><td>6000</td><td>10</td><td>3.33824</td><td>0.0499583</td><td>60000</td><td>3.28828</td><td>3.3882</td><td>5.56374e-5</td></tr><tr><th>27</th><td>6000</td><td>25</td><td>4.49478</td><td>0.0689843</td><td>150000</td><td>4.42579</td><td>4.56376</td><td>2.99652e-5</td></tr><tr><th>28</th><td>6000</td><td>50</td><td>5.46574</td><td>0.082163</td><td>300000</td><td>5.38358</td><td>5.54791</td><td>1.82191e-5</td></tr><tr><th>29</th><td>6000</td><td>100</td><td>7.21686</td><td>0.140322</td><td>600000</td><td>7.07654</td><td>7.35718</td><td>1.20281e-5</td></tr><tr><th>30</th><td>6000</td><td>1000</td><td>48.1479</td><td>1.0414</td><td>6000000</td><td>47.1065</td><td>49.1893</td><td>8.02465e-6</td></tr></tbody></table>"
      ],
      "text/latex": [
       "\\begin{tabular}{r|cccccccc}\n",
       "\t& samplesize & obssize & fittime & se & nobs & fitmin & fitmax & perobsratio\\\\\n",
       "\t\\hline\n",
       "\t& String & String & Float64 & Float64 & Int64 & Float64 & Float64 & Float64\\\\\n",
       "\t\\hline\n",
       "\t1 & 1000 & 10 & 1.04326 & 0.0143101 & 10000 & 1.02895 & 1.05758 & 0.000104326 \\\\\n",
       "\t2 & 1000 & 25 & 1.235 & 0.0159857 & 25000 & 1.21901 & 1.25098 & 4.93999e-5 \\\\\n",
       "\t3 & 1000 & 50 & 1.49699 & 0.0194673 & 50000 & 1.47753 & 1.51646 & 2.99399e-5 \\\\\n",
       "\t4 & 1000 & 100 & 2.17399 & 0.0290041 & 100000 & 2.14498 & 2.20299 & 2.17399e-5 \\\\\n",
       "\t5 & 1000 & 1000 & 11.6524 & 0.135742 & 1000000 & 11.5167 & 11.7881 & 1.16524e-5 \\\\\n",
       "\t6 & 2000 & 10 & 1.5317 & 0.028151 & 20000 & 1.50355 & 1.55985 & 7.65851e-5 \\\\\n",
       "\t7 & 2000 & 25 & 1.69683 & 0.0329478 & 50000 & 1.66388 & 1.72978 & 3.39366e-5 \\\\\n",
       "\t8 & 2000 & 50 & 2.20178 & 0.0442731 & 100000 & 2.15751 & 2.24606 & 2.20178e-5 \\\\\n",
       "\t9 & 2000 & 100 & 3.18849 & 0.0505378 & 200000 & 3.13795 & 3.23903 & 1.59424e-5 \\\\\n",
       "\t10 & 2000 & 1000 & 17.0389 & 0.209589 & 2000000 & 16.8293 & 17.2485 & 8.51946e-6 \\\\\n",
       "\t11 & 3000 & 10 & 1.78211 & 0.0255028 & 30000 & 1.7566 & 1.80761 & 5.94035e-5 \\\\\n",
       "\t12 & 3000 & 25 & 2.23671 & 0.0323419 & 75000 & 2.20436 & 2.26905 & 2.98227e-5 \\\\\n",
       "\t13 & 3000 & 50 & 3.19775 & 0.0459659 & 150000 & 3.15178 & 3.24371 & 2.13183e-5 \\\\\n",
       "\t14 & 3000 & 100 & 4.07618 & 0.0577103 & 300000 & 4.01847 & 4.13389 & 1.35873e-5 \\\\\n",
       "\t15 & 3000 & 1000 & 23.6732 & 0.333225 & 3000000 & 23.34 & 24.0064 & 7.89106e-6 \\\\\n",
       "\t16 & 4000 & 10 & 2.0718 & 0.0312479 & 40000 & 2.04055 & 2.10305 & 5.1795e-5 \\\\\n",
       "\t17 & 4000 & 25 & 2.87086 & 0.0562359 & 100000 & 2.81462 & 2.92709 & 2.87086e-5 \\\\\n",
       "\t18 & 4000 & 50 & 3.61304 & 0.0525518 & 200000 & 3.56049 & 3.66559 & 1.80652e-5 \\\\\n",
       "\t19 & 4000 & 100 & 4.48079 & 0.0703668 & 400000 & 4.41042 & 4.55116 & 1.1202e-5 \\\\\n",
       "\t20 & 4000 & 1000 & 29.1951 & 0.341312 & 4000000 & 28.8538 & 29.5364 & 7.29877e-6 \\\\\n",
       "\t21 & 5000 & 10 & 2.76463 & 0.0429537 & 50000 & 2.72167 & 2.80758 & 5.52925e-5 \\\\\n",
       "\t22 & 5000 & 25 & 3.58523 & 0.0559274 & 125000 & 3.5293 & 3.64116 & 2.86818e-5 \\\\\n",
       "\t23 & 5000 & 50 & 4.71844 & 0.0681594 & 250000 & 4.65028 & 4.7866 & 1.88738e-5 \\\\\n",
       "\t24 & 5000 & 100 & 5.72809 & 0.0898746 & 500000 & 5.63821 & 5.81796 & 1.14562e-5 \\\\\n",
       "\t25 & 5000 & 1000 & 36.1733 & 0.437823 & 5000000 & 35.7354 & 36.6111 & 7.23465e-6 \\\\\n",
       "\t26 & 6000 & 10 & 3.33824 & 0.0499583 & 60000 & 3.28828 & 3.3882 & 5.56374e-5 \\\\\n",
       "\t27 & 6000 & 25 & 4.49478 & 0.0689843 & 150000 & 4.42579 & 4.56376 & 2.99652e-5 \\\\\n",
       "\t28 & 6000 & 50 & 5.46574 & 0.082163 & 300000 & 5.38358 & 5.54791 & 1.82191e-5 \\\\\n",
       "\t29 & 6000 & 100 & 7.21686 & 0.140322 & 600000 & 7.07654 & 7.35718 & 1.20281e-5 \\\\\n",
       "\t30 & 6000 & 1000 & 48.1479 & 1.0414 & 6000000 & 47.1065 & 49.1893 & 8.02465e-6 \\\\\n",
       "\\end{tabular}\n"
      ],
      "text/plain": [
       "30×8 DataFrame\n",
       "│ Row │ samplesize │ obssize │ fittime │ se        │ nobs    │ fitmin  │ fitmax  │ perobsratio │\n",
       "│     │ \u001b[90mString\u001b[39m     │ \u001b[90mString\u001b[39m  │ \u001b[90mFloat64\u001b[39m │ \u001b[90mFloat64\u001b[39m   │ \u001b[90mInt64\u001b[39m   │ \u001b[90mFloat64\u001b[39m │ \u001b[90mFloat64\u001b[39m │ \u001b[90mFloat64\u001b[39m     │\n",
       "├─────┼────────────┼─────────┼─────────┼───────────┼─────────┼─────────┼─────────┼─────────────┤\n",
       "│ 1   │ 1000       │ 10      │ 1.04326 │ 0.0143101 │ 10000   │ 1.02895 │ 1.05758 │ 0.000104326 │\n",
       "│ 2   │ 1000       │ 25      │ 1.235   │ 0.0159857 │ 25000   │ 1.21901 │ 1.25098 │ 4.93999e-5  │\n",
       "│ 3   │ 1000       │ 50      │ 1.49699 │ 0.0194673 │ 50000   │ 1.47753 │ 1.51646 │ 2.99399e-5  │\n",
       "│ 4   │ 1000       │ 100     │ 2.17399 │ 0.0290041 │ 100000  │ 2.14498 │ 2.20299 │ 2.17399e-5  │\n",
       "│ 5   │ 1000       │ 1000    │ 11.6524 │ 0.135742  │ 1000000 │ 11.5167 │ 11.7881 │ 1.16524e-5  │\n",
       "│ 6   │ 2000       │ 10      │ 1.5317  │ 0.028151  │ 20000   │ 1.50355 │ 1.55985 │ 7.65851e-5  │\n",
       "│ 7   │ 2000       │ 25      │ 1.69683 │ 0.0329478 │ 50000   │ 1.66388 │ 1.72978 │ 3.39366e-5  │\n",
       "│ 8   │ 2000       │ 50      │ 2.20178 │ 0.0442731 │ 100000  │ 2.15751 │ 2.24606 │ 2.20178e-5  │\n",
       "│ 9   │ 2000       │ 100     │ 3.18849 │ 0.0505378 │ 200000  │ 3.13795 │ 3.23903 │ 1.59424e-5  │\n",
       "│ 10  │ 2000       │ 1000    │ 17.0389 │ 0.209589  │ 2000000 │ 16.8293 │ 17.2485 │ 8.51946e-6  │\n",
       "⋮\n",
       "│ 20  │ 4000       │ 1000    │ 29.1951 │ 0.341312  │ 4000000 │ 28.8538 │ 29.5364 │ 7.29877e-6  │\n",
       "│ 21  │ 5000       │ 10      │ 2.76463 │ 0.0429537 │ 50000   │ 2.72167 │ 2.80758 │ 5.52925e-5  │\n",
       "│ 22  │ 5000       │ 25      │ 3.58523 │ 0.0559274 │ 125000  │ 3.5293  │ 3.64116 │ 2.86818e-5  │\n",
       "│ 23  │ 5000       │ 50      │ 4.71844 │ 0.0681594 │ 250000  │ 4.65028 │ 4.7866  │ 1.88738e-5  │\n",
       "│ 24  │ 5000       │ 100     │ 5.72809 │ 0.0898746 │ 500000  │ 5.63821 │ 5.81796 │ 1.14562e-5  │\n",
       "│ 25  │ 5000       │ 1000    │ 36.1733 │ 0.437823  │ 5000000 │ 35.7354 │ 36.6111 │ 7.23465e-6  │\n",
       "│ 26  │ 6000       │ 10      │ 3.33824 │ 0.0499583 │ 60000   │ 3.28828 │ 3.3882  │ 5.56374e-5  │\n",
       "│ 27  │ 6000       │ 25      │ 4.49478 │ 0.0689843 │ 150000  │ 4.42579 │ 4.56376 │ 2.99652e-5  │\n",
       "│ 28  │ 6000       │ 50      │ 5.46574 │ 0.082163  │ 300000  │ 5.38358 │ 5.54791 │ 1.82191e-5  │\n",
       "│ 29  │ 6000       │ 100     │ 7.21686 │ 0.140322  │ 600000  │ 7.07654 │ 7.35718 │ 1.20281e-5  │\n",
       "│ 30  │ 6000       │ 1000    │ 48.1479 │ 1.0414    │ 6000000 │ 47.1065 │ 49.1893 │ 8.02465e-6  │"
      ]
     },
     "execution_count": 3,
     "metadata": {},
     "output_type": "execute_result"
    }
   ],
   "source": [
    "using Random, DataFrames, DelimitedFiles, Statistics, RCall, Printf\n",
    "import StatsBase: sem\n",
    "ENV[\"COLUMNS\"]=1000\n",
    "\n",
    "βMseresult = vec(readdlm(\"result_files/mse_beta_normal_normal_lognormal_1000reps_sim.csv\", ','))\n",
    "τMseresult = vec(readdlm(\"result_files/mse_tau_normal_normal_lognormal_1000reps_sim.csv\", ','))\n",
    "ΣMseresult = vec(readdlm(\"result_files/mse_Sigma_normal_normal_lognormal_1000reps_sim.csv\", ','))\n",
    "fittimes = vec(readdlm(\"result_files/fittimesnormal_normal_lognormal_1000reps_sim.csv\", ','))\n",
    "\n",
    "samplesizes = collect(1000:1000:6000)\n",
    "ns = [10; 25; 50; 100; 1000]\n",
    "nsims = 1000\n",
    "\n",
    "p = 5; l = 5\n",
    "sample_sizes = repeat(string.(samplesizes), inner = nsims * length(ns))\n",
    "obs_sizes = repeat(string.(ns), inner = nsims, outer = length(samplesizes))\n",
    "msedf = DataFrame(βmse = βMseresult, τmse = τMseresult, Σγmse = ΣMseresult, \n",
    "    samplesize = sample_sizes, obssize = obs_sizes, fittimes = fittimes)\n",
    "timedf = combine(groupby(msedf, [:samplesize, :obssize]), :fittimes => mean => :fittime,\n",
    "    :fittimes => x -> (std(x)/sqrt(length(x))))\n",
    "rename!(timedf, Dict(:fittimes_function => \"se\"))\n",
    "timedf[!, :nobs] = Meta.parse.(timedf[!, :samplesize]) .* Meta.parse.(timedf[!, :obssize])\n",
    "timedf[!, :fitmin] = timedf[!, :fittime] - timedf[!, :se]\n",
    "timedf[!, :fitmax] = timedf[!, :fittime] + timedf[!, :se]\n",
    "timedf[!, :perobsratio] = timedf[!, :fittime] ./ timedf[!, :nobs]\n",
    "timedf"
   ]
  },
  {
   "cell_type": "code",
   "execution_count": 4,
   "metadata": {},
   "outputs": [
    {
     "data": {
      "image/png": "[encoded data removed]"
     },
     "metadata": {},
     "output_type": "display_data"
    },
    {
     "data": {
      "text/plain": [
       "RObject{VecSxp}\n"
      ]
     },
     "execution_count": 4,
     "metadata": {},
     "output_type": "execute_result"
    }
   ],
   "source": [
    "using RCall\n",
    "@rput timedf\n",
    "\n",
    "R\"\"\"\n",
    "library(ggplot2)\n",
    "timedf$obssize <- factor(timedf$obssize, levels = c('10', '25', '50', '100', '1000'))\n",
    "timedf$samplesize <- factor(timedf$samplesize, levels = c('1000', '2000', '3000', '4000', '5000', '6000'))\n",
    "\n",
    "fittime_1 = ggplot(timedf, aes(x=samplesize, y=fittime, group=obssize, color=obssize)) + \n",
    "  geom_line() +\n",
    "  geom_point()+\n",
    "  geom_errorbar(aes(ymin=fitmin, ymax=fitmax), width=0.5, alpha = 0.8, position=position_dodge(0.005)) + \n",
    "  theme(legend.position=c(0.15,0.85), legend.key = element_blank(), axis.text.x = element_text(angle=0, size=13),\n",
    "        axis.text.y = element_text(angle=0, size=13), axis.title.x = element_text(size = 17), \n",
    "        axis.title.y = element_text(size = 17), legend.title = element_text(size = 14),\n",
    "        #axis.ticks = element_blank(),\n",
    "        panel.grid.major = element_blank(), legend.text=element_text(size=13),\n",
    "        panel.border = element_blank(), panel.grid.minor = element_blank(), panel.background = element_blank(), \n",
    "        axis.line = element_line(color = 'black',size=0.3), plot.title = element_text(hjust = 0.5)) + \n",
    "   scale_color_manual(values = c(\"#c85f55\",\n",
    "\"#a964bf\",\n",
    "\"#8db352\",\n",
    "\"#fa7300\",\n",
    "\"#05aec0\")) +\n",
    "  labs(x = \"Number of Individuals\", y = \"Fit time (seconds)\", color = \"Obs per Individual\")\n",
    "\n",
    "\n",
    "\"\"\""
   ]
  },
  {
   "cell_type": "code",
   "execution_count": 6,
   "metadata": {},
   "outputs": [
    {
     "data": {
      "text/plain": [
       "RObject{NilSxp}\n",
       "NULL\n"
      ]
     },
     "execution_count": 6,
     "metadata": {},
     "output_type": "execute_result"
    }
   ],
   "source": [
    "#R\"\"\"\n",
    "#ggsave('result_files/updated_singlethread_fittimes.png', fittime_1, width = 8, height = 8, units = 'in', dpi = 450)\n",
    "#\"\"\""
   ]
  },
  {
   "cell_type": "code",
   "execution_count": 5,
   "metadata": {},
   "outputs": [
    {
     "data": {
      "image/png": "[encoded data removed]"
     },
     "metadata": {},
     "output_type": "display_data"
    },
    {
     "data": {
      "text/plain": [
       "RObject{VecSxp}\n"
      ]
     },
     "execution_count": 5,
     "metadata": {},
     "output_type": "execute_result"
    }
   ],
   "source": [
    "using RCall\n",
    "@rput timedf\n",
    "\n",
    "R\"\"\"\n",
    "library(scales)\n",
    "library(ggplot2)\n",
    "timedf$obssize <- factor(timedf$obssize, levels = c('10', '25', '50', '100', '1000'))\n",
    "timedf$samplesize <- factor(timedf$samplesize, levels = c('1000', '2000', '3000', '4000', '5000', '6000'))\n",
    "\n",
    "fancy_scientific <- function(l) {\n",
    "     # turn in to character string in scientific notation\n",
    "     l <- format(l, scientific = TRUE)\n",
    "     # quote the part before the exponent to keep all the digits\n",
    "     l <- gsub(\"^(.*)e\", \"'\\\\1'e\", l)\n",
    "     # turn the 'e+' into plotmath format\n",
    "     l <- gsub(\"e\", \"%*%10^\", l)\n",
    "     # return this as an expression\n",
    "     parse(text=l)\n",
    "}\n",
    "\n",
    "fittimeperobs = ggplot(timedf, aes(x=nobs, y=perobsratio)) + \n",
    "  geom_line() +\n",
    "  geom_point()+\n",
    "#  geom_errorbar(aes(ymin=fitmin, ymax=fitmax), width=0.5, alpha = 0.8, position=position_dodge(0.005)) + \n",
    "  theme(legend.position=c(0.15,0.8), legend.key = element_blank(), axis.text.x = element_text(angle=0, size=13),\n",
    "        axis.text.y = element_text(angle=0, size=13), axis.title.x = element_text(size = 17), \n",
    "        axis.title.y = element_text(size = 17), legend.title = element_text(size = 14),\n",
    "        #axis.ticks = element_blank(),\n",
    "        panel.grid.major = element_blank(), legend.text=element_text(size=11),\n",
    "        panel.border = element_blank(), panel.grid.minor = element_blank(), panel.background = element_blank(), \n",
    "        axis.line = element_line(color = 'black',size=0.3), plot.title = element_text(hjust = 0.5)) + \n",
    "  labs(x = \"Total Number of Observations\", y = \"Fit time per observation (seconds)\", color = \"Obs per Individual\") +\n",
    "#scale_x_log10(breaks = 10^seq(0, 7, 1), labels=trans_format(\"log10\", math_format(10^.x)))# + #, limit=c(10^0, 10^7))\n",
    "scale_x_continuous(breaks = seq(0, 6000000, 1000000), labels= fancy_scientific) +\n",
    "scale_y_continuous(breaks = c(10^-5, 2 * 10^-5, 3 * 10^-5, 4 * 10^-5, 5 * 10^-5, 6 * 10^-5), labels= fancy_scientific)\n",
    "\n",
    "\"\"\""
   ]
  },
  {
   "cell_type": "code",
   "execution_count": 7,
   "metadata": {},
   "outputs": [
    {
     "data": {
      "text/plain": [
       "RObject{NilSxp}\n",
       "NULL\n"
      ]
     },
     "execution_count": 7,
     "metadata": {},
     "output_type": "execute_result"
    }
   ],
   "source": [
    "#R\"\"\"\n",
    "#ggsave('result_files/updated_singlethread_fittimeperobs.png', fittimeperobs, width = 8, height = 8, units = 'in', dpi = 450)\n",
    "#\"\"\""
   ]
  },
  {
   "cell_type": "markdown",
   "metadata": {},
   "source": [
    "### Supplementary Table S.1\n",
    "\n",
    "The following code produces results seen in the Supplementary Table S.1."
   ]
  },
  {
   "cell_type": "code",
   "execution_count": 88,
   "metadata": {},
   "outputs": [
    {
     "name": "stderr",
     "output_type": "stream",
     "text": [
      "┌ Warning: `deletecols!(df::DataFrame, inds)` is deprecated, use `select!(df, Not(inds))` instead.\n",
      "│   caller = top-level scope at In[88]:22\n",
      "└ @ Core In[88]:22\n"
     ]
    },
    {
     "data": {
      "text/html": [
       "<table class=\"data-frame\"><thead><tr><th></th><th>people_obs</th><th>β1</th><th>β2</th><th>β3</th><th>β4</th><th>β5</th><th>τ2</th><th>τ3</th><th>τ4</th><th>τ5</th></tr><tr><th></th><th>String</th><th>Tuple…</th><th>Tuple…</th><th>Tuple…</th><th>Tuple…</th><th>Tuple…</th><th>Tuple…</th><th>Tuple…</th><th>Tuple…</th><th>Tuple…</th></tr></thead><tbody><p>30 rows × 10 columns</p><tr><th>1</th><td>m: 1000  ni: 10</td><td>(0.952, 0.00676326)</td><td>(0.943, 0.00733518)</td><td>(0.951, 0.00682976)</td><td>(0.951, 0.00682976)</td><td>(0.944, 0.0072744)</td><td>(0.939, 0.00757208)</td><td>(0.943, 0.00733518)</td><td>(0.947, 0.00708811)</td><td>(0.944, 0.0072744)</td></tr><tr><th>2</th><td>m: 1000  ni: 25</td><td>(0.944, 0.0072744)</td><td>(0.958, 0.00634636)</td><td>(0.944, 0.0072744)</td><td>(0.957, 0.00641811)</td><td>(0.957, 0.00641811)</td><td>(0.95, 0.00689547)</td><td>(0.949, 0.00696042)</td><td>(0.948, 0.00702462)</td><td>(0.949, 0.00696042)</td></tr><tr><th>3</th><td>m: 1000  ni: 50</td><td>(0.948, 0.00702462)</td><td>(0.95, 0.00689547)</td><td>(0.946, 0.00715088)</td><td>(0.949, 0.00696042)</td><td>(0.934, 0.0078553)</td><td>(0.946, 0.00715088)</td><td>(0.949, 0.00696042)</td><td>(0.94, 0.00751375)</td><td>(0.955, 0.00655881)</td></tr><tr><th>4</th><td>m: 1000  ni: 100</td><td>(0.952, 0.00676326)</td><td>(0.952, 0.00676326)</td><td>(0.944, 0.0072744)</td><td>(0.961, 0.00612507)</td><td>(0.942, 0.00739532)</td><td>(0.948, 0.00702462)</td><td>(0.95, 0.00689547)</td><td>(0.953, 0.00669596)</td><td>(0.946, 0.00715088)</td></tr><tr><th>5</th><td>m: 1000  ni: 1000</td><td>(0.957, 0.00641811)</td><td>(0.963, 0.00597216)</td><td>(0.95, 0.00689547)</td><td>(0.956, 0.00648892)</td><td>(0.952, 0.00676326)</td><td>(0.944, 0.0072744)</td><td>(0.942, 0.00739532)</td><td>(0.949, 0.00696042)</td><td>(0.945, 0.00721298)</td></tr><tr><th>6</th><td>m: 2000  ni: 10</td><td>(0.951, 0.00682976)</td><td>(0.949, 0.00696042)</td><td>(0.94, 0.00751375)</td><td>(0.947, 0.00708811)</td><td>(0.951, 0.00682976)</td><td>(0.948, 0.00702462)</td><td>(0.946, 0.00715088)</td><td>(0.95, 0.00689547)</td><td>(0.951, 0.00682976)</td></tr><tr><th>7</th><td>m: 2000  ni: 25</td><td>(0.959, 0.00627362)</td><td>(0.956, 0.00648892)</td><td>(0.942, 0.00739532)</td><td>(0.949, 0.00696042)</td><td>(0.95, 0.00689547)</td><td>(0.95, 0.00689547)</td><td>(0.952, 0.00676326)</td><td>(0.951, 0.00682976)</td><td>(0.945, 0.00721298)</td></tr><tr><th>8</th><td>m: 2000  ni: 50</td><td>(0.952, 0.00676326)</td><td>(0.947, 0.00708811)</td><td>(0.959, 0.00627362)</td><td>(0.939, 0.00757208)</td><td>(0.947, 0.00708811)</td><td>(0.949, 0.00696042)</td><td>(0.933, 0.00791035)</td><td>(0.958, 0.00634636)</td><td>(0.955, 0.00655881)</td></tr><tr><th>9</th><td>m: 2000  ni: 100</td><td>(0.954, 0.00662781)</td><td>(0.946, 0.00715088)</td><td>(0.96, 0.00619987)</td><td>(0.963, 0.00597216)</td><td>(0.944, 0.0072744)</td><td>(0.945, 0.00721298)</td><td>(0.951, 0.00682976)</td><td>(0.948, 0.00702462)</td><td>(0.949, 0.00696042)</td></tr><tr><th>10</th><td>m: 2000  ni: 1000</td><td>(0.945, 0.00721298)</td><td>(0.945, 0.00721298)</td><td>(0.965, 0.00581453)</td><td>(0.954, 0.00662781)</td><td>(0.946, 0.00715088)</td><td>(0.949, 0.00696042)</td><td>(0.96, 0.00619987)</td><td>(0.955, 0.00655881)</td><td>(0.948, 0.00702462)</td></tr><tr><th>11</th><td>m: 3000  ni: 10</td><td>(0.96, 0.00619987)</td><td>(0.956, 0.00648892)</td><td>(0.949, 0.00696042)</td><td>(0.958, 0.00634636)</td><td>(0.956, 0.00648892)</td><td>(0.951, 0.00682976)</td><td>(0.96, 0.00619987)</td><td>(0.951, 0.00682976)</td><td>(0.952, 0.00676326)</td></tr><tr><th>12</th><td>m: 3000  ni: 25</td><td>(0.942, 0.00739532)</td><td>(0.936, 0.00774364)</td><td>(0.949, 0.00696042)</td><td>(0.96, 0.00619987)</td><td>(0.942, 0.00739532)</td><td>(0.948, 0.00702462)</td><td>(0.946, 0.00715088)</td><td>(0.942, 0.00739532)</td><td>(0.946, 0.00715088)</td></tr><tr><th>13</th><td>m: 3000  ni: 50</td><td>(0.944, 0.0072744)</td><td>(0.955, 0.00655881)</td><td>(0.941, 0.00745484)</td><td>(0.962, 0.00604918)</td><td>(0.959, 0.00627362)</td><td>(0.954, 0.00662781)</td><td>(0.937, 0.00768701)</td><td>(0.937, 0.00768701)</td><td>(0.948, 0.00702462)</td></tr><tr><th>14</th><td>m: 3000  ni: 100</td><td>(0.949, 0.00696042)</td><td>(0.954, 0.00662781)</td><td>(0.944, 0.0072744)</td><td>(0.957, 0.00641811)</td><td>(0.947, 0.00708811)</td><td>(0.947, 0.00708811)</td><td>(0.948, 0.00702462)</td><td>(0.961, 0.00612507)</td><td>(0.965, 0.00581453)</td></tr><tr><th>15</th><td>m: 3000  ni: 1000</td><td>(0.955, 0.00655881)</td><td>(0.958, 0.00634636)</td><td>(0.94, 0.00751375)</td><td>(0.943, 0.00733518)</td><td>(0.952, 0.00676326)</td><td>(0.944, 0.0072744)</td><td>(0.959, 0.00627362)</td><td>(0.947, 0.00708811)</td><td>(0.947, 0.00708811)</td></tr><tr><th>16</th><td>m: 4000  ni: 10</td><td>(0.953, 0.00669596)</td><td>(0.947, 0.00708811)</td><td>(0.95, 0.00689547)</td><td>(0.956, 0.00648892)</td><td>(0.96, 0.00619987)</td><td>(0.949, 0.00696042)</td><td>(0.959, 0.00627362)</td><td>(0.943, 0.00733518)</td><td>(0.94, 0.00751375)</td></tr><tr><th>17</th><td>m: 4000  ni: 25</td><td>(0.95, 0.00689547)</td><td>(0.968, 0.00556839)</td><td>(0.953, 0.00669596)</td><td>(0.942, 0.00739532)</td><td>(0.947, 0.00708811)</td><td>(0.94, 0.00751375)</td><td>(0.948, 0.00702462)</td><td>(0.943, 0.00733518)</td><td>(0.945, 0.00721298)</td></tr><tr><th>18</th><td>m: 4000  ni: 50</td><td>(0.953, 0.00669596)</td><td>(0.962, 0.00604918)</td><td>(0.954, 0.00662781)</td><td>(0.953, 0.00669596)</td><td>(0.946, 0.00715088)</td><td>(0.95, 0.00689547)</td><td>(0.949, 0.00696042)</td><td>(0.967, 0.00565181)</td><td>(0.94, 0.00751375)</td></tr><tr><th>19</th><td>m: 4000  ni: 100</td><td>(0.94, 0.00751375)</td><td>(0.945, 0.00721298)</td><td>(0.937, 0.00768701)</td><td>(0.937, 0.00768701)</td><td>(0.946, 0.00715088)</td><td>(0.937, 0.00768701)</td><td>(0.949, 0.00696042)</td><td>(0.941, 0.00745484)</td><td>(0.956, 0.00648892)</td></tr><tr><th>20</th><td>m: 4000  ni: 1000</td><td>(0.949, 0.00696042)</td><td>(0.944, 0.0072744)</td><td>(0.956, 0.00648892)</td><td>(0.952, 0.00676326)</td><td>(0.944, 0.0072744)</td><td>(0.953, 0.00669596)</td><td>(0.962, 0.00604918)</td><td>(0.951, 0.00682976)</td><td>(0.952, 0.00676326)</td></tr><tr><th>21</th><td>m: 5000  ni: 10</td><td>(0.952, 0.00676326)</td><td>(0.942, 0.00739532)</td><td>(0.941, 0.00745484)</td><td>(0.952, 0.00676326)</td><td>(0.96, 0.00619987)</td><td>(0.948, 0.00702462)</td><td>(0.944, 0.0072744)</td><td>(0.957, 0.00641811)</td><td>(0.948, 0.00702462)</td></tr><tr><th>22</th><td>m: 5000  ni: 25</td><td>(0.948, 0.00702462)</td><td>(0.966, 0.00573384)</td><td>(0.96, 0.00619987)</td><td>(0.951, 0.00682976)</td><td>(0.943, 0.00733518)</td><td>(0.947, 0.00708811)</td><td>(0.949, 0.00696042)</td><td>(0.96, 0.00619987)</td><td>(0.941, 0.00745484)</td></tr><tr><th>23</th><td>m: 5000  ni: 50</td><td>(0.95, 0.00689547)</td><td>(0.95, 0.00689547)</td><td>(0.951, 0.00682976)</td><td>(0.945, 0.00721298)</td><td>(0.95, 0.00689547)</td><td>(0.951, 0.00682976)</td><td>(0.938, 0.00762982)</td><td>(0.964, 0.00589396)</td><td>(0.947, 0.00708811)</td></tr><tr><th>24</th><td>m: 5000  ni: 100</td><td>(0.957, 0.00641811)</td><td>(0.939, 0.00757208)</td><td>(0.957, 0.00641811)</td><td>(0.945, 0.00721298)</td><td>(0.952, 0.00676326)</td><td>(0.931, 0.00801893)</td><td>(0.954, 0.00662781)</td><td>(0.95, 0.00689547)</td><td>(0.932, 0.00796489)</td></tr><tr><th>25</th><td>m: 5000  ni: 1000</td><td>(0.948, 0.00702462)</td><td>(0.94, 0.00751375)</td><td>(0.961, 0.00612507)</td><td>(0.966, 0.00573384)</td><td>(0.955, 0.00655881)</td><td>(0.945, 0.00721298)</td><td>(0.949, 0.00696042)</td><td>(0.952, 0.00676326)</td><td>(0.936, 0.00774364)</td></tr><tr><th>26</th><td>m: 6000  ni: 10</td><td>(0.944, 0.0072744)</td><td>(0.963, 0.00597216)</td><td>(0.96, 0.00619987)</td><td>(0.954, 0.00662781)</td><td>(0.951, 0.00682976)</td><td>(0.937, 0.00768701)</td><td>(0.941, 0.00745484)</td><td>(0.957, 0.00641811)</td><td>(0.95, 0.00689547)</td></tr><tr><th>27</th><td>m: 6000  ni: 25</td><td>(0.945, 0.00721298)</td><td>(0.947, 0.00708811)</td><td>(0.951, 0.00682976)</td><td>(0.953, 0.00669596)</td><td>(0.949, 0.00696042)</td><td>(0.948, 0.00702462)</td><td>(0.947, 0.00708811)</td><td>(0.942, 0.00739532)</td><td>(0.948, 0.00702462)</td></tr><tr><th>28</th><td>m: 6000  ni: 50</td><td>(0.94, 0.00751375)</td><td>(0.947, 0.00708811)</td><td>(0.954, 0.00662781)</td><td>(0.944, 0.0072744)</td><td>(0.952, 0.00676326)</td><td>(0.945, 0.00721298)</td><td>(0.947, 0.00708811)</td><td>(0.948, 0.00702462)</td><td>(0.952, 0.00676326)</td></tr><tr><th>29</th><td>m: 6000  ni: 100</td><td>(0.953, 0.00669596)</td><td>(0.954, 0.00662781)</td><td>(0.942, 0.00739532)</td><td>(0.955, 0.00655881)</td><td>(0.943, 0.00733518)</td><td>(0.96, 0.00619987)</td><td>(0.949, 0.00696042)</td><td>(0.959, 0.00627362)</td><td>(0.962, 0.00604918)</td></tr><tr><th>30</th><td>m: 6000  ni: 1000</td><td>(0.954, 0.00662781)</td><td>(0.947, 0.00708811)</td><td>(0.964, 0.00589396)</td><td>(0.943, 0.00733518)</td><td>(0.945, 0.00721298)</td><td>(0.948, 0.00702462)</td><td>(0.939, 0.00757208)</td><td>(0.954, 0.00662781)</td><td>(0.944, 0.0072744)</td></tr></tbody></table>"
      ],
      "text/latex": [
       "\\begin{tabular}{r|cccccccccc}\n",
       "\t& people\\_obs & β1 & β2 & β3 & β4 & β5 & τ2 & τ3 & τ4 & τ5\\\\\n",
       "\t\\hline\n",
       "\t& String & Tuple… & Tuple… & Tuple… & Tuple… & Tuple… & Tuple… & Tuple… & Tuple… & Tuple…\\\\\n",
       "\t\\hline\n",
       "\t1 & m: 1000  ni: 10 & (0.952, 0.00676326) & (0.943, 0.00733518) & (0.951, 0.00682976) & (0.951, 0.00682976) & (0.944, 0.0072744) & (0.939, 0.00757208) & (0.943, 0.00733518) & (0.947, 0.00708811) & (0.944, 0.0072744) \\\\\n",
       "\t2 & m: 1000  ni: 25 & (0.944, 0.0072744) & (0.958, 0.00634636) & (0.944, 0.0072744) & (0.957, 0.00641811) & (0.957, 0.00641811) & (0.95, 0.00689547) & (0.949, 0.00696042) & (0.948, 0.00702462) & (0.949, 0.00696042) \\\\\n",
       "\t3 & m: 1000  ni: 50 & (0.948, 0.00702462) & (0.95, 0.00689547) & (0.946, 0.00715088) & (0.949, 0.00696042) & (0.934, 0.0078553) & (0.946, 0.00715088) & (0.949, 0.00696042) & (0.94, 0.00751375) & (0.955, 0.00655881) \\\\\n",
       "\t4 & m: 1000  ni: 100 & (0.952, 0.00676326) & (0.952, 0.00676326) & (0.944, 0.0072744) & (0.961, 0.00612507) & (0.942, 0.00739532) & (0.948, 0.00702462) & (0.95, 0.00689547) & (0.953, 0.00669596) & (0.946, 0.00715088) \\\\\n",
       "\t5 & m: 1000  ni: 1000 & (0.957, 0.00641811) & (0.963, 0.00597216) & (0.95, 0.00689547) & (0.956, 0.00648892) & (0.952, 0.00676326) & (0.944, 0.0072744) & (0.942, 0.00739532) & (0.949, 0.00696042) & (0.945, 0.00721298) \\\\\n",
       "\t6 & m: 2000  ni: 10 & (0.951, 0.00682976) & (0.949, 0.00696042) & (0.94, 0.00751375) & (0.947, 0.00708811) & (0.951, 0.00682976) & (0.948, 0.00702462) & (0.946, 0.00715088) & (0.95, 0.00689547) & (0.951, 0.00682976) \\\\\n",
       "\t7 & m: 2000  ni: 25 & (0.959, 0.00627362) & (0.956, 0.00648892) & (0.942, 0.00739532) & (0.949, 0.00696042) & (0.95, 0.00689547) & (0.95, 0.00689547) & (0.952, 0.00676326) & (0.951, 0.00682976) & (0.945, 0.00721298) \\\\\n",
       "\t8 & m: 2000  ni: 50 & (0.952, 0.00676326) & (0.947, 0.00708811) & (0.959, 0.00627362) & (0.939, 0.00757208) & (0.947, 0.00708811) & (0.949, 0.00696042) & (0.933, 0.00791035) & (0.958, 0.00634636) & (0.955, 0.00655881) \\\\\n",
       "\t9 & m: 2000  ni: 100 & (0.954, 0.00662781) & (0.946, 0.00715088) & (0.96, 0.00619987) & (0.963, 0.00597216) & (0.944, 0.0072744) & (0.945, 0.00721298) & (0.951, 0.00682976) & (0.948, 0.00702462) & (0.949, 0.00696042) \\\\\n",
       "\t10 & m: 2000  ni: 1000 & (0.945, 0.00721298) & (0.945, 0.00721298) & (0.965, 0.00581453) & (0.954, 0.00662781) & (0.946, 0.00715088) & (0.949, 0.00696042) & (0.96, 0.00619987) & (0.955, 0.00655881) & (0.948, 0.00702462) \\\\\n",
       "\t11 & m: 3000  ni: 10 & (0.96, 0.00619987) & (0.956, 0.00648892) & (0.949, 0.00696042) & (0.958, 0.00634636) & (0.956, 0.00648892) & (0.951, 0.00682976) & (0.96, 0.00619987) & (0.951, 0.00682976) & (0.952, 0.00676326) \\\\\n",
       "\t12 & m: 3000  ni: 25 & (0.942, 0.00739532) & (0.936, 0.00774364) & (0.949, 0.00696042) & (0.96, 0.00619987) & (0.942, 0.00739532) & (0.948, 0.00702462) & (0.946, 0.00715088) & (0.942, 0.00739532) & (0.946, 0.00715088) \\\\\n",
       "\t13 & m: 3000  ni: 50 & (0.944, 0.0072744) & (0.955, 0.00655881) & (0.941, 0.00745484) & (0.962, 0.00604918) & (0.959, 0.00627362) & (0.954, 0.00662781) & (0.937, 0.00768701) & (0.937, 0.00768701) & (0.948, 0.00702462) \\\\\n",
       "\t14 & m: 3000  ni: 100 & (0.949, 0.00696042) & (0.954, 0.00662781) & (0.944, 0.0072744) & (0.957, 0.00641811) & (0.947, 0.00708811) & (0.947, 0.00708811) & (0.948, 0.00702462) & (0.961, 0.00612507) & (0.965, 0.00581453) \\\\\n",
       "\t15 & m: 3000  ni: 1000 & (0.955, 0.00655881) & (0.958, 0.00634636) & (0.94, 0.00751375) & (0.943, 0.00733518) & (0.952, 0.00676326) & (0.944, 0.0072744) & (0.959, 0.00627362) & (0.947, 0.00708811) & (0.947, 0.00708811) \\\\\n",
       "\t16 & m: 4000  ni: 10 & (0.953, 0.00669596) & (0.947, 0.00708811) & (0.95, 0.00689547) & (0.956, 0.00648892) & (0.96, 0.00619987) & (0.949, 0.00696042) & (0.959, 0.00627362) & (0.943, 0.00733518) & (0.94, 0.00751375) \\\\\n",
       "\t17 & m: 4000  ni: 25 & (0.95, 0.00689547) & (0.968, 0.00556839) & (0.953, 0.00669596) & (0.942, 0.00739532) & (0.947, 0.00708811) & (0.94, 0.00751375) & (0.948, 0.00702462) & (0.943, 0.00733518) & (0.945, 0.00721298) \\\\\n",
       "\t18 & m: 4000  ni: 50 & (0.953, 0.00669596) & (0.962, 0.00604918) & (0.954, 0.00662781) & (0.953, 0.00669596) & (0.946, 0.00715088) & (0.95, 0.00689547) & (0.949, 0.00696042) & (0.967, 0.00565181) & (0.94, 0.00751375) \\\\\n",
       "\t19 & m: 4000  ni: 100 & (0.94, 0.00751375) & (0.945, 0.00721298) & (0.937, 0.00768701) & (0.937, 0.00768701) & (0.946, 0.00715088) & (0.937, 0.00768701) & (0.949, 0.00696042) & (0.941, 0.00745484) & (0.956, 0.00648892) \\\\\n",
       "\t20 & m: 4000  ni: 1000 & (0.949, 0.00696042) & (0.944, 0.0072744) & (0.956, 0.00648892) & (0.952, 0.00676326) & (0.944, 0.0072744) & (0.953, 0.00669596) & (0.962, 0.00604918) & (0.951, 0.00682976) & (0.952, 0.00676326) \\\\\n",
       "\t21 & m: 5000  ni: 10 & (0.952, 0.00676326) & (0.942, 0.00739532) & (0.941, 0.00745484) & (0.952, 0.00676326) & (0.96, 0.00619987) & (0.948, 0.00702462) & (0.944, 0.0072744) & (0.957, 0.00641811) & (0.948, 0.00702462) \\\\\n",
       "\t22 & m: 5000  ni: 25 & (0.948, 0.00702462) & (0.966, 0.00573384) & (0.96, 0.00619987) & (0.951, 0.00682976) & (0.943, 0.00733518) & (0.947, 0.00708811) & (0.949, 0.00696042) & (0.96, 0.00619987) & (0.941, 0.00745484) \\\\\n",
       "\t23 & m: 5000  ni: 50 & (0.95, 0.00689547) & (0.95, 0.00689547) & (0.951, 0.00682976) & (0.945, 0.00721298) & (0.95, 0.00689547) & (0.951, 0.00682976) & (0.938, 0.00762982) & (0.964, 0.00589396) & (0.947, 0.00708811) \\\\\n",
       "\t24 & m: 5000  ni: 100 & (0.957, 0.00641811) & (0.939, 0.00757208) & (0.957, 0.00641811) & (0.945, 0.00721298) & (0.952, 0.00676326) & (0.931, 0.00801893) & (0.954, 0.00662781) & (0.95, 0.00689547) & (0.932, 0.00796489) \\\\\n",
       "\t25 & m: 5000  ni: 1000 & (0.948, 0.00702462) & (0.94, 0.00751375) & (0.961, 0.00612507) & (0.966, 0.00573384) & (0.955, 0.00655881) & (0.945, 0.00721298) & (0.949, 0.00696042) & (0.952, 0.00676326) & (0.936, 0.00774364) \\\\\n",
       "\t26 & m: 6000  ni: 10 & (0.944, 0.0072744) & (0.963, 0.00597216) & (0.96, 0.00619987) & (0.954, 0.00662781) & (0.951, 0.00682976) & (0.937, 0.00768701) & (0.941, 0.00745484) & (0.957, 0.00641811) & (0.95, 0.00689547) \\\\\n",
       "\t27 & m: 6000  ni: 25 & (0.945, 0.00721298) & (0.947, 0.00708811) & (0.951, 0.00682976) & (0.953, 0.00669596) & (0.949, 0.00696042) & (0.948, 0.00702462) & (0.947, 0.00708811) & (0.942, 0.00739532) & (0.948, 0.00702462) \\\\\n",
       "\t28 & m: 6000  ni: 50 & (0.94, 0.00751375) & (0.947, 0.00708811) & (0.954, 0.00662781) & (0.944, 0.0072744) & (0.952, 0.00676326) & (0.945, 0.00721298) & (0.947, 0.00708811) & (0.948, 0.00702462) & (0.952, 0.00676326) \\\\\n",
       "\t29 & m: 6000  ni: 100 & (0.953, 0.00669596) & (0.954, 0.00662781) & (0.942, 0.00739532) & (0.955, 0.00655881) & (0.943, 0.00733518) & (0.96, 0.00619987) & (0.949, 0.00696042) & (0.959, 0.00627362) & (0.962, 0.00604918) \\\\\n",
       "\t30 & m: 6000  ni: 1000 & (0.954, 0.00662781) & (0.947, 0.00708811) & (0.964, 0.00589396) & (0.943, 0.00733518) & (0.945, 0.00721298) & (0.948, 0.00702462) & (0.939, 0.00757208) & (0.954, 0.00662781) & (0.944, 0.0072744) \\\\\n",
       "\\end{tabular}\n"
      ],
      "text/plain": [
       "30×10 DataFrame\n",
       "│ Row │ people_obs        │ β1                  │ β2                  │ β3                  │ β4                  │ β5                  │ τ2                  │ τ3                  │ τ4                  │ τ5                  │\n",
       "│     │ \u001b[90mString\u001b[39m            │ \u001b[90mTuple…\u001b[39m              │ \u001b[90mTuple…\u001b[39m              │ \u001b[90mTuple…\u001b[39m              │ \u001b[90mTuple…\u001b[39m              │ \u001b[90mTuple…\u001b[39m              │ \u001b[90mTuple…\u001b[39m              │ \u001b[90mTuple…\u001b[39m              │ \u001b[90mTuple…\u001b[39m              │ \u001b[90mTuple…\u001b[39m              │\n",
       "├─────┼───────────────────┼─────────────────────┼─────────────────────┼─────────────────────┼─────────────────────┼─────────────────────┼─────────────────────┼─────────────────────┼─────────────────────┼─────────────────────┤\n",
       "│ 1   │ m: 1000  ni: 10   │ (0.952, 0.00676326) │ (0.943, 0.00733518) │ (0.951, 0.00682976) │ (0.951, 0.00682976) │ (0.944, 0.0072744)  │ (0.939, 0.00757208) │ (0.943, 0.00733518) │ (0.947, 0.00708811) │ (0.944, 0.0072744)  │\n",
       "│ 2   │ m: 1000  ni: 25   │ (0.944, 0.0072744)  │ (0.958, 0.00634636) │ (0.944, 0.0072744)  │ (0.957, 0.00641811) │ (0.957, 0.00641811) │ (0.95, 0.00689547)  │ (0.949, 0.00696042) │ (0.948, 0.00702462) │ (0.949, 0.00696042) │\n",
       "│ 3   │ m: 1000  ni: 50   │ (0.948, 0.00702462) │ (0.95, 0.00689547)  │ (0.946, 0.00715088) │ (0.949, 0.00696042) │ (0.934, 0.0078553)  │ (0.946, 0.00715088) │ (0.949, 0.00696042) │ (0.94, 0.00751375)  │ (0.955, 0.00655881) │\n",
       "│ 4   │ m: 1000  ni: 100  │ (0.952, 0.00676326) │ (0.952, 0.00676326) │ (0.944, 0.0072744)  │ (0.961, 0.00612507) │ (0.942, 0.00739532) │ (0.948, 0.00702462) │ (0.95, 0.00689547)  │ (0.953, 0.00669596) │ (0.946, 0.00715088) │\n",
       "│ 5   │ m: 1000  ni: 1000 │ (0.957, 0.00641811) │ (0.963, 0.00597216) │ (0.95, 0.00689547)  │ (0.956, 0.00648892) │ (0.952, 0.00676326) │ (0.944, 0.0072744)  │ (0.942, 0.00739532) │ (0.949, 0.00696042) │ (0.945, 0.00721298) │\n",
       "│ 6   │ m: 2000  ni: 10   │ (0.951, 0.00682976) │ (0.949, 0.00696042) │ (0.94, 0.00751375)  │ (0.947, 0.00708811) │ (0.951, 0.00682976) │ (0.948, 0.00702462) │ (0.946, 0.00715088) │ (0.95, 0.00689547)  │ (0.951, 0.00682976) │\n",
       "│ 7   │ m: 2000  ni: 25   │ (0.959, 0.00627362) │ (0.956, 0.00648892) │ (0.942, 0.00739532) │ (0.949, 0.00696042) │ (0.95, 0.00689547)  │ (0.95, 0.00689547)  │ (0.952, 0.00676326) │ (0.951, 0.00682976) │ (0.945, 0.00721298) │\n",
       "│ 8   │ m: 2000  ni: 50   │ (0.952, 0.00676326) │ (0.947, 0.00708811) │ (0.959, 0.00627362) │ (0.939, 0.00757208) │ (0.947, 0.00708811) │ (0.949, 0.00696042) │ (0.933, 0.00791035) │ (0.958, 0.00634636) │ (0.955, 0.00655881) │\n",
       "│ 9   │ m: 2000  ni: 100  │ (0.954, 0.00662781) │ (0.946, 0.00715088) │ (0.96, 0.00619987)  │ (0.963, 0.00597216) │ (0.944, 0.0072744)  │ (0.945, 0.00721298) │ (0.951, 0.00682976) │ (0.948, 0.00702462) │ (0.949, 0.00696042) │\n",
       "│ 10  │ m: 2000  ni: 1000 │ (0.945, 0.00721298) │ (0.945, 0.00721298) │ (0.965, 0.00581453) │ (0.954, 0.00662781) │ (0.946, 0.00715088) │ (0.949, 0.00696042) │ (0.96, 0.00619987)  │ (0.955, 0.00655881) │ (0.948, 0.00702462) │\n",
       "⋮\n",
       "│ 20  │ m: 4000  ni: 1000 │ (0.949, 0.00696042) │ (0.944, 0.0072744)  │ (0.956, 0.00648892) │ (0.952, 0.00676326) │ (0.944, 0.0072744)  │ (0.953, 0.00669596) │ (0.962, 0.00604918) │ (0.951, 0.00682976) │ (0.952, 0.00676326) │\n",
       "│ 21  │ m: 5000  ni: 10   │ (0.952, 0.00676326) │ (0.942, 0.00739532) │ (0.941, 0.00745484) │ (0.952, 0.00676326) │ (0.96, 0.00619987)  │ (0.948, 0.00702462) │ (0.944, 0.0072744)  │ (0.957, 0.00641811) │ (0.948, 0.00702462) │\n",
       "│ 22  │ m: 5000  ni: 25   │ (0.948, 0.00702462) │ (0.966, 0.00573384) │ (0.96, 0.00619987)  │ (0.951, 0.00682976) │ (0.943, 0.00733518) │ (0.947, 0.00708811) │ (0.949, 0.00696042) │ (0.96, 0.00619987)  │ (0.941, 0.00745484) │\n",
       "│ 23  │ m: 5000  ni: 50   │ (0.95, 0.00689547)  │ (0.95, 0.00689547)  │ (0.951, 0.00682976) │ (0.945, 0.00721298) │ (0.95, 0.00689547)  │ (0.951, 0.00682976) │ (0.938, 0.00762982) │ (0.964, 0.00589396) │ (0.947, 0.00708811) │\n",
       "│ 24  │ m: 5000  ni: 100  │ (0.957, 0.00641811) │ (0.939, 0.00757208) │ (0.957, 0.00641811) │ (0.945, 0.00721298) │ (0.952, 0.00676326) │ (0.931, 0.00801893) │ (0.954, 0.00662781) │ (0.95, 0.00689547)  │ (0.932, 0.00796489) │\n",
       "│ 25  │ m: 5000  ni: 1000 │ (0.948, 0.00702462) │ (0.94, 0.00751375)  │ (0.961, 0.00612507) │ (0.966, 0.00573384) │ (0.955, 0.00655881) │ (0.945, 0.00721298) │ (0.949, 0.00696042) │ (0.952, 0.00676326) │ (0.936, 0.00774364) │\n",
       "│ 26  │ m: 6000  ni: 10   │ (0.944, 0.0072744)  │ (0.963, 0.00597216) │ (0.96, 0.00619987)  │ (0.954, 0.00662781) │ (0.951, 0.00682976) │ (0.937, 0.00768701) │ (0.941, 0.00745484) │ (0.957, 0.00641811) │ (0.95, 0.00689547)  │\n",
       "│ 27  │ m: 6000  ni: 25   │ (0.945, 0.00721298) │ (0.947, 0.00708811) │ (0.951, 0.00682976) │ (0.953, 0.00669596) │ (0.949, 0.00696042) │ (0.948, 0.00702462) │ (0.947, 0.00708811) │ (0.942, 0.00739532) │ (0.948, 0.00702462) │\n",
       "│ 28  │ m: 6000  ni: 50   │ (0.94, 0.00751375)  │ (0.947, 0.00708811) │ (0.954, 0.00662781) │ (0.944, 0.0072744)  │ (0.952, 0.00676326) │ (0.945, 0.00721298) │ (0.947, 0.00708811) │ (0.948, 0.00702462) │ (0.952, 0.00676326) │\n",
       "│ 29  │ m: 6000  ni: 100  │ (0.953, 0.00669596) │ (0.954, 0.00662781) │ (0.942, 0.00739532) │ (0.955, 0.00655881) │ (0.943, 0.00733518) │ (0.96, 0.00619987)  │ (0.949, 0.00696042) │ (0.959, 0.00627362) │ (0.962, 0.00604918) │\n",
       "│ 30  │ m: 6000  ni: 1000 │ (0.954, 0.00662781) │ (0.947, 0.00708811) │ (0.964, 0.00589396) │ (0.943, 0.00733518) │ (0.945, 0.00721298) │ (0.948, 0.00702462) │ (0.939, 0.00757208) │ (0.954, 0.00662781) │ (0.944, 0.0072744)  │"
      ]
     },
     "execution_count": 88,
     "metadata": {},
     "output_type": "execute_result"
    }
   ],
   "source": [
    "using Random, DataFrames, DelimitedFiles, Statistics\n",
    "import StatsBase: sem\n",
    "ENV[\"COLUMNS\"]=800\n",
    "\n",
    "βτcoverage = readdlm(\"result_files/beta_tau_coverage_5betas_normal_normal_lognormal_1000reps_sim.csv\", ',')\n",
    "samplesizes = collect(1000:1000:6000)\n",
    "ns = [10; 25; 50; 100; 1000]\n",
    "nsims = 1000\n",
    "\n",
    "covdf = DataFrame(transpose(βτcoverage))\n",
    "rename!(covdf, Symbol.([[\"β$i\" for i in 1:p]; [\"τ$i\" for i in 1:l]]))\n",
    "covdf[!, :samplesize] = sample_sizes\n",
    "covdf[!, :obssize] = obs_sizes\n",
    "first(covdf, 10)\n",
    "\n",
    "row_stats = [[(mean(col), sem(col)) for col = eachcol(d[!, 1:end-2])] for d = groupby(covdf, [:samplesize; :obssize])]\n",
    "df = DataFrame(row_stats)\n",
    "ss_obs = unique(\"m: \" .* sample_sizes .* \"  ni: \" .* obs_sizes)\n",
    "rename!(df, Symbol.(ss_obs))\n",
    "covdfdisplay = DataFrame([[names(df)]; collect.(eachrow(df))], \n",
    "    [:people_obs; Symbol.([[\"β$i\" for i in 1:p]; [\"τ$i\" for i in 1:l]])])\n",
    "deletecols!(covdfdisplay, p + 2)\n",
    "covdfdisplay"
   ]
  },
  {
   "cell_type": "code",
   "execution_count": 89,
   "metadata": {},
   "outputs": [
    {
     "name": "stdout",
     "output_type": "stream",
     "text": [
      "\\begin{table}[ht]\n",
      "\\begin{center}\n",
      "\\begin{adjustbox}{width=\\textwidth}\n",
      "\\begin{tabular}{lcccccccccc}\n",
      "\\toprule\n",
      "\\multicolumn{1}{c}{\\,}&\\multicolumn{5}{c}{$\\betabf$}&\\multicolumn{5}{c}{$\\taubf$}\\\\\\cmidrule(lr){2-6}\\cmidrule(lr){7-10}\n",
      " sample size: obs per & $\\beta_1$  & $\\beta_2$ & $\\beta_3$ & $\\beta_4$ & $\\beta_5$ & & $\\tau_2$ & $\\tau_3$ & $\\tau_4$ & $\\tau_5$ \\\\\\midrule\n",
      " m: 1000  ni: 10 & 0.952 (0.007)  & 0.943 (0.007)  & 0.951 (0.007)  & 0.951 (0.007)  & 0.944 (0.007)  & 0.939 (0.008)  & 0.943 (0.007)  & 0.947 (0.007)  & 0.944 (0.007)  \\\\ \n",
      " m: 1000  ni: 25 & 0.944 (0.007)  & 0.958 (0.006)  & 0.944 (0.007)  & 0.957 (0.006)  & 0.957 (0.006)  & 0.950 (0.007)  & 0.949 (0.007)  & 0.948 (0.007)  & 0.949 (0.007)  \\\\ \n",
      " m: 1000  ni: 50 & 0.948 (0.007)  & 0.950 (0.007)  & 0.946 (0.007)  & 0.949 (0.007)  & 0.934 (0.008)  & 0.946 (0.007)  & 0.949 (0.007)  & 0.940 (0.008)  & 0.955 (0.007)  \\\\ \n",
      " m: 1000  ni: 100 & 0.952 (0.007)  & 0.952 (0.007)  & 0.944 (0.007)  & 0.961 (0.006)  & 0.942 (0.007)  & 0.948 (0.007)  & 0.950 (0.007)  & 0.953 (0.007)  & 0.946 (0.007)  \\\\ \n",
      " m: 1000  ni: 1000 & 0.957 (0.006)  & 0.963 (0.006)  & 0.950 (0.007)  & 0.956 (0.006)  & 0.952 (0.007)  & 0.944 (0.007)  & 0.942 (0.007)  & 0.949 (0.007)  & 0.945 (0.007)  \\\\ \n",
      " m: 2000  ni: 10 & 0.951 (0.007)  & 0.949 (0.007)  & 0.940 (0.008)  & 0.947 (0.007)  & 0.951 (0.007)  & 0.948 (0.007)  & 0.946 (0.007)  & 0.950 (0.007)  & 0.951 (0.007)  \\\\ \n",
      " m: 2000  ni: 25 & 0.959 (0.006)  & 0.956 (0.006)  & 0.942 (0.007)  & 0.949 (0.007)  & 0.950 (0.007)  & 0.950 (0.007)  & 0.952 (0.007)  & 0.951 (0.007)  & 0.945 (0.007)  \\\\ \n",
      " m: 2000  ni: 50 & 0.952 (0.007)  & 0.947 (0.007)  & 0.959 (0.006)  & 0.939 (0.008)  & 0.947 (0.007)  & 0.949 (0.007)  & 0.933 (0.008)  & 0.958 (0.006)  & 0.955 (0.007)  \\\\ \n",
      " m: 2000  ni: 100 & 0.954 (0.007)  & 0.946 (0.007)  & 0.960 (0.006)  & 0.963 (0.006)  & 0.944 (0.007)  & 0.945 (0.007)  & 0.951 (0.007)  & 0.948 (0.007)  & 0.949 (0.007)  \\\\ \n",
      " m: 2000  ni: 1000 & 0.945 (0.007)  & 0.945 (0.007)  & 0.965 (0.006)  & 0.954 (0.007)  & 0.946 (0.007)  & 0.949 (0.007)  & 0.960 (0.006)  & 0.955 (0.007)  & 0.948 (0.007)  \\\\ \n",
      " m: 3000  ni: 10 & 0.960 (0.006)  & 0.956 (0.006)  & 0.949 (0.007)  & 0.958 (0.006)  & 0.956 (0.006)  & 0.951 (0.007)  & 0.960 (0.006)  & 0.951 (0.007)  & 0.952 (0.007)  \\\\ \n",
      " m: 3000  ni: 25 & 0.942 (0.007)  & 0.936 (0.008)  & 0.949 (0.007)  & 0.960 (0.006)  & 0.942 (0.007)  & 0.948 (0.007)  & 0.946 (0.007)  & 0.942 (0.007)  & 0.946 (0.007)  \\\\ \n",
      " m: 3000  ni: 50 & 0.944 (0.007)  & 0.955 (0.007)  & 0.941 (0.007)  & 0.962 (0.006)  & 0.959 (0.006)  & 0.954 (0.007)  & 0.937 (0.008)  & 0.937 (0.008)  & 0.948 (0.007)  \\\\ \n",
      " m: 3000  ni: 100 & 0.949 (0.007)  & 0.954 (0.007)  & 0.944 (0.007)  & 0.957 (0.006)  & 0.947 (0.007)  & 0.947 (0.007)  & 0.948 (0.007)  & 0.961 (0.006)  & 0.965 (0.006)  \\\\ \n",
      " m: 3000  ni: 1000 & 0.955 (0.007)  & 0.958 (0.006)  & 0.940 (0.008)  & 0.943 (0.007)  & 0.952 (0.007)  & 0.944 (0.007)  & 0.959 (0.006)  & 0.947 (0.007)  & 0.947 (0.007)  \\\\ \n",
      " m: 4000  ni: 10 & 0.953 (0.007)  & 0.947 (0.007)  & 0.950 (0.007)  & 0.956 (0.006)  & 0.960 (0.006)  & 0.949 (0.007)  & 0.959 (0.006)  & 0.943 (0.007)  & 0.940 (0.008)  \\\\ \n",
      " m: 4000  ni: 25 & 0.950 (0.007)  & 0.968 (0.006)  & 0.953 (0.007)  & 0.942 (0.007)  & 0.947 (0.007)  & 0.940 (0.008)  & 0.948 (0.007)  & 0.943 (0.007)  & 0.945 (0.007)  \\\\ \n",
      " m: 4000  ni: 50 & 0.953 (0.007)  & 0.962 (0.006)  & 0.954 (0.007)  & 0.953 (0.007)  & 0.946 (0.007)  & 0.950 (0.007)  & 0.949 (0.007)  & 0.967 (0.006)  & 0.940 (0.008)  \\\\ \n",
      " m: 4000  ni: 100 & 0.940 (0.008)  & 0.945 (0.007)  & 0.937 (0.008)  & 0.937 (0.008)  & 0.946 (0.007)  & 0.937 (0.008)  & 0.949 (0.007)  & 0.941 (0.007)  & 0.956 (0.006)  \\\\ \n",
      " m: 4000  ni: 1000 & 0.949 (0.007)  & 0.944 (0.007)  & 0.956 (0.006)  & 0.952 (0.007)  & 0.944 (0.007)  & 0.953 (0.007)  & 0.962 (0.006)  & 0.951 (0.007)  & 0.952 (0.007)  \\\\ \n",
      " m: 5000  ni: 10 & 0.952 (0.007)  & 0.942 (0.007)  & 0.941 (0.007)  & 0.952 (0.007)  & 0.960 (0.006)  & 0.948 (0.007)  & 0.944 (0.007)  & 0.957 (0.006)  & 0.948 (0.007)  \\\\ \n",
      " m: 5000  ni: 25 & 0.948 (0.007)  & 0.966 (0.006)  & 0.960 (0.006)  & 0.951 (0.007)  & 0.943 (0.007)  & 0.947 (0.007)  & 0.949 (0.007)  & 0.960 (0.006)  & 0.941 (0.007)  \\\\ \n",
      " m: 5000  ni: 50 & 0.950 (0.007)  & 0.950 (0.007)  & 0.951 (0.007)  & 0.945 (0.007)  & 0.950 (0.007)  & 0.951 (0.007)  & 0.938 (0.008)  & 0.964 (0.006)  & 0.947 (0.007)  \\\\ \n",
      " m: 5000  ni: 100 & 0.957 (0.006)  & 0.939 (0.008)  & 0.957 (0.006)  & 0.945 (0.007)  & 0.952 (0.007)  & 0.931 (0.008)  & 0.954 (0.007)  & 0.950 (0.007)  & 0.932 (0.008)  \\\\ \n",
      " m: 5000  ni: 1000 & 0.948 (0.007)  & 0.940 (0.008)  & 0.961 (0.006)  & 0.966 (0.006)  & 0.955 (0.007)  & 0.945 (0.007)  & 0.949 (0.007)  & 0.952 (0.007)  & 0.936 (0.008)  \\\\ \n",
      " m: 6000  ni: 10 & 0.944 (0.007)  & 0.963 (0.006)  & 0.960 (0.006)  & 0.954 (0.007)  & 0.951 (0.007)  & 0.937 (0.008)  & 0.941 (0.007)  & 0.957 (0.006)  & 0.950 (0.007)  \\\\ \n",
      " m: 6000  ni: 25 & 0.945 (0.007)  & 0.947 (0.007)  & 0.951 (0.007)  & 0.953 (0.007)  & 0.949 (0.007)  & 0.948 (0.007)  & 0.947 (0.007)  & 0.942 (0.007)  & 0.948 (0.007)  \\\\ \n",
      " m: 6000  ni: 50 & 0.940 (0.008)  & 0.947 (0.007)  & 0.954 (0.007)  & 0.944 (0.007)  & 0.952 (0.007)  & 0.945 (0.007)  & 0.947 (0.007)  & 0.948 (0.007)  & 0.952 (0.007)  \\\\ \n",
      " m: 6000  ni: 100 & 0.953 (0.007)  & 0.954 (0.007)  & 0.942 (0.007)  & 0.955 (0.007)  & 0.943 (0.007)  & 0.960 (0.006)  & 0.949 (0.007)  & 0.959 (0.006)  & 0.962 (0.006)  \\\\ \n",
      " m: 6000  ni: 1000 & 0.954 (0.007)  & 0.947 (0.007)  & 0.964 (0.006)  & 0.943 (0.007)  & 0.945 (0.007)  & 0.948 (0.007)  & 0.939 (0.008)  & 0.954 (0.007)  & 0.944 (0.007)  \\\\ \n",
      "\\bottomrule\n",
      "\\end{tabular}\n",
      "\\end{adjustbox}\n",
      "\\end{center}\n",
      "\\caption{Empirical coverage rate of 95\\% confidence intervals for the (Normal, Normal, Log-Normal) simulations. Listed are the empirical coverage rates with standard errors in the parentheses based on 1000 replicates.}\n",
      "\\label{table:coverage_table_mvt_gamma}\n",
      "\\end{table}%\n"
     ]
    }
   ],
   "source": [
    "using Printf   \n",
    "println(\"\\\\begin{table}[ht]\")\n",
    "println(\"\\\\begin{center}\")\n",
    "println(\"\\\\begin{adjustbox}{width=\\\\textwidth}\")\n",
    "println(\"\\\\begin{tabular}{lcccccccccc}\")\n",
    "println(\"\\\\toprule\")\n",
    "println(\"\\\\multicolumn{1}{c}{\\\\,}&\\\\multicolumn{5}{c}{\\$\\\\betabf\\$}&\\\\multicolumn{5}{c}{\\$\\\\taubf\\$}\\\\\\\\\\\\cmidrule(lr){2-6}\\\\cmidrule(lr){7-10}\")\n",
    "println(\" sample size: obs per & \\$\\\\beta_1\\$  & \\$\\\\beta_2\\$ & \\$\\\\beta_3\\$ & \\$\\\\beta_4\\$ & \\$\\\\beta_5\\$ & & \\$\\\\tau_2\\$ & \\$\\\\tau_3\\$ & \\$\\\\tau_4\\$ & \\$\\\\tau_5\\$ \\\\\\\\\\\\midrule\")\n",
    "m, n = size(covdfdisplay)\n",
    "for j in 1:m\n",
    "    print(\" $(covdfdisplay[j, 1])\")\n",
    "print(join([\" & \" * @sprintf(\"%.3f\", covdfdisplay[j, i][1]) * \" (\" * @sprintf(\"%.3f\", covdfdisplay[j, i][2]) * \") \" for i in 2:n]))\n",
    "    println(\" \\\\\\\\ \")\n",
    "end\n",
    "println(\"\\\\bottomrule\")\n",
    "println(\"\\\\end{tabular}\")\n",
    "println(\"\\\\end{adjustbox}\")\n",
    "println(\"\\\\end{center}\")\n",
    "println(\"\\\\caption{Empirical coverage rate of 95\\\\% confidence intervals for the (Normal, Normal, Log-Normal) simulations. Listed are the empirical coverage rates with standard errors in the parentheses based on 1000 replicates.}\")\n",
    "println(\"\\\\label{table:coverage_table_norm}\")\n",
    "println(\"\\\\end{table}%\")"
   ]
  },
  {
   "cell_type": "markdown",
   "metadata": {},
   "source": [
    "## Multivariate T, Multivariate Gamma, Inverse-Gamma simulation. "
   ]
  },
  {
   "cell_type": "markdown",
   "metadata": {},
   "source": [
    "The following code runs the simulation and saves the results."
   ]
  },
  {
   "cell_type": "code",
   "execution_count": null,
   "metadata": {},
   "outputs": [],
   "source": [
    "using WiSER, DelimitedFiles, LinearAlgebra, Random, KNITRO\n",
    "using Random, Roots, SpecialFunctions\n",
    "\n",
    "function MSE(m::WSVarLmmModel, β::Vector, τ::Vector, Σγ::Matrix)\n",
    "    mseβ = sum(abs2, m.β - β) / m.p\n",
    "    mseτ = sum(abs2, m.τ[2:end] - τ[2:end]) / (m.l - 1)\n",
    "    msevechLγ = sum(abs2, m.Σγ - Σγ) / abs2(m.q)\n",
    "    return mseβ, mseτ, msevechLγ\n",
    "end\n",
    "\n",
    "function coverage!(m::WSVarLmmModel, trueparams::Vector, \n",
    "    intervals::Matrix, curcoverage::Vector)\n",
    "    copyto!(intervals, confint(m))\n",
    "    lbs = @views intervals[:, 1]\n",
    "    ubs = @views intervals[:, 2]\n",
    "    map!((val, lb, ub) -> val >= lb && \n",
    "        val <= ub, curcoverage, trueparams, lbs, ubs)\n",
    "    return curcoverage\n",
    "end\n",
    "\n",
    "# dimensions\n",
    "@show Threads.nthreads()\n",
    "p  = 5    # number of fixed effects, including intercept\n",
    "q  = 3    # number of random effects, including intercept\n",
    "l  = 5    # number of WS variance covariates, including intercept\n",
    "# true parameter values\n",
    "βtrue = [ 0.1; 6.5; -3.5; 1.0; 5]\n",
    "τtrue = [0.0; 0.5; -0.2; 0.5; 0.0]#[-1.5; 1.5; -0.5; 0.0; 0.0]\n",
    "Σγ    = [1.5 0.5 0.3;\n",
    "         0.5 1.0 0.2;\n",
    "         0.3 0.2 0.5];\n",
    "δγω   = [0.0; 0.0; 0.0] # for easier generation of (γ, ω)\n",
    "σω    = 0.5\n",
    "Σγω   = [Σγ δγω; δγω' σω]\n",
    "Lγω   = cholesky(Symmetric(Σγω), check = false).L\n",
    "Lγ    = Lγω[1:q, 1:q]\n",
    "lγω   = Lγω[q + 1, 1:q]\n",
    "lω    = Lγω[q + 1, q + 1]\n",
    "# parameters for Gamma random deviate ω\n",
    "# If X ∼ Gamma(α, θ), then E[-ln(X)] = - ψ(α) - ln(θ), Var[-ln(X)] = ψ'(α).\n",
    "# ωi = log(inv(X)) = - log(X)\n",
    "# We want Var[ωi] = ψ'(α) = σω and E[ωi] = - ψ(α) - ln(θ) = 0\n",
    "ωα    = Roots.find_zero(x -> trigamma(x) - σω, 1)\n",
    "ωα > 1 || error(\"ωα needs to be >1 for the existence of mean of inverse-gamma\")\n",
    "ωθ    = exp(-digamma(ωα))\n",
    "# parameters for Gamma random deviate γ\n",
    "# If X ∼ Gamma(α, θ), then E[X] = αθ, Var[X] = αθ^2.\n",
    "# We want Var[X] = 1 and don't care about mean (will shift it to 0)\n",
    "γα    = 4             # shape parameter \n",
    "γθ    = sqrt(inv(γα)) # scale parameter\n",
    "# degree of freedom for t\n",
    "ν     = 6\n",
    "# generate data\n",
    "γ     = Vector{Float64}(undef, q)\n",
    "z     = similar(γ) # hold vector of iid gamma\n",
    "\n",
    "intervals = zeros(p + l, 2) #hold intervals\n",
    "curcoverage = zeros(p + l) #hold current coverage resutls\n",
    "trueparams = [βtrue; τtrue] #hold true parameters\n",
    "\n",
    "#simulation parameters\n",
    "samplesizes = collect(1000:1000:6000)\n",
    "ns = [10; 25; 50; 100; 1000]\n",
    "nsims = 1000\n",
    "\n",
    "#storage for results\n",
    "βMseResults = ones(nsims * length(ns) * length(samplesizes))\n",
    "τMseResults = ones(nsims * length(ns) * length(samplesizes))\n",
    "ΣγMseResults = ones(nsims * length(ns) *  length(samplesizes))\n",
    "βτcoverage = Matrix{Float64}(undef, p + l, nsims * length(ns) * length(samplesizes))\n",
    "fittimes = zeros(nsims * length(ns) * length(samplesizes))\n",
    "solver = KNITRO.KnitroSolver(outlev=0)\n",
    "\n",
    "st = time()\n",
    "currentind = 1\n",
    "for t in 1:length(samplesizes)\n",
    "    m = samplesizes[t]\n",
    "    obsvec = Vector{WSVarLmmObs{Float64}}(undef, m)\n",
    "    for k in 1:length(ns)\n",
    "        ni = ns[k] # number of observations per individual\n",
    "        y = Vector{Float64}(undef, ni)\n",
    "        for j in 1:nsims\n",
    "            println(\"rep $j obs per person $ni samplesize $m\")\n",
    "            Random.seed!(j + 100000k + 1000t)\n",
    "            for i in 1:m\n",
    "                # first column intercept, remaining entries iid std normal\n",
    "                X = Matrix{Float64}(undef, ni, p)\n",
    "                X[:, 1] .= 1\n",
    "                @views randn!(X[:, 2:p])\n",
    "                # first column intercept, remaining entries iid std normal\n",
    "                Z = Matrix{Float64}(undef, ni, q)\n",
    "                Z[:, 1] .= 1\n",
    "                @views randn!(Z[:, 2:q])\n",
    "                # first column intercept, remaining entries iid std normal\n",
    "                W = Matrix{Float64}(undef, ni, l)\n",
    "                W[:, 1] .= 1\n",
    "                @views randn!(W[:, 2:l])\n",
    "                # generate ω ∼ log-inv-gamma(ωα, ωθ)\n",
    "                ω = -log(rand(Gamma(ωα, ωθ)))\n",
    "                # generate random effects: γ = Lγ * z\n",
    "                # z is iid Gamma with variance 1 and shifted to have mean 0\n",
    "                Distributions.rand!(Gamma(γα, γθ), z)\n",
    "                z .-= γα * γθ # shift to have mean 0\n",
    "                mul!(γ, Lγ, z)\n",
    "                # generate y from t distribution (ν, μy, σ2ϵ)\n",
    "                μy  = X * βtrue + Z * γ\n",
    "                σ2ϵ = W * τtrue .+ dot(γ, lγω) .+ ω\n",
    "                ysd = exp.(0.5 .* (σ2ϵ))\n",
    "                # note: variance of T(ν) is ν / (ν - 2)\n",
    "                y = μy + sqrt(((ν - 2) / ν)) .* ysd .* rand(TDist(ν), ni)\n",
    "                # form a VarLmmObs instance\n",
    "                obsvec[i] = WSVarLmmObs(y, X, Z, W)\n",
    "            end\n",
    "            # form VarLmmModel\n",
    "            vlmm = WSVarLmmModel(obsvec);\n",
    "            fittime = NaN\n",
    "            try \n",
    "                fittime = @elapsed WiSER.fit!(vlmm, solver, parallel = false)\n",
    "                confint(vlmm)\n",
    "            catch\n",
    "                println(\"rep $j ni obs = $ni , samplesize = $m had an error\")\n",
    "                try \n",
    "                    fittime = @elapsed WiSER.fit!(vlmm, Ipopt.IpoptSolver(print_level=1, \n",
    "                        watchdog_shortened_iter_trigger=3, max_iter=100), parallel = false)\n",
    "                        confint(vlmm)\n",
    "                catch\n",
    "                    println(\"rep $j ni obs = $ni , samplesize = $m had a second error\")\n",
    "                    try\n",
    "                        fittime = @elapsed WiSER.fit!(vlmm, init = init_mom!(vlmm), parallel = false)\n",
    "                        confint(vlmm)\n",
    "                    catch\n",
    "                        println(\"rep $j ni obs = $ni , samplesize = $m had a third error\")\n",
    "                        βMseResults[currentind] = NaN\n",
    "                        τMseResults[currentind] = NaN\n",
    "                        ΣγMseResults[currentind] = NaN\n",
    "                        βτcoverage[:, currentind] .= NaN\n",
    "                        fittimes[currentind] = NaN\n",
    "                        currentind += 1\n",
    "                        continue\n",
    "                    end\n",
    "                end\n",
    "            end\n",
    "            coverage!(vlmm, trueparams, intervals, curcoverage)\n",
    "            mseβ, mseτ, mseΣγ = MSE(vlmm, βtrue, τtrue, Σγ)\n",
    "\n",
    "            #index = Int(nsims * length(ns) * (t - 1) + nsims * (k - 1) + j)\n",
    "            global currentind\n",
    "            @views copyto!(βτcoverage[:, currentind], curcoverage)\n",
    "            βMseResults[currentind] = mseβ\n",
    "            τMseResults[currentind] = mseτ\n",
    "            ΣγMseResults[currentind] = mseΣγ\n",
    "            fittimes[currentind] = fittime\n",
    "            currentind += 1\n",
    "        end\n",
    "    end\n",
    "end \n",
    "en = time()\n",
    "\n",
    "@show en - st #seconds \n",
    "\n",
    "ftail = \"mvt_gamma_invgamma_$(nsims)reps_sim.csv\"\n",
    "writedlm(\"result_files/mse_beta_\" * ftail, βMseResults, ',')\n",
    "writedlm(\"result_files/mse_tau_\" * ftail, τMseResults, ',')\n",
    "writedlm(\"result_files/mse_Sigma_\" * ftail, ΣγMseResults, ',')\n",
    "writedlm(\"result_files/beta_tau_coverage_5betas_\" * ftail, βτcoverage, ',')\n",
    "writedlm(\"result_files/fittimes\" * ftail, fittimes, ',')"
   ]
  },
  {
   "cell_type": "markdown",
   "metadata": {},
   "source": [
    "#### MSE Figure\n",
    "\n",
    "The following reproduces Figure 3 (the MSE Figure) that uses results from both simulations."
   ]
  },
  {
   "cell_type": "code",
   "execution_count": 28,
   "metadata": {},
   "outputs": [
    {
     "data": {
      "text/html": [
       "<table class=\"data-frame\"><thead><tr><th></th><th>mse</th><th>obssize</th><th>samplesize</th><th>parameters</th><th>robust</th></tr><tr><th></th><th>Float64</th><th>String</th><th>String</th><th>String</th><th>String</th></tr></thead><tbody><p>179,977 rows × 5 columns</p><tr><th>1</th><td>9.26572e-5</td><td>10</td><td>1000</td><td>beta</td><td>MvT Gamma Inverse Gamma</td></tr><tr><th>2</th><td>0.00214898</td><td>10</td><td>1000</td><td>beta</td><td>MvT Gamma Inverse Gamma</td></tr><tr><th>3</th><td>0.0018297</td><td>10</td><td>1000</td><td>beta</td><td>MvT Gamma Inverse Gamma</td></tr><tr><th>4</th><td>0.000679242</td><td>10</td><td>1000</td><td>beta</td><td>MvT Gamma Inverse Gamma</td></tr><tr><th>5</th><td>0.000246478</td><td>10</td><td>1000</td><td>beta</td><td>MvT Gamma Inverse Gamma</td></tr><tr><th>6</th><td>7.69413e-5</td><td>10</td><td>1000</td><td>beta</td><td>MvT Gamma Inverse Gamma</td></tr><tr><th>7</th><td>0.00010664</td><td>10</td><td>1000</td><td>beta</td><td>MvT Gamma Inverse Gamma</td></tr><tr><th>8</th><td>0.000184393</td><td>10</td><td>1000</td><td>beta</td><td>MvT Gamma Inverse Gamma</td></tr><tr><th>9</th><td>7.93118e-5</td><td>10</td><td>1000</td><td>beta</td><td>MvT Gamma Inverse Gamma</td></tr><tr><th>10</th><td>9.11984e-5</td><td>10</td><td>1000</td><td>beta</td><td>MvT Gamma Inverse Gamma</td></tr><tr><th>11</th><td>0.000152712</td><td>10</td><td>1000</td><td>beta</td><td>MvT Gamma Inverse Gamma</td></tr><tr><th>12</th><td>5.14612e-5</td><td>10</td><td>1000</td><td>beta</td><td>MvT Gamma Inverse Gamma</td></tr><tr><th>13</th><td>0.000331496</td><td>10</td><td>1000</td><td>beta</td><td>MvT Gamma Inverse Gamma</td></tr><tr><th>14</th><td>0.000109425</td><td>10</td><td>1000</td><td>beta</td><td>MvT Gamma Inverse Gamma</td></tr><tr><th>15</th><td>0.000220065</td><td>10</td><td>1000</td><td>beta</td><td>MvT Gamma Inverse Gamma</td></tr><tr><th>16</th><td>0.000344776</td><td>10</td><td>1000</td><td>beta</td><td>MvT Gamma Inverse Gamma</td></tr><tr><th>17</th><td>0.00116616</td><td>10</td><td>1000</td><td>beta</td><td>MvT Gamma Inverse Gamma</td></tr><tr><th>18</th><td>0.000129547</td><td>10</td><td>1000</td><td>beta</td><td>MvT Gamma Inverse Gamma</td></tr><tr><th>19</th><td>0.000121782</td><td>10</td><td>1000</td><td>beta</td><td>MvT Gamma Inverse Gamma</td></tr><tr><th>20</th><td>0.000272823</td><td>10</td><td>1000</td><td>beta</td><td>MvT Gamma Inverse Gamma</td></tr><tr><th>21</th><td>0.000709834</td><td>10</td><td>1000</td><td>beta</td><td>MvT Gamma Inverse Gamma</td></tr><tr><th>22</th><td>0.000347606</td><td>10</td><td>1000</td><td>beta</td><td>MvT Gamma Inverse Gamma</td></tr><tr><th>23</th><td>0.000565949</td><td>10</td><td>1000</td><td>beta</td><td>MvT Gamma Inverse Gamma</td></tr><tr><th>24</th><td>0.000490746</td><td>10</td><td>1000</td><td>beta</td><td>MvT Gamma Inverse Gamma</td></tr><tr><th>25</th><td>0.000113194</td><td>10</td><td>1000</td><td>beta</td><td>MvT Gamma Inverse Gamma</td></tr><tr><th>26</th><td>4.45154e-5</td><td>10</td><td>1000</td><td>beta</td><td>MvT Gamma Inverse Gamma</td></tr><tr><th>27</th><td>0.000267099</td><td>10</td><td>1000</td><td>beta</td><td>MvT Gamma Inverse Gamma</td></tr><tr><th>28</th><td>9.25079e-5</td><td>10</td><td>1000</td><td>beta</td><td>MvT Gamma Inverse Gamma</td></tr><tr><th>29</th><td>9.43323e-5</td><td>10</td><td>1000</td><td>beta</td><td>MvT Gamma Inverse Gamma</td></tr><tr><th>30</th><td>0.000101249</td><td>10</td><td>1000</td><td>beta</td><td>MvT Gamma Inverse Gamma</td></tr><tr><th>&vellip;</th><td>&vellip;</td><td>&vellip;</td><td>&vellip;</td><td>&vellip;</td><td>&vellip;</td></tr></tbody></table>"
      ],
      "text/latex": [
       "\\begin{tabular}{r|ccccc}\n",
       "\t& mse & obssize & samplesize & parameters & robust\\\\\n",
       "\t\\hline\n",
       "\t& Float64 & String & String & String & String\\\\\n",
       "\t\\hline\n",
       "\t1 & 9.26572e-5 & 10 & 1000 & beta & MvT Gamma Inverse Gamma \\\\\n",
       "\t2 & 0.00214898 & 10 & 1000 & beta & MvT Gamma Inverse Gamma \\\\\n",
       "\t3 & 0.0018297 & 10 & 1000 & beta & MvT Gamma Inverse Gamma \\\\\n",
       "\t4 & 0.000679242 & 10 & 1000 & beta & MvT Gamma Inverse Gamma \\\\\n",
       "\t5 & 0.000246478 & 10 & 1000 & beta & MvT Gamma Inverse Gamma \\\\\n",
       "\t6 & 7.69413e-5 & 10 & 1000 & beta & MvT Gamma Inverse Gamma \\\\\n",
       "\t7 & 0.00010664 & 10 & 1000 & beta & MvT Gamma Inverse Gamma \\\\\n",
       "\t8 & 0.000184393 & 10 & 1000 & beta & MvT Gamma Inverse Gamma \\\\\n",
       "\t9 & 7.93118e-5 & 10 & 1000 & beta & MvT Gamma Inverse Gamma \\\\\n",
       "\t10 & 9.11984e-5 & 10 & 1000 & beta & MvT Gamma Inverse Gamma \\\\\n",
       "\t11 & 0.000152712 & 10 & 1000 & beta & MvT Gamma Inverse Gamma \\\\\n",
       "\t12 & 5.14612e-5 & 10 & 1000 & beta & MvT Gamma Inverse Gamma \\\\\n",
       "\t13 & 0.000331496 & 10 & 1000 & beta & MvT Gamma Inverse Gamma \\\\\n",
       "\t14 & 0.000109425 & 10 & 1000 & beta & MvT Gamma Inverse Gamma \\\\\n",
       "\t15 & 0.000220065 & 10 & 1000 & beta & MvT Gamma Inverse Gamma \\\\\n",
       "\t16 & 0.000344776 & 10 & 1000 & beta & MvT Gamma Inverse Gamma \\\\\n",
       "\t17 & 0.00116616 & 10 & 1000 & beta & MvT Gamma Inverse Gamma \\\\\n",
       "\t18 & 0.000129547 & 10 & 1000 & beta & MvT Gamma Inverse Gamma \\\\\n",
       "\t19 & 0.000121782 & 10 & 1000 & beta & MvT Gamma Inverse Gamma \\\\\n",
       "\t20 & 0.000272823 & 10 & 1000 & beta & MvT Gamma Inverse Gamma \\\\\n",
       "\t21 & 0.000709834 & 10 & 1000 & beta & MvT Gamma Inverse Gamma \\\\\n",
       "\t22 & 0.000347606 & 10 & 1000 & beta & MvT Gamma Inverse Gamma \\\\\n",
       "\t23 & 0.000565949 & 10 & 1000 & beta & MvT Gamma Inverse Gamma \\\\\n",
       "\t24 & 0.000490746 & 10 & 1000 & beta & MvT Gamma Inverse Gamma \\\\\n",
       "\t25 & 0.000113194 & 10 & 1000 & beta & MvT Gamma Inverse Gamma \\\\\n",
       "\t26 & 4.45154e-5 & 10 & 1000 & beta & MvT Gamma Inverse Gamma \\\\\n",
       "\t27 & 0.000267099 & 10 & 1000 & beta & MvT Gamma Inverse Gamma \\\\\n",
       "\t28 & 9.25079e-5 & 10 & 1000 & beta & MvT Gamma Inverse Gamma \\\\\n",
       "\t29 & 9.43323e-5 & 10 & 1000 & beta & MvT Gamma Inverse Gamma \\\\\n",
       "\t30 & 0.000101249 & 10 & 1000 & beta & MvT Gamma Inverse Gamma \\\\\n",
       "\t$\\dots$ & $\\dots$ & $\\dots$ & $\\dots$ & $\\dots$ & $\\dots$ \\\\\n",
       "\\end{tabular}\n"
      ],
      "text/plain": [
       "179977×5 DataFrame\n",
       "│ Row    │ mse         │ obssize │ samplesize │ parameters │ robust                   │\n",
       "│        │ \u001b[90mFloat64\u001b[39m     │ \u001b[90mString\u001b[39m  │ \u001b[90mString\u001b[39m     │ \u001b[90mString\u001b[39m     │ \u001b[90mString\u001b[39m                   │\n",
       "├────────┼─────────────┼─────────┼────────────┼────────────┼──────────────────────────┤\n",
       "│ 1      │ 9.26572e-5  │ 10      │ 1000       │ beta       │ MvT Gamma Inverse Gamma  │\n",
       "│ 2      │ 0.00214898  │ 10      │ 1000       │ beta       │ MvT Gamma Inverse Gamma  │\n",
       "│ 3      │ 0.0018297   │ 10      │ 1000       │ beta       │ MvT Gamma Inverse Gamma  │\n",
       "│ 4      │ 0.000679242 │ 10      │ 1000       │ beta       │ MvT Gamma Inverse Gamma  │\n",
       "│ 5      │ 0.000246478 │ 10      │ 1000       │ beta       │ MvT Gamma Inverse Gamma  │\n",
       "│ 6      │ 7.69413e-5  │ 10      │ 1000       │ beta       │ MvT Gamma Inverse Gamma  │\n",
       "│ 7      │ 0.00010664  │ 10      │ 1000       │ beta       │ MvT Gamma Inverse Gamma  │\n",
       "│ 8      │ 0.000184393 │ 10      │ 1000       │ beta       │ MvT Gamma Inverse Gamma  │\n",
       "│ 9      │ 7.93118e-5  │ 10      │ 1000       │ beta       │ MvT Gamma Inverse Gamma  │\n",
       "│ 10     │ 9.11984e-5  │ 10      │ 1000       │ beta       │ MvT Gamma Inverse Gamma  │\n",
       "⋮\n",
       "│ 179967 │ 0.000323483 │ 1000    │ 6000       │ Sigma      │ Normal Normal Log-Normal │\n",
       "│ 179968 │ 0.000142144 │ 1000    │ 6000       │ Sigma      │ Normal Normal Log-Normal │\n",
       "│ 179969 │ 0.00039639  │ 1000    │ 6000       │ Sigma      │ Normal Normal Log-Normal │\n",
       "│ 179970 │ 0.000406823 │ 1000    │ 6000       │ Sigma      │ Normal Normal Log-Normal │\n",
       "│ 179971 │ 0.00019896  │ 1000    │ 6000       │ Sigma      │ Normal Normal Log-Normal │\n",
       "│ 179972 │ 5.11438e-5  │ 1000    │ 6000       │ Sigma      │ Normal Normal Log-Normal │\n",
       "│ 179973 │ 0.000208709 │ 1000    │ 6000       │ Sigma      │ Normal Normal Log-Normal │\n",
       "│ 179974 │ 0.000522769 │ 1000    │ 6000       │ Sigma      │ Normal Normal Log-Normal │\n",
       "│ 179975 │ 0.000231935 │ 1000    │ 6000       │ Sigma      │ Normal Normal Log-Normal │\n",
       "│ 179976 │ 0.000688317 │ 1000    │ 6000       │ Sigma      │ Normal Normal Log-Normal │\n",
       "│ 179977 │ 0.000235857 │ 1000    │ 6000       │ Sigma      │ Normal Normal Log-Normal │"
      ]
     },
     "execution_count": 28,
     "metadata": {},
     "output_type": "execute_result"
    }
   ],
   "source": [
    "#import data and reorganize to create figure\n",
    "using Random, DataFrames, DelimitedFiles, Statistics, RCall, Printf\n",
    "import StatsBase: sem\n",
    "ENV[\"COLUMNS\"]=1000\n",
    "\n",
    "βMseresultrobust = vec(readdlm(\"result_files/mse_beta_mvt_gamma_invgamma_1000reps_sim.csv\", ','))\n",
    "τMseresultrobust = vec(readdlm(\"result_files/mse_tau_mvt_gamma_invgamma_1000reps_sim.csv\", ','))\n",
    "ΣMseresultrobust = vec(readdlm(\"result_files/mse_Sigma_mvt_gamma_invgamma_1000reps_sim.csv\", ','))\n",
    "βτcoveragerobust = readdlm(\"result_files/beta_tau_coverage_5betas_mvt_gamma_invgamma_1000reps_sim.csv\", ',')\n",
    "\n",
    "\n",
    "samplesizesrobust = collect(1000:1000:6000)\n",
    "nsrobust = [10; 25; 50; 100; 1000]\n",
    "nsimsrobust = 1000\n",
    "\n",
    "βMseresultnorm = vec(readdlm(\"result_files/mse_beta_normal_normal_lognormal_1000reps_sim.csv\", ','))\n",
    "τMseresultnorm = vec(readdlm(\"result_files/mse_tau_normal_normal_lognormal_1000reps_sim.csv\", ','))\n",
    "ΣMseresultnorm = vec(readdlm(\"result_files/mse_Sigma_normal_normal_lognormal_1000reps_sim.csv\", ','))\n",
    "βτcoveragenorm = readdlm(\"result_files/beta_tau_coverage_5betas_normal_normal_lognormal_1000reps_sim.csv\", ',')\n",
    "\n",
    "\n",
    "samplesizesnorm = collect(1000:1000:6000)\n",
    "nsnorm = [10; 25; 50; 100; 1000]\n",
    "nsimsnorm = 1000\n",
    "\n",
    "p = 5; l = 5\n",
    "sample_sizesrobust = repeat(string.(samplesizesrobust), inner = nsimsrobust * length(nsrobust))\n",
    "obs_sizesrobust = repeat(string.(nsrobust), inner = nsimsrobust, outer = length(samplesizesrobust))\n",
    "msedfrobust = DataFrame(βmse = βMseresultrobust, τmse = τMseresultrobust, Σγmse = ΣMseresultrobust, \n",
    "    samplesize = sample_sizesrobust, obssize = obs_sizesrobust)\n",
    "\n",
    "p = 5; l = 5\n",
    "sample_sizesnorm = repeat(string.(samplesizesnorm), inner = nsimsnorm * length(nsnorm))\n",
    "obs_sizesnorm = repeat(string.(nsnorm), inner = nsimsnorm, outer = length(samplesizesnorm))\n",
    "msedfnorm = DataFrame(βmse = βMseresultnorm, τmse = τMseresultnorm, Σγmse = ΣMseresultnorm, \n",
    "    samplesize = sample_sizesnorm, obssize = obs_sizesnorm)\n",
    "\n",
    "#rename to make parsing easier for R.\n",
    "\n",
    "msedfrobustR = deepcopy(msedfrobust)\n",
    "rename!(msedfrobustR, [\"betamse\"\n",
    "    \"taumse\"\n",
    "    \"Sigmamse\"\n",
    "    \"samplesize\"\n",
    " \"obssize\"]);\n",
    "\n",
    "msedfnormR = deepcopy(msedfnorm)\n",
    "rename!(msedfnormR, [\"betamse\"\n",
    "    \"taumse\"\n",
    "    \"Sigmamse\"\n",
    "    \"samplesize\"\n",
    " \"obssize\"]);\n",
    "\n",
    "mses = [msedfrobustR[!, :betamse]; msedfrobustR[!, :taumse]; msedfrobustR[!, :Sigmamse];  \n",
    "    msedfnormR[!, :betamse]; msedfnormR[!, :taumse]; msedfnormR[!, :Sigmamse]]\n",
    "obssize = [repeat(msedfrobustR[!, :obssize], 3); repeat(msedfnormR[!, :obssize], 3)]\n",
    "samplesize = [repeat(msedfrobustR[!, :samplesize], 3); repeat(msedfnormR[!, :samplesize], 3)]\n",
    "\n",
    "parameters = [repeat(string.([:beta, :tau, :Sigma]), inner = nsimsrobust * length(nsrobust) * length(samplesizesrobust)); \n",
    "    repeat(string.([:beta, :tau, :Sigma]), inner = nsimsnorm * length(nsnorm) * length(samplesizesnorm))]\n",
    "robust = [repeat([\"MvT Gamma Inverse Gamma\"], 3 * nsimsrobust * length(nsrobust) * length(samplesizesrobust));\n",
    "repeat([\"Normal Normal Log-Normal\"], 3 * nsimsnorm * length(nsnorm) * length(samplesizesnorm))];\n",
    "\n",
    "msedfR = DataFrame(mse = mses, obssize = obssize, samplesize = samplesize,\n",
    "    parameters = parameters, robust = robust)\n",
    "\n",
    "#5 of the 30,000 simulations did not converge, filter out\n",
    "msedfR = filter(x -> !isnan(x.mse), msedfR)\n",
    "# additionally, there are 5 where an error was not caught so it did not try a differnt solver\n",
    "msedfR = filter(x -> x.mse < 40000, msedfR)"
   ]
  },
  {
   "cell_type": "code",
   "execution_count": 30,
   "metadata": {},
   "outputs": [
    {
     "data": {
      "text/html": [
       "<table class=\"data-frame\"><thead><tr><th></th><th>mse</th><th>obssize</th><th>samplesize</th><th>parameters</th><th>robust</th></tr><tr><th></th><th>Float64</th><th>String</th><th>String</th><th>String</th><th>String</th></tr></thead><tbody><p>3 rows × 5 columns</p><tr><th>1</th><td>1021.05</td><td>10</td><td>1000</td><td>tau</td><td>MvT Gamma Inverse Gamma</td></tr><tr><th>2</th><td>10687.8</td><td>10</td><td>2000</td><td>tau</td><td>MvT Gamma Inverse Gamma</td></tr><tr><th>3</th><td>2705.94</td><td>10</td><td>4000</td><td>Sigma</td><td>MvT Gamma Inverse Gamma</td></tr></tbody></table>"
      ],
      "text/latex": [
       "\\begin{tabular}{r|ccccc}\n",
       "\t& mse & obssize & samplesize & parameters & robust\\\\\n",
       "\t\\hline\n",
       "\t& Float64 & String & String & String & String\\\\\n",
       "\t\\hline\n",
       "\t1 & 1021.05 & 10 & 1000 & tau & MvT Gamma Inverse Gamma \\\\\n",
       "\t2 & 10687.8 & 10 & 2000 & tau & MvT Gamma Inverse Gamma \\\\\n",
       "\t3 & 2705.94 & 10 & 4000 & Sigma & MvT Gamma Inverse Gamma \\\\\n",
       "\\end{tabular}\n"
      ],
      "text/plain": [
       "3×5 DataFrame\n",
       "│ Row │ mse     │ obssize │ samplesize │ parameters │ robust                  │\n",
       "│     │ \u001b[90mFloat64\u001b[39m │ \u001b[90mString\u001b[39m  │ \u001b[90mString\u001b[39m     │ \u001b[90mString\u001b[39m     │ \u001b[90mString\u001b[39m                  │\n",
       "├─────┼─────────┼─────────┼────────────┼────────────┼─────────────────────────┤\n",
       "│ 1   │ 1021.05 │ 10      │ 1000       │ tau        │ MvT Gamma Inverse Gamma │\n",
       "│ 2   │ 10687.8 │ 10      │ 2000       │ tau        │ MvT Gamma Inverse Gamma │\n",
       "│ 3   │ 2705.94 │ 10      │ 4000       │ Sigma      │ MvT Gamma Inverse Gamma │"
      ]
     },
     "execution_count": 30,
     "metadata": {},
     "output_type": "execute_result"
    }
   ],
   "source": [
    "filter(x -> x.mse > 1000, msedfR) #checked these 3 cases can be solved with different starting points/solvers"
   ]
  },
  {
   "cell_type": "markdown",
   "metadata": {},
   "source": [
    "Following creates the figure:"
   ]
  },
  {
   "cell_type": "code",
   "execution_count": 92,
   "metadata": {},
   "outputs": [
    {
     "data": {
      "image/png": "[encoded data removed]"
     },
     "metadata": {},
     "output_type": "display_data"
    },
    {
     "data": {
      "text/plain": [
       "RObject{VecSxp}\n"
      ]
     },
     "execution_count": 92,
     "metadata": {},
     "output_type": "execute_result"
    }
   ],
   "source": [
    "@rput msedfR\n",
    "\n",
    "R\"\"\"\n",
    "library(scales)\n",
    "library(ggplot2)\n",
    "library(facetscales)\n",
    "library(data.table)\n",
    "\n",
    "msedfR <- data.table(msedfR)\n",
    "\n",
    "msedfR[parameters == \"beta\",y_min := 10^-8]\n",
    "msedfR[parameters == \"beta\",y_max := 10^1]\n",
    "msedfR[parameters == \"tau\",y_min := 10^-8]\n",
    "msedfR[parameters == \"tau\",y_max := 10^3]\n",
    "msedfR[parameters == \"Sigma\",y_min := 10^-5]\n",
    "msedfR[parameters == \"Sigma\",y_max := 10^1]\n",
    "\n",
    "#msedfR[parameters == \"beta\",y_min := 10^-8]\n",
    "#msedfR[parameters == \"beta\",y_max := 10^-2]\n",
    "#msedfR[parameters == \"tau\",y_min := 10^-8]\n",
    "#msedfR[parameters == \"tau\",y_max := 10^-2]\n",
    "#msedfR[parameters == \"Sigma\",y_min := 10^-5]\n",
    "#msedfR[parameters == \"Sigma\",y_max := 10^-2]\n",
    "\n",
    "\n",
    "msedfR$obssize <- factor(msedfR$obssize, levels = c('10', '25', '50', '100', '1000'))\n",
    "msedfR$samplesize <- factor(msedfR$samplesize, levels = c('1000', '2000', '3000', '4000', '5000', '6000'))\n",
    "msedfR$parameters <- factor(msedfR$parameters, levels = c('beta', 'tau', 'Sigma'),\n",
    "    labels = c(beta = expression(hat(bold(beta))), tau = expression(hat(bold(tau))), \n",
    "            Sigma = expression(hat(bold(Sigma))[bold(gamma)])))\n",
    "msedfR$robust <- factor(msedfR$robust, levels = c('Normal Normal Log-Normal', 'MvT Gamma Inverse Gamma'),\n",
    "    labels = c(expression(paste(\"Normal Normal Log-Normal\")), expression(paste(\"MvT Gamma Inverse-Gamma\"))))\n",
    "\n",
    "\n",
    "#mseplot <- ggplot(msedfR[msedfR$mse < 10^0, ], aes(x=samplesize, y=mse, fill=obssize)) + \n",
    "mseplot <- ggplot(msedfR[msedfR$mse < 10^3, ], aes(x=samplesize, y=mse, fill=obssize)) + \n",
    "  #geom_boxplot(outlier.size = 0.0, outlier.alpha = 0) +\n",
    "  geom_boxplot(outlier.size = 0.25) +\n",
    "#    geom_violin() +\n",
    "    facet_grid(parameters ~ robust, labeller = label_parsed, scales = \"free_y\") +\n",
    "  theme(legend.position=\"right\", legend.key = element_blank(), axis.text.x = element_text(angle=0, size=11),\n",
    "        axis.text.y = element_text(angle=0, size=12), axis.title.x = element_text(size = 15), \n",
    "        axis.title.y = element_text(size = 15), legend.title = element_text(size = 12),\n",
    "        panel.grid.major = element_blank(), panel.grid.minor = element_blank(),\n",
    "        legend.text=element_text(size=10), panel.background = element_rect(fill = NA, color = \"black\"),\n",
    "        #panel.background = element_blank(), #panel.border = element_blank(),\n",
    "        axis.line = element_line(color = 'black',size=0.3), plot.title = element_text(hjust = 0.5),\n",
    "        strip.background = element_rect(colour=\"black\", fill=\"white\"), strip.text.y = element_text(size=15, face=\"bold\"),\n",
    "        strip.text.x = element_text(size=15)) + \n",
    "  scale_fill_manual(values = c(\"#c85f55\",\n",
    "\"#a964bf\",\n",
    "\"#8db352\",\n",
    "\"#fa7300\",\n",
    "\"#05aec0\")) +\n",
    "#scale_y_log10(breaks = scales::trans_breaks(\"log10\", function(x) 10^x)) +\n",
    "#scale_y_log10(breaks = 10^(-8:8), limit=c(10^-8, 10^2)) + \n",
    "scale_y_log10(breaks = 10^seq(-10, 10, 2), labels=trans_format(\"log10\", math_format(10^.x))) + #, limit=c(10^-8, 10^2)) +\n",
    "  labs(x = \"Number of Individuals\", y = \"MSE of Parameter Estimates\", fill = \"Obs per Individual\") +\n",
    "geom_blank(aes(y = y_max)) + \n",
    "geom_blank(aes(y = y_min)) \n",
    "\n",
    "\"\"\""
   ]
  },
  {
   "cell_type": "code",
   "execution_count": 93,
   "metadata": {},
   "outputs": [
    {
     "data": {
      "text/plain": [
       "RObject{NilSxp}\n",
       "NULL\n"
      ]
     },
     "execution_count": 93,
     "metadata": {},
     "output_type": "execute_result"
    }
   ],
   "source": [
    "R\"\"\"\n",
    "ggsave('result_files/updated_msefacetplot.png', mseplot, width = 12.5, height = 15, units = 'in', dpi = 450)\n",
    "\"\"\""
   ]
  },
  {
   "cell_type": "markdown",
   "metadata": {},
   "source": [
    "### Supplementary Tables S.1 and S.2\n",
    "\n",
    "The following produces coverage tables from Supplementary Materials for the two simulations."
   ]
  },
  {
   "cell_type": "markdown",
   "metadata": {},
   "source": [
    "##### Supplementary Table S.2\n",
    "\n",
    "The following code produces results seen in the Supplementary Table S.2."
   ]
  },
  {
   "cell_type": "code",
   "execution_count": 52,
   "metadata": {},
   "outputs": [
    {
     "name": "stderr",
     "output_type": "stream",
     "text": [
      "┌ Warning: `deletecols!(df::DataFrame, inds)` is deprecated, use `select!(df, Not(inds))` instead.\n",
      "│   caller = top-level scope at In[52]:23\n",
      "└ @ Core In[52]:23\n"
     ]
    },
    {
     "data": {
      "text/html": [
       "<table class=\"data-frame\"><thead><tr><th></th><th>people_obs</th><th>β1</th><th>β2</th><th>β3</th><th>β4</th><th>β5</th><th>τ2</th><th>τ3</th><th>τ4</th><th>τ5</th></tr><tr><th></th><th>String</th><th>Tuple…</th><th>Tuple…</th><th>Tuple…</th><th>Tuple…</th><th>Tuple…</th><th>Tuple…</th><th>Tuple…</th><th>Tuple…</th><th>Tuple…</th></tr></thead><tbody><p>30 rows × 10 columns</p><tr><th>1</th><td>m: 1000  ni: 10</td><td>(0.946, 0.00715088)</td><td>(0.959, 0.00627362)</td><td>(0.961, 0.00612507)</td><td>(0.953, 0.00669596)</td><td>(0.958, 0.00634636)</td><td>(0.919, 0.00863212)</td><td>(0.937, 0.00768701)</td><td>(0.928, 0.0081782)</td><td>(0.932, 0.00796489)</td></tr><tr><th>2</th><td>m: 1000  ni: 25</td><td>(0.944, 0.0072744)</td><td>(0.952, 0.00676326)</td><td>(0.947, 0.00708811)</td><td>(0.945, 0.00721298)</td><td>(0.951, 0.00682976)</td><td>(0.937, 0.00768701)</td><td>(0.942, 0.00739532)</td><td>(0.949, 0.00696042)</td><td>(0.938, 0.00762982)</td></tr><tr><th>3</th><td>m: 1000  ni: 50</td><td>(0.965, 0.00581453)</td><td>(0.954, 0.00662781)</td><td>(0.959, 0.00627362)</td><td>(0.948, 0.00702462)</td><td>(0.953, 0.00669596)</td><td>(0.954, 0.00662781)</td><td>(0.942, 0.00739532)</td><td>(0.948, 0.00702462)</td><td>(0.946, 0.00715088)</td></tr><tr><th>4</th><td>m: 1000  ni: 100</td><td>(0.959, 0.00627362)</td><td>(0.948, 0.00702462)</td><td>(0.942, 0.00739532)</td><td>(0.949, 0.00696042)</td><td>(0.955, 0.00655881)</td><td>(0.94, 0.00751375)</td><td>(0.946, 0.00715088)</td><td>(0.946, 0.00715088)</td><td>(0.962, 0.00604918)</td></tr><tr><th>5</th><td>m: 1000  ni: 1000</td><td>(0.949, 0.00696042)</td><td>(0.945, 0.00721298)</td><td>(0.957, 0.00641811)</td><td>(0.947, 0.00708811)</td><td>(0.943, 0.00733518)</td><td>(0.946, 0.00715088)</td><td>(0.949, 0.00696042)</td><td>(0.944, 0.0072744)</td><td>(0.94, 0.00751375)</td></tr><tr><th>6</th><td>m: 2000  ni: 10</td><td>(0.9499, 0.00690893)</td><td>(0.940882, 0.00746931)</td><td>(0.946894, 0.00710192)</td><td>(0.9499, 0.00690893)</td><td>(0.948898, 0.006974)</td><td>(0.937876, 0.00764462)</td><td>(0.930862, 0.00803442)</td><td>(0.928858, 0.00814125)</td><td>(0.941884, 0.00740969)</td></tr><tr><th>7</th><td>m: 2000  ni: 25</td><td>(0.951, 0.00682976)</td><td>(0.944, 0.0072744)</td><td>(0.949, 0.00696042)</td><td>(0.947, 0.00708811)</td><td>(0.96, 0.00619987)</td><td>(0.947, 0.00708811)</td><td>(0.935, 0.00779973)</td><td>(0.942, 0.00739532)</td><td>(0.939, 0.00757208)</td></tr><tr><th>8</th><td>m: 2000  ni: 50</td><td>(0.948, 0.00702462)</td><td>(0.951, 0.00682976)</td><td>(0.936, 0.00774364)</td><td>(0.957, 0.00641811)</td><td>(0.955, 0.00655881)</td><td>(0.948, 0.00702462)</td><td>(0.955, 0.00655881)</td><td>(0.945, 0.00721298)</td><td>(0.946, 0.00715088)</td></tr><tr><th>9</th><td>m: 2000  ni: 100</td><td>(0.958, 0.00634636)</td><td>(0.949, 0.00696042)</td><td>(0.939, 0.00757208)</td><td>(0.954, 0.00662781)</td><td>(0.951, 0.00682976)</td><td>(0.951, 0.00682976)</td><td>(0.96, 0.00619987)</td><td>(0.958, 0.00634636)</td><td>(0.953, 0.00669596)</td></tr><tr><th>10</th><td>m: 2000  ni: 1000</td><td>(0.943, 0.00733518)</td><td>(0.955, 0.00655881)</td><td>(0.961, 0.00612507)</td><td>(0.941, 0.00745484)</td><td>(0.944, 0.0072744)</td><td>(0.953, 0.00669596)</td><td>(0.95, 0.00689547)</td><td>(0.934, 0.0078553)</td><td>(0.946, 0.00715088)</td></tr><tr><th>11</th><td>m: 3000  ni: 10</td><td>(0.951952, 0.00676987)</td><td>(0.954955, 0.00656523)</td><td>(0.931932, 0.00797257)</td><td>(0.950951, 0.00683643)</td><td>(0.946947, 0.00709501)</td><td>(0.930931, 0.00802667)</td><td>(0.940941, 0.00746207)</td><td>(0.945946, 0.00715784)</td><td>(0.946947, 0.00709501)</td></tr><tr><th>12</th><td>m: 3000  ni: 25</td><td>(0.947, 0.00708811)</td><td>(0.955, 0.00655881)</td><td>(0.955, 0.00655881)</td><td>(0.954, 0.00662781)</td><td>(0.942, 0.00739532)</td><td>(0.948, 0.00702462)</td><td>(0.951, 0.00682976)</td><td>(0.963, 0.00597216)</td><td>(0.944, 0.0072744)</td></tr><tr><th>13</th><td>m: 3000  ni: 50</td><td>(0.953, 0.00669596)</td><td>(0.944, 0.0072744)</td><td>(0.953, 0.00669596)</td><td>(0.95, 0.00689547)</td><td>(0.947, 0.00708811)</td><td>(0.958, 0.00634636)</td><td>(0.95, 0.00689547)</td><td>(0.951, 0.00682976)</td><td>(0.952, 0.00676326)</td></tr><tr><th>14</th><td>m: 3000  ni: 100</td><td>(0.953, 0.00669596)</td><td>(0.938, 0.00762982)</td><td>(0.944, 0.0072744)</td><td>(0.971, 0.00530916)</td><td>(0.953, 0.00669596)</td><td>(0.95, 0.00689547)</td><td>(0.961, 0.00612507)</td><td>(0.946, 0.00715088)</td><td>(0.938, 0.00762982)</td></tr><tr><th>15</th><td>m: 3000  ni: 1000</td><td>(0.956, 0.00648892)</td><td>(0.948, 0.00702462)</td><td>(0.933, 0.00791035)</td><td>(0.95, 0.00689547)</td><td>(0.956, 0.00648892)</td><td>(0.95, 0.00689547)</td><td>(0.951, 0.00682976)</td><td>(0.942, 0.00739532)</td><td>(0.952, 0.00676326)</td></tr><tr><th>16</th><td>m: 4000  ni: 10</td><td>(0.956, 0.00648892)</td><td>(0.945, 0.00721298)</td><td>(0.949, 0.00696042)</td><td>(0.951, 0.00682976)</td><td>(0.946, 0.00715088)</td><td>(0.944, 0.0072744)</td><td>(0.956, 0.00648892)</td><td>(0.948, 0.00702462)</td><td>(0.933, 0.00791035)</td></tr><tr><th>17</th><td>m: 4000  ni: 25</td><td>(0.948949, 0.0069672)</td><td>(0.958959, 0.00627977)</td><td>(0.950951, 0.00683643)</td><td>(0.957958, 0.00635258)</td><td>(0.93994, 0.00752104)</td><td>(0.945946, 0.00715784)</td><td>(0.945946, 0.00715784)</td><td>(0.94995, 0.0069022)</td><td>(0.946947, 0.00709501)</td></tr><tr><th>18</th><td>m: 4000  ni: 50</td><td>(0.944, 0.0072744)</td><td>(0.949, 0.00696042)</td><td>(0.949, 0.00696042)</td><td>(0.956, 0.00648892)</td><td>(0.945, 0.00721298)</td><td>(0.944, 0.0072744)</td><td>(0.942, 0.00739532)</td><td>(0.949, 0.00696042)</td><td>(0.938, 0.00762982)</td></tr><tr><th>19</th><td>m: 4000  ni: 100</td><td>(0.945, 0.00721298)</td><td>(0.949, 0.00696042)</td><td>(0.943, 0.00733518)</td><td>(0.948, 0.00702462)</td><td>(0.946, 0.00715088)</td><td>(0.947, 0.00708811)</td><td>(0.952, 0.00676326)</td><td>(0.948, 0.00702462)</td><td>(0.962, 0.00604918)</td></tr><tr><th>20</th><td>m: 4000  ni: 1000</td><td>(0.947, 0.00708811)</td><td>(0.948, 0.00702462)</td><td>(0.951, 0.00682976)</td><td>(0.947, 0.00708811)</td><td>(0.95, 0.00689547)</td><td>(0.94, 0.00751375)</td><td>(0.959, 0.00627362)</td><td>(0.948, 0.00702462)</td><td>(0.948, 0.00702462)</td></tr><tr><th>21</th><td>m: 5000  ni: 10</td><td>(0.948, 0.00702462)</td><td>(0.948, 0.00702462)</td><td>(0.941, 0.00745484)</td><td>(0.967, 0.00565181)</td><td>(0.951, 0.00682976)</td><td>(0.94, 0.00751375)</td><td>(0.943, 0.00733518)</td><td>(0.953, 0.00669596)</td><td>(0.939, 0.00757208)</td></tr><tr><th>22</th><td>m: 5000  ni: 25</td><td>(0.942, 0.00739532)</td><td>(0.938, 0.00762982)</td><td>(0.932, 0.00796489)</td><td>(0.947, 0.00708811)</td><td>(0.959, 0.00627362)</td><td>(0.941, 0.00745484)</td><td>(0.962, 0.00604918)</td><td>(0.949, 0.00696042)</td><td>(0.953, 0.00669596)</td></tr><tr><th>23</th><td>m: 5000  ni: 50</td><td>(0.958, 0.00634636)</td><td>(0.949, 0.00696042)</td><td>(0.956, 0.00648892)</td><td>(0.955, 0.00655881)</td><td>(0.948, 0.00702462)</td><td>(0.944, 0.0072744)</td><td>(0.953, 0.00669596)</td><td>(0.955, 0.00655881)</td><td>(0.949, 0.00696042)</td></tr><tr><th>24</th><td>m: 5000  ni: 100</td><td>(0.95, 0.00689547)</td><td>(0.953, 0.00669596)</td><td>(0.953, 0.00669596)</td><td>(0.951, 0.00682976)</td><td>(0.956, 0.00648892)</td><td>(0.95, 0.00689547)</td><td>(0.942, 0.00739532)</td><td>(0.948, 0.00702462)</td><td>(0.952, 0.00676326)</td></tr><tr><th>25</th><td>m: 5000  ni: 1000</td><td>(0.952, 0.00676326)</td><td>(0.95, 0.00689547)</td><td>(0.954, 0.00662781)</td><td>(0.957, 0.00641811)</td><td>(0.94, 0.00751375)</td><td>(0.964, 0.00589396)</td><td>(0.952, 0.00676326)</td><td>(0.951, 0.00682976)</td><td>(0.942, 0.00739532)</td></tr><tr><th>26</th><td>m: 6000  ni: 10</td><td>(0.94995, 0.0069022)</td><td>(0.93994, 0.00752104)</td><td>(0.947948, 0.00703147)</td><td>(0.935936, 0.00775113)</td><td>(0.945946, 0.00715784)</td><td>(0.94995, 0.0069022)</td><td>(0.954955, 0.00656523)</td><td>(0.950951, 0.00683643)</td><td>(0.950951, 0.00683643)</td></tr><tr><th>27</th><td>m: 6000  ni: 25</td><td>(0.945, 0.00721298)</td><td>(0.943, 0.00733518)</td><td>(0.964, 0.00589396)</td><td>(0.959, 0.00627362)</td><td>(0.941, 0.00745484)</td><td>(0.95, 0.00689547)</td><td>(0.936, 0.00774364)</td><td>(0.951, 0.00682976)</td><td>(0.951, 0.00682976)</td></tr><tr><th>28</th><td>m: 6000  ni: 50</td><td>(0.944, 0.0072744)</td><td>(0.951, 0.00682976)</td><td>(0.948, 0.00702462)</td><td>(0.952, 0.00676326)</td><td>(0.949, 0.00696042)</td><td>(0.946, 0.00715088)</td><td>(0.941, 0.00745484)</td><td>(0.943, 0.00733518)</td><td>(0.956, 0.00648892)</td></tr><tr><th>29</th><td>m: 6000  ni: 100</td><td>(0.951, 0.00682976)</td><td>(0.952, 0.00676326)</td><td>(0.957, 0.00641811)</td><td>(0.944, 0.0072744)</td><td>(0.953, 0.00669596)</td><td>(0.956, 0.00648892)</td><td>(0.941, 0.00745484)</td><td>(0.944, 0.0072744)</td><td>(0.949, 0.00696042)</td></tr><tr><th>30</th><td>m: 6000  ni: 1000</td><td>(0.953, 0.00669596)</td><td>(0.949, 0.00696042)</td><td>(0.961, 0.00612507)</td><td>(0.954, 0.00662781)</td><td>(0.947, 0.00708811)</td><td>(0.938, 0.00762982)</td><td>(0.958, 0.00634636)</td><td>(0.957, 0.00641811)</td><td>(0.943, 0.00733518)</td></tr></tbody></table>"
      ],
      "text/latex": [
       "\\begin{tabular}{r|cccccccccc}\n",
       "\t& people\\_obs & β1 & β2 & β3 & β4 & β5 & τ2 & τ3 & τ4 & τ5\\\\\n",
       "\t\\hline\n",
       "\t& String & Tuple… & Tuple… & Tuple… & Tuple… & Tuple… & Tuple… & Tuple… & Tuple… & Tuple…\\\\\n",
       "\t\\hline\n",
       "\t1 & m: 1000  ni: 10 & (0.946, 0.00715088) & (0.959, 0.00627362) & (0.961, 0.00612507) & (0.953, 0.00669596) & (0.958, 0.00634636) & (0.919, 0.00863212) & (0.937, 0.00768701) & (0.928, 0.0081782) & (0.932, 0.00796489) \\\\\n",
       "\t2 & m: 1000  ni: 25 & (0.944, 0.0072744) & (0.952, 0.00676326) & (0.947, 0.00708811) & (0.945, 0.00721298) & (0.951, 0.00682976) & (0.937, 0.00768701) & (0.942, 0.00739532) & (0.949, 0.00696042) & (0.938, 0.00762982) \\\\\n",
       "\t3 & m: 1000  ni: 50 & (0.965, 0.00581453) & (0.954, 0.00662781) & (0.959, 0.00627362) & (0.948, 0.00702462) & (0.953, 0.00669596) & (0.954, 0.00662781) & (0.942, 0.00739532) & (0.948, 0.00702462) & (0.946, 0.00715088) \\\\\n",
       "\t4 & m: 1000  ni: 100 & (0.959, 0.00627362) & (0.948, 0.00702462) & (0.942, 0.00739532) & (0.949, 0.00696042) & (0.955, 0.00655881) & (0.94, 0.00751375) & (0.946, 0.00715088) & (0.946, 0.00715088) & (0.962, 0.00604918) \\\\\n",
       "\t5 & m: 1000  ni: 1000 & (0.949, 0.00696042) & (0.945, 0.00721298) & (0.957, 0.00641811) & (0.947, 0.00708811) & (0.943, 0.00733518) & (0.946, 0.00715088) & (0.949, 0.00696042) & (0.944, 0.0072744) & (0.94, 0.00751375) \\\\\n",
       "\t6 & m: 2000  ni: 10 & (0.9499, 0.00690893) & (0.940882, 0.00746931) & (0.946894, 0.00710192) & (0.9499, 0.00690893) & (0.948898, 0.006974) & (0.937876, 0.00764462) & (0.930862, 0.00803442) & (0.928858, 0.00814125) & (0.941884, 0.00740969) \\\\\n",
       "\t7 & m: 2000  ni: 25 & (0.951, 0.00682976) & (0.944, 0.0072744) & (0.949, 0.00696042) & (0.947, 0.00708811) & (0.96, 0.00619987) & (0.947, 0.00708811) & (0.935, 0.00779973) & (0.942, 0.00739532) & (0.939, 0.00757208) \\\\\n",
       "\t8 & m: 2000  ni: 50 & (0.948, 0.00702462) & (0.951, 0.00682976) & (0.936, 0.00774364) & (0.957, 0.00641811) & (0.955, 0.00655881) & (0.948, 0.00702462) & (0.955, 0.00655881) & (0.945, 0.00721298) & (0.946, 0.00715088) \\\\\n",
       "\t9 & m: 2000  ni: 100 & (0.958, 0.00634636) & (0.949, 0.00696042) & (0.939, 0.00757208) & (0.954, 0.00662781) & (0.951, 0.00682976) & (0.951, 0.00682976) & (0.96, 0.00619987) & (0.958, 0.00634636) & (0.953, 0.00669596) \\\\\n",
       "\t10 & m: 2000  ni: 1000 & (0.943, 0.00733518) & (0.955, 0.00655881) & (0.961, 0.00612507) & (0.941, 0.00745484) & (0.944, 0.0072744) & (0.953, 0.00669596) & (0.95, 0.00689547) & (0.934, 0.0078553) & (0.946, 0.00715088) \\\\\n",
       "\t11 & m: 3000  ni: 10 & (0.951952, 0.00676987) & (0.954955, 0.00656523) & (0.931932, 0.00797257) & (0.950951, 0.00683643) & (0.946947, 0.00709501) & (0.930931, 0.00802667) & (0.940941, 0.00746207) & (0.945946, 0.00715784) & (0.946947, 0.00709501) \\\\\n",
       "\t12 & m: 3000  ni: 25 & (0.947, 0.00708811) & (0.955, 0.00655881) & (0.955, 0.00655881) & (0.954, 0.00662781) & (0.942, 0.00739532) & (0.948, 0.00702462) & (0.951, 0.00682976) & (0.963, 0.00597216) & (0.944, 0.0072744) \\\\\n",
       "\t13 & m: 3000  ni: 50 & (0.953, 0.00669596) & (0.944, 0.0072744) & (0.953, 0.00669596) & (0.95, 0.00689547) & (0.947, 0.00708811) & (0.958, 0.00634636) & (0.95, 0.00689547) & (0.951, 0.00682976) & (0.952, 0.00676326) \\\\\n",
       "\t14 & m: 3000  ni: 100 & (0.953, 0.00669596) & (0.938, 0.00762982) & (0.944, 0.0072744) & (0.971, 0.00530916) & (0.953, 0.00669596) & (0.95, 0.00689547) & (0.961, 0.00612507) & (0.946, 0.00715088) & (0.938, 0.00762982) \\\\\n",
       "\t15 & m: 3000  ni: 1000 & (0.956, 0.00648892) & (0.948, 0.00702462) & (0.933, 0.00791035) & (0.95, 0.00689547) & (0.956, 0.00648892) & (0.95, 0.00689547) & (0.951, 0.00682976) & (0.942, 0.00739532) & (0.952, 0.00676326) \\\\\n",
       "\t16 & m: 4000  ni: 10 & (0.956, 0.00648892) & (0.945, 0.00721298) & (0.949, 0.00696042) & (0.951, 0.00682976) & (0.946, 0.00715088) & (0.944, 0.0072744) & (0.956, 0.00648892) & (0.948, 0.00702462) & (0.933, 0.00791035) \\\\\n",
       "\t17 & m: 4000  ni: 25 & (0.948949, 0.0069672) & (0.958959, 0.00627977) & (0.950951, 0.00683643) & (0.957958, 0.00635258) & (0.93994, 0.00752104) & (0.945946, 0.00715784) & (0.945946, 0.00715784) & (0.94995, 0.0069022) & (0.946947, 0.00709501) \\\\\n",
       "\t18 & m: 4000  ni: 50 & (0.944, 0.0072744) & (0.949, 0.00696042) & (0.949, 0.00696042) & (0.956, 0.00648892) & (0.945, 0.00721298) & (0.944, 0.0072744) & (0.942, 0.00739532) & (0.949, 0.00696042) & (0.938, 0.00762982) \\\\\n",
       "\t19 & m: 4000  ni: 100 & (0.945, 0.00721298) & (0.949, 0.00696042) & (0.943, 0.00733518) & (0.948, 0.00702462) & (0.946, 0.00715088) & (0.947, 0.00708811) & (0.952, 0.00676326) & (0.948, 0.00702462) & (0.962, 0.00604918) \\\\\n",
       "\t20 & m: 4000  ni: 1000 & (0.947, 0.00708811) & (0.948, 0.00702462) & (0.951, 0.00682976) & (0.947, 0.00708811) & (0.95, 0.00689547) & (0.94, 0.00751375) & (0.959, 0.00627362) & (0.948, 0.00702462) & (0.948, 0.00702462) \\\\\n",
       "\t21 & m: 5000  ni: 10 & (0.948, 0.00702462) & (0.948, 0.00702462) & (0.941, 0.00745484) & (0.967, 0.00565181) & (0.951, 0.00682976) & (0.94, 0.00751375) & (0.943, 0.00733518) & (0.953, 0.00669596) & (0.939, 0.00757208) \\\\\n",
       "\t22 & m: 5000  ni: 25 & (0.942, 0.00739532) & (0.938, 0.00762982) & (0.932, 0.00796489) & (0.947, 0.00708811) & (0.959, 0.00627362) & (0.941, 0.00745484) & (0.962, 0.00604918) & (0.949, 0.00696042) & (0.953, 0.00669596) \\\\\n",
       "\t23 & m: 5000  ni: 50 & (0.958, 0.00634636) & (0.949, 0.00696042) & (0.956, 0.00648892) & (0.955, 0.00655881) & (0.948, 0.00702462) & (0.944, 0.0072744) & (0.953, 0.00669596) & (0.955, 0.00655881) & (0.949, 0.00696042) \\\\\n",
       "\t24 & m: 5000  ni: 100 & (0.95, 0.00689547) & (0.953, 0.00669596) & (0.953, 0.00669596) & (0.951, 0.00682976) & (0.956, 0.00648892) & (0.95, 0.00689547) & (0.942, 0.00739532) & (0.948, 0.00702462) & (0.952, 0.00676326) \\\\\n",
       "\t25 & m: 5000  ni: 1000 & (0.952, 0.00676326) & (0.95, 0.00689547) & (0.954, 0.00662781) & (0.957, 0.00641811) & (0.94, 0.00751375) & (0.964, 0.00589396) & (0.952, 0.00676326) & (0.951, 0.00682976) & (0.942, 0.00739532) \\\\\n",
       "\t26 & m: 6000  ni: 10 & (0.94995, 0.0069022) & (0.93994, 0.00752104) & (0.947948, 0.00703147) & (0.935936, 0.00775113) & (0.945946, 0.00715784) & (0.94995, 0.0069022) & (0.954955, 0.00656523) & (0.950951, 0.00683643) & (0.950951, 0.00683643) \\\\\n",
       "\t27 & m: 6000  ni: 25 & (0.945, 0.00721298) & (0.943, 0.00733518) & (0.964, 0.00589396) & (0.959, 0.00627362) & (0.941, 0.00745484) & (0.95, 0.00689547) & (0.936, 0.00774364) & (0.951, 0.00682976) & (0.951, 0.00682976) \\\\\n",
       "\t28 & m: 6000  ni: 50 & (0.944, 0.0072744) & (0.951, 0.00682976) & (0.948, 0.00702462) & (0.952, 0.00676326) & (0.949, 0.00696042) & (0.946, 0.00715088) & (0.941, 0.00745484) & (0.943, 0.00733518) & (0.956, 0.00648892) \\\\\n",
       "\t29 & m: 6000  ni: 100 & (0.951, 0.00682976) & (0.952, 0.00676326) & (0.957, 0.00641811) & (0.944, 0.0072744) & (0.953, 0.00669596) & (0.956, 0.00648892) & (0.941, 0.00745484) & (0.944, 0.0072744) & (0.949, 0.00696042) \\\\\n",
       "\t30 & m: 6000  ni: 1000 & (0.953, 0.00669596) & (0.949, 0.00696042) & (0.961, 0.00612507) & (0.954, 0.00662781) & (0.947, 0.00708811) & (0.938, 0.00762982) & (0.958, 0.00634636) & (0.957, 0.00641811) & (0.943, 0.00733518) \\\\\n",
       "\\end{tabular}\n"
      ],
      "text/plain": [
       "30×10 DataFrame\n",
       "│ Row │ people_obs        │ β1                   │ β2                     │ β3                     │ β4                     │ β5                     │ τ2                     │ τ3                     │ τ4                     │ τ5                     │\n",
       "│     │ \u001b[90mString\u001b[39m            │ \u001b[90mTuple…\u001b[39m               │ \u001b[90mTuple{Float64,Float64}\u001b[39m │ \u001b[90mTuple{Float64,Float64}\u001b[39m │ \u001b[90mTuple{Float64,Float64}\u001b[39m │ \u001b[90mTuple{Float64,Float64}\u001b[39m │ \u001b[90mTuple{Float64,Float64}\u001b[39m │ \u001b[90mTuple{Float64,Float64}\u001b[39m │ \u001b[90mTuple{Float64,Float64}\u001b[39m │ \u001b[90mTuple{Float64,Float64}\u001b[39m │\n",
       "├─────┼───────────────────┼──────────────────────┼────────────────────────┼────────────────────────┼────────────────────────┼────────────────────────┼────────────────────────┼────────────────────────┼────────────────────────┼────────────────────────┤\n",
       "│ 1   │ m: 1000  ni: 10   │ (0.946, 0.00715088)  │ (0.959, 0.00627362)    │ (0.961, 0.00612507)    │ (0.953, 0.00669596)    │ (0.958, 0.00634636)    │ (0.919, 0.00863212)    │ (0.937, 0.00768701)    │ (0.928, 0.0081782)     │ (0.932, 0.00796489)    │\n",
       "│ 2   │ m: 1000  ni: 25   │ (0.944, 0.0072744)   │ (0.952, 0.00676326)    │ (0.947, 0.00708811)    │ (0.945, 0.00721298)    │ (0.951, 0.00682976)    │ (0.937, 0.00768701)    │ (0.942, 0.00739532)    │ (0.949, 0.00696042)    │ (0.938, 0.00762982)    │\n",
       "│ 3   │ m: 1000  ni: 50   │ (0.965, 0.00581453)  │ (0.954, 0.00662781)    │ (0.959, 0.00627362)    │ (0.948, 0.00702462)    │ (0.953, 0.00669596)    │ (0.954, 0.00662781)    │ (0.942, 0.00739532)    │ (0.948, 0.00702462)    │ (0.946, 0.00715088)    │\n",
       "│ 4   │ m: 1000  ni: 100  │ (0.959, 0.00627362)  │ (0.948, 0.00702462)    │ (0.942, 0.00739532)    │ (0.949, 0.00696042)    │ (0.955, 0.00655881)    │ (0.94, 0.00751375)     │ (0.946, 0.00715088)    │ (0.946, 0.00715088)    │ (0.962, 0.00604918)    │\n",
       "│ 5   │ m: 1000  ni: 1000 │ (0.949, 0.00696042)  │ (0.945, 0.00721298)    │ (0.957, 0.00641811)    │ (0.947, 0.00708811)    │ (0.943, 0.00733518)    │ (0.946, 0.00715088)    │ (0.949, 0.00696042)    │ (0.944, 0.0072744)     │ (0.94, 0.00751375)     │\n",
       "│ 6   │ m: 2000  ni: 10   │ (0.9499, 0.00690893) │ (0.940882, 0.00746931) │ (0.946894, 0.00710192) │ (0.9499, 0.00690893)   │ (0.948898, 0.006974)   │ (0.937876, 0.00764462) │ (0.930862, 0.00803442) │ (0.928858, 0.00814125) │ (0.941884, 0.00740969) │\n",
       "│ 7   │ m: 2000  ni: 25   │ (0.951, 0.00682976)  │ (0.944, 0.0072744)     │ (0.949, 0.00696042)    │ (0.947, 0.00708811)    │ (0.96, 0.00619987)     │ (0.947, 0.00708811)    │ (0.935, 0.00779973)    │ (0.942, 0.00739532)    │ (0.939, 0.00757208)    │\n",
       "│ 8   │ m: 2000  ni: 50   │ (0.948, 0.00702462)  │ (0.951, 0.00682976)    │ (0.936, 0.00774364)    │ (0.957, 0.00641811)    │ (0.955, 0.00655881)    │ (0.948, 0.00702462)    │ (0.955, 0.00655881)    │ (0.945, 0.00721298)    │ (0.946, 0.00715088)    │\n",
       "│ 9   │ m: 2000  ni: 100  │ (0.958, 0.00634636)  │ (0.949, 0.00696042)    │ (0.939, 0.00757208)    │ (0.954, 0.00662781)    │ (0.951, 0.00682976)    │ (0.951, 0.00682976)    │ (0.96, 0.00619987)     │ (0.958, 0.00634636)    │ (0.953, 0.00669596)    │\n",
       "│ 10  │ m: 2000  ni: 1000 │ (0.943, 0.00733518)  │ (0.955, 0.00655881)    │ (0.961, 0.00612507)    │ (0.941, 0.00745484)    │ (0.944, 0.0072744)     │ (0.953, 0.00669596)    │ (0.95, 0.00689547)     │ (0.934, 0.0078553)     │ (0.946, 0.00715088)    │\n",
       "⋮\n",
       "│ 20  │ m: 4000  ni: 1000 │ (0.947, 0.00708811)  │ (0.948, 0.00702462)    │ (0.951, 0.00682976)    │ (0.947, 0.00708811)    │ (0.95, 0.00689547)     │ (0.94, 0.00751375)     │ (0.959, 0.00627362)    │ (0.948, 0.00702462)    │ (0.948, 0.00702462)    │\n",
       "│ 21  │ m: 5000  ni: 10   │ (0.948, 0.00702462)  │ (0.948, 0.00702462)    │ (0.941, 0.00745484)    │ (0.967, 0.00565181)    │ (0.951, 0.00682976)    │ (0.94, 0.00751375)     │ (0.943, 0.00733518)    │ (0.953, 0.00669596)    │ (0.939, 0.00757208)    │\n",
       "│ 22  │ m: 5000  ni: 25   │ (0.942, 0.00739532)  │ (0.938, 0.00762982)    │ (0.932, 0.00796489)    │ (0.947, 0.00708811)    │ (0.959, 0.00627362)    │ (0.941, 0.00745484)    │ (0.962, 0.00604918)    │ (0.949, 0.00696042)    │ (0.953, 0.00669596)    │\n",
       "│ 23  │ m: 5000  ni: 50   │ (0.958, 0.00634636)  │ (0.949, 0.00696042)    │ (0.956, 0.00648892)    │ (0.955, 0.00655881)    │ (0.948, 0.00702462)    │ (0.944, 0.0072744)     │ (0.953, 0.00669596)    │ (0.955, 0.00655881)    │ (0.949, 0.00696042)    │\n",
       "│ 24  │ m: 5000  ni: 100  │ (0.95, 0.00689547)   │ (0.953, 0.00669596)    │ (0.953, 0.00669596)    │ (0.951, 0.00682976)    │ (0.956, 0.00648892)    │ (0.95, 0.00689547)     │ (0.942, 0.00739532)    │ (0.948, 0.00702462)    │ (0.952, 0.00676326)    │\n",
       "│ 25  │ m: 5000  ni: 1000 │ (0.952, 0.00676326)  │ (0.95, 0.00689547)     │ (0.954, 0.00662781)    │ (0.957, 0.00641811)    │ (0.94, 0.00751375)     │ (0.964, 0.00589396)    │ (0.952, 0.00676326)    │ (0.951, 0.00682976)    │ (0.942, 0.00739532)    │\n",
       "│ 26  │ m: 6000  ni: 10   │ (0.94995, 0.0069022) │ (0.93994, 0.00752104)  │ (0.947948, 0.00703147) │ (0.935936, 0.00775113) │ (0.945946, 0.00715784) │ (0.94995, 0.0069022)   │ (0.954955, 0.00656523) │ (0.950951, 0.00683643) │ (0.950951, 0.00683643) │\n",
       "│ 27  │ m: 6000  ni: 25   │ (0.945, 0.00721298)  │ (0.943, 0.00733518)    │ (0.964, 0.00589396)    │ (0.959, 0.00627362)    │ (0.941, 0.00745484)    │ (0.95, 0.00689547)     │ (0.936, 0.00774364)    │ (0.951, 0.00682976)    │ (0.951, 0.00682976)    │\n",
       "│ 28  │ m: 6000  ni: 50   │ (0.944, 0.0072744)   │ (0.951, 0.00682976)    │ (0.948, 0.00702462)    │ (0.952, 0.00676326)    │ (0.949, 0.00696042)    │ (0.946, 0.00715088)    │ (0.941, 0.00745484)    │ (0.943, 0.00733518)    │ (0.956, 0.00648892)    │\n",
       "│ 29  │ m: 6000  ni: 100  │ (0.951, 0.00682976)  │ (0.952, 0.00676326)    │ (0.957, 0.00641811)    │ (0.944, 0.0072744)     │ (0.953, 0.00669596)    │ (0.956, 0.00648892)    │ (0.941, 0.00745484)    │ (0.944, 0.0072744)     │ (0.949, 0.00696042)    │\n",
       "│ 30  │ m: 6000  ni: 1000 │ (0.953, 0.00669596)  │ (0.949, 0.00696042)    │ (0.961, 0.00612507)    │ (0.954, 0.00662781)    │ (0.947, 0.00708811)    │ (0.938, 0.00762982)    │ (0.958, 0.00634636)    │ (0.957, 0.00641811)    │ (0.943, 0.00733518)    │"
      ]
     },
     "execution_count": 52,
     "metadata": {},
     "output_type": "execute_result"
    }
   ],
   "source": [
    "using Random, DataFrames, DelimitedFiles, Statistics\n",
    "import StatsBase: sem\n",
    "ENV[\"COLUMNS\"]=800\n",
    "\n",
    "βτcoverage = readdlm(\"result_files/beta_tau_coverage_5betas_mvt_gamma_invgamma_1000reps_sim.csv\", ',')\n",
    "samplesizes = collect(1000:1000:6000)\n",
    "ns = [10; 25; 50; 100; 1000]\n",
    "nsims = 1000\n",
    "\n",
    "covdf = DataFrame(transpose(βτcoverage))\n",
    "rename!(covdf, Symbol.([[\"β$i\" for i in 1:p]; [\"τ$i\" for i in 1:l]]))\n",
    "covdf[!, :samplesize] = sample_sizes\n",
    "covdf[!, :obssize] = obs_sizes\n",
    "covdf = filter(row -> !any(isnan.([row[i] for i in length(row) - 2])), covdf)\n",
    "first(covdf, 10)\n",
    "\n",
    "row_stats = [[(mean(col), sem(col)) for col = eachcol(d[!, 1:end-2])] for d = groupby(covdf, [:samplesize; :obssize])]\n",
    "df = DataFrame(row_stats)\n",
    "ss_obs = unique(\"m: \" .* sample_sizes .* \"  ni: \" .* obs_sizes)\n",
    "rename!(df, Symbol.(ss_obs))\n",
    "covdfdisplay = DataFrame([[names(df)]; collect.(eachrow(df))], \n",
    "    [:people_obs; Symbol.([[\"β$i\" for i in 1:p]; [\"τ$i\" for i in 1:l]])])\n",
    "deletecols!(covdfdisplay, p + 2)\n",
    "covdfdisplay"
   ]
  },
  {
   "cell_type": "code",
   "execution_count": 87,
   "metadata": {},
   "outputs": [
    {
     "name": "stdout",
     "output_type": "stream",
     "text": [
      "\\begin{table}[ht]\n",
      "\\begin{center}\n",
      "\\begin{adjustbox}{width=\\textwidth}\n",
      "\\begin{tabular}{lcccccccccc}\n",
      "\\toprule\n",
      "\\multicolumn{1}{c}{\\,}&\\multicolumn{5}{c}{$\\betabf$}&\\multicolumn{5}{c}{$\\taubf$}\\\\\\cmidrule(lr){2-6}\\cmidrule(lr){7-10}\n",
      " sample size: obs per & $\\beta_1$  & $\\beta_2$ & $\\beta_3$ & $\\beta_4$ & $\\beta_5$ & & $\\tau_2$ & $\\tau_3$ & $\\tau_4$ & $\\tau_5$ \\\\\\midrule\n",
      " m: 1000  ni: 10 & 0.946 (0.007)  & 0.959 (0.006)  & 0.961 (0.006)  & 0.953 (0.007)  & 0.958 (0.006)  & 0.919 (0.009)  & 0.937 (0.008)  & 0.928 (0.008)  & 0.932 (0.008)  \\\\ \n",
      " m: 1000  ni: 25 & 0.944 (0.007)  & 0.952 (0.007)  & 0.947 (0.007)  & 0.945 (0.007)  & 0.951 (0.007)  & 0.937 (0.008)  & 0.942 (0.007)  & 0.949 (0.007)  & 0.938 (0.008)  \\\\ \n",
      " m: 1000  ni: 50 & 0.965 (0.006)  & 0.954 (0.007)  & 0.959 (0.006)  & 0.948 (0.007)  & 0.953 (0.007)  & 0.954 (0.007)  & 0.942 (0.007)  & 0.948 (0.007)  & 0.946 (0.007)  \\\\ \n",
      " m: 1000  ni: 100 & 0.959 (0.006)  & 0.948 (0.007)  & 0.942 (0.007)  & 0.949 (0.007)  & 0.955 (0.007)  & 0.940 (0.008)  & 0.946 (0.007)  & 0.946 (0.007)  & 0.962 (0.006)  \\\\ \n",
      " m: 1000  ni: 1000 & 0.949 (0.007)  & 0.945 (0.007)  & 0.957 (0.006)  & 0.947 (0.007)  & 0.943 (0.007)  & 0.946 (0.007)  & 0.949 (0.007)  & 0.944 (0.007)  & 0.940 (0.008)  \\\\ \n",
      " m: 2000  ni: 10 & 0.950 (0.007)  & 0.941 (0.007)  & 0.947 (0.007)  & 0.950 (0.007)  & 0.949 (0.007)  & 0.938 (0.008)  & 0.931 (0.008)  & 0.929 (0.008)  & 0.942 (0.007)  \\\\ \n",
      " m: 2000  ni: 25 & 0.951 (0.007)  & 0.944 (0.007)  & 0.949 (0.007)  & 0.947 (0.007)  & 0.960 (0.006)  & 0.947 (0.007)  & 0.935 (0.008)  & 0.942 (0.007)  & 0.939 (0.008)  \\\\ \n",
      " m: 2000  ni: 50 & 0.948 (0.007)  & 0.951 (0.007)  & 0.936 (0.008)  & 0.957 (0.006)  & 0.955 (0.007)  & 0.948 (0.007)  & 0.955 (0.007)  & 0.945 (0.007)  & 0.946 (0.007)  \\\\ \n",
      " m: 2000  ni: 100 & 0.958 (0.006)  & 0.949 (0.007)  & 0.939 (0.008)  & 0.954 (0.007)  & 0.951 (0.007)  & 0.951 (0.007)  & 0.960 (0.006)  & 0.958 (0.006)  & 0.953 (0.007)  \\\\ \n",
      " m: 2000  ni: 1000 & 0.943 (0.007)  & 0.955 (0.007)  & 0.961 (0.006)  & 0.941 (0.007)  & 0.944 (0.007)  & 0.953 (0.007)  & 0.950 (0.007)  & 0.934 (0.008)  & 0.946 (0.007)  \\\\ \n",
      " m: 3000  ni: 10 & 0.952 (0.007)  & 0.955 (0.007)  & 0.932 (0.008)  & 0.951 (0.007)  & 0.947 (0.007)  & 0.931 (0.008)  & 0.941 (0.007)  & 0.946 (0.007)  & 0.947 (0.007)  \\\\ \n",
      " m: 3000  ni: 25 & 0.947 (0.007)  & 0.955 (0.007)  & 0.955 (0.007)  & 0.954 (0.007)  & 0.942 (0.007)  & 0.948 (0.007)  & 0.951 (0.007)  & 0.963 (0.006)  & 0.944 (0.007)  \\\\ \n",
      " m: 3000  ni: 50 & 0.953 (0.007)  & 0.944 (0.007)  & 0.953 (0.007)  & 0.950 (0.007)  & 0.947 (0.007)  & 0.958 (0.006)  & 0.950 (0.007)  & 0.951 (0.007)  & 0.952 (0.007)  \\\\ \n",
      " m: 3000  ni: 100 & 0.953 (0.007)  & 0.938 (0.008)  & 0.944 (0.007)  & 0.971 (0.005)  & 0.953 (0.007)  & 0.950 (0.007)  & 0.961 (0.006)  & 0.946 (0.007)  & 0.938 (0.008)  \\\\ \n",
      " m: 3000  ni: 1000 & 0.956 (0.006)  & 0.948 (0.007)  & 0.933 (0.008)  & 0.950 (0.007)  & 0.956 (0.006)  & 0.950 (0.007)  & 0.951 (0.007)  & 0.942 (0.007)  & 0.952 (0.007)  \\\\ \n",
      " m: 4000  ni: 10 & 0.956 (0.006)  & 0.945 (0.007)  & 0.949 (0.007)  & 0.951 (0.007)  & 0.946 (0.007)  & 0.944 (0.007)  & 0.956 (0.006)  & 0.948 (0.007)  & 0.933 (0.008)  \\\\ \n",
      " m: 4000  ni: 25 & 0.949 (0.007)  & 0.959 (0.006)  & 0.951 (0.007)  & 0.958 (0.006)  & 0.940 (0.008)  & 0.946 (0.007)  & 0.946 (0.007)  & 0.950 (0.007)  & 0.947 (0.007)  \\\\ \n",
      " m: 4000  ni: 50 & 0.944 (0.007)  & 0.949 (0.007)  & 0.949 (0.007)  & 0.956 (0.006)  & 0.945 (0.007)  & 0.944 (0.007)  & 0.942 (0.007)  & 0.949 (0.007)  & 0.938 (0.008)  \\\\ \n",
      " m: 4000  ni: 100 & 0.945 (0.007)  & 0.949 (0.007)  & 0.943 (0.007)  & 0.948 (0.007)  & 0.946 (0.007)  & 0.947 (0.007)  & 0.952 (0.007)  & 0.948 (0.007)  & 0.962 (0.006)  \\\\ \n",
      " m: 4000  ni: 1000 & 0.947 (0.007)  & 0.948 (0.007)  & 0.951 (0.007)  & 0.947 (0.007)  & 0.950 (0.007)  & 0.940 (0.008)  & 0.959 (0.006)  & 0.948 (0.007)  & 0.948 (0.007)  \\\\ \n",
      " m: 5000  ni: 10 & 0.948 (0.007)  & 0.948 (0.007)  & 0.941 (0.007)  & 0.967 (0.006)  & 0.951 (0.007)  & 0.940 (0.008)  & 0.943 (0.007)  & 0.953 (0.007)  & 0.939 (0.008)  \\\\ \n",
      " m: 5000  ni: 25 & 0.942 (0.007)  & 0.938 (0.008)  & 0.932 (0.008)  & 0.947 (0.007)  & 0.959 (0.006)  & 0.941 (0.007)  & 0.962 (0.006)  & 0.949 (0.007)  & 0.953 (0.007)  \\\\ \n",
      " m: 5000  ni: 50 & 0.958 (0.006)  & 0.949 (0.007)  & 0.956 (0.006)  & 0.955 (0.007)  & 0.948 (0.007)  & 0.944 (0.007)  & 0.953 (0.007)  & 0.955 (0.007)  & 0.949 (0.007)  \\\\ \n",
      " m: 5000  ni: 100 & 0.950 (0.007)  & 0.953 (0.007)  & 0.953 (0.007)  & 0.951 (0.007)  & 0.956 (0.006)  & 0.950 (0.007)  & 0.942 (0.007)  & 0.948 (0.007)  & 0.952 (0.007)  \\\\ \n",
      " m: 5000  ni: 1000 & 0.952 (0.007)  & 0.950 (0.007)  & 0.954 (0.007)  & 0.957 (0.006)  & 0.940 (0.008)  & 0.964 (0.006)  & 0.952 (0.007)  & 0.951 (0.007)  & 0.942 (0.007)  \\\\ \n",
      " m: 6000  ni: 10 & 0.950 (0.007)  & 0.940 (0.008)  & 0.948 (0.007)  & 0.936 (0.008)  & 0.946 (0.007)  & 0.950 (0.007)  & 0.955 (0.007)  & 0.951 (0.007)  & 0.951 (0.007)  \\\\ \n",
      " m: 6000  ni: 25 & 0.945 (0.007)  & 0.943 (0.007)  & 0.964 (0.006)  & 0.959 (0.006)  & 0.941 (0.007)  & 0.950 (0.007)  & 0.936 (0.008)  & 0.951 (0.007)  & 0.951 (0.007)  \\\\ \n",
      " m: 6000  ni: 50 & 0.944 (0.007)  & 0.951 (0.007)  & 0.948 (0.007)  & 0.952 (0.007)  & 0.949 (0.007)  & 0.946 (0.007)  & 0.941 (0.007)  & 0.943 (0.007)  & 0.956 (0.006)  \\\\ \n",
      " m: 6000  ni: 100 & 0.951 (0.007)  & 0.952 (0.007)  & 0.957 (0.006)  & 0.944 (0.007)  & 0.953 (0.007)  & 0.956 (0.006)  & 0.941 (0.007)  & 0.944 (0.007)  & 0.949 (0.007)  \\\\ \n",
      " m: 6000  ni: 1000 & 0.953 (0.007)  & 0.949 (0.007)  & 0.961 (0.006)  & 0.954 (0.007)  & 0.947 (0.007)  & 0.938 (0.008)  & 0.958 (0.006)  & 0.957 (0.006)  & 0.943 (0.007)  \\\\ \n",
      "\\bottomrule\n",
      "\\end{tabular}\n",
      "\\end{adjustbox}\n",
      "\\end{center}\n",
      "\\caption{Empirical coverage rate of 95\\% confidence intervals for the (Multivariate T, Multivariate Gamma, Inverse Gamma) simulations. Listed are the empirical coverage rates with standard errors in the parentheses based on 1000 replicates.}\n",
      "\\label{table:coverage_table_mvt_gamma}\n",
      "\\end{table}%\n"
     ]
    }
   ],
   "source": [
    "using Printf   \n",
    "println(\"\\\\begin{table}[ht]\")\n",
    "println(\"\\\\begin{center}\")\n",
    "println(\"\\\\begin{adjustbox}{width=\\\\textwidth}\")\n",
    "println(\"\\\\begin{tabular}{lcccccccccc}\")\n",
    "println(\"\\\\toprule\")\n",
    "println(\"\\\\multicolumn{1}{c}{\\\\,}&\\\\multicolumn{5}{c}{\\$\\\\betabf\\$}&\\\\multicolumn{5}{c}{\\$\\\\taubf\\$}\\\\\\\\\\\\cmidrule(lr){2-6}\\\\cmidrule(lr){7-10}\")\n",
    "println(\" sample size: obs per & \\$\\\\beta_1\\$  & \\$\\\\beta_2\\$ & \\$\\\\beta_3\\$ & \\$\\\\beta_4\\$ & \\$\\\\beta_5\\$ & & \\$\\\\tau_2\\$ & \\$\\\\tau_3\\$ & \\$\\\\tau_4\\$ & \\$\\\\tau_5\\$ \\\\\\\\\\\\midrule\")\n",
    "m, n = size(covdfdisplay)\n",
    "for j in 1:m\n",
    "    print(\" $(covdfdisplay[j, 1])\")\n",
    "print(join([\" & \" * @sprintf(\"%.3f\", covdfdisplay[j, i][1]) * \" (\" * @sprintf(\"%.3f\", covdfdisplay[j, i][2]) * \") \" for i in 2:n]))\n",
    "    println(\" \\\\\\\\ \")\n",
    "end\n",
    "println(\"\\\\bottomrule\")\n",
    "println(\"\\\\end{tabular}\")\n",
    "println(\"\\\\end{adjustbox}\")\n",
    "println(\"\\\\end{center}\")\n",
    "println(\"\\\\caption{Empirical coverage rate of 95\\\\% confidence intervals for the (Multivariate T, Multivariate Gamma, Inverse Gamma) simulations. Listed are the empirical coverage rates with standard errors in the parentheses based on 1000 replicates.}\")\n",
    "println(\"\\\\label{table:coverage_table_mvt_gamma}\")\n",
    "println(\"\\\\end{table}%\")"
   ]
  },
  {
   "cell_type": "markdown",
   "metadata": {},
   "source": [
    "Check number of outliers in most extreme cases"
   ]
  },
  {
   "cell_type": "code",
   "execution_count": 189,
   "metadata": {},
   "outputs": [
    {
     "data": {
      "text/plain": [
       "RObject{RealSxp}\n",
       "  [1] 0.014 0.001 0.000 0.001 0.012 0.008 0.001 0.001 0.001 0.003 0.007 0.005\n",
       " [13] 0.001 0.001 0.005 0.007 0.000 0.000 0.001 0.002 0.008 0.001 0.001 0.000\n",
       " [25] 0.001 0.007 0.002 0.000 0.001 0.010 0.012 0.006 0.002 0.001 0.012 0.003\n",
       " [37] 0.003 0.000 0.001 0.009 0.016 0.003 0.002 0.000 0.009 0.012 0.001 0.000\n",
       " [49] 0.000 0.011 0.010 0.006 0.001 0.001 0.019 0.005 0.001 0.002 0.002 0.005\n",
       " [61] 0.018 0.015 0.016 0.011 0.021 0.018 0.017 0.018 0.021 0.017 0.018 0.018\n",
       " [73] 0.016 0.021 0.019 0.023 0.024 0.015 0.013 0.018 0.035 0.020 0.020 0.020\n",
       " [85] 0.023 0.022 0.023 0.012 0.020 0.020 0.040 0.031 0.020 0.028 0.033 0.028\n",
       " [97] 0.029 0.021 0.019 0.019 0.031 0.024 0.023 0.020 0.022 0.026 0.016 0.016\n",
       "[109] 0.021 0.024 0.025 0.020 0.015 0.017 0.031 0.024 0.023 0.031 0.018 0.024\n",
       "[121] 0.004 0.010 0.011 0.011 0.012 0.010 0.009 0.010 0.010 0.004 0.007 0.013\n",
       "[133] 0.015 0.012 0.012 0.009 0.010 0.005 0.010 0.007 0.014 0.010 0.009 0.015\n",
       "[145] 0.009 0.013 0.010 0.018 0.008 0.005 0.021 0.006 0.007 0.007 0.004 0.020\n",
       "[157] 0.007 0.009 0.008 0.006 0.018 0.005 0.008 0.006 0.007 0.008 0.005 0.012\n",
       "[169] 0.010 0.014 0.013 0.009 0.012 0.006 0.009 0.013 0.006 0.017 0.008 0.006\n"
      ]
     },
     "execution_count": 189,
     "metadata": {},
     "output_type": "execute_result"
    }
   ],
   "source": [
    "R\"\"\"\n",
    "f2 <- function(x) length(x) / 1000\n",
    "sapply(layer_data(mseplot, 1)$outliers, f2)\n",
    "\"\"\""
   ]
  },
  {
   "cell_type": "code",
   "execution_count": 191,
   "metadata": {},
   "outputs": [
    {
     "data": {
      "text/plain": [
       "RObject{RealSxp}\n",
       "  [1] 0.000 0.000 0.000 0.000 0.000 0.000 0.000 0.000 0.000 0.001 0.001 0.001\n",
       " [13] 0.001 0.001 0.001 0.001 0.001 0.001 0.001 0.001 0.001 0.001 0.001 0.001\n",
       " [25] 0.001 0.001 0.001 0.002 0.002 0.002 0.002 0.002 0.002 0.003 0.003 0.003\n",
       " [37] 0.003 0.004 0.004 0.004 0.005 0.005 0.005 0.005 0.005 0.005 0.005 0.005\n",
       " [49] 0.006 0.006 0.006 0.006 0.006 0.006 0.006 0.006 0.007 0.007 0.007 0.007\n",
       " [61] 0.007 0.007 0.007 0.007 0.007 0.008 0.008 0.008 0.008 0.008 0.008 0.008\n",
       " [73] 0.009 0.009 0.009 0.009 0.009 0.009 0.009 0.009 0.009 0.010 0.010 0.010\n",
       " [85] 0.010 0.010 0.010 0.010 0.010 0.010 0.010 0.010 0.011 0.011 0.011 0.011\n",
       " [97] 0.012 0.012 0.012 0.012 0.012 0.012 0.012 0.012 0.012 0.012 0.013 0.013\n",
       "[109] 0.013 0.013 0.013 0.014 0.014 0.014 0.015 0.015 0.015 0.015 0.015 0.016\n",
       "[121] 0.016 0.016 0.016 0.016 0.017 0.017 0.017 0.017 0.018 0.018 0.018 0.018\n",
       "[133] 0.018 0.018 0.018 0.018 0.018 0.019 0.019 0.019 0.019 0.020 0.020 0.020\n",
       "[145] 0.020 0.020 0.020 0.020 0.020 0.020 0.021 0.021 0.021 0.021 0.021 0.021\n",
       "[157] 0.022 0.022 0.023 0.023 0.023 0.023 0.023 0.024 0.024 0.024 0.024 0.024\n",
       "[169] 0.025 0.026 0.028 0.028 0.029 0.031 0.031 0.031 0.031 0.033 0.035 0.040\n"
      ]
     },
     "execution_count": 191,
     "metadata": {},
     "output_type": "execute_result"
    }
   ],
   "source": [
    "R\"\"\"\n",
    "sort(sapply(layer_data(mseplot, 1)$outliers, f2))\n",
    "\"\"\""
   ]
  },
  {
   "cell_type": "markdown",
   "metadata": {},
   "source": [
    "Maximum number of outliers of any scenario is 4%."
   ]
  },
  {
   "cell_type": "code",
   "execution_count": 188,
   "metadata": {},
   "outputs": [
    {
     "data": {
      "text/plain": [
       "RObject{RealSxp}\n",
       "[1] 0.04\n"
      ]
     },
     "execution_count": 188,
     "metadata": {},
     "output_type": "execute_result"
    }
   ],
   "source": [
    "R\"\"\"\n",
    "max(sapply(layer_data(mseplot, 1)$outliers, f2))\n",
    "\"\"\""
   ]
  },
  {
   "cell_type": "code",
   "execution_count": 192,
   "metadata": {},
   "outputs": [
    {
     "data": {
      "text/plain": [
       "RObject{RealSxp}\n",
       "[1] 0.01187222\n"
      ]
     },
     "execution_count": 192,
     "metadata": {},
     "output_type": "execute_result"
    }
   ],
   "source": [
    "R\"\"\"\n",
    "mean(sapply(layer_data(mseplot, 1)$outliers, f2))\n",
    "\"\"\""
   ]
  },
  {
   "cell_type": "code",
   "execution_count": 193,
   "metadata": {},
   "outputs": [
    {
     "data": {
      "text/plain": [
       "RObject{RealSxp}\n",
       "[1] 0.01\n"
      ]
     },
     "execution_count": 193,
     "metadata": {},
     "output_type": "execute_result"
    }
   ],
   "source": [
    "R\"\"\"\n",
    "median(sapply(layer_data(mseplot, 1)$outliers, f2))\n",
    "\"\"\""
   ]
  },
  {
   "cell_type": "code",
   "execution_count": null,
   "metadata": {},
   "outputs": [],
   "source": []
  }
 ],
 "metadata": {
  "kernelspec": {
   "display_name": "Julia 1.4.0",
   "language": "julia",
   "name": "julia-1.4"
  },
  "language_info": {
   "file_extension": ".jl",
   "mimetype": "application/julia",
   "name": "julia",
   "version": "1.4.0"
  }
 },
 "nbformat": 4,
 "nbformat_minor": 2
}
