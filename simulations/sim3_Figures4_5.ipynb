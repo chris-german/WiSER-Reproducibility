{
 "cells": [
  {
   "cell_type": "markdown",
   "metadata": {},
   "source": [
    "# Comparison of WiSER with Heuristic Method (Standard Deviation of Residuals as Outcome) "
   ]
  },
  {
   "cell_type": "markdown",
   "metadata": {},
   "source": [
    "This notebook goes over the code needed to reproduce the results from the Figures 4 and 5, comparing WiSER with the heuristic method of using standard deviation of the residuals as an outcome in a linear regression.\n",
    "\n",
    "The simulations were run in Julia version 1.4.0. `randn!()` function changed in v1.5.0, and will produce different random numbers for the simulation. "
   ]
  },
  {
   "cell_type": "markdown",
   "metadata": {},
   "source": [
    "#### Packages and Reproducibility\n",
    "\n",
    "Julia allows for easy reproducibility, by including a `Manifest.toml` and `Project.toml` pair, the user can simply run `] activate .` and the correct environment with dependencies used will run.  "
   ]
  },
  {
   "cell_type": "code",
   "execution_count": 1,
   "metadata": {},
   "outputs": [
    {
     "name": "stderr",
     "output_type": "stream",
     "text": [
      "\u001b[32m\u001b[1m Activating\u001b[22m\u001b[39m environment at `~/WiSER_Reproduce/simulations/Project.toml`\n"
     ]
    }
   ],
   "source": [
    "]activate ."
   ]
  },
  {
   "cell_type": "markdown",
   "metadata": {},
   "source": [
    "Note: We use the KNITRO solver in our analysis, which requires a KNITRO license. If you wish to run the analysis without it, you can use another solver, but the results will be slightly different. To do this, comment out the code each time it says `solver = KNITRO...` and replace it with `solver = Ipopt.IpoptSolver(print_level=0, watchdog_shortened_iter_trigger=3, max_iter=100)`."
   ]
  },
  {
   "cell_type": "code",
   "execution_count": 2,
   "metadata": {},
   "outputs": [
    {
     "name": "stdout",
     "output_type": "stream",
     "text": [
      "Julia Version 1.5.0\n",
      "Commit 96786e22cc (2020-08-01 23:44 UTC)\n",
      "Platform Info:\n",
      "  OS: Linux (x86_64-pc-linux-gnu)\n",
      "  CPU: Intel(R) Core(TM) i9-9920X CPU @ 3.50GHz\n",
      "  WORD_SIZE: 64\n",
      "  LIBM: libopenlibm\n",
      "  LLVM: libLLVM-9.0.1 (ORCJIT, skylake)\n"
     ]
    }
   ],
   "source": [
    "versioninfo()"
   ]
  },
  {
   "cell_type": "markdown",
   "metadata": {},
   "source": [
    "**Note**: The simulation blocks take a long time to run on a standard PC. We have provided the output files, so please feel free to skip the simulation blocks."
   ]
  },
  {
   "cell_type": "markdown",
   "metadata": {},
   "source": [
    "The following code runs the simulation and saves results."
   ]
  },
  {
   "cell_type": "code",
   "execution_count": null,
   "metadata": {},
   "outputs": [],
   "source": [
    "using WiSER, DelimitedFiles, LinearAlgebra, Random, StatsBase, GLM, Statistics, KNITRO\n",
    "\n",
    "# dimensions\n",
    "@show Threads.nthreads()\n",
    "p  = 5    # number of fixed effects, including intercept\n",
    "q  = 2    # number of random effects, including intercept\n",
    "l  = 5    # number of WS variance covariates, including intercept\n",
    "q◺ = ◺(q)\n",
    "\n",
    "# true parameter values\n",
    "βtrue = [0.1; 6.5; 0.0; 1.0; 5]\n",
    "τtrue = [0.0; 0.3; 0.0; 0.5; 0.25]\n",
    "Σγ    = Matrix(Diagonal([2.0; 1.2]))\n",
    "δγω   = [0.2; 0.1]\n",
    "σω    = [1.0]\n",
    "#τinvariant = [0.0; 0.5; -0.2]#estimates for time invariant \n",
    "\n",
    "Σγω   = [Σγ δγω; δγω' σω]\n",
    "Lγω   = cholesky(Symmetric(Σγω), check = false).L\n",
    "Lγ    = Lγω[1:q, 1:q]\n",
    "lγω   = Lγω[q + 1, 1:q]\n",
    "lω    = Lγω[q + 1, q + 1]\n",
    "\n",
    "vechLγ = vech(Lγ)\n",
    "# generate data\n",
    "γω = Vector{Float64}(undef, q + 1)\n",
    "z  = similar(γω) # hold vector of iid std normal\n",
    "\n",
    "# trueparams = τinvariant[2:end] #hold true parameters\n",
    "\n",
    "#simulation parameters\n",
    "samplesizes = collect(1000:1000:6000)\n",
    "ns = [10; 25; 50; 100; 1000]\n",
    "nsims = 200\n",
    "\n",
    "#storage for results\n",
    "τpvals = Matrix{Float64}(undef, 4, nsims * length(ns) * length(samplesizes)) ###\n",
    "naiveτpvals = Matrix{Float64}(undef, 4, nsims * length(ns) * length(samplesizes)) ###\n",
    "solver = KNITRO.KnitroSolver(outlev=0)\n",
    "\n",
    "xtx = zeros(p, p)\n",
    "xty = zeros(p)\n",
    "st = time()\n",
    "currentind = 1\n",
    "for t in 1:length(samplesizes)\n",
    "    m = samplesizes[t]\n",
    "    y_wssd = Vector{Float64}(undef, m)\n",
    "    Winvariant = zeros(Float64, m, 5) ###\n",
    "    for k in 1:length(ns)\n",
    "        ni = ns[k] # number of observations per individual\n",
    "        obsvec = Vector{WSVarLmmObs{Float64}}(undef, m)\n",
    "        for j in 1:nsims\n",
    "            fill!(xtx, 0)\n",
    "            fill!(xty, 0)\n",
    "            println(\"rep $j obs per person $ni samplesize $m\")\n",
    "            Random.seed!(j + 100000k + 1000t)\n",
    "            for i in 1:m\n",
    "                # covariates: gender, standardage, correlatedcovar\n",
    "                gender = Distributions.rand(Bernoulli(0.5))\n",
    "                standardage = Distributions.rand(Normal()) #0 effect size\n",
    "                # correlatedcovar = standardage < 0 ? rand(Normal(-1.0, 1), ni) : rand(Normal(1.0, 1), ni) #0.5\n",
    "                correlatedcovar = standardage < 0 ? rand(Normal(0.0, 0.5), ni) : rand(Normal(0.0, 2), ni) #0.5\n",
    "                # X: intercept, gender, standardage, correlatedcovar, iid std normal\n",
    "                X = Matrix{Float64}(undef, ni, p)\n",
    "                X[:, 1] .= 1\n",
    "                X[:, 2] .= gender\n",
    "                X[:, 3] .= standardage\n",
    "                X[:, 4] = correlatedcovar\n",
    "                @views randn!(X[:, 5])\n",
    "                # Z: intercept, std normal\n",
    "                Z = Matrix{Float64}(undef, ni, q)\n",
    "                Z[:, 1] .= 1.\n",
    "                @views randn!(Z[:, 2:q])\n",
    "                # W: intercept, gender, standardage, correlatedcovar, iid std normal\n",
    "                W = Matrix{Float64}(undef, ni, l)\n",
    "                W[:, 1] .= 1.0\n",
    "                W[:, 2] .= gender\n",
    "                W[:, 3] .= standardage\n",
    "                W[:, 4] = correlatedcovar\n",
    "                @views randn!(W[:, 5])\n",
    "                # Winvariant: intercept, gender, standardage, mean(correlatedcovar), mean(iid std normal)\n",
    "                Winvariant[i, 1] = 1.0\n",
    "                Winvariant[i, 2] = gender\n",
    "                Winvariant[i, 3] = standardage\n",
    "                Winvariant[i, 4] = mean(correlatedcovar)\n",
    "                Winvariant[i, 5] = mean(W[:, 5])\n",
    "                # generate random effects: γω = Lγω * z\n",
    "                mul!(γω, Lγω, Distributions.rand!(Normal(), z))\n",
    "                # generate y\n",
    "                μy = X * βtrue + Z * γω[1:q]\n",
    "                @views vy = exp.(W * τtrue .+ dot(γω[1:q], lγω) .+ γω[end])\n",
    "                y = rand(MvNormal(μy, Diagonal(vy)))\n",
    "                # accumulate sufficient statistics for linear regression\n",
    "                xtx .+= X'X\n",
    "                xty .+= X'y\n",
    "                # form a VarLmmObs instance\n",
    "                obsvec[i] = WSVarLmmObs(y, X, Z, W)\n",
    "            end\n",
    "            # form VarLmmModel\n",
    "            vlmm = WSVarLmmModel(obsvec);\n",
    "            β̂lm = cholesky(Symmetric(xtx)) \\ xty\n",
    "            for i in 1:m\n",
    "                obs = vlmm.data[i]\n",
    "                # calculate std of residual vector of obs i\n",
    "                y_wssd[i] = std(obs.y - transpose(obs.Xt) * β̂lm)\n",
    "            end\n",
    "            mod_sd = GLM.fit(LinearModel, Winvariant, y_wssd)\n",
    "    # Error catching in the fit, if one solver fails try another solver. \n",
    "            try \n",
    "                WiSER.fit!(vlmm, solver, parallel = false)\n",
    "                WiSER.confint(vlmm)\n",
    "            catch\n",
    "                println(\"rep $j ni obs = $ni , samplesize = $m had an error\")\n",
    "                try \n",
    "                    WiSER.fit!(vlmm, solver, init = init_mom!(vlmm), parallel = false)\n",
    "                    WiSER.confint(vlmm)\n",
    "                catch\n",
    "                    println(\"rep $j ni obs = $ni , samplesize = $m had a second error\")\n",
    "                    try\n",
    "                        WiSER.fit!(vlmm, parallel = false)\n",
    "                        WiSER.confint(vlmm)\n",
    "                    catch\n",
    "    # if it fails to many times then record and throw it out\n",
    "                        global currentind\n",
    "                        println(\"rep $j ni obs = $ni , samplesize = $m had a third error\")\n",
    "                        τpvals[:, currentind] .= NaN\n",
    "                        naiveτpvals[:, currentind] .= NaN\n",
    "                        currentind += 1\n",
    "                        continue\n",
    "                    end\n",
    "                end\n",
    "            end\n",
    "            global currentind\n",
    "            naivepvals = GLM.coeftable(mod_sd).cols[4][2:end]\n",
    "            naiveτpvals[:, currentind] = naivepvals\n",
    "            τpvalues = WiSER.coeftable(vlmm).cols[4][p + 2 : p + l] ###\n",
    "            τpvals[:, currentind] = τpvalues  \n",
    "            currentind += 1\n",
    "            vlmm = nothing \n",
    "            mod_sd = nothing\n",
    "            GC.gc()\n",
    "        end\n",
    "    end\n",
    "end\n",
    "en = time()\n",
    "            \n",
    "ftail = \"$(nsims)reps_correlated_comparesd.csv\"\n",
    "writedlm(\"result_files/naive_pvals\" * ftail, naiveτpvals, ',')\n",
    "writedlm(\"result_files/wiser_pvals\" * ftail, τpvals, ',')"
   ]
  },
  {
   "cell_type": "markdown",
   "metadata": {},
   "source": [
    "#### Results\n",
    "\n",
    "The following code reproduces Figure 4."
   ]
  },
  {
   "cell_type": "code",
   "execution_count": 5,
   "metadata": {},
   "outputs": [
    {
     "data": {
      "text/plain": [
       "1-element Array{Int64,1}:\n",
       " 27"
      ]
     },
     "execution_count": 5,
     "metadata": {},
     "output_type": "execute_result"
    }
   ],
   "source": [
    "# Read in data\n",
    "using DelimitedFiles, LinearAlgebra, Random, StatsBase, Statistics, DataFrames\n",
    "ENV[\"COLUMNS\"]=800\n",
    "naiveτpvals = readdlm(\"result_files/naive_pvals200reps_correlated_comparesd.csv\", ',', header=false)\n",
    "τpvals = readdlm(\"result_files/wiser_pvals200reps_correlated_comparesd.csv\", ',', header=false)\n",
    "findall(isnan.(naiveτpvals[1, :])) #27th sim fails "
   ]
  },
  {
   "cell_type": "code",
   "execution_count": 6,
   "metadata": {},
   "outputs": [],
   "source": [
    "inds = [collect(1:26); collect(28:6000)];\n",
    "noerror_wiser = τpvals[:, inds]\n",
    "noerrror_naive = naiveτpvals[:, inds]\n",
    "\n",
    "samplesizes = collect(1000:1000:6000)\n",
    "ns = [10; 25; 50; 100; 1000]\n",
    "nsims = 200\n",
    "sample_sizes = repeat(string.(samplesizes), inner = nsims * length(ns))\n",
    "obs_sizes = repeat(string.(ns), inner = nsims, outer = length(samplesizes))\n",
    "\n",
    "df2 = DataFrame(τ2wiser = τpvals[1, :], τ2naive = naiveτpvals[1, :],\n",
    "        τ3wiser = τpvals[2, :], τ3naive= naiveτpvals[2, :],\n",
    "        τ4wiser = τpvals[3, :], τ4naive = naiveτpvals[3, :],\n",
    "        τ5wiser = τpvals[4, :], τ5naive= naiveτpvals[4, :],\n",
    "    samplesize = sample_sizes, obssize = obs_sizes)\n",
    "\n",
    "#some p-values are so small they are reported as 0, we set -log(10, p-value) to be 500 in this case. \n",
    "\n",
    "df2[!, :logτ2wiser] = ifelse.(df2[!, :τ2wiser] .== 0.0,  500, -log.(10, df2[!, :τ2wiser]))\n",
    "df2[!, :logτ3wiser] = ifelse.(df2[!, :τ3wiser] .== 0.0,  500, -log.(10, df2[!, :τ3wiser]))\n",
    "df2[!, :logτ4wiser] = ifelse.(df2[!, :τ4wiser] .== 0.0,  500, -log.(10, df2[!, :τ4wiser]))\n",
    "df2[!, :logτ5wiser] = ifelse.(df2[!, :τ5wiser] .== 0.0,  rand(480:500, length(df2[!, :τ5wiser])),\n",
    "    -log.(10, df2[!, :τ5wiser]))\n",
    "\n",
    "df2[!, :logτ2naive] = ifelse.(df2[!, :τ2naive] .== 0.0,  500, -log.(10, df2[!, :τ2naive]))\n",
    "df2[!, :logτ3naive] = ifelse.(df2[!, :τ3naive] .== 0.0,  500, -log.(10, df2[!, :τ3naive]))\n",
    "df2[!, :logτ4naive] = ifelse.(df2[!, :τ4naive] .== 0.0,  500, -log.(10, df2[!, :τ4naive]))\n",
    "df2[!, :logτ5naive] = ifelse.(df2[!, :τ5naive] .== 0.0,  rand(480:500, length(df2[!, :τ5naive])),\n",
    "    -log.(10, df2[!, :τ5naive]))\n",
    "\n",
    "df2 = df2[inds, :];"
   ]
  },
  {
   "cell_type": "markdown",
   "metadata": {},
   "source": [
    "#### Figure 4\n",
    "\n",
    "This creates figure 4."
   ]
  },
  {
   "cell_type": "code",
   "execution_count": 7,
   "metadata": {},
   "outputs": [
    {
     "name": "stderr",
     "output_type": "stream",
     "text": [
      "┌ Info: Precompiling RCall [6f49c342-dc21-5d91-9882-a32aef131414]\n",
      "└ @ Base loading.jl:1278\n"
     ]
    },
    {
     "data": {
      "image/png": "[encoded data removed]"
     },
     "metadata": {},
     "output_type": "display_data"
    },
    {
     "name": "stderr",
     "output_type": "stream",
     "text": [
      "┌ Warning: RCall.jl: Warning: Removed 2 rows containing non-finite values (stat_boxplot).\n",
      "└ @ RCall /home/cgerman/.julia/packages/RCall/Qzssx/src/io.jl:160\n"
     ]
    },
    {
     "data": {
      "text/plain": [
       "RObject{VecSxp}\n",
       "TableGrob (1 x 2) \"arrange\": 2 grobs\n",
       "  z     cells    name           grob\n",
       "1 1 (1-1,1-1) arrange gtable[layout]\n",
       "2 2 (1-1,2-2) arrange gtable[layout]\n"
      ]
     },
     "execution_count": 7,
     "metadata": {},
     "output_type": "execute_result"
    }
   ],
   "source": [
    "using RCall\n",
    "\n",
    "df2R = deepcopy(df2)\n",
    "rename!(df2R, [:t2wiser\n",
    "        :t2naive\n",
    "        :t3wiser\n",
    "        :t3naive\n",
    "        :t4wiser\n",
    "        :t4naive\n",
    "        :t5wiser\n",
    "        :t5naive\n",
    "        :samplesize\n",
    "        :obssize\n",
    "        :logt2wiser\n",
    "        :logt3wiser\n",
    "        :logt4wiser\n",
    "        :logt5wiser\n",
    "        :logt2naive\n",
    "        :logt3naive\n",
    "        :logt4naive\n",
    "        :logt5naive])\n",
    "@rput df2R\n",
    "R\"\"\"\n",
    "library(ggplot2)\n",
    "library(gridExtra)\n",
    "df2R$obssize <- factor(df2R$obssize, levels = c('10', '25', '50', '100', '1000'))\n",
    "df2R$logt3wiser = unlist(df2R$logt3wiser)\n",
    "\n",
    "tw3 <- ggplot(df2R, aes(x=samplesize, y=logt3wiser, fill=obssize)) + \n",
    "  geom_boxplot(outlier.size=0.5) +\n",
    "  theme(legend.position=c(0.2,0.8), legend.key = element_blank(), axis.text.x = element_text(angle=0, size=12),\n",
    "        axis.text.y = element_text(angle=0, size=12), axis.title.x = element_text(size = 13), \n",
    "        axis.title.y = element_text(size = 13), legend.title = element_text(size = 9),\n",
    "        #axis.ticks = element_blank(),\n",
    "         panel.grid.major = element_blank(), legend.text=element_text(size=9),\n",
    "        panel.border = element_blank(), panel.grid.minor = element_blank(), panel.background = element_blank(), \n",
    "        axis.line = element_line(color = 'black',size=0.3), plot.title = element_text(hjust = 0.5)) + \n",
    "  scale_fill_manual(values = c(\"#c85f55\",\n",
    "\"#a964bf\",\n",
    "\"#8db352\",\n",
    "\"#fa7300\",\n",
    "\"#05aec0\")) + \n",
    "#scale_y_log10(breaks = scales::trans_breaks(\"log10\", function(x) 10^x)) +\n",
    "ylim(0, 40) + \n",
    "  labs(x = \"Number of Individuals\", y = expression(paste(\"-\",log[10],\"p-value of \", hat(tau)[3])), fill = \"Obs per Individual\",\n",
    "title = \"WiSER\")\n",
    "\n",
    "tn3 <- ggplot(df2R, aes(x=samplesize, y=logt3naive, fill=obssize)) + \n",
    "  geom_boxplot(outlier.size=0.5) +\n",
    "  theme(legend.position=c(0.2,0.8), legend.key = element_blank(), axis.text.x = element_text(angle=0, size=12),\n",
    "        axis.text.y = element_text(angle=0, size=12), axis.title.x = element_text(size = 13), \n",
    "        axis.title.y = element_text(size = 13), legend.title = element_text(size = 9),\n",
    "        #axis.ticks = element_blank(),\n",
    "         panel.grid.major = element_blank(), legend.text=element_text(size=9),\n",
    "        panel.border = element_blank(), panel.grid.minor = element_blank(), panel.background = element_blank(), \n",
    "        axis.line = element_line(color = 'black',size=0.3), plot.title = element_text(hjust = 0.5)) + \n",
    "  scale_fill_manual(values = c(\"#c85f55\",\n",
    "\"#a964bf\",\n",
    "\"#8db352\",\n",
    "\"#fa7300\",\n",
    "\"#05aec0\")) + \n",
    "#scale_y_log10(breaks = scales::trans_breaks(\"log10\", function(x) 10^x)) +\n",
    "ylim(0, 40) +\n",
    "  labs(x = \"Number of Individuals\", y = expression(paste(\"-\",log[10],\"p-value of \", hat(tau)[3])), fill = \"Obs per Individual\",\n",
    "title = \"Heuristic\")\n",
    "\n",
    "t3sd = grid.arrange(tw3, tn3, nrow=1, ncol=2)\n",
    "\n",
    "\"\"\""
   ]
  },
  {
   "cell_type": "code",
   "execution_count": null,
   "metadata": {},
   "outputs": [],
   "source": [
    "#R\"ggsave('result_files/compare_nullpvals_sd_200reps.png', t3sd, width = 10, height = 5, units = 'in', dpi = 450)\""
   ]
  },
  {
   "cell_type": "markdown",
   "metadata": {},
   "source": [
    "WiSER reports similar power for all methods so we combine its power curve at different observations per person into one. "
   ]
  },
  {
   "cell_type": "code",
   "execution_count": 8,
   "metadata": {},
   "outputs": [
    {
     "data": {
      "text/plain": [
       "6×3 Array{Float64,2}:\n",
       " 0.981982  0.986193  0.977771\n",
       " 0.995     0.997232  0.992768\n",
       " 0.995     0.997232  0.992768\n",
       " 0.999     1.0       0.998\n",
       " 0.998     0.999414  0.996586\n",
       " 0.996     0.997997  0.994003"
      ]
     },
     "execution_count": 8,
     "metadata": {},
     "output_type": "execute_result"
    }
   ],
   "source": [
    "t5wiserpower_all, t5wisermax_all, t5wisermin_all = combine(groupby(df2, :samplesize), \n",
    "    :τ5wiser => (x -> mean(x .< 0.05)) => :power,\n",
    "    :τ5wiser => (x -> sem(x .< 0.05)) => :se) |> x -> (x.power, x.power + x.se, x.power - x.se);\n",
    "\n",
    "[t5wiserpower_all t5wisermax_all t5wisermin_all]"
   ]
  },
  {
   "cell_type": "code",
   "execution_count": 9,
   "metadata": {},
   "outputs": [
    {
     "data": {
      "text/plain": [
       "30×3 Array{Float64,2}:\n",
       " 0.286432  0.318561   0.254303\n",
       " 0.175     0.201935   0.148065\n",
       " 0.12      0.143036   0.0969641\n",
       " 0.095     0.115785   0.0742145\n",
       " 0.08      0.0992315  0.0607685\n",
       " 0.61      0.644576   0.575424\n",
       " 0.305     0.337637   0.272363\n",
       " 0.215     0.244122   0.185878\n",
       " 0.115     0.137615   0.0923851\n",
       " 0.065     0.0824758  0.0475242\n",
       " 0.715     0.747      0.683\n",
       " 0.445     0.480229   0.409771\n",
       " 0.32      0.353068   0.286932\n",
       " ⋮                    \n",
       " 0.22      0.249365   0.190635\n",
       " 0.055     0.0711611  0.0388389\n",
       " 0.91      0.930287   0.889713\n",
       " 0.675     0.708202   0.641798\n",
       " 0.415     0.449928   0.380072\n",
       " 0.255     0.285897   0.224103\n",
       " 0.06      0.076835   0.043165\n",
       " 0.97      0.982093   0.957907\n",
       " 0.72      0.751829   0.688171\n",
       " 0.51      0.545437   0.474563\n",
       " 0.27      0.301471   0.238529\n",
       " 0.07      0.0880869  0.0519131"
      ]
     },
     "execution_count": 9,
     "metadata": {},
     "output_type": "execute_result"
    }
   ],
   "source": [
    "t5naivepower, t5naivemax, t5naivemin = combine(groupby(df2, [:obssize, :samplesize]), :τ5naive => (x -> mean(x .< 0.05)) => :power,\n",
    "    :τ5naive => (x -> sem(x .< 0.05)) => :se) |> x -> (x.power, x.power + x.se, x.power - x.se);\n",
    "\n",
    "[t5naivepower t5naivemax t5naivemin]"
   ]
  },
  {
   "cell_type": "code",
   "execution_count": 10,
   "metadata": {},
   "outputs": [
    {
     "data": {
      "text/html": [
       "<table class=\"data-frame\"><thead><tr><th></th><th>obssize</th><th>samplesize</th><th>t5naivepower</th><th>t5naivemax</th><th>t5naivemin</th><th>t5wiserpower</th><th>t5wisermax</th><th>t5wisermin</th></tr><tr><th></th><th>String</th><th>String</th><th>Float64</th><th>Float64</th><th>Float64</th><th>Float64?</th><th>Float64?</th><th>Float64?</th></tr></thead><tbody><p>30 rows × 8 columns</p><tr><th>1</th><td>10</td><td>1000</td><td>0.286432</td><td>0.318561</td><td>0.254303</td><td>0.981982</td><td>0.986193</td><td>0.977771</td></tr><tr><th>2</th><td>25</td><td>1000</td><td>0.175</td><td>0.201935</td><td>0.148065</td><td>0.981982</td><td>0.986193</td><td>0.977771</td></tr><tr><th>3</th><td>50</td><td>1000</td><td>0.12</td><td>0.143036</td><td>0.0969641</td><td>0.981982</td><td>0.986193</td><td>0.977771</td></tr><tr><th>4</th><td>100</td><td>1000</td><td>0.095</td><td>0.115785</td><td>0.0742145</td><td>0.981982</td><td>0.986193</td><td>0.977771</td></tr><tr><th>5</th><td>1000</td><td>1000</td><td>0.08</td><td>0.0992315</td><td>0.0607685</td><td>0.981982</td><td>0.986193</td><td>0.977771</td></tr><tr><th>6</th><td>10</td><td>2000</td><td>0.61</td><td>0.644576</td><td>0.575424</td><td>0.995</td><td>0.997232</td><td>0.992768</td></tr><tr><th>7</th><td>25</td><td>2000</td><td>0.305</td><td>0.337637</td><td>0.272363</td><td>0.995</td><td>0.997232</td><td>0.992768</td></tr><tr><th>8</th><td>50</td><td>2000</td><td>0.215</td><td>0.244122</td><td>0.185878</td><td>0.995</td><td>0.997232</td><td>0.992768</td></tr><tr><th>9</th><td>100</td><td>2000</td><td>0.115</td><td>0.137615</td><td>0.0923851</td><td>0.995</td><td>0.997232</td><td>0.992768</td></tr><tr><th>10</th><td>1000</td><td>2000</td><td>0.065</td><td>0.0824758</td><td>0.0475242</td><td>0.995</td><td>0.997232</td><td>0.992768</td></tr><tr><th>11</th><td>10</td><td>3000</td><td>0.715</td><td>0.747</td><td>0.683</td><td>0.995</td><td>0.997232</td><td>0.992768</td></tr><tr><th>12</th><td>25</td><td>3000</td><td>0.445</td><td>0.480229</td><td>0.409771</td><td>0.995</td><td>0.997232</td><td>0.992768</td></tr><tr><th>13</th><td>50</td><td>3000</td><td>0.32</td><td>0.353068</td><td>0.286932</td><td>0.995</td><td>0.997232</td><td>0.992768</td></tr><tr><th>14</th><td>100</td><td>3000</td><td>0.165</td><td>0.191312</td><td>0.138688</td><td>0.995</td><td>0.997232</td><td>0.992768</td></tr><tr><th>15</th><td>1000</td><td>3000</td><td>0.07</td><td>0.0880869</td><td>0.0519131</td><td>0.995</td><td>0.997232</td><td>0.992768</td></tr><tr><th>16</th><td>10</td><td>4000</td><td>0.845</td><td>0.870655</td><td>0.819345</td><td>0.999</td><td>1.0</td><td>0.998</td></tr><tr><th>17</th><td>25</td><td>4000</td><td>0.565</td><td>0.600143</td><td>0.529857</td><td>0.999</td><td>1.0</td><td>0.998</td></tr><tr><th>18</th><td>50</td><td>4000</td><td>0.375</td><td>0.409319</td><td>0.340681</td><td>0.999</td><td>1.0</td><td>0.998</td></tr><tr><th>19</th><td>100</td><td>4000</td><td>0.22</td><td>0.249365</td><td>0.190635</td><td>0.999</td><td>1.0</td><td>0.998</td></tr><tr><th>20</th><td>1000</td><td>4000</td><td>0.055</td><td>0.0711611</td><td>0.0388389</td><td>0.999</td><td>1.0</td><td>0.998</td></tr><tr><th>21</th><td>10</td><td>5000</td><td>0.91</td><td>0.930287</td><td>0.889713</td><td>0.998</td><td>0.999414</td><td>0.996586</td></tr><tr><th>22</th><td>25</td><td>5000</td><td>0.675</td><td>0.708202</td><td>0.641798</td><td>0.998</td><td>0.999414</td><td>0.996586</td></tr><tr><th>23</th><td>50</td><td>5000</td><td>0.415</td><td>0.449928</td><td>0.380072</td><td>0.998</td><td>0.999414</td><td>0.996586</td></tr><tr><th>24</th><td>100</td><td>5000</td><td>0.255</td><td>0.285897</td><td>0.224103</td><td>0.998</td><td>0.999414</td><td>0.996586</td></tr><tr><th>25</th><td>1000</td><td>5000</td><td>0.06</td><td>0.076835</td><td>0.043165</td><td>0.998</td><td>0.999414</td><td>0.996586</td></tr><tr><th>26</th><td>10</td><td>6000</td><td>0.97</td><td>0.982093</td><td>0.957907</td><td>0.996</td><td>0.997997</td><td>0.994003</td></tr><tr><th>27</th><td>25</td><td>6000</td><td>0.72</td><td>0.751829</td><td>0.688171</td><td>0.996</td><td>0.997997</td><td>0.994003</td></tr><tr><th>28</th><td>50</td><td>6000</td><td>0.51</td><td>0.545437</td><td>0.474563</td><td>0.996</td><td>0.997997</td><td>0.994003</td></tr><tr><th>29</th><td>100</td><td>6000</td><td>0.27</td><td>0.301471</td><td>0.238529</td><td>0.996</td><td>0.997997</td><td>0.994003</td></tr><tr><th>30</th><td>1000</td><td>6000</td><td>0.07</td><td>0.0880869</td><td>0.0519131</td><td>0.996</td><td>0.997997</td><td>0.994003</td></tr></tbody></table>"
      ],
      "text/latex": [
       "\\begin{tabular}{r|cccccccc}\n",
       "\t& obssize & samplesize & t5naivepower & t5naivemax & t5naivemin & t5wiserpower & t5wisermax & t5wisermin\\\\\n",
       "\t\\hline\n",
       "\t& String & String & Float64 & Float64 & Float64 & Float64? & Float64? & Float64?\\\\\n",
       "\t\\hline\n",
       "\t1 & 10 & 1000 & 0.286432 & 0.318561 & 0.254303 & 0.981982 & 0.986193 & 0.977771 \\\\\n",
       "\t2 & 25 & 1000 & 0.175 & 0.201935 & 0.148065 & 0.981982 & 0.986193 & 0.977771 \\\\\n",
       "\t3 & 50 & 1000 & 0.12 & 0.143036 & 0.0969641 & 0.981982 & 0.986193 & 0.977771 \\\\\n",
       "\t4 & 100 & 1000 & 0.095 & 0.115785 & 0.0742145 & 0.981982 & 0.986193 & 0.977771 \\\\\n",
       "\t5 & 1000 & 1000 & 0.08 & 0.0992315 & 0.0607685 & 0.981982 & 0.986193 & 0.977771 \\\\\n",
       "\t6 & 10 & 2000 & 0.61 & 0.644576 & 0.575424 & 0.995 & 0.997232 & 0.992768 \\\\\n",
       "\t7 & 25 & 2000 & 0.305 & 0.337637 & 0.272363 & 0.995 & 0.997232 & 0.992768 \\\\\n",
       "\t8 & 50 & 2000 & 0.215 & 0.244122 & 0.185878 & 0.995 & 0.997232 & 0.992768 \\\\\n",
       "\t9 & 100 & 2000 & 0.115 & 0.137615 & 0.0923851 & 0.995 & 0.997232 & 0.992768 \\\\\n",
       "\t10 & 1000 & 2000 & 0.065 & 0.0824758 & 0.0475242 & 0.995 & 0.997232 & 0.992768 \\\\\n",
       "\t11 & 10 & 3000 & 0.715 & 0.747 & 0.683 & 0.995 & 0.997232 & 0.992768 \\\\\n",
       "\t12 & 25 & 3000 & 0.445 & 0.480229 & 0.409771 & 0.995 & 0.997232 & 0.992768 \\\\\n",
       "\t13 & 50 & 3000 & 0.32 & 0.353068 & 0.286932 & 0.995 & 0.997232 & 0.992768 \\\\\n",
       "\t14 & 100 & 3000 & 0.165 & 0.191312 & 0.138688 & 0.995 & 0.997232 & 0.992768 \\\\\n",
       "\t15 & 1000 & 3000 & 0.07 & 0.0880869 & 0.0519131 & 0.995 & 0.997232 & 0.992768 \\\\\n",
       "\t16 & 10 & 4000 & 0.845 & 0.870655 & 0.819345 & 0.999 & 1.0 & 0.998 \\\\\n",
       "\t17 & 25 & 4000 & 0.565 & 0.600143 & 0.529857 & 0.999 & 1.0 & 0.998 \\\\\n",
       "\t18 & 50 & 4000 & 0.375 & 0.409319 & 0.340681 & 0.999 & 1.0 & 0.998 \\\\\n",
       "\t19 & 100 & 4000 & 0.22 & 0.249365 & 0.190635 & 0.999 & 1.0 & 0.998 \\\\\n",
       "\t20 & 1000 & 4000 & 0.055 & 0.0711611 & 0.0388389 & 0.999 & 1.0 & 0.998 \\\\\n",
       "\t21 & 10 & 5000 & 0.91 & 0.930287 & 0.889713 & 0.998 & 0.999414 & 0.996586 \\\\\n",
       "\t22 & 25 & 5000 & 0.675 & 0.708202 & 0.641798 & 0.998 & 0.999414 & 0.996586 \\\\\n",
       "\t23 & 50 & 5000 & 0.415 & 0.449928 & 0.380072 & 0.998 & 0.999414 & 0.996586 \\\\\n",
       "\t24 & 100 & 5000 & 0.255 & 0.285897 & 0.224103 & 0.998 & 0.999414 & 0.996586 \\\\\n",
       "\t25 & 1000 & 5000 & 0.06 & 0.076835 & 0.043165 & 0.998 & 0.999414 & 0.996586 \\\\\n",
       "\t26 & 10 & 6000 & 0.97 & 0.982093 & 0.957907 & 0.996 & 0.997997 & 0.994003 \\\\\n",
       "\t27 & 25 & 6000 & 0.72 & 0.751829 & 0.688171 & 0.996 & 0.997997 & 0.994003 \\\\\n",
       "\t28 & 50 & 6000 & 0.51 & 0.545437 & 0.474563 & 0.996 & 0.997997 & 0.994003 \\\\\n",
       "\t29 & 100 & 6000 & 0.27 & 0.301471 & 0.238529 & 0.996 & 0.997997 & 0.994003 \\\\\n",
       "\t30 & 1000 & 6000 & 0.07 & 0.0880869 & 0.0519131 & 0.996 & 0.997997 & 0.994003 \\\\\n",
       "\\end{tabular}\n"
      ],
      "text/plain": [
       "30×8 DataFrame\n",
       "│ Row │ obssize │ samplesize │ t5naivepower │ t5naivemax │ t5naivemin │ t5wiserpower │ t5wisermax │ t5wisermin │\n",
       "│     │ \u001b[90mString\u001b[39m  │ \u001b[90mString\u001b[39m     │ \u001b[90mFloat64\u001b[39m      │ \u001b[90mFloat64\u001b[39m    │ \u001b[90mFloat64\u001b[39m    │ \u001b[90mFloat64?\u001b[39m     │ \u001b[90mFloat64?\u001b[39m   │ \u001b[90mFloat64?\u001b[39m   │\n",
       "├─────┼─────────┼────────────┼──────────────┼────────────┼────────────┼──────────────┼────────────┼────────────┤\n",
       "│ 1   │ 10      │ 1000       │ 0.286432     │ 0.318561   │ 0.254303   │ 0.981982     │ 0.986193   │ 0.977771   │\n",
       "│ 2   │ 25      │ 1000       │ 0.175        │ 0.201935   │ 0.148065   │ 0.981982     │ 0.986193   │ 0.977771   │\n",
       "│ 3   │ 50      │ 1000       │ 0.12         │ 0.143036   │ 0.0969641  │ 0.981982     │ 0.986193   │ 0.977771   │\n",
       "│ 4   │ 100     │ 1000       │ 0.095        │ 0.115785   │ 0.0742145  │ 0.981982     │ 0.986193   │ 0.977771   │\n",
       "│ 5   │ 1000    │ 1000       │ 0.08         │ 0.0992315  │ 0.0607685  │ 0.981982     │ 0.986193   │ 0.977771   │\n",
       "│ 6   │ 10      │ 2000       │ 0.61         │ 0.644576   │ 0.575424   │ 0.995        │ 0.997232   │ 0.992768   │\n",
       "│ 7   │ 25      │ 2000       │ 0.305        │ 0.337637   │ 0.272363   │ 0.995        │ 0.997232   │ 0.992768   │\n",
       "│ 8   │ 50      │ 2000       │ 0.215        │ 0.244122   │ 0.185878   │ 0.995        │ 0.997232   │ 0.992768   │\n",
       "│ 9   │ 100     │ 2000       │ 0.115        │ 0.137615   │ 0.0923851  │ 0.995        │ 0.997232   │ 0.992768   │\n",
       "│ 10  │ 1000    │ 2000       │ 0.065        │ 0.0824758  │ 0.0475242  │ 0.995        │ 0.997232   │ 0.992768   │\n",
       "⋮\n",
       "│ 20  │ 1000    │ 4000       │ 0.055        │ 0.0711611  │ 0.0388389  │ 0.999        │ 1.0        │ 0.998      │\n",
       "│ 21  │ 10      │ 5000       │ 0.91         │ 0.930287   │ 0.889713   │ 0.998        │ 0.999414   │ 0.996586   │\n",
       "│ 22  │ 25      │ 5000       │ 0.675        │ 0.708202   │ 0.641798   │ 0.998        │ 0.999414   │ 0.996586   │\n",
       "│ 23  │ 50      │ 5000       │ 0.415        │ 0.449928   │ 0.380072   │ 0.998        │ 0.999414   │ 0.996586   │\n",
       "│ 24  │ 100     │ 5000       │ 0.255        │ 0.285897   │ 0.224103   │ 0.998        │ 0.999414   │ 0.996586   │\n",
       "│ 25  │ 1000    │ 5000       │ 0.06         │ 0.076835   │ 0.043165   │ 0.998        │ 0.999414   │ 0.996586   │\n",
       "│ 26  │ 10      │ 6000       │ 0.97         │ 0.982093   │ 0.957907   │ 0.996        │ 0.997997   │ 0.994003   │\n",
       "│ 27  │ 25      │ 6000       │ 0.72         │ 0.751829   │ 0.688171   │ 0.996        │ 0.997997   │ 0.994003   │\n",
       "│ 28  │ 50      │ 6000       │ 0.51         │ 0.545437   │ 0.474563   │ 0.996        │ 0.997997   │ 0.994003   │\n",
       "│ 29  │ 100     │ 6000       │ 0.27         │ 0.301471   │ 0.238529   │ 0.996        │ 0.997997   │ 0.994003   │\n",
       "│ 30  │ 1000    │ 6000       │ 0.07         │ 0.0880869  │ 0.0519131  │ 0.996        │ 0.997997   │ 0.994003   │"
      ]
     },
     "execution_count": 10,
     "metadata": {},
     "output_type": "execute_result"
    }
   ],
   "source": [
    "t5powerdf = DataFrame(obssize = combine(groupby(df2, [:obssize, :samplesize]), :τ2wiser => x -> mean(x .< 0.05))[!, 1],\n",
    "samplesize = combine(groupby(df2, [:obssize, :samplesize]), :τ2wiser => x -> mean(x .< 0.05))[!, 2],\n",
    "    t5naivepower = t5naivepower, t5naivemax = t5naivemax, t5naivemin = t5naivemin)\n",
    "df_w2 = DataFrame(t5wiserpower = t5wiserpower_all, t5wisermax = t5wisermax_all, t5wisermin = t5wisermin_all,\n",
    "samplesize = string.(collect(1000:1000:6000)))\n",
    "t5powerdf = leftjoin(t5powerdf, df_w2, on = :samplesize)"
   ]
  },
  {
   "cell_type": "markdown",
   "metadata": {},
   "source": [
    "##### Figure 5\n",
    "\n",
    "This recreates figure 5."
   ]
  },
  {
   "cell_type": "code",
   "execution_count": 11,
   "metadata": {},
   "outputs": [
    {
     "data": {
      "image/png": "[encoded data removed]"
     },
     "metadata": {},
     "output_type": "display_data"
    },
    {
     "data": {
      "text/plain": [
       "RObject{VecSxp}\n"
      ]
     },
     "execution_count": 11,
     "metadata": {},
     "output_type": "execute_result"
    }
   ],
   "source": [
    "using RCall\n",
    "\n",
    "@rput t5powerdf\n",
    "R\"\"\"\n",
    "library(ggplot2)\n",
    "library(gridExtra)\n",
    "t5powerdf$obssize <- factor(t5powerdf$obssize, levels = c('10', '25', '50', '100', '1000'))\n",
    "t5powerdf$samplesize <- as.numeric(as.character(t5powerdf$samplesize))#factor(df2R$obssize, levels = c('10', '25', '50', '100', '1000'))\n",
    "\n",
    "#df2R$logt3wiser = unlist(df2R$logtwiser)\n",
    "\n",
    "t5 <- ggplot(t5powerdf, aes(x=samplesize, y=t5naivepower, color = obssize)) + \n",
    "    geom_line() +\n",
    "  geom_point()+\n",
    "  geom_errorbar(aes(ymin=t5naivemin, ymax=t5naivemax), width=0.5, alpha = 0.8, position=position_dodge(0.005)) + \n",
    "  theme(legend.position=\"right\", legend.key = element_blank(), axis.text.x = element_text(angle=0, size=12),\n",
    "        axis.text.y = element_text(angle=0, size=12), axis.title.x = element_text(size = 13), \n",
    "        axis.title.y = element_text(size = 13), legend.title = element_text(size = 9),\n",
    "        #axis.ticks = element_blank(),\n",
    "         panel.grid.major = element_blank(), legend.text=element_text(size=9),\n",
    "        panel.border = element_blank(), panel.grid.minor = element_blank(), panel.background = element_blank(), \n",
    "        axis.line = element_line(color = 'black',size=0.3), plot.title = element_text(hjust = 0.5)) + \n",
    "  scale_color_manual(values = c(\"#c85f55\",\n",
    "\"#a964bf\",\n",
    "\"#8db352\",\n",
    "\"#fa7300\",\n",
    "\"#05aec0\")) + \n",
    "#scale_y_log10(breaks = scales::trans_breaks(\"log10\", function(x) 10^x)) +\n",
    "ylim(0, 1) +\n",
    "  labs(x = \"Number of Individuals\", y = expression(paste(\"Power at \", alpha, \"=0.05 level for \", hat(tau)[5])),\n",
    "color = \"Obs per Individual\")#,\n",
    "#title = \"Power Comparison between naive (color) and WiSER (black)\")\n",
    " \n",
    "t5 = t5 +  geom_line(aes(x=samplesize, y=t5wiserpower), color=\"black\") +\n",
    "  geom_point(aes(x=samplesize, y=t5wiserpower), color=\"black\")+\n",
    "  geom_errorbar(aes(ymin=t5wisermin, ymax=t5wisermax), width=0.5, alpha = 0.8, position=position_dodge(0.005), color=\"black\")\n",
    "#scale_y_log10(breaks = scales::trans_breaks(\"log10\", function(x) 10^x))\n",
    "#ylim(0, 1) \n",
    "#  labs(x = \"Number of Individuals\", y = expression(paste(\"Power at \", alpha, \"=0.05 level for \", hat(tau)[5])), fill = \"Obs per Individual\",\n",
    "#title = \"WiSER\")\n",
    "\n",
    "\"\"\""
   ]
  },
  {
   "cell_type": "code",
   "execution_count": null,
   "metadata": {},
   "outputs": [],
   "source": [
    "#R\"ggsave('result_files/timevarpowercomp_2.png', t5, width = 6, height = 5, units = 'in', dpi = 450)\""
   ]
  }
 ],
 "metadata": {
  "kernelspec": {
   "display_name": "Julia 1.5.0",
   "language": "julia",
   "name": "julia-1.5"
  },
  "language_info": {
   "file_extension": ".jl",
   "mimetype": "application/julia",
   "name": "julia",
   "version": "1.5.0"
  }
 },
 "nbformat": 4,
 "nbformat_minor": 2
}
